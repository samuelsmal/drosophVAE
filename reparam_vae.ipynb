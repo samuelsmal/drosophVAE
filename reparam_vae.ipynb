{
 "cells": [
  {
   "cell_type": "markdown",
   "metadata": {
    "colab_type": "text",
    "id": "0TD5ZrvEMbhZ"
   },
   "source": [
    "# VAE using the reparametrization trick"
   ]
  },
  {
   "cell_type": "markdown",
   "metadata": {
    "colab_type": "text",
    "id": "e1_Y75QXJS6h"
   },
   "source": [
    "## Import TensorFlow and enable Eager execution"
   ]
  },
  {
   "cell_type": "code",
   "execution_count": 1,
   "metadata": {
    "ExecuteTime": {
     "end_time": "2019-05-23T15:05:33.504447Z",
     "start_time": "2019-05-23T15:05:31.659508Z"
    },
    "colab": {
     "autoexec": {
      "startup": false,
      "wait_interval": 0
     }
    },
    "colab_type": "code",
    "id": "YfIk2es3hJEd"
   },
   "outputs": [
    {
     "name": "stderr",
     "output_type": "stream",
     "text": [
      "WARNING: Logging before flag parsing goes to stderr.\n",
      "W0523 17:05:33.081736 140349873940288 lazy_loader.py:50] \n",
      "WARNING: The TensorFlow contrib module will not be included in TensorFlow 2.0.\n",
      "For more information, please see:\n",
      "  * https://github.com/tensorflow/community/blob/master/rfcs/20180907-contrib-sunset.md\n",
      "  * https://github.com/tensorflow/addons\n",
      "  * https://github.com/tensorflow/io (for I/O related ops)\n",
      "If you depend on functionality not listed there, please file an issue.\n",
      "\n",
      "W0523 17:05:33.084088 140349873940288 deprecation_wrapper.py:119] From /home/samuel/SOM-VAE/som_vae/helpers/tensorflow.py:4: The name tf.ConfigProto is deprecated. Please use tf.compat.v1.ConfigProto instead.\n",
      "\n"
     ]
    }
   ],
   "source": [
    "import json\n",
    "from collections import namedtuple\n",
    "import warnings\n",
    "import os\n",
    "import time\n",
    "import numpy as np\n",
    "import pandas as pd\n",
    "import glob\n",
    "import matplotlib.pyplot as plt\n",
    "import seaborn as sns\n",
    "import PIL\n",
    "import imageio\n",
    "from IPython import display\n",
    "from sklearn.preprocessing import StandardScaler, MinMaxScaler\n",
    "from sklearn.manifold import TSNE\n",
    "from functional import seq\n",
    "from pathlib import Path\n",
    "from functools import reduce\n",
    "\n",
    "from importlib import reload # for debugging and developing, optional\n",
    "\n",
    "import tensorflow as tf\n",
    "tfe = tf.contrib.eager\n",
    "tfc = tf.contrib\n",
    "tf.enable_eager_execution()\n",
    "\n",
    "tfk = tf.keras\n",
    "tfkl = tf.keras.layers\n",
    "\n",
    "from som_vae.helpers.tensorflow import _TF_DEFAULT_SESSION_CONFIG_\n",
    "sess = tf.InteractiveSession(config=_TF_DEFAULT_SESSION_CONFIG_)\n",
    "tf.keras.backend.set_session(sess)\n",
    "\n",
    "from som_vae import settings\n",
    "from som_vae import preprocessing\n",
    "from som_vae.helpers.misc import extract_args, chunks, foldl\n",
    "from som_vae.helpers.jupyter import fix_layout, display_video\n",
    "from som_vae.settings import config, skeleton\n",
    "from som_vae.settings import data as SD\n",
    "from som_vae.helpers import video, plots, misc, jupyter\n",
    "from som_vae import preprocessing\n",
    "from som_vae.helpers.logging import enable_logging"
   ]
  },
  {
   "cell_type": "code",
   "execution_count": 2,
   "metadata": {
    "ExecuteTime": {
     "end_time": "2019-05-23T15:05:33.508812Z",
     "start_time": "2019-05-23T15:05:33.505710Z"
    }
   },
   "outputs": [
    {
     "data": {
      "text/html": [
       "<style>.container { width:95% !important; }</style>"
      ],
      "text/plain": [
       "<IPython.core.display.HTML object>"
      ]
     },
     "metadata": {},
     "output_type": "display_data"
    }
   ],
   "source": [
    "jupyter.fix_layout()"
   ]
  },
  {
   "cell_type": "markdown",
   "metadata": {},
   "source": [
    "## Constants"
   ]
  },
  {
   "cell_type": "code",
   "execution_count": 3,
   "metadata": {
    "ExecuteTime": {
     "end_time": "2019-05-23T15:05:33.655260Z",
     "start_time": "2019-05-23T15:05:33.509810Z"
    }
   },
   "outputs": [
    {
     "name": "stdout",
     "output_type": "stream",
     "text": [
      "this is the main experiment, study, and fly id: 180920_aDN_CsCh-001_SG1-Fly2.\n",
      "\n",
      "loadable experiments. there is a blacklist below.\n",
      "180918_MDN_CsCh  180919_MDN_CsCh  180920_MDN_CsCh  180921_MDN_PR\r\n",
      "180918_MDN_PR\t 180919_MDN_PR\t  180920_MDN_PR    181220_Rpr_R57C10_GC6s_tdTom\r\n",
      "180919_aDN_CsCh  180920_aDN_CsCh  180921_aDN_CsCh\r\n",
      "180919_aDN_PR\t 180920_aDN_PR\t  180921_aDN_PR\r\n"
     ]
    }
   ],
   "source": [
    "# all those experiments and data will be used\n",
    "from som_vae.settings import config\n",
    "print(f\"this is the main experiment, study, and fly id: {config.full_experiment_id()}.\\n\\nloadable experiments. there is a blacklist below.\")\n",
    "!ls $config.__EXPERIMENT_ROOT__"
   ]
  },
  {
   "cell_type": "code",
   "execution_count": 4,
   "metadata": {
    "ExecuteTime": {
     "end_time": "2019-05-23T15:05:33.662365Z",
     "start_time": "2019-05-23T15:05:33.659175Z"
    }
   },
   "outputs": [],
   "source": [
    "# if you want to see the flys as well, or just more information\n",
    "# !tree -L 2 $config.__EXPERIMENT_ROOT__"
   ]
  },
  {
   "cell_type": "code",
   "execution_count": 5,
   "metadata": {
    "ExecuteTime": {
     "end_time": "2019-05-23T15:05:33.677138Z",
     "start_time": "2019-05-23T15:05:33.665053Z"
    }
   },
   "outputs": [],
   "source": [
    "_EXPERIMENT_BLACK_LIST_ = ['181220_Rpr_R57C10_GC6s_tdTom'] # all other experiments are used\n",
    "\n",
    "_DATA_TYPE_3D_ANGLE_ = '3d_angle'\n",
    "_DATA_TYPE_2D_POS_ = '2d_pos'\n",
    "_SUPPORTED_DATA_TYPES_ = [_DATA_TYPE_3D_ANGLE_, _DATA_TYPE_2D_POS_]\n",
    "\n",
    "run_config = {\n",
    "    'debug': False,                # general flag for debug mode, triggers all `d_.*`-options.\n",
    "    'd_zero_data': False,          # overwrite the data with zeroed out data, the overall shape is kept.\n",
    "    'd_sinoid_data': True, \n",
    "    'd_no_compression': False,     # if true, the latent_space will be the same dimension as the input. allowing the model to learn the identity function.\n",
    "    'use_all_experiments': False,\n",
    "    'data_type': _DATA_TYPE_2D_POS_,\n",
    "    'use_time_series': False,       # triggers time series application, without this the model is only dense layers\n",
    "    'time_series_length': 10,      # note that this is equal to the minimal wanted receptive field length\n",
    "    'conv_layer_kernel_size': 2,   # you can set either this or `n_conv_layers` to None, it will be automatically computed. see section `Doc` for an explanation.\n",
    "    'n_conv_layers': None,         # you can set either this or `conv_layer_kernel_size` to None, it will be automatically computed. see section `Doc` for an explanation.\n",
    "    'latent_dim': 8,               # should be adapted given the input dim\n",
    "    'batch_size': 100\n",
    "}\n",
    "\n",
    "if run_config['use_all_experiments']:\n",
    "    # takes way too long otherwise\n",
    "    run_config['batch_size'] = 1000\n",
    "\n",
    "if not(run_config['data_type'] in _SUPPORTED_DATA_TYPES_):\n",
    "    raise NotImplementedError(f\"This data type is not supported. Must be one of either {_SUPPORTED_DATA_TYPES_}\")\n",
    "    \n",
    "if run_config['n_conv_layers'] is None:\n",
    "    run_config['n_conv_layers'] = np.int(np.ceil(np.log2((run_config['time_series_length'] - 1) / (2 * (run_config['conv_layer_kernel_size'] - 1)) + 1)))\n",
    "\n",
    "if run_config['conv_layer_kernel_size'] is None:\n",
    "    raise NotImplementedError('ups')"
   ]
  },
  {
   "cell_type": "markdown",
   "metadata": {
    "colab_type": "text",
    "id": "iYn4MdZnKCey"
   },
   "source": [
    "## Loading of 2d positional data"
   ]
  },
  {
   "cell_type": "code",
   "execution_count": 6,
   "metadata": {
    "ExecuteTime": {
     "end_time": "2019-05-23T15:05:33.690041Z",
     "start_time": "2019-05-23T15:05:33.679148Z"
    }
   },
   "outputs": [],
   "source": [
    "def experiments_from_root(root=config.__EXPERIMENT_ROOT__):\n",
    "    return seq(Path(root).iterdir()).flat_map(lambda p: (c for c in p.iterdir() if c.is_dir()))\\\n",
    "                                    .flat_map(lambda p: (c for c in p.iterdir() if c.is_dir()))\\\n",
    "                                    .map(lambda p: reduce(lambda acc, el: ([*acc[0], acc[1].stem], acc[1].parent), range(3), ([], p)))\\\n",
    "                                    .map(lambda pair: list(reversed(pair[0])))\\\n",
    "                                    .map(lambda ls: SD.Experiment._make([*ls, SD._key_from_list_(ls)]))\\\n",
    "                                    .to_list()"
   ]
  },
  {
   "cell_type": "code",
   "execution_count": 7,
   "metadata": {
    "ExecuteTime": {
     "end_time": "2019-05-23T15:05:33.718159Z",
     "start_time": "2019-05-23T15:05:33.691653Z"
    }
   },
   "outputs": [],
   "source": [
    "if not run_config['use_all_experiments']:\n",
    "    frames_idx_with_labels = preprocessing.get_frames_with_idx_and_labels(settings.data.LABELLED_DATA)\n",
    "    frames_of_interest = ~frames_idx_with_labels['label'].isin([settings.data._BehaviorLabel_.REST])"
   ]
  },
  {
   "cell_type": "code",
   "execution_count": 8,
   "metadata": {
    "ExecuteTime": {
     "end_time": "2019-05-23T15:05:35.315425Z",
     "start_time": "2019-05-23T15:05:33.721654Z"
    }
   },
   "outputs": [
    {
     "name": "stderr",
     "output_type": "stream",
     "text": [
      "W0523 17:05:33.893965 140349873940288 preprocessing.py:68] this works only for the first legs!\n",
      "W0523 17:05:34.050107 140349873940288 preprocessing.py:68] this works only for the first legs!\n",
      "W0523 17:05:34.206999 140349873940288 preprocessing.py:68] this works only for the first legs!\n",
      "W0523 17:05:34.362981 140349873940288 preprocessing.py:68] this works only for the first legs!\n",
      "W0523 17:05:34.516368 140349873940288 preprocessing.py:68] this works only for the first legs!\n",
      "/home/samuel/.conda/envs/tf_nightly/lib/python3.7/site-packages/ipykernel_launcher.py:15: UserWarning: There is a bug here. The number of images and number of data points to NOT align.\n",
      "  from ipykernel import kernelapp as app\n"
     ]
    }
   ],
   "source": [
    "if run_config['data_type'] == _DATA_TYPE_2D_POS_:\n",
    "    if run_config['use_all_experiments']:\n",
    "        all_experiments = experiments_from_root()\n",
    "        joint_positions, normalisation_factors = preprocessing.get_data_and_normalization(all_experiments)\n",
    "    else:\n",
    "        joint_positions, normalisation_factors = preprocessing.get_data_and_normalization(settings.data.EXPERIMENTS)\n",
    "\n",
    "\n",
    "        images_paths_for_experiments = settings.data.EXPERIMENTS.map(lambda x: (x, config.positional_data(x)))\\\n",
    "                                               .flat_map(lambda x: [(x[0], config.get_path_for_image(x[0], i)) for i in range(x[1].shape[1])])\\\n",
    "                                               .to_list()\n",
    "\n",
    "        # TODO form a wrapper around them\n",
    "        if len(frames_of_interest) != len(joint_positions):\n",
    "            warnings.warn('There is a bug here. The number of images and number of data points to NOT align.')\n",
    "            frames_of_interest = np.where(frames_of_interest[:len(joint_positions)])[0]\n",
    "        \n",
    "        joint_positions = joint_positions[frames_of_interest[:len(joint_positions)]]\n",
    "        frames_idx_with_labels = frames_idx_with_labels.iloc[frames_of_interest]\n",
    "        images_paths_for_experiments =  np.array(images_paths_for_experiments)[frames_of_interest].tolist()"
   ]
  },
  {
   "cell_type": "markdown",
   "metadata": {},
   "source": [
    "## loading of angle-data"
   ]
  },
  {
   "cell_type": "code",
   "execution_count": 9,
   "metadata": {
    "ExecuteTime": {
     "end_time": "2019-05-23T15:05:35.322770Z",
     "start_time": "2019-05-23T15:05:35.317739Z"
    },
    "scrolled": true
   },
   "outputs": [],
   "source": [
    "if run_config['data_type'] == _DATA_TYPE_3D_ANGLE_ and not run_config['use_all_experiments']:\n",
    "    data_angle = np.vstack(seq(settings.data.EXPERIMENTS).map(lambda x: settings.config.positional_data(x, dimensions='3d')))\n",
    "\n",
    "    #\n",
    "    # Using man-made selection (from Semigh)\n",
    "    #\n",
    "    data_angle_raw = SD.convert_3d_to_angle(data_angle)\n",
    "    warnings.warn('There is a bug here. The number of images and number of data points to NOT align.')\n",
    "    frames_of_interest = frames_of_interest[:len(data_angle_raw)]\n",
    "    \n",
    "    selected_cols = [2,7,12, 19+2, 19+4, 19+12]\n",
    "    angled_data_columns = SD.get_3d_columns_names(selected_cols)\n",
    "    # for some odd reason numpy complains with I do data_angle_raw[frames_of_interest, selected_cols]\n",
    "    #plots.plot_angle_columns(data_angle_raw[:, selected_cols][frames_of_interest], angled_data_columns);\n",
    "    \n",
    "    # But not all of this data has information in it (measured by variance),\n",
    "    # so we use a different selection\n",
    "\n",
    "    #\n",
    "    # column selection \n",
    "    #\n",
    "    threshold = 0\n",
    "    selected_cols = np.where(np.var(data_angle_raw, axis=0) > threshold)[0]\n",
    "    \n",
    "    angled_data_columns = SD.get_3d_columns_names(selected_cols)\n",
    "    f = plots.plot_angle_columns(data_angle_raw[:, selected_cols][frames_of_interest], angled_data_columns)\n",
    "    f.suptitle(f\"threshold: {threshold}, {len(selected_cols)} selected\");\n",
    "    plt.subplots_adjust(top=0.97)\n",
    "\n",
    "    # TODO not so sure here, should we really normalize the data?\n",
    "    joint_positions, normalisation_factors = preprocessing.normalize(data_angle_raw[:, selected_cols][frames_of_interest])"
   ]
  },
  {
   "cell_type": "code",
   "execution_count": 10,
   "metadata": {
    "ExecuteTime": {
     "end_time": "2019-05-23T15:05:35.335115Z",
     "start_time": "2019-05-23T15:05:35.324170Z"
    }
   },
   "outputs": [],
   "source": [
    "if run_config['data_type'] == _DATA_TYPE_3D_ANGLE_ and run_config['use_all_experiments']:\n",
    "    all_experiments = [e for e in experiments_from_root() if e.study_id not in _EXPERIMENT_BLACK_LIST_]\n",
    "    angle_data = [SD.convert_3d_to_angle(d) for d in preprocessing.get_data_and_normalization(all_experiments, per_experiment=True)]\n",
    "\n",
    "    plots.plot_distribution_of_angle_data(angle_data);\n",
    "\n",
    "    angle_data = np.vstack(angle_data)\n",
    "    selected_columns = np.where(np.var(angle_data, axis=0) > 0.0)[0]\n",
    "    joint_positions = angle_data_all[:, selected_columns]"
   ]
  },
  {
   "cell_type": "code",
   "execution_count": 11,
   "metadata": {
    "ExecuteTime": {
     "end_time": "2019-05-23T15:05:35.352594Z",
     "start_time": "2019-05-23T15:05:35.336327Z"
    },
    "code_folding": [
     0
    ]
   },
   "outputs": [],
   "source": [
    "#all_experiments = experiments_from_root()\n",
    "#print(len(all_experiments))\n",
    "#\n",
    "#pos_data = preprocessing.get_data_and_normalization(all_experiments, per_experiment=True)\n",
    "#\n",
    "#norm_pos_data, norm_pos_data_params = zip(*[preprocessing.normalize(p) for p in pos_data])\n",
    "#experiment_lengths = [len(p) for p in norm_pos_data] # for applying the right normalization factors\n",
    "#norm_pos_data = np.vstack(norm_pos_data)\n",
    "#\n",
    "#print(f\"in total we have {len(all_experiments)} experiments, but only {len(experiment_lengths)} are usable right now\")\n",
    "#\n",
    "#norm_pos_data_embedded = TSNE(n_components=2, random_state=42).fit_transform(norm_pos_data[:, :, :2].reshape(norm_pos_data.shape[0], -1))\n",
    "#\n",
    "##_cs = sns.color_palette(n_colors=len(seen_labels))\n",
    "##\n",
    "##fig = plt.figure(figsize=(10, 10))\n",
    "##_all_frames_ = pd.concat((training_frames, testing_frames))\n",
    "##\n",
    "##behaviour_colours = dict(zip(seen_labels, _cs))\n",
    "##\n",
    "##for l, c in behaviour_colours.items():\n",
    "##    _d = X_embedded[_all_frames_['label'] == l]\n",
    "##    # c=[c] since matplotlib asks for it\n",
    "##    plt.scatter(_d[:, 0], _d[:,1], c=[c], label=l.name, marker='.')\n",
    "##    \n",
    "##plt.legend()\n",
    "##plt.title('simple t-SNE on latent space')\n",
    "##fig.savefig(f\"../neural_clustering_data/figures/{som_vae_config['ex_name']}_tsne.png\")\n",
    "#\n",
    "#_cs = sns.color_palette(n_colors=len(experiment_lengths))\n",
    "#\n",
    "#\n",
    "#used_until = 0\n",
    "#for i, l in enumerate(experiment_lengths):\n",
    "#    plt.scatter(norm_pos_data_embedded[used_until:used_until+l, 0], norm_pos_data_embedded[used_until:used_until+l, 1], c=[_cs[i]])\n",
    "#    used_until += l"
   ]
  },
  {
   "cell_type": "markdown",
   "metadata": {},
   "source": [
    "# preprocessing"
   ]
  },
  {
   "cell_type": "code",
   "execution_count": 12,
   "metadata": {
    "ExecuteTime": {
     "end_time": "2019-05-23T15:05:35.535332Z",
     "start_time": "2019-05-23T15:05:35.355278Z"
    },
    "code_folding": []
   },
   "outputs": [
    {
     "name": "stdout",
     "output_type": "stream",
     "text": [
      "train\n"
     ]
    },
    {
     "data": {
      "text/html": [
       "<div>\n",
       "<style scoped>\n",
       "    .dataframe tbody tr th:only-of-type {\n",
       "        vertical-align: middle;\n",
       "    }\n",
       "\n",
       "    .dataframe tbody tr th {\n",
       "        vertical-align: top;\n",
       "    }\n",
       "\n",
       "    .dataframe thead th {\n",
       "        text-align: right;\n",
       "    }\n",
       "</style>\n",
       "<table border=\"1\" class=\"dataframe\">\n",
       "  <thead>\n",
       "    <tr style=\"text-align: right;\">\n",
       "      <th></th>\n",
       "      <th>0</th>\n",
       "      <th>1</th>\n",
       "      <th>2</th>\n",
       "      <th>3</th>\n",
       "      <th>4</th>\n",
       "      <th>5</th>\n",
       "      <th>6</th>\n",
       "      <th>7</th>\n",
       "      <th>8</th>\n",
       "      <th>9</th>\n",
       "      <th>...</th>\n",
       "      <th>20</th>\n",
       "      <th>21</th>\n",
       "      <th>22</th>\n",
       "      <th>23</th>\n",
       "      <th>24</th>\n",
       "      <th>25</th>\n",
       "      <th>26</th>\n",
       "      <th>27</th>\n",
       "      <th>28</th>\n",
       "      <th>29</th>\n",
       "    </tr>\n",
       "  </thead>\n",
       "  <tbody>\n",
       "    <tr>\n",
       "      <th>count</th>\n",
       "      <td>1.076000e+03</td>\n",
       "      <td>1.076000e+03</td>\n",
       "      <td>1.076000e+03</td>\n",
       "      <td>1.076000e+03</td>\n",
       "      <td>1.076000e+03</td>\n",
       "      <td>1.076000e+03</td>\n",
       "      <td>1.076000e+03</td>\n",
       "      <td>1.076000e+03</td>\n",
       "      <td>1.076000e+03</td>\n",
       "      <td>1.076000e+03</td>\n",
       "      <td>...</td>\n",
       "      <td>1.076000e+03</td>\n",
       "      <td>1.076000e+03</td>\n",
       "      <td>1.076000e+03</td>\n",
       "      <td>1076.000000</td>\n",
       "      <td>1.076000e+03</td>\n",
       "      <td>1.076000e+03</td>\n",
       "      <td>1.076000e+03</td>\n",
       "      <td>1.076000e+03</td>\n",
       "      <td>1076.000000</td>\n",
       "      <td>1.076000e+03</td>\n",
       "    </tr>\n",
       "    <tr>\n",
       "      <th>mean</th>\n",
       "      <td>6.381464e-08</td>\n",
       "      <td>-6.062390e-07</td>\n",
       "      <td>-9.217670e-08</td>\n",
       "      <td>-2.836206e-08</td>\n",
       "      <td>7.090515e-08</td>\n",
       "      <td>4.963361e-08</td>\n",
       "      <td>-2.836206e-08</td>\n",
       "      <td>-2.836206e-08</td>\n",
       "      <td>-1.506735e-07</td>\n",
       "      <td>-2.836206e-08</td>\n",
       "      <td>...</td>\n",
       "      <td>-3.899783e-07</td>\n",
       "      <td>1.985344e-07</td>\n",
       "      <td>2.694396e-07</td>\n",
       "      <td>0.000000</td>\n",
       "      <td>-4.254309e-08</td>\n",
       "      <td>1.134482e-07</td>\n",
       "      <td>2.836206e-08</td>\n",
       "      <td>2.836206e-08</td>\n",
       "      <td>0.000000</td>\n",
       "      <td>-7.799567e-08</td>\n",
       "    </tr>\n",
       "    <tr>\n",
       "      <th>std</th>\n",
       "      <td>1.000461e+00</td>\n",
       "      <td>1.000467e+00</td>\n",
       "      <td>1.000465e+00</td>\n",
       "      <td>1.000468e+00</td>\n",
       "      <td>1.000464e+00</td>\n",
       "      <td>1.000464e+00</td>\n",
       "      <td>1.000464e+00</td>\n",
       "      <td>1.000465e+00</td>\n",
       "      <td>1.000466e+00</td>\n",
       "      <td>1.000466e+00</td>\n",
       "      <td>...</td>\n",
       "      <td>1.000465e+00</td>\n",
       "      <td>1.000469e+00</td>\n",
       "      <td>1.000460e+00</td>\n",
       "      <td>1.000465</td>\n",
       "      <td>1.000467e+00</td>\n",
       "      <td>1.000464e+00</td>\n",
       "      <td>1.000465e+00</td>\n",
       "      <td>1.000465e+00</td>\n",
       "      <td>1.000465</td>\n",
       "      <td>1.000467e+00</td>\n",
       "    </tr>\n",
       "    <tr>\n",
       "      <th>min</th>\n",
       "      <td>-3.268696e+00</td>\n",
       "      <td>-3.902151e+00</td>\n",
       "      <td>-2.217446e+00</td>\n",
       "      <td>-2.243847e+00</td>\n",
       "      <td>-2.563538e+00</td>\n",
       "      <td>-1.879824e+00</td>\n",
       "      <td>-2.954363e+00</td>\n",
       "      <td>-2.654323e+00</td>\n",
       "      <td>-3.503287e+00</td>\n",
       "      <td>-2.116326e+00</td>\n",
       "      <td>...</td>\n",
       "      <td>-1.197483e+00</td>\n",
       "      <td>-2.485652e+00</td>\n",
       "      <td>-2.618914e+00</td>\n",
       "      <td>-1.460636</td>\n",
       "      <td>-2.236300e+00</td>\n",
       "      <td>-1.349191e+00</td>\n",
       "      <td>-2.465984e+00</td>\n",
       "      <td>-1.825940e+00</td>\n",
       "      <td>-2.550841</td>\n",
       "      <td>-5.871113e+00</td>\n",
       "    </tr>\n",
       "    <tr>\n",
       "      <th>25%</th>\n",
       "      <td>-3.788874e-01</td>\n",
       "      <td>3.211311e-01</td>\n",
       "      <td>-8.119871e-01</td>\n",
       "      <td>-3.104360e-01</td>\n",
       "      <td>-6.699849e-01</td>\n",
       "      <td>-8.503415e-01</td>\n",
       "      <td>-5.668350e-01</td>\n",
       "      <td>-6.281112e-01</td>\n",
       "      <td>-4.883301e-01</td>\n",
       "      <td>-7.550508e-01</td>\n",
       "      <td>...</td>\n",
       "      <td>-1.197483e+00</td>\n",
       "      <td>-1.179551e+00</td>\n",
       "      <td>-6.248813e-01</td>\n",
       "      <td>-0.011440</td>\n",
       "      <td>-7.325723e-01</td>\n",
       "      <td>-7.526713e-01</td>\n",
       "      <td>-8.894245e-01</td>\n",
       "      <td>-6.939594e-01</td>\n",
       "      <td>-0.821354</td>\n",
       "      <td>-9.748621e-01</td>\n",
       "    </tr>\n",
       "    <tr>\n",
       "      <th>50%</th>\n",
       "      <td>5.843822e-01</td>\n",
       "      <td>3.211311e-01</td>\n",
       "      <td>-3.435008e-01</td>\n",
       "      <td>-3.104360e-01</td>\n",
       "      <td>3.230715e-01</td>\n",
       "      <td>-2.675533e-02</td>\n",
       "      <td>-1.779541e-01</td>\n",
       "      <td>3.849946e-01</td>\n",
       "      <td>5.005497e-02</td>\n",
       "      <td>5.381609e-01</td>\n",
       "      <td>...</td>\n",
       "      <td>6.451992e-01</td>\n",
       "      <td>1.265500e-01</td>\n",
       "      <td>-6.248813e-01</td>\n",
       "      <td>-0.011440</td>\n",
       "      <td>-2.552518e-02</td>\n",
       "      <td>-1.561516e-01</td>\n",
       "      <td>5.657123e-02</td>\n",
       "      <td>-1.210227e-01</td>\n",
       "      <td>0.043390</td>\n",
       "      <td>4.387994e-03</td>\n",
       "    </tr>\n",
       "    <tr>\n",
       "      <th>75%</th>\n",
       "      <td>5.843822e-01</td>\n",
       "      <td>3.211311e-01</td>\n",
       "      <td>5.934716e-01</td>\n",
       "      <td>6.562696e-01</td>\n",
       "      <td>6.438058e-01</td>\n",
       "      <td>7.968309e-01</td>\n",
       "      <td>5.473445e-01</td>\n",
       "      <td>7.226966e-01</td>\n",
       "      <td>4.807630e-01</td>\n",
       "      <td>7.423522e-01</td>\n",
       "      <td>...</td>\n",
       "      <td>6.451992e-01</td>\n",
       "      <td>1.291824e-01</td>\n",
       "      <td>1.369151e+00</td>\n",
       "      <td>-0.011440</td>\n",
       "      <td>6.815219e-01</td>\n",
       "      <td>6.392080e-01</td>\n",
       "      <td>1.002567e+00</td>\n",
       "      <td>7.314360e-01</td>\n",
       "      <td>1.004217</td>\n",
       "      <td>6.572214e-01</td>\n",
       "    </tr>\n",
       "    <tr>\n",
       "      <th>max</th>\n",
       "      <td>1.547652e+00</td>\n",
       "      <td>3.019928e+00</td>\n",
       "      <td>3.872875e+00</td>\n",
       "      <td>2.589681e+00</td>\n",
       "      <td>2.407845e+00</td>\n",
       "      <td>2.855796e+00</td>\n",
       "      <td>3.571546e+00</td>\n",
       "      <td>1.735802e+00</td>\n",
       "      <td>3.065011e+00</td>\n",
       "      <td>1.286862e+00</td>\n",
       "      <td>...</td>\n",
       "      <td>4.125884e+00</td>\n",
       "      <td>2.738752e+00</td>\n",
       "      <td>3.363184e+00</td>\n",
       "      <td>1.681672</td>\n",
       "      <td>1.742092e+00</td>\n",
       "      <td>3.678865e+00</td>\n",
       "      <td>1.495347e+00</td>\n",
       "      <td>3.572965e+00</td>\n",
       "      <td>2.061126</td>\n",
       "      <td>2.942138e+00</td>\n",
       "    </tr>\n",
       "  </tbody>\n",
       "</table>\n",
       "<p>8 rows × 30 columns</p>\n",
       "</div>"
      ],
      "text/plain": [
       "                 0             1             2             3             4   \\\n",
       "count  1.076000e+03  1.076000e+03  1.076000e+03  1.076000e+03  1.076000e+03   \n",
       "mean   6.381464e-08 -6.062390e-07 -9.217670e-08 -2.836206e-08  7.090515e-08   \n",
       "std    1.000461e+00  1.000467e+00  1.000465e+00  1.000468e+00  1.000464e+00   \n",
       "min   -3.268696e+00 -3.902151e+00 -2.217446e+00 -2.243847e+00 -2.563538e+00   \n",
       "25%   -3.788874e-01  3.211311e-01 -8.119871e-01 -3.104360e-01 -6.699849e-01   \n",
       "50%    5.843822e-01  3.211311e-01 -3.435008e-01 -3.104360e-01  3.230715e-01   \n",
       "75%    5.843822e-01  3.211311e-01  5.934716e-01  6.562696e-01  6.438058e-01   \n",
       "max    1.547652e+00  3.019928e+00  3.872875e+00  2.589681e+00  2.407845e+00   \n",
       "\n",
       "                 5             6             7             8             9   \\\n",
       "count  1.076000e+03  1.076000e+03  1.076000e+03  1.076000e+03  1.076000e+03   \n",
       "mean   4.963361e-08 -2.836206e-08 -2.836206e-08 -1.506735e-07 -2.836206e-08   \n",
       "std    1.000464e+00  1.000464e+00  1.000465e+00  1.000466e+00  1.000466e+00   \n",
       "min   -1.879824e+00 -2.954363e+00 -2.654323e+00 -3.503287e+00 -2.116326e+00   \n",
       "25%   -8.503415e-01 -5.668350e-01 -6.281112e-01 -4.883301e-01 -7.550508e-01   \n",
       "50%   -2.675533e-02 -1.779541e-01  3.849946e-01  5.005497e-02  5.381609e-01   \n",
       "75%    7.968309e-01  5.473445e-01  7.226966e-01  4.807630e-01  7.423522e-01   \n",
       "max    2.855796e+00  3.571546e+00  1.735802e+00  3.065011e+00  1.286862e+00   \n",
       "\n",
       "       ...            20            21            22           23  \\\n",
       "count  ...  1.076000e+03  1.076000e+03  1.076000e+03  1076.000000   \n",
       "mean   ... -3.899783e-07  1.985344e-07  2.694396e-07     0.000000   \n",
       "std    ...  1.000465e+00  1.000469e+00  1.000460e+00     1.000465   \n",
       "min    ... -1.197483e+00 -2.485652e+00 -2.618914e+00    -1.460636   \n",
       "25%    ... -1.197483e+00 -1.179551e+00 -6.248813e-01    -0.011440   \n",
       "50%    ...  6.451992e-01  1.265500e-01 -6.248813e-01    -0.011440   \n",
       "75%    ...  6.451992e-01  1.291824e-01  1.369151e+00    -0.011440   \n",
       "max    ...  4.125884e+00  2.738752e+00  3.363184e+00     1.681672   \n",
       "\n",
       "                 24            25            26            27           28  \\\n",
       "count  1.076000e+03  1.076000e+03  1.076000e+03  1.076000e+03  1076.000000   \n",
       "mean  -4.254309e-08  1.134482e-07  2.836206e-08  2.836206e-08     0.000000   \n",
       "std    1.000467e+00  1.000464e+00  1.000465e+00  1.000465e+00     1.000465   \n",
       "min   -2.236300e+00 -1.349191e+00 -2.465984e+00 -1.825940e+00    -2.550841   \n",
       "25%   -7.325723e-01 -7.526713e-01 -8.894245e-01 -6.939594e-01    -0.821354   \n",
       "50%   -2.552518e-02 -1.561516e-01  5.657123e-02 -1.210227e-01     0.043390   \n",
       "75%    6.815219e-01  6.392080e-01  1.002567e+00  7.314360e-01     1.004217   \n",
       "max    1.742092e+00  3.678865e+00  1.495347e+00  3.572965e+00     2.061126   \n",
       "\n",
       "                 29  \n",
       "count  1.076000e+03  \n",
       "mean  -7.799567e-08  \n",
       "std    1.000467e+00  \n",
       "min   -5.871113e+00  \n",
       "25%   -9.748621e-01  \n",
       "50%    4.387994e-03  \n",
       "75%    6.572214e-01  \n",
       "max    2.942138e+00  \n",
       "\n",
       "[8 rows x 30 columns]"
      ]
     },
     "metadata": {},
     "output_type": "display_data"
    },
    {
     "name": "stdout",
     "output_type": "stream",
     "text": [
      "test\n"
     ]
    },
    {
     "data": {
      "text/html": [
       "<div>\n",
       "<style scoped>\n",
       "    .dataframe tbody tr th:only-of-type {\n",
       "        vertical-align: middle;\n",
       "    }\n",
       "\n",
       "    .dataframe tbody tr th {\n",
       "        vertical-align: top;\n",
       "    }\n",
       "\n",
       "    .dataframe thead th {\n",
       "        text-align: right;\n",
       "    }\n",
       "</style>\n",
       "<table border=\"1\" class=\"dataframe\">\n",
       "  <thead>\n",
       "    <tr style=\"text-align: right;\">\n",
       "      <th></th>\n",
       "      <th>0</th>\n",
       "      <th>1</th>\n",
       "      <th>2</th>\n",
       "      <th>3</th>\n",
       "      <th>4</th>\n",
       "      <th>5</th>\n",
       "      <th>6</th>\n",
       "      <th>7</th>\n",
       "      <th>8</th>\n",
       "      <th>9</th>\n",
       "      <th>...</th>\n",
       "      <th>20</th>\n",
       "      <th>21</th>\n",
       "      <th>22</th>\n",
       "      <th>23</th>\n",
       "      <th>24</th>\n",
       "      <th>25</th>\n",
       "      <th>26</th>\n",
       "      <th>27</th>\n",
       "      <th>28</th>\n",
       "      <th>29</th>\n",
       "    </tr>\n",
       "  </thead>\n",
       "  <tbody>\n",
       "    <tr>\n",
       "      <th>count</th>\n",
       "      <td>462.000000</td>\n",
       "      <td>462.000000</td>\n",
       "      <td>462.000000</td>\n",
       "      <td>462.000000</td>\n",
       "      <td>462.000000</td>\n",
       "      <td>462.000000</td>\n",
       "      <td>462.000000</td>\n",
       "      <td>462.000000</td>\n",
       "      <td>462.000000</td>\n",
       "      <td>462.000000</td>\n",
       "      <td>...</td>\n",
       "      <td>462.000000</td>\n",
       "      <td>462.000000</td>\n",
       "      <td>462.000000</td>\n",
       "      <td>462.000000</td>\n",
       "      <td>462.000000</td>\n",
       "      <td>462.000000</td>\n",
       "      <td>462.000000</td>\n",
       "      <td>462.000000</td>\n",
       "      <td>462.000000</td>\n",
       "      <td>462.000000</td>\n",
       "    </tr>\n",
       "    <tr>\n",
       "      <th>mean</th>\n",
       "      <td>-0.067549</td>\n",
       "      <td>0.469365</td>\n",
       "      <td>0.313551</td>\n",
       "      <td>0.383889</td>\n",
       "      <td>0.017277</td>\n",
       "      <td>0.218076</td>\n",
       "      <td>0.242965</td>\n",
       "      <td>0.039290</td>\n",
       "      <td>0.215405</td>\n",
       "      <td>-0.051661</td>\n",
       "      <td>...</td>\n",
       "      <td>0.519276</td>\n",
       "      <td>-0.075620</td>\n",
       "      <td>-0.166874</td>\n",
       "      <td>0.020612</td>\n",
       "      <td>-0.001141</td>\n",
       "      <td>0.065782</td>\n",
       "      <td>-0.052980</td>\n",
       "      <td>-0.004282</td>\n",
       "      <td>-0.049860</td>\n",
       "      <td>0.000883</td>\n",
       "    </tr>\n",
       "    <tr>\n",
       "      <th>std</th>\n",
       "      <td>1.106013</td>\n",
       "      <td>1.273041</td>\n",
       "      <td>1.149366</td>\n",
       "      <td>1.084990</td>\n",
       "      <td>1.073254</td>\n",
       "      <td>1.278349</td>\n",
       "      <td>1.132004</td>\n",
       "      <td>1.097955</td>\n",
       "      <td>1.053088</td>\n",
       "      <td>1.102434</td>\n",
       "      <td>...</td>\n",
       "      <td>0.749715</td>\n",
       "      <td>0.978636</td>\n",
       "      <td>1.001422</td>\n",
       "      <td>0.963487</td>\n",
       "      <td>0.947098</td>\n",
       "      <td>1.129436</td>\n",
       "      <td>0.971317</td>\n",
       "      <td>1.100214</td>\n",
       "      <td>0.911698</td>\n",
       "      <td>1.158411</td>\n",
       "    </tr>\n",
       "    <tr>\n",
       "      <th>min</th>\n",
       "      <td>-3.268696</td>\n",
       "      <td>-1.790510</td>\n",
       "      <td>-1.748960</td>\n",
       "      <td>-2.243847</td>\n",
       "      <td>-2.242803</td>\n",
       "      <td>-1.673928</td>\n",
       "      <td>-2.690109</td>\n",
       "      <td>-2.541756</td>\n",
       "      <td>-3.287932</td>\n",
       "      <td>-2.048263</td>\n",
       "      <td>...</td>\n",
       "      <td>-1.197483</td>\n",
       "      <td>-1.179551</td>\n",
       "      <td>-0.624881</td>\n",
       "      <td>-1.460636</td>\n",
       "      <td>-2.242581</td>\n",
       "      <td>-1.150351</td>\n",
       "      <td>-2.584078</td>\n",
       "      <td>-2.678399</td>\n",
       "      <td>-2.754316</td>\n",
       "      <td>-5.881310</td>\n",
       "    </tr>\n",
       "    <tr>\n",
       "      <th>25%</th>\n",
       "      <td>-1.175327</td>\n",
       "      <td>0.321131</td>\n",
       "      <td>-0.343501</td>\n",
       "      <td>-0.310436</td>\n",
       "      <td>-0.959866</td>\n",
       "      <td>-0.850341</td>\n",
       "      <td>-0.566835</td>\n",
       "      <td>-0.853246</td>\n",
       "      <td>-0.236465</td>\n",
       "      <td>-1.095370</td>\n",
       "      <td>...</td>\n",
       "      <td>0.645199</td>\n",
       "      <td>-1.179551</td>\n",
       "      <td>-0.624881</td>\n",
       "      <td>-0.011440</td>\n",
       "      <td>-0.732572</td>\n",
       "      <td>-0.951511</td>\n",
       "      <td>-0.652926</td>\n",
       "      <td>-0.973482</td>\n",
       "      <td>-0.701250</td>\n",
       "      <td>-0.974862</td>\n",
       "    </tr>\n",
       "    <tr>\n",
       "      <th>50%</th>\n",
       "      <td>0.584382</td>\n",
       "      <td>0.321131</td>\n",
       "      <td>0.124985</td>\n",
       "      <td>0.656270</td>\n",
       "      <td>0.162704</td>\n",
       "      <td>-0.026755</td>\n",
       "      <td>0.069839</td>\n",
       "      <td>0.272427</td>\n",
       "      <td>0.265409</td>\n",
       "      <td>0.538161</td>\n",
       "      <td>...</td>\n",
       "      <td>0.645199</td>\n",
       "      <td>0.126550</td>\n",
       "      <td>-0.624881</td>\n",
       "      <td>-0.011440</td>\n",
       "      <td>0.151237</td>\n",
       "      <td>-0.156152</td>\n",
       "      <td>0.293070</td>\n",
       "      <td>-0.405176</td>\n",
       "      <td>0.235555</td>\n",
       "      <td>0.004388</td>\n",
       "    </tr>\n",
       "    <tr>\n",
       "      <th>75%</th>\n",
       "      <td>0.584382</td>\n",
       "      <td>0.321131</td>\n",
       "      <td>1.061958</td>\n",
       "      <td>1.622975</td>\n",
       "      <td>0.804173</td>\n",
       "      <td>1.208624</td>\n",
       "      <td>0.865682</td>\n",
       "      <td>0.947831</td>\n",
       "      <td>0.719197</td>\n",
       "      <td>0.878480</td>\n",
       "      <td>...</td>\n",
       "      <td>0.645199</td>\n",
       "      <td>0.280742</td>\n",
       "      <td>-0.624881</td>\n",
       "      <td>0.159823</td>\n",
       "      <td>1.035045</td>\n",
       "      <td>0.440368</td>\n",
       "      <td>0.884318</td>\n",
       "      <td>0.447283</td>\n",
       "      <td>0.715969</td>\n",
       "      <td>0.657221</td>\n",
       "    </tr>\n",
       "    <tr>\n",
       "      <th>max</th>\n",
       "      <td>1.758465</td>\n",
       "      <td>3.279917</td>\n",
       "      <td>3.494824</td>\n",
       "      <td>2.589681</td>\n",
       "      <td>2.438631</td>\n",
       "      <td>3.061693</td>\n",
       "      <td>3.470804</td>\n",
       "      <td>1.735802</td>\n",
       "      <td>3.065011</td>\n",
       "      <td>1.286862</td>\n",
       "      <td>...</td>\n",
       "      <td>4.007438</td>\n",
       "      <td>2.245378</td>\n",
       "      <td>5.327388</td>\n",
       "      <td>1.596752</td>\n",
       "      <td>1.211807</td>\n",
       "      <td>3.908102</td>\n",
       "      <td>1.239066</td>\n",
       "      <td>3.601373</td>\n",
       "      <td>1.388547</td>\n",
       "      <td>3.268555</td>\n",
       "    </tr>\n",
       "  </tbody>\n",
       "</table>\n",
       "<p>8 rows × 30 columns</p>\n",
       "</div>"
      ],
      "text/plain": [
       "               0           1           2           3           4           5   \\\n",
       "count  462.000000  462.000000  462.000000  462.000000  462.000000  462.000000   \n",
       "mean    -0.067549    0.469365    0.313551    0.383889    0.017277    0.218076   \n",
       "std      1.106013    1.273041    1.149366    1.084990    1.073254    1.278349   \n",
       "min     -3.268696   -1.790510   -1.748960   -2.243847   -2.242803   -1.673928   \n",
       "25%     -1.175327    0.321131   -0.343501   -0.310436   -0.959866   -0.850341   \n",
       "50%      0.584382    0.321131    0.124985    0.656270    0.162704   -0.026755   \n",
       "75%      0.584382    0.321131    1.061958    1.622975    0.804173    1.208624   \n",
       "max      1.758465    3.279917    3.494824    2.589681    2.438631    3.061693   \n",
       "\n",
       "               6           7           8           9   ...          20  \\\n",
       "count  462.000000  462.000000  462.000000  462.000000  ...  462.000000   \n",
       "mean     0.242965    0.039290    0.215405   -0.051661  ...    0.519276   \n",
       "std      1.132004    1.097955    1.053088    1.102434  ...    0.749715   \n",
       "min     -2.690109   -2.541756   -3.287932   -2.048263  ...   -1.197483   \n",
       "25%     -0.566835   -0.853246   -0.236465   -1.095370  ...    0.645199   \n",
       "50%      0.069839    0.272427    0.265409    0.538161  ...    0.645199   \n",
       "75%      0.865682    0.947831    0.719197    0.878480  ...    0.645199   \n",
       "max      3.470804    1.735802    3.065011    1.286862  ...    4.007438   \n",
       "\n",
       "               21          22          23          24          25          26  \\\n",
       "count  462.000000  462.000000  462.000000  462.000000  462.000000  462.000000   \n",
       "mean    -0.075620   -0.166874    0.020612   -0.001141    0.065782   -0.052980   \n",
       "std      0.978636    1.001422    0.963487    0.947098    1.129436    0.971317   \n",
       "min     -1.179551   -0.624881   -1.460636   -2.242581   -1.150351   -2.584078   \n",
       "25%     -1.179551   -0.624881   -0.011440   -0.732572   -0.951511   -0.652926   \n",
       "50%      0.126550   -0.624881   -0.011440    0.151237   -0.156152    0.293070   \n",
       "75%      0.280742   -0.624881    0.159823    1.035045    0.440368    0.884318   \n",
       "max      2.245378    5.327388    1.596752    1.211807    3.908102    1.239066   \n",
       "\n",
       "               27          28          29  \n",
       "count  462.000000  462.000000  462.000000  \n",
       "mean    -0.004282   -0.049860    0.000883  \n",
       "std      1.100214    0.911698    1.158411  \n",
       "min     -2.678399   -2.754316   -5.881310  \n",
       "25%     -0.973482   -0.701250   -0.974862  \n",
       "50%     -0.405176    0.235555    0.004388  \n",
       "75%      0.447283    0.715969    0.657221  \n",
       "max      3.601373    1.388547    3.268555  \n",
       "\n",
       "[8 rows x 30 columns]"
      ]
     },
     "metadata": {},
     "output_type": "display_data"
    },
    {
     "name": "stdout",
     "output_type": "stream",
     "text": [
      "shapes for train/test: (1076, 30), (462, 30)\n"
     ]
    }
   ],
   "source": [
    "def _to_time_series_(x):\n",
    "    return np.array(list(misc.to_time_series(x, sequence_length=run_config['time_series_length'])))\n",
    "\n",
    "def _prep_2d_pos_data_(x):\n",
    "    return x[:,:,:2].reshape(x.shape[0], -1).astype(np.float32)\n",
    "\n",
    "# scaling the data to be in [0, 1]\n",
    "# this is due to the sigmoid activation function in the reconstruction (and because ANN train better with normalised data) (which it is not...)\n",
    "scaler = MinMaxScaler()\n",
    "scaler = StandardScaler()\n",
    "\n",
    "#\n",
    "# reshapping the data \n",
    "#\n",
    "\n",
    "# TODO bring this in order!\n",
    "\n",
    "if run_config['use_time_series']:\n",
    "    # it's the shitty logical combination of these values\n",
    "    # TODO the scaling should be learned on the training data only, but this is a bit tricky due to how we do the time-sequences\n",
    "    # TODO right now the training and testing data are just concatenated time-sequences, experiment overlapping. which is bad.\n",
    "    warnings.warn('this is not proper, fix the bugs here')\n",
    "    if run_config['data_type'] == _DATA_TYPE_2D_POS_:\n",
    "        reshaped_joint_position = scaler.fit_transform(_prep_2d_pos_data_(joint_positions))\n",
    "    else:\n",
    "        reshaped_joint_position = scaler.fit_transform(joint_positions)\n",
    "        \n",
    "    reshaped_joint_position = _to_time_series_(reshaped_joint_position)\n",
    "else:\n",
    "    if run_config['data_type'] == _DATA_TYPE_2D_POS_:\n",
    "        # angle data is already flat\n",
    "        reshaped_joint_position = _prep_2d_pos_data_(joint_positions)\n",
    "    else:\n",
    "        reshaped_joint_position = joint_positions\n",
    "\n",
    "#\n",
    "# debugging overwrite\n",
    "#\n",
    "    \n",
    "if run_config['debug']:\n",
    "    if run_config['d_zero_data']:\n",
    "        # resetting the scaler to make our life easier down below the pipeline\n",
    "        reshaped_joint_position = scaler.fit_transform(np.zeros_like(joint_positions))\n",
    "    elif run_config['d_sinoid_data']:\n",
    "        _dummy_data_ = np.array([[np.sin(x) + (offset / joint_positions.shape[1]) \n",
    "                                  for x in range(len(joint_positions))] \n",
    "                                 for offset in range(joint_positions.shape[1])]).T.astype(joint_positions.dtype)\n",
    "        reshaped_joint_position = scaler.fit_transform(_dummy_data_)\n",
    "        \n",
    "    if run_config['use_time_series']:\n",
    "        reshaped_joint_position = _to_time_series_(reshaped_joint_position)\n",
    "\n",
    "#\n",
    "# split and apply scaler\n",
    "#\n",
    "\n",
    "if reshaped_joint_position.shape[0] > 10**5:\n",
    "    n_of_data_points = int(reshaped_joint_position.shape[0] * 0.9)\n",
    "else:\n",
    "    n_of_data_points = int(reshaped_joint_position.shape[0] * 0.7)\n",
    "\n",
    "if run_config['use_time_series']:\n",
    "    data_train = reshaped_joint_position[:n_of_data_points]\n",
    "    data_test = reshaped_joint_position[n_of_data_points:]\n",
    "    print('train')\n",
    "    display.display(pd.DataFrame(data_train[:, -1, :]).describe())\n",
    "    print('test')\n",
    "    display.display(pd.DataFrame(data_test[:, -1, :]).describe())\n",
    "else:\n",
    "    data_train = scaler.fit_transform(reshaped_joint_position[:n_of_data_points])\n",
    "    data_test = scaler.transform(reshaped_joint_position[n_of_data_points:])\n",
    "    print('train')\n",
    "    display.display(pd.DataFrame(data_train).describe())\n",
    "    print('test')\n",
    "    display.display(pd.DataFrame(data_test).describe())\n",
    "    \n",
    "print(f\"shapes for train/test: {data_train.shape}, {data_test.shape}\")"
   ]
  },
  {
   "cell_type": "code",
   "execution_count": 13,
   "metadata": {
    "ExecuteTime": {
     "end_time": "2019-05-23T15:05:41.507546Z",
     "start_time": "2019-05-23T15:05:35.536468Z"
    }
   },
   "outputs": [
    {
     "data": {
      "image/png": "[encoded data removed]",
      "text/plain": [
       "<Figure size 720x576 with 6 Axes>"
      ]
     },
     "metadata": {
      "needs_background": "light"
     },
     "output_type": "display_data"
    }
   ],
   "source": [
    "#\n",
    "# Making sure that the train/test distributions are not too different from each other\n",
    "#\n",
    "if run_config['data_type'] == _DATA_TYPE_3D_ANGLE_:\n",
    "    fig = plots.plot_3d_angle_data_distribution(data_train, data_test, selected_cols, run_config=run_config)\n",
    "else:\n",
    "    if run_config['use_time_series']:\n",
    "        fig = plots.plot_2d_distribution(data_train[:,-1,:], data_test[:, -1, :], run_config=run_config)\n",
    "    else:\n",
    "        fig = plots.plot_2d_distribution(data_train, data_test, run_config=run_config)"
   ]
  },
  {
   "cell_type": "code",
   "execution_count": 14,
   "metadata": {
    "ExecuteTime": {
     "end_time": "2019-05-23T15:05:41.514766Z",
     "start_time": "2019-05-23T15:05:41.508800Z"
    }
   },
   "outputs": [
    {
     "data": {
      "image/png": "[encoded data removed]",
      "text/plain": [
       "<IPython.core.display.Image object>"
      ]
     },
     "execution_count": 14,
     "metadata": {},
     "output_type": "execute_result"
    }
   ],
   "source": [
    "from IPython.display import Image\n",
    "Image('../neural_clustering_data/figures/distribution-of-input_data-2d_pos-time-f-kernel-2-n_clayers-3-latent_dim-2-multiple_flys-f.png')"
   ]
  },
  {
   "cell_type": "markdown",
   "metadata": {
    "colab_type": "text",
    "id": "PIGN6ouoQxt3"
   },
   "source": [
    "## Use *tf.data* to create batches and shuffle the dataset"
   ]
  },
  {
   "cell_type": "code",
   "execution_count": 15,
   "metadata": {
    "ExecuteTime": {
     "end_time": "2019-05-23T15:05:41.552497Z",
     "start_time": "2019-05-23T15:05:41.517282Z"
    },
    "colab": {
     "autoexec": {
      "startup": false,
      "wait_interval": 0
     }
    },
    "colab_type": "code",
    "id": "S4PIDhoDLbsZ"
   },
   "outputs": [],
   "source": [
    "def to_tf_data(X):\n",
    "    return tf.data.Dataset.from_tensor_slices(X).shuffle(len(X)).batch(run_config['batch_size'])\n",
    "\n",
    "train_dataset = to_tf_data(data_train)\n",
    "test_dataset = to_tf_data(data_test) "
   ]
  },
  {
   "cell_type": "markdown",
   "metadata": {
    "colab_type": "text",
    "id": "THY-sZMiQ4UV"
   },
   "source": [
    "# model def"
   ]
  },
  {
   "cell_type": "markdown",
   "metadata": {
    "heading_collapsed": true
   },
   "source": [
    "## doc"
   ]
  },
  {
   "cell_type": "markdown",
   "metadata": {
    "hidden": true
   },
   "source": [
    "### Sources:\n",
    "\n",
    "- https://blog.keras.io/building-autoencoders-in-keras.html (keras autoencoder implementation)\n",
    "- https://medium.com/the-artificial-impostor/notes-understanding-tensorflow-part-3-7f6633fcc7c7 (temporal block)\n",
    "- https://stackoverflow.com/questions/46503816/keras-conv1d-layer-parameters-filters-and-kernel-size (refresher on conv layers)\n",
    "- https://towardsdatascience.com/types-of-convolutions-in-deep-learning-717013397f4d (refresher on conv layers)\n",
    "- https://jeddy92.github.io/JEddy92.github.io/ts_seq2seq_conv/ (for a good overview over diluted causal convolutions)\n",
    "- https://blog.goodaudience.com/introduction-to-1d-convolutional-neural-networks-in-keras-for-time-sequences-3a7ff801a2cf?gi=c5cb3c007035 (general reference)"
   ]
  },
  {
   "cell_type": "markdown",
   "metadata": {
    "ExecuteTime": {
     "end_time": "2019-05-10T13:12:53.469656Z",
     "start_time": "2019-05-10T13:12:53.444967Z"
    },
    "hidden": true
   },
   "source": [
    "### Generative Network\n",
    "This defines the generative model which takes a latent encoding as input, and outputs the parameters for a conditional distribution of the observation, i.e. $p(x|z)$. Additionally, we use a unit Gaussian prior $p(z)$ for the latent variable.\n",
    "\n",
    "### Inference Network\n",
    "This defines an approximate posterior distribution $q(z|x)$, which takes as input an observation and outputs a set of parameters for the conditional distribution of the latent representation. In this example, we simply model this distribution as a diagonal Gaussian. In this case, the inference network outputs the mean and log-variance parameters of a factorized Gaussian (log-variance instead of the variance directly is for numerical stability).\n",
    "\n",
    "### Reparameterization Trick\n",
    "During optimization, we can sample from $q(z|x)$ by first sampling from a unit Gaussian, and then multiplying by the standard deviation and adding the mean. This ensures the gradients could pass through the sample to the inference network parameters.\n",
    "\n",
    "### Network architecture\n",
    "For the inference network, we use two convolutional layers followed by a fully-connected layer. In the generative network, we mirror this architecture by using a fully-connected layer followed by three convolution transpose layers (a.k.a. deconvolutional layers in some contexts). Note, it's common practice to avoid using batch normalization when training VAEs, since the additional stochasticity due to using mini-batches may aggravate instability on top of the stochasticity from sampling.\n",
    "\n",
    "The dilated convolution between signal $f$ and kernel $k$ and dilution factor $l$ is defined as:\n",
    "\n",
    "$$\\left(k \\ast_{l} f\\right)_t = \\sum_{\\tau=-\\infty}^{\\infty} k_\\tau \\cdot f_{t - l\\tau}$$\n",
    "\n",
    "![](./figures/diluted_convolution.png)"
   ]
  },
  {
   "cell_type": "code",
   "execution_count": 16,
   "metadata": {
    "ExecuteTime": {
     "end_time": "2019-05-23T15:05:41.680175Z",
     "start_time": "2019-05-23T15:05:41.555213Z"
    },
    "hidden": true
   },
   "outputs": [
    {
     "data": {
      "text/plain": [
       "<matplotlib.legend.Legend at 0x7fa4107aa080>"
      ]
     },
     "execution_count": 16,
     "metadata": {},
     "output_type": "execute_result"
    },
    {
     "data": {
      "image/png": "[encoded data removed]",
      "text/plain": [
       "<Figure size 432x288 with 1 Axes>"
      ]
     },
     "metadata": {
      "needs_background": "light"
     },
     "output_type": "display_data"
    }
   ],
   "source": [
    "def _receptive_field_size_temporal_conv_net_(kernel_size, n_layers):\n",
    "    return 1 + 2 * (kernel_size - 1) * (2 ** n_layers - 1)\n",
    "\n",
    "for k in range(2, 5):\n",
    "    plt.plot([_receptive_field_size_temporal_conv_net_(kernel_size=k, n_layers=n) for n in range(10)], label=f\"kernel size: {k}\")\n",
    "plt.xlabel('number of layers')\n",
    "plt.ylabel('receptive field size')\n",
    "plt.legend()"
   ]
  },
  {
   "cell_type": "markdown",
   "metadata": {},
   "source": [
    "## code"
   ]
  },
  {
   "cell_type": "code",
   "execution_count": 17,
   "metadata": {
    "ExecuteTime": {
     "end_time": "2019-05-23T15:05:41.688927Z",
     "start_time": "2019-05-23T15:05:41.681435Z"
    },
    "code_folding": []
   },
   "outputs": [],
   "source": [
    "class TemporalBlock(tfkl.Layer):\n",
    "    def __init__(self, filter_size, kernel_size, dilation_rate, dropout=0.2, trainable=True, name=None, dtype=None, activity_regularizer=None, **kwargs):\n",
    "        \"\"\"\n",
    "        In the dilated convolution, the kernel only touches the signal at every lth entry \n",
    "        See https://www.inference.vc/dilated-convolutions-and-kronecker-factorisation/ (some bugs fixed and code adapted to our use case)\n",
    "        \"\"\"\n",
    "        super(TemporalBlock, self).__init__(\n",
    "            trainable=trainable, dtype=dtype,\n",
    "            activity_regularizer=activity_regularizer,\n",
    "            name=name, **kwargs)        \n",
    "        self.dropout = dropout\n",
    "        self.filter_size = filter_size\n",
    "        causal_conv_args = {\"padding\": \"causal\",\n",
    "                            \"dilation_rate\": dilation_rate, \n",
    "                            \"activation\": tf.nn.relu}\n",
    "        self.conv1 = tfkl.Conv1D(filter_size, kernel_size, **causal_conv_args, name=\"conv1\")\n",
    "        self.conv2 = tfkl.Conv1D(filter_size, kernel_size, **causal_conv_args, name=\"conv2\")\n",
    "        self.down_sample = None\n",
    "\n",
    "    \n",
    "    def build(self, input_shape):\n",
    "        channel_dim = -1\n",
    "        # SpatialDropout1D proved to be much better. Original paper: https://arxiv.org/abs/1411.4280\n",
    "        self.dropout1 = tfkl.SpatialDropout1D(self.dropout)\n",
    "        self.dropout2 = tfkl.SpatialDropout1D(self.dropout)\n",
    "        if input_shape[channel_dim] != self.filter_size:\n",
    "            # TODO why not a conv1d layer?\n",
    "            # self.down_sample = tf.layers.Conv1D(\n",
    "            #     self.filter_size, kernel_size=1, \n",
    "            #     activation=None, data_format=\"channels_last\", padding=\"valid\")\n",
    "            self.down_sample = tfkl.Dense(self.filter_size, activation=None)\n",
    "        self.built = True\n",
    "    \n",
    "    def call(self, inputs, training=True):\n",
    "        x = self.conv1(inputs)\n",
    "        x = self.dropout1(x, training=training)\n",
    "        x = self.conv2(x)\n",
    "        x = self.dropout2(x, training=training)\n",
    "        if self.down_sample is not None:\n",
    "            inputs = self.down_sample(inputs)\n",
    "        return tf.nn.relu(x + inputs)"
   ]
  },
  {
   "cell_type": "code",
   "execution_count": 18,
   "metadata": {
    "ExecuteTime": {
     "end_time": "2019-05-23T15:05:41.706937Z",
     "start_time": "2019-05-23T15:05:41.690013Z"
    }
   },
   "outputs": [],
   "source": [
    "# build using:\n",
    "#   - https://github.com/tensorflow/tensorflow/blob/r1.13/tensorflow/contrib/eager/python/examples/generative_examples/cvae.ipynb \n",
    "#   - https://www.kaggle.com/hone5com/fraud-detection-with-variational-autoencoder\n",
    "\n",
    "def if_last(ls):\n",
    "    for i, x in enumerate(ls):\n",
    "        yield i + 1 == len(ls), x\n",
    "\n",
    "def dense_layers(sizes, activation_fn=tf.nn.leaky_relu):\n",
    "    # no activation in the last layer, because either it is \n",
    "    # a) the decoder/generative-layer which will apply a sigmoid activation function itself, or \n",
    "    # b) the encoder/inference-layer which does not need a activation function because ...??? TODO find a reason for this\n",
    "    \n",
    "    return [tfkl.Dense(size, activation=None if is_last else activation_fn) for is_last, size in if_last(sizes)]\n",
    "\n",
    "def temporal_layers(filter_sizes, kernel_size=2, dropout=0.2):\n",
    "    return [TemporalBlock(filter_size, kernel_size, dilation_rate=2 ** i, dropout=dropout, name=f\"temporal_block_{i}\") for i, filter_size in enumerate(filter_sizes)]\n",
    "\n",
    "class DrosophVAE(tf.keras.Model):\n",
    "    def __init__(self, latent_dim, input_shape, batch_size, \n",
    "                 n_layers=3, dropout_rate_temporal=0.2, loss_weight_reconstruction=1.0, loss_weight_kl=1.0, filters_conv_layer=None, conv_layer_kernel_size=2):\n",
    "        \"\"\"\n",
    "        Args:\n",
    "        -----\n",
    "        \n",
    "        latent_dim              int, dimension of latent space\n",
    "        input_shape             tuple, total input shape is: [batch_size, *input_shape]\n",
    "        batch_size              int\n",
    "        n_layers                int, number of dense layers. \n",
    "                                output shape of the dense layers is linearly scaled.\n",
    "        dropout_rate_temporal   float, in [0, 1). dropout rate for temporal blocks (conv layers).\n",
    "        filters_conv_layer      list[int]. filter sizes for conv layers\n",
    "        \"\"\"\n",
    "        super(DrosophVAE, self).__init__()\n",
    "        self.latent_dim = latent_dim\n",
    "        self._input_shape = input_shape\n",
    "        self._batch_size = batch_size\n",
    "        self._loss_weight_reconstruction = loss_weight_reconstruction\n",
    "        self._loss_weight_kl = loss_weight_kl\n",
    "        self._layer_sizes_inference  = np.linspace(input_shape[-1], 2 * latent_dim, n_layers).astype(np.int)\n",
    "        # pseudo reverse as the inference network goes down to double the latent space, ask Semigh about this\n",
    "        # the 2 * n_layers is to keep compression speed roughly the same\n",
    "        self._layer_sizes_generative = np.linspace(latent_dim, input_shape[-1], 2 * n_layers).astype(np.int).tolist()\n",
    "        self._conv_layer_kernel_size = conv_layer_kernel_size\n",
    "        \n",
    "        self.inference_net = tf.keras.Sequential([tf.keras.layers.InputLayer(input_shape=input_shape[-1]),\n",
    "                                                 *dense_layers(self._layer_sizes_inference)],\n",
    "                                                 name='inference_net')\n",
    "\n",
    "        self.generative_net = tf.keras.Sequential([tf.keras.layers.InputLayer(input_shape=(latent_dim,)),\n",
    "                                                  *dense_layers(self._layer_sizes_generative)],\n",
    "                                                  name='generative_net')\n",
    "        \n",
    "        if len(input_shape) == 1:\n",
    "            self.temporal_conv_net = None\n",
    "        elif len(input_shape) == 2:\n",
    "            # Remember that we do diluted convolutions -> The filter size can stay ~ constant. TODO discuss with Semigh\n",
    "            if filters_conv_layer is None:\n",
    "                # TODO this is probably not correct\n",
    "                self.filters_conv_layer = [input_shape[-1]] * 3\n",
    "            else:\n",
    "                self.filters_conv_layer = filters_conv_layer\n",
    "            self.temporal_conv_net = tfk.Sequential([tf.keras.layers.InputLayer(input_shape=input_shape),\n",
    "                                                     *temporal_layers(kernel_size=self._conv_layer_kernel_size, \n",
    "                                                                      filter_sizes=self.filters_conv_layer,  \n",
    "                                                                      dropout=dropout_rate_temporal)],\n",
    "                                                     name='temporal_conv_net')\n",
    "        else:\n",
    "            raise ValueError(f\"Input shape is not good, got: {input_shape}\")\n",
    "            \n",
    "        print(self._config_())\n",
    "    \n",
    "    def sample(self, eps=None):\n",
    "        if eps is None:\n",
    "            if self._loss_weight_kl == 0.0:\n",
    "                warnings.warn('KL loss is 0.0. The latent space is not properly trained')\n",
    "            # The KL-loss is calculated against a normal distribution, \n",
    "            # thus it should resemble one and thus sampling should make sense.\n",
    "            eps = tf.random_normal(shape=(self._batch_size, self.latent_dim))\n",
    "        return self.decode(eps, apply_sigmoid=True)\n",
    "  \n",
    "    def encode(self, x, training=False):\n",
    "        if self.temporal_conv_net:\n",
    "            # TODO combine them into one? max pooling or something\n",
    "            x_tmp = tfkl.Lambda(lambda x: x[:, -1, :])(self.temporal_conv_net(x, training=training))\n",
    "            mean, logvar = tf.split(self.inference_net(x_tmp), \n",
    "                                    num_or_size_splits=2,\n",
    "                                    axis=1)\n",
    "        else:\n",
    "            mean, logvar = tf.split(self.inference_net(x),\n",
    "                                    num_or_size_splits=2,\n",
    "                                    axis=1)\n",
    "        return mean, logvar\n",
    "  \n",
    "    def reparameterize(self, mean, logvar):\n",
    "        # TODO check: the params should be correct? check original paper\n",
    "        eps = tf.random_normal(shape=mean.shape)\n",
    "        return eps * tf.exp(logvar * .5) + mean\n",
    "  \n",
    "    def decode(self, z, apply_sigmoid=False):\n",
    "        logits = self.generative_net(z)\n",
    "        if apply_sigmoid:\n",
    "            probs = tf.sigmoid(logits)\n",
    "            return probs\n",
    "  \n",
    "        return logits\n",
    "\n",
    "    def predict(self, x):\n",
    "        mean, logvar = self.encode(x)\n",
    "        z = model.reparameterize(mean, logvar)\n",
    "        return model.decode(z, apply_sigmoid=True)\n",
    "    \n",
    "    def call(self, x, training=False, apply_sigmoid=False):\n",
    "        return self.decode(self.reparameterize(*self.encode(x, training=training)), \n",
    "                           apply_sigmoid=apply_sigmoid)\n",
    "    \n",
    "    def _config_(self):\n",
    "        return {\n",
    "            \"latent_dim\": self.latent_dim,\n",
    "            \"input_shape\": self._input_shape,\n",
    "            \"batch_size\": self._batch_size,\n",
    "            \"layer_sizes_inference\": self._layer_sizes_inference,\n",
    "            \"layer_sizes_generative\": self._layer_sizes_generative,\n",
    "            \"loss_weight_reconstruction\": self._loss_weight_reconstruction,\n",
    "            \"loss_weight_kl\": self._loss_weight_kl,\n",
    "        }"
   ]
  },
  {
   "cell_type": "markdown",
   "metadata": {
    "colab_type": "text",
    "id": "0FMYgY_mPfTi"
   },
   "source": [
    "## Define the loss function and the optimizer"
   ]
  },
  {
   "cell_type": "markdown",
   "metadata": {
    "ExecuteTime": {
     "end_time": "2019-05-21T20:11:50.309853Z",
     "start_time": "2019-05-21T20:11:50.306019Z"
    }
   },
   "source": [
    "### Doc"
   ]
  },
  {
   "cell_type": "markdown",
   "metadata": {},
   "source": [
    "VAEs train by maximizing the evidence lower bound (ELBO) on the marginal log-likelihood:\n",
    "\n",
    "$$\\log p(x) \\ge \\text{ELBO} = \\mathbb{E}_{q(z|x)}\\left[\\log \\frac{p(x, z)}{q(z|x)}\\right].$$\n",
    "\n",
    "In practice, we optimize the single sample Monte Carlo estimate of this expectation:\n",
    "\n",
    "$$\\log p(x| z) + \\log p(z) - \\log q(z|x),$$\n",
    "where $z$ is sampled from $q(z|x)$.\n",
    "\n",
    "**Note**: we could also analytically compute the KL term, but here we incorporate all three terms in the Monte Carlo estimator for simplicity."
   ]
  },
  {
   "cell_type": "markdown",
   "metadata": {},
   "source": [
    "### Code"
   ]
  },
  {
   "cell_type": "code",
   "execution_count": 19,
   "metadata": {
    "ExecuteTime": {
     "end_time": "2019-05-23T15:05:41.718724Z",
     "start_time": "2019-05-23T15:05:41.708059Z"
    }
   },
   "outputs": [],
   "source": [
    "if run_config['use_time_series']:\n",
    "    assert len(data_train.shape) == 3, 'run all the necessary code, shape does not align with config'\n",
    "else:\n",
    "    assert len(data_train.shape) == 2, 'run all the necessary code, shape does not align with config'"
   ]
  },
  {
   "cell_type": "code",
   "execution_count": 20,
   "metadata": {
    "ExecuteTime": {
     "end_time": "2019-05-23T15:05:41.736240Z",
     "start_time": "2019-05-23T15:05:41.720075Z"
    }
   },
   "outputs": [
    {
     "data": {
      "text/plain": [
       "(462, 30)"
      ]
     },
     "execution_count": 20,
     "metadata": {},
     "output_type": "execute_result"
    }
   ],
   "source": [
    "data_test.shape"
   ]
  },
  {
   "cell_type": "code",
   "execution_count": 21,
   "metadata": {
    "ExecuteTime": {
     "end_time": "2019-05-23T15:05:41.749617Z",
     "start_time": "2019-05-23T15:05:41.737675Z"
    },
    "colab": {
     "autoexec": {
      "startup": false,
      "wait_interval": 0
     }
    },
    "colab_type": "code",
    "id": "iWCn_PVdEJZ7"
   },
   "outputs": [],
   "source": [
    "# For the loss function:\n",
    "#\n",
    "# https://github.com/pytorch/examples/issues/399\n",
    "#   Argues that since we are using a normal distribution we should not use any activation function in the last layer\n",
    "#   and the loss should be MSE.\n",
    "# https://stats.stackexchange.com/questions/332179/how-to-weight-kld-loss-vs-reconstruction-loss-in-variational-auto-encoder?rq=1\n",
    "#   Some general discussion about KL vs recon-loss\n",
    "# https://stats.stackexchange.com/questions/368001/is-the-output-of-a-variational-autoencoder-meant-to-be-a-distribution-that-can-b\n",
    "    \n",
    "\n",
    "def log_normal_pdf(sample, mean, logvar, raxis=1):\n",
    "    log2pi = tf.log(2. * np.pi)\n",
    "    return tf.reduce_sum(-.5 * ((sample - mean) ** 2. * tf.exp(-logvar) + logvar + log2pi), axis=raxis)\n",
    "\n",
    "def compute_loss(model, x):\n",
    "    mean, logvar = model.encode(x)\n",
    "    z = model.reparameterize(mean, logvar)\n",
    "    x_logit = model.decode(z)\n",
    "    \n",
    "    if run_config['use_time_series']:\n",
    "        # Note, the model is trained to reconstruct only the last, most current time step (by taking the last entry in the timeseries)\n",
    "        cross_ent = tf.nn.sigmoid_cross_entropy_with_logits(logits=x_logit, labels=x[:, -1, :])\n",
    "    else:\n",
    "        cross_ent = tf.nn.sigmoid_cross_entropy_with_logits(logits=x_logit, labels=x)\n",
    "        #cross_ent = tf.losses.mean_squared_error(predictions=x_logit, labels=x)\n",
    "        \n",
    "        \n",
    "    # TODO check this!\n",
    "    # reconstruction loss\n",
    "    #logpx_z = -tf.reduce_sum(cross_ent, axis=[1, 2, 3])\n",
    "    logpx_z = -tf.reduce_sum(cross_ent, axis=[1]) # down to [batch, loss]\n",
    "    # KL loss\n",
    "    logpz = log_normal_pdf(z, 0., 0.) # shouldn't it be `logvar = 0.0001` or something small?\n",
    "    logqz_x = log_normal_pdf(z, mean, logvar)\n",
    "    return -tf.reduce_mean(model._loss_weight_reconstruction*logpx_z + model._loss_weight_kl*(logpz - logqz_x))\n",
    "\n",
    "def compute_gradients(model, x): \n",
    "    with tf.GradientTape() as tape: \n",
    "        loss = compute_loss(model, x) \n",
    "        return tape.gradient(loss, model.trainable_variables), loss\n",
    "\n",
    "optimizer = tf.train.AdamOptimizer(1e-4)\n",
    "def apply_gradients(optimizer, gradients, variables, global_step=None):\n",
    "    optimizer.apply_gradients(zip(gradients, variables), global_step=global_step)"
   ]
  },
  {
   "cell_type": "markdown",
   "metadata": {},
   "source": [
    "## training"
   ]
  },
  {
   "cell_type": "code",
   "execution_count": 22,
   "metadata": {
    "ExecuteTime": {
     "end_time": "2019-05-23T15:05:42.349819Z",
     "start_time": "2019-05-23T15:05:41.750947Z"
    },
    "colab": {
     "autoexec": {
      "startup": false,
      "wait_interval": 0
     }
    },
    "colab_type": "code",
    "id": "NS2GWywBbAWo"
   },
   "outputs": [
    {
     "name": "stdout",
     "output_type": "stream",
     "text": [
      "{'latent_dim': 8, 'input_shape': (30,), 'batch_size': 100, 'layer_sizes_inference': array([30, 23, 16]), 'layer_sizes_generative': ListWrapper([8, 12, 16, 21, 25, 30]), 'loss_weight_reconstruction': 1.0, 'loss_weight_kl': 0.5}\n",
      "Model: \"inference_net\"\n",
      "_________________________________________________________________\n",
      "Layer (type)                 Output Shape              Param #   \n",
      "=================================================================\n",
      "dense (Dense)                (None, 30)                930       \n",
      "_________________________________________________________________\n",
      "dense_1 (Dense)              (None, 23)                713       \n",
      "_________________________________________________________________\n",
      "dense_2 (Dense)              (None, 16)                384       \n",
      "=================================================================\n",
      "Total params: 2,027\n",
      "Trainable params: 2,027\n",
      "Non-trainable params: 0\n",
      "_________________________________________________________________\n",
      "Model: \"generative_net\"\n",
      "_________________________________________________________________\n",
      "Layer (type)                 Output Shape              Param #   \n",
      "=================================================================\n",
      "dense_3 (Dense)              (None, 8)                 72        \n",
      "_________________________________________________________________\n",
      "dense_4 (Dense)              (None, 12)                108       \n",
      "_________________________________________________________________\n",
      "dense_5 (Dense)              (None, 16)                208       \n",
      "_________________________________________________________________\n",
      "dense_6 (Dense)              (None, 21)                357       \n",
      "_________________________________________________________________\n",
      "dense_7 (Dense)              (None, 25)                550       \n",
      "_________________________________________________________________\n",
      "dense_8 (Dense)              (None, 30)                780       \n",
      "=================================================================\n",
      "Total params: 2,075\n",
      "Trainable params: 2,075\n",
      "Non-trainable params: 0\n",
      "_________________________________________________________________\n"
     ]
    }
   ],
   "source": [
    "# This is the init cell. The model and all related objects are created here.\n",
    "if run_config['debug'] and run_config['d_no_compression']:\n",
    "    latent_dim= data_train.shape[-1]\n",
    "else:\n",
    "    latent_dim = run_config['latent_dim'] # 2\n",
    "\n",
    "tf.reset_default_graph()\n",
    "test_losses = []\n",
    "train_losses = []\n",
    "\n",
    "model = DrosophVAE(latent_dim, \n",
    "                   input_shape=data_train.shape[1:], \n",
    "                   batch_size=run_config['batch_size'], \n",
    "                   n_layers=run_config['n_conv_layers'], \n",
    "                   dropout_rate_temporal=0.2,\n",
    "                   loss_weight_reconstruction=1.0,\n",
    "                   loss_weight_kl=0.5)\n",
    "\n",
    "if run_config['use_time_series']:\n",
    "    model.temporal_conv_net.summary()\n",
    "    \n",
    "model.inference_net.summary()\n",
    "model.generative_net.summary()\n",
    "\n",
    "_config_hash_ = config.get_config_hash(run_config)\n",
    "_base_path_ = f\"{settings.config.__DATA_ROOT__}/tvae_logs/{config.config_description(run_config)}_{_config_hash_}\"\n",
    "train_log_dir = _base_path_ + '/train'\n",
    "test_log_dir = _base_path_ + '/test'\n",
    "train_summary_writer = tfc.summary.create_file_writer(train_log_dir)\n",
    "test_summary_writer = tfc.summary.create_file_writer(test_log_dir)"
   ]
  },
  {
   "cell_type": "code",
   "execution_count": 24,
   "metadata": {
    "ExecuteTime": {
     "end_time": "2019-05-23T15:06:00.704852Z",
     "start_time": "2019-05-23T15:06:00.700936Z"
    }
   },
   "outputs": [],
   "source": [
    "# TODO for later\n",
    "#from keras.utils import plot_model\n",
    "#plot_model(model)"
   ]
  },
  {
   "cell_type": "code",
   "execution_count": null,
   "metadata": {
    "ExecuteTime": {
     "end_time": "2019-05-23T15:05:42.622935Z",
     "start_time": "2019-05-23T15:05:31.733Z"
    },
    "code_folding": []
   },
   "outputs": [],
   "source": [
    "# This is the run cell. Designed to be able to train the model for an arbitrary amount of epochs.\n",
    "def _compute_loss_for_data_(model, data):\n",
    "    loss = tfe.metrics.Mean()\n",
    "    for x in data:\n",
    "        loss(compute_loss(model, x))\n",
    "    elbo = -loss.result()\n",
    "    \n",
    "    return elbo\n",
    "\n",
    "print(f\"will train model {model._config_()}, with global params: {run_config}, hash: {_config_hash_}\")\n",
    "print(f\"will train for ever...\")\n",
    "epoch = len(train_losses)\n",
    "while True:\n",
    "    try:\n",
    "        start_time = time.time()\n",
    "        for train_x in train_dataset:\n",
    "            gradients, loss = compute_gradients(model, train_x)\n",
    "            apply_gradients(optimizer, gradients, model.trainable_variables)\n",
    "        end_time = time.time()\n",
    "\n",
    "        test_losses += [_compute_loss_for_data_(model, test_dataset)]\n",
    "        train_losses += [_compute_loss_for_data_(model, train_dataset)]\n",
    "\n",
    "        with train_summary_writer.as_default(), tfc.summary.always_record_summaries():\n",
    "            tfc.summary.scalar('loss', train_losses[-1], step=epoch)\n",
    "\n",
    "        with test_summary_writer.as_default(), tfc.summary.always_record_summaries():\n",
    "            tfc.summary.scalar('loss', test_losses[-1], step=epoch)\n",
    "\n",
    "        if epoch % 10 == 0:\n",
    "            print(f\"Epoch: {epoch:0>3}, train test loss: {test_losses[-1]:0.3f}, took {end_time - start_time:0.3f} sec\")\n",
    "            tfc.summary.flush()\n",
    "        else:\n",
    "            # simple \"loading bar\"\n",
    "            print('.' * (epoch % 10), end='\\r')\n",
    "\n",
    "        epoch += 1\n",
    "    except KeyboardInterrupt:\n",
    "        tfc.summary.flush()\n",
    "        print(f\"Stopped training during epoch {epoch + 1}, current loss: {train_losses[-1]:0.3f}/{test_losses[-1]:0.3f}\")\n",
    "        break"
   ]
  },
  {
   "cell_type": "code",
   "execution_count": null,
   "metadata": {
    "ExecuteTime": {
     "end_time": "2019-05-23T15:05:42.623463Z",
     "start_time": "2019-05-23T15:05:31.737Z"
    }
   },
   "outputs": [],
   "source": [
    "plots.plot_losses(train_losses, test_losses, run_config=run_config);"
   ]
  },
  {
   "cell_type": "markdown",
   "metadata": {
    "ExecuteTime": {
     "end_time": "2019-05-21T16:37:31.785780Z",
     "start_time": "2019-05-21T16:37:31.782033Z"
    }
   },
   "source": [
    "# evaluation"
   ]
  },
  {
   "cell_type": "code",
   "execution_count": null,
   "metadata": {
    "ExecuteTime": {
     "end_time": "2019-05-23T15:05:42.623961Z",
     "start_time": "2019-05-23T15:05:31.741Z"
    }
   },
   "outputs": [],
   "source": [
    "def _reverse_to_original_shape_(X):\n",
    "    if run_config['data_type'] == _DATA_TYPE_2D_POS_:\n",
    "        input_shape = (15, -1)\n",
    "    else:\n",
    "        input_shape = X.shape[1:]\n",
    "        \n",
    "    return scaler.inverse_transform(X).reshape(X.shape[0], *(input_shape))"
   ]
  },
  {
   "cell_type": "code",
   "execution_count": null,
   "metadata": {
    "ExecuteTime": {
     "end_time": "2019-05-23T15:05:42.624465Z",
     "start_time": "2019-05-23T15:05:31.744Z"
    }
   },
   "outputs": [],
   "source": [
    "input_data_raw = np.vstack((data_train, data_test))\n",
    "\n",
    "if run_config['use_time_series']:\n",
    "    input_data = _reverse_to_original_shape_(input_data_raw[:, -1, :])\n",
    "else:\n",
    "    input_data = _reverse_to_original_shape_(input_data_raw)\n",
    "    \n",
    "reconstructed_data = np.tanh(_reverse_to_original_shape_(model(input_data_raw, apply_sigmoid=False).numpy()))\n",
    "_min_nb_batches_for_sample_length_ = int(np.ceil(len(input_data_raw) / run_config['batch_size']))\n",
    "generated_data = _reverse_to_original_shape_(np.vstack([model.sample().numpy() for _ in range(_min_nb_batches_for_sample_length_)]))"
   ]
  },
  {
   "cell_type": "code",
   "execution_count": null,
   "metadata": {
    "ExecuteTime": {
     "end_time": "2019-05-23T15:05:42.624935Z",
     "start_time": "2019-05-23T15:05:31.748Z"
    }
   },
   "outputs": [],
   "source": [
    "if run_config['data_type'] == _DATA_TYPE_2D_POS_:\n",
    "    #plots.plot_comparing_joint_position_with_reconstructed(input_data, generated_data, validation_cut_off=len(input_data))\n",
    "    plots.plot_comparing_joint_position_with_reconstructed(input_data, reconstructed_data, validation_cut_off=len(data_train), run_config=run_config);\n",
    "else:\n",
    "    fig, axs = plt.subplots(nrows=len(selected_cols), ncols=3, figsize=(30, 20), sharex=True, sharey=True)\n",
    "    start = 100\n",
    "    end = 300\n",
    "    xticks = np.arange(start, end)\n",
    "    for i, c in enumerate(selected_cols):\n",
    "        _idx_ = np.s_[start:end, i]\n",
    "        axs[i][0].plot(xticks, input_data[_idx_])\n",
    "        axs[i][1].plot(xticks, generated_data[_idx_])\n",
    "        axs[i][2].plot(xticks, reconstructed_data[_idx_])\n",
    "        \n",
    "        #for a in axs[i]:\n",
    "        #    a.axvline(len(data_train), label='validation cut off', linestyle='--')\n",
    "\n",
    "    axs[0][0].set_title('input')\n",
    "    axs[0][1].set_title('generated')\n",
    "    axs[0][2].set_title('reconstructed')\n",
    "    for i in range(3):\n",
    "        axs[-1][i].set_xlabel('time step')\n",
    "    \n",
    "    plt.suptitle(f\"Comparision of selection of data\")\n",
    "    \n",
    "    #plt.tight_layout()\n",
    "    #plt.savefig(f\"./figures/{_CONFIG_HASH_}_input_gen_recon_comparision.png\")"
   ]
  },
  {
   "cell_type": "code",
   "execution_count": null,
   "metadata": {
    "ExecuteTime": {
     "end_time": "2019-05-23T15:05:42.625404Z",
     "start_time": "2019-05-23T15:05:31.754Z"
    }
   },
   "outputs": [],
   "source": [
    "_mean_recon_ = np.mean(np.abs(np.mean(input_data, axis=1) - np.mean(reconstructed_data, axis=1)))\n",
    "_mean_gen_ = np.mean(np.abs(np.mean(input_data, axis=1) - np.mean(generated_data[:len(input_data)], axis=1)))\n",
    "print(f\"mean(abs(mean(x) - mean(y))): input/recon: {_mean_recon_:0.4f}; input/gen: {_mean_gen_:0.4f}. mse (input/recon): {((input_data - reconstructed_data) ** 2).mean()}\")"
   ]
  },
  {
   "cell_type": "markdown",
   "metadata": {},
   "source": [
    "# Latent space"
   ]
  },
  {
   "cell_type": "code",
   "execution_count": null,
   "metadata": {
    "ExecuteTime": {
     "end_time": "2019-05-23T15:05:42.625866Z",
     "start_time": "2019-05-23T15:05:31.758Z"
    }
   },
   "outputs": [],
   "source": [
    "from hdbscan import HDBSCAN"
   ]
  },
  {
   "cell_type": "code",
   "execution_count": null,
   "metadata": {
    "ExecuteTime": {
     "end_time": "2019-05-23T15:05:42.626350Z",
     "start_time": "2019-05-23T15:05:31.762Z"
    },
    "scrolled": false
   },
   "outputs": [],
   "source": [
    "from collections import namedtuple\n",
    "from sklearn.manifold import TSNE\n",
    "\n",
    "LatentSpaceEncoding = namedtuple('LatentSpaceEncoding', 'mean var')\n",
    "\n",
    "warnings.warn('should use all data `input_data`')\n",
    "if run_config['use_all_experiments']:\n",
    "    X_latent = LatentSpaceEncoding(*map(lambda x: x.numpy(), model.encode(input_data_raw[np.random.choice(len(input_data), 10000)])))\n",
    "else:\n",
    "    X_latent = LatentSpaceEncoding(*map(lambda x: x.numpy(), model.encode(input_data_raw)))\n",
    "    \n",
    "X_latent_mean_tsne_proj = TSNE(n_components=2, random_state=42).fit_transform(np.hstack((X_latent.mean, X_latent.var)))"
   ]
  },
  {
   "cell_type": "code",
   "execution_count": null,
   "metadata": {
    "ExecuteTime": {
     "end_time": "2019-05-23T15:05:42.626787Z",
     "start_time": "2019-05-23T15:05:31.764Z"
    }
   },
   "outputs": [],
   "source": [
    "cluster_assignments = HDBSCAN(min_cluster_size=8).fit_predict(np.hstack((X_latent.mean, X_latent.var)))"
   ]
  },
  {
   "cell_type": "code",
   "execution_count": null,
   "metadata": {
    "ExecuteTime": {
     "end_time": "2019-05-23T15:05:42.627230Z",
     "start_time": "2019-05-23T15:05:31.768Z"
    }
   },
   "outputs": [],
   "source": [
    "from matplotlib import gridspec\n",
    "\n",
    "fig = plt.figure(figsize=(20, 18))\n",
    "gs = gridspec.GridSpec(3, 2, figure=fig)\n",
    "ax1 = plt.subplot(gs[:2, :])\n",
    "ax2 = plt.subplot(gs[-1:, :1])\n",
    "ax3 = plt.subplot(gs[-1:, 1:])\n",
    "\n",
    "#plt.figure(figsize=(20, 12))\n",
    "#fig, axs = plt.subplots(nrows=3, ncols=1, figsize=(20, 30))\n",
    "for cluster in np.unique(cluster_assignments):\n",
    "    c_idx = cluster_assignments == cluster\n",
    "    c_idx = c_idx & (np.random.random(len(c_idx)) > 0.7) # don't show all of them, takes for ever otherwise\n",
    "    sns.scatterplot(X_latent_mean_tsne_proj[c_idx, 0], X_latent_mean_tsne_proj[c_idx, 1], label=cluster, ax=ax1)\n",
    "    sns.scatterplot(X_latent.mean[c_idx, 0], X_latent.mean[c_idx, 1], label=cluster, ax=ax2)\n",
    "    sns.scatterplot(X_latent.var[c_idx, 0], X_latent.var[c_idx, 1], label=cluster, ax=ax3)\n",
    "    \n",
    "plt.legend()\n",
    "ax1.set_title('T-SNE proejection of latent space (mean & var stacked)')\n",
    "ax2.set_title('mean')\n",
    "ax3.set_title('var');"
   ]
  },
  {
   "cell_type": "markdown",
   "metadata": {},
   "source": [
    "# videos"
   ]
  },
  {
   "cell_type": "code",
   "execution_count": null,
   "metadata": {
    "ExecuteTime": {
     "end_time": "2019-05-23T15:05:42.627676Z",
     "start_time": "2019-05-23T15:05:31.772Z"
    }
   },
   "outputs": [],
   "source": [
    "def reverse_pos_pipeline(x, normalisation_term=normalisation_factors):\n",
    "    \"\"\"TODO This is again pretty shitty... ultra hidden global variable\"\"\"\n",
    "    return x + normalisation_term[:x.shape[-1]]\n",
    "\n",
    "def video_prep_raw_data(data):\n",
    "    if run_config['use_time_series']:\n",
    "        return reverse_pos_pipeline(scaler.inverse_transform(data[:, -1, :]).reshape(-1, 15, 2))\n",
    "    else:\n",
    "        return reverse_pos_pipeline(scaler.inverse_transform(data.reshape(-1, 30)).reshape(-1, 15, 2))\n",
    "    \n",
    "def video_prep_recon_data(input_data):\n",
    "    return reverse_pos_pipeline(scaler.inverse_transform(model(input_data).numpy()).reshape(-1, 15, 2))"
   ]
  },
  {
   "cell_type": "code",
   "execution_count": null,
   "metadata": {
    "ExecuteTime": {
     "end_time": "2019-05-23T15:05:42.628111Z",
     "start_time": "2019-05-23T15:05:31.776Z"
    }
   },
   "outputs": [],
   "source": [
    "p = video.comparision_video_of_reconstruction([video_prep_raw_data(_all_input_), video_prep_recon_data(_all_input_)],\n",
    "                                              images_paths_for_experiments=images_paths_for_experiments, \n",
    "                                              n_train=len(data_train),\n",
    "                                              cluster_assignments=cluster_assignments,\n",
    "                                              as_frames=False)\n",
    "\n",
    "display_video(p)"
   ]
  },
  {
   "cell_type": "code",
   "execution_count": null,
   "metadata": {
    "ExecuteTime": {
     "end_time": "2019-05-23T15:05:42.628550Z",
     "start_time": "2019-05-23T15:05:31.779Z"
    }
   },
   "outputs": [],
   "source": [
    "from collections import OrderedDict\n",
    "_N_CLUSTER_TO_VIZ_ = 10\n",
    "_positional_data = [video_prep_raw_data(_all_input_), video_prep_recon_data(_all_input_)]\n",
    "_t = [(misc.flatten(sequences), cluster_id) for cluster_id, sequences in video.group_by_cluster(cluster_assignments).items()]\n",
    "_t = sorted(_t, key=lambda x: len(x[0]), reverse=True)\n",
    "\n",
    "cluster_colors = sns.color_palette(n_colors=len(np.unique(cluster_assignments)))\n",
    "\n",
    "cluster_vids = OrderedDict((p[1], video.comparision_video_of_reconstruction(_positional_data,\n",
    "                                                                      cluster_assignments=cluster_assignments,\n",
    "                                                                      images_paths_for_experiments=images_paths_for_experiments,\n",
    "                                                                      n_train=data_train.shape[0],\n",
    "                                                                      cluster_colors=cluster_colors,\n",
    "                                                                      cluster_id_to_visualize=p[1]))\n",
    "                    for p in _t[:_N_CLUSTER_TO_VIZ_])\n",
    "\n",
    "print('cluster_vids: ', cluster_vids.keys())"
   ]
  },
  {
   "cell_type": "code",
   "execution_count": null,
   "metadata": {
    "ExecuteTime": {
     "end_time": "2019-05-23T15:05:42.629003Z",
     "start_time": "2019-05-23T15:05:31.783Z"
    }
   },
   "outputs": [],
   "source": [
    "display_video(list(cluster_vids.values())[0])"
   ]
  }
 ],
 "metadata": {
  "accelerator": "GPU",
  "colab": {
   "collapsed_sections": [],
   "default_view": {},
   "name": "cvae.ipynb",
   "private_outputs": true,
   "provenance": [
    {
     "file_id": "1eb0NOTQapkYs3X0v-zL1x5_LFKgDISnp",
     "timestamp": 1527173385672
    }
   ],
   "toc_visible": true,
   "version": "0.3.2",
   "views": {}
  },
  "hide_input": false,
  "kernelspec": {
   "display_name": "Python 3",
   "language": "python",
   "name": "python3"
  },
  "language_info": {
   "codemirror_mode": {
    "name": "ipython",
    "version": 3
   },
   "file_extension": ".py",
   "mimetype": "text/x-python",
   "name": "python",
   "nbconvert_exporter": "python",
   "pygments_lexer": "ipython3",
   "version": "3.7.3"
  },
  "toc": {
   "base_numbering": 1,
   "nav_menu": {},
   "number_sections": true,
   "sideBar": true,
   "skip_h1_title": false,
   "title_cell": "Table of Contents",
   "title_sidebar": "Contents",
   "toc_cell": false,
   "toc_position": {},
   "toc_section_display": true,
   "toc_window_display": false
  }
 },
 "nbformat": 4,
 "nbformat_minor": 1
}
