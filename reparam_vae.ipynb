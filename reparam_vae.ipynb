{
 "cells": [
  {
   "cell_type": "markdown",
   "metadata": {
    "colab_type": "text",
    "id": "0TD5ZrvEMbhZ"
   },
   "source": [
    "# VAE using the reparametrization trick"
   ]
  },
  {
   "cell_type": "markdown",
   "metadata": {
    "colab_type": "text",
    "heading_collapsed": true,
    "id": "e1_Y75QXJS6h"
   },
   "source": [
    "## Imports and enabling of eager execution"
   ]
  },
  {
   "cell_type": "code",
   "execution_count": 1,
   "metadata": {
    "ExecuteTime": {
     "end_time": "2019-06-07T11:55:16.244464Z",
     "start_time": "2019-06-07T11:55:14.266092Z"
    },
    "colab": {
     "autoexec": {
      "startup": false,
      "wait_interval": 0
     }
    },
    "colab_type": "code",
    "hidden": true,
    "id": "YfIk2es3hJEd"
   },
   "outputs": [
    {
     "name": "stderr",
     "output_type": "stream",
     "text": [
      "WARNING: Logging before flag parsing goes to stderr.\n",
      "W0607 13:55:15.903938 139688002500416 lazy_loader.py:50] \n",
      "WARNING: The TensorFlow contrib module will not be included in TensorFlow 2.0.\n",
      "For more information, please see:\n",
      "  * https://github.com/tensorflow/community/blob/master/rfcs/20180907-contrib-sunset.md\n",
      "  * https://github.com/tensorflow/addons\n",
      "  * https://github.com/tensorflow/io (for I/O related ops)\n",
      "If you depend on functionality not listed there, please file an issue.\n",
      "\n",
      "W0607 13:55:15.906518 139688002500416 deprecation_wrapper.py:119] From /home/samuel/SOM-VAE/som_vae/helpers/tensorflow.py:5: The name tf.ConfigProto is deprecated. Please use tf.compat.v1.ConfigProto instead.\n",
      "\n"
     ]
    }
   ],
   "source": [
    "import json\n",
    "from collections import namedtuple\n",
    "import itertools\n",
    "import warnings\n",
    "import os\n",
    "import time\n",
    "import numpy as np\n",
    "import pandas as pd\n",
    "import glob\n",
    "import matplotlib.pyplot as plt\n",
    "import seaborn as sns\n",
    "import PIL\n",
    "import imageio\n",
    "from IPython import display\n",
    "from sklearn.preprocessing import StandardScaler, MinMaxScaler\n",
    "from sklearn.manifold import TSNE\n",
    "from functional import seq\n",
    "from pathlib import Path\n",
    "from functools import reduce\n",
    "\n",
    "from importlib import reload # for debugging and developing, optional\n",
    "\n",
    "import tensorflow as tf\n",
    "import tensorflow.contrib as tfc\n",
    "import tensorflow.contrib.eager as tfe\n",
    "import tensorflow.keras as tfk\n",
    "import tensorflow.keras.layers as tfkl\n",
    "import tensorflow_probability as tfp\n",
    "\n",
    "# for the KL-loss explosion problem\n",
    "from tensorflow.python.eager.execution_callbacks import InfOrNanError\n",
    "from tensorflow.python.eager.core import _NotOkStatusException\n",
    "\n",
    "tf.enable_eager_execution()\n",
    "tfe.seterr(inf_or_nan='raise')\n",
    "\n",
    "# otherwise TF will print soooo many warnings\n",
    "warnings.filterwarnings('ignore', '.*FutureWarning.*np.complexfloating.*')\n",
    "\n",
    "from som_vae.helpers.tensorflow import _TF_DEFAULT_SESSION_CONFIG_\n",
    "import som_vae.helpers.tensorflow as tf_helpers\n",
    "sess = tf.InteractiveSession(config=_TF_DEFAULT_SESSION_CONFIG_)\n",
    "tf.keras.backend.set_session(sess)\n",
    "\n",
    "from som_vae import settings\n",
    "from som_vae import preprocessing\n",
    "from som_vae.helpers.misc import extract_args, chunks, foldl, if_last\n",
    "from som_vae.helpers.jupyter import fix_layout, display_video\n",
    "from som_vae.settings import config, skeleton\n",
    "from som_vae.settings import data as SD\n",
    "from som_vae.helpers import video, plots, misc, jupyter\n",
    "from som_vae import preprocessing\n",
    "from som_vae.helpers.logging import enable_logging"
   ]
  },
  {
   "cell_type": "code",
   "execution_count": 2,
   "metadata": {
    "ExecuteTime": {
     "end_time": "2019-06-07T11:55:16.249191Z",
     "start_time": "2019-06-07T11:55:16.245874Z"
    },
    "hidden": true
   },
   "outputs": [
    {
     "data": {
      "text/html": [
       "<style>.container { width:95% !important; }</style>"
      ],
      "text/plain": [
       "<IPython.core.display.HTML object>"
      ]
     },
     "metadata": {},
     "output_type": "display_data"
    }
   ],
   "source": [
    "jupyter.fix_layout()"
   ]
  },
  {
   "cell_type": "markdown",
   "metadata": {},
   "source": [
    "## Constants"
   ]
  },
  {
   "cell_type": "code",
   "execution_count": 3,
   "metadata": {
    "ExecuteTime": {
     "end_time": "2019-06-07T11:55:16.397590Z",
     "start_time": "2019-06-07T11:55:16.250365Z"
    }
   },
   "outputs": [
    {
     "name": "stdout",
     "output_type": "stream",
     "text": [
      "this is the main experiment, study, and fly id: 180920_aDN_CsCh-001_SG1-Fly2.\n",
      "\n",
      "loadable experiments. there is a blacklist below.\n",
      "180918_MDN_CsCh  180919_MDN_CsCh  180920_MDN_CsCh  180921_MDN_PR\r\n",
      "180918_MDN_PR\t 180919_MDN_PR\t  180920_MDN_PR    181220_Rpr_R57C10_GC6s_tdTom\r\n",
      "180919_aDN_CsCh  180920_aDN_CsCh  180921_aDN_CsCh\r\n",
      "180919_aDN_PR\t 180920_aDN_PR\t  180921_aDN_PR\r\n"
     ]
    }
   ],
   "source": [
    "# all those experiments and data will be used\n",
    "from som_vae.settings import config\n",
    "print(f\"this is the main experiment, study, and fly id: {config.full_experiment_id()}.\\n\\nloadable experiments. there is a blacklist below.\")\n",
    "!ls $config.__EXPERIMENT_ROOT__"
   ]
  },
  {
   "cell_type": "code",
   "execution_count": 4,
   "metadata": {
    "ExecuteTime": {
     "end_time": "2019-06-07T11:55:16.404378Z",
     "start_time": "2019-06-07T11:55:16.401415Z"
    }
   },
   "outputs": [],
   "source": [
    "# if you want to see the flys as well, or just more information\n",
    "# !tree -L 2 $config.__EXPERIMENT_ROOT__"
   ]
  },
  {
   "cell_type": "code",
   "execution_count": 5,
   "metadata": {
    "ExecuteTime": {
     "end_time": "2019-06-07T11:55:16.572432Z",
     "start_time": "2019-06-07T11:55:16.406743Z"
    }
   },
   "outputs": [
    {
     "data": {
      "text/plain": [
       "(7, 899, 38, 2)"
      ]
     },
     "execution_count": 5,
     "metadata": {},
     "output_type": "execute_result"
    }
   ],
   "source": [
    "config.positional_data(SD.EXPERIMENTS[0]).shape"
   ]
  },
  {
   "cell_type": "code",
   "execution_count": 6,
   "metadata": {
    "ExecuteTime": {
     "end_time": "2019-06-07T11:55:16.588689Z",
     "start_time": "2019-06-07T11:55:16.574944Z"
    }
   },
   "outputs": [],
   "source": [
    "_EXPERIMENT_BLACK_LIST_ = ['181220_Rpr_R57C10_GC6s_tdTom'] # all other experiments are used\n",
    "_FLY_BLACK_LIST_ = ['180920_aDN_PR-Fly2-005_SG1', '180921_aDN_CsCh-Fly6-003_SG1'] # for those flys the angle conversion give odd results,\n",
    "                                                                                  # and their distributions seem way off compared to the others)\n",
    "\n",
    "\n",
    "_DATA_TYPE_3D_ANGLE_ = '3d_angle'\n",
    "_DATA_TYPE_2D_POS_ = '2d_pos'\n",
    "_SUPPORTED_DATA_TYPES_ = [_DATA_TYPE_3D_ANGLE_, _DATA_TYPE_2D_POS_]\n",
    "\n",
    "_MODEL_IMPL_TEMPORAL_CONV_ = 'temp_conv'\n",
    "_MODEL_IMPL_PADD_CONV_ = 'padd_conv'\n",
    "_MODEL_IMPL_SKIP_CON_ = 'skip_padd_conv' \n",
    "\n",
    "run_config = {\n",
    "    'debug': True,                 # general flag for debug mode, triggers all `d_.*`-options.\n",
    "    'd_zero_data': False,          # overwrite the data with zeroed out data, the overall shape is kept.\n",
    "    'd_sinoid_data': False, \n",
    "    'd_sinoid_cluster_data': True,\n",
    "    'd_no_compression': False,     # if true, the latent_space will be the same dimension as the input. allowing the model to learn the identity function.\n",
    "    'use_all_experiments': False,\n",
    "    'data_type': _DATA_TYPE_3D_ANGLE_,\n",
    "    'use_time_series': True,       # triggers time series application, without this the model is only dense layers\n",
    "    'time_series_length': 10,      # note that this is equal to the minimal wanted receptive field length\n",
    "    'conv_layer_kernel_size': 2,   # you can set either this or `n_conv_layers` to None, it will be automatically computed. see section `Doc` for an explanation.\n",
    "    'n_conv_layers': None,         # you can set either this or `conv_layer_kernel_size` to None, it will be automatically computed. see section `Doc` for an explanation.\n",
    "    'latent_dim': None,               # should be adapted given the input dim\n",
    "    'batch_size': 128,\n",
    "    'loss_weight_reconstruction': 1.0, # will be adjusted further down (currently)\n",
    "    'loss_weight_kl': 0.0,             # will be adjusted further down (currently)\n",
    "    'dropout_rate': 0.,\n",
    "    'with_batch_norm': True,\n",
    "    'model_impl': _MODEL_IMPL_TEMPORAL_CONV_\n",
    "}\n",
    "\n",
    "# And now the ... ugly parts begin. -> TODO put this in a class, \n",
    "\n",
    "if run_config['use_all_experiments']:\n",
    "    # takes way too long otherwise\n",
    "    run_config['batch_size'] = 1024\n",
    "\n",
    "if not(run_config['data_type'] in _SUPPORTED_DATA_TYPES_):\n",
    "    raise NotImplementedError(f\"This data type is not supported. Must be one of either {_SUPPORTED_DATA_TYPES_}\")\n",
    "    \n",
    "if run_config['n_conv_layers'] is None:\n",
    "    run_config['n_conv_layers'] = np.int(np.ceil(np.log2((run_config['time_series_length'] - 1) / (2 * (run_config['conv_layer_kernel_size'] - 1)) + 1)))\n",
    "\n",
    "if run_config['conv_layer_kernel_size'] is None:\n",
    "    raise NotImplementedError('ups')\n",
    "    \n",
    "if run_config['data_type'] == _DATA_TYPE_2D_POS_:\n",
    "    # goes from 15 * 2 = 30 -> 8\n",
    "    run_config['latent_dim'] = 8\n",
    "elif run_config['data_type'] == _DATA_TYPE_3D_ANGLE_:\n",
    "    # goes from 18 -> 4\n",
    "    run_config['latent_dim'] = 4\n",
    "else:\n",
    "    raise ValueError(f\"this data_type is not supported: {run_config['data_type']}\")"
   ]
  },
  {
   "cell_type": "markdown",
   "metadata": {
    "colab_type": "text",
    "heading_collapsed": true,
    "id": "iYn4MdZnKCey"
   },
   "source": [
    "## Loading of 2d positional data"
   ]
  },
  {
   "cell_type": "code",
   "execution_count": 7,
   "metadata": {
    "ExecuteTime": {
     "end_time": "2019-06-07T11:55:16.601127Z",
     "start_time": "2019-06-07T11:55:16.590243Z"
    },
    "hidden": true
   },
   "outputs": [],
   "source": [
    "def experiments_from_root(root=config.__EXPERIMENT_ROOT__):\n",
    "    return seq(Path(root).iterdir()).flat_map(lambda p: (c for c in p.iterdir() if c.is_dir()))\\\n",
    "                                    .flat_map(lambda p: (c for c in p.iterdir() if c.is_dir()))\\\n",
    "                                    .map(lambda p: reduce(lambda acc, el: ([*acc[0], acc[1].stem], acc[1].parent), range(3), ([], p)))\\\n",
    "                                    .map(lambda pair: list(reversed(pair[0])))\\\n",
    "                                    .map(lambda ls: SD.Experiment._make([*ls, SD._key_from_list_(ls)]))\\\n",
    "                                    .to_list()"
   ]
  },
  {
   "cell_type": "code",
   "execution_count": 8,
   "metadata": {
    "ExecuteTime": {
     "end_time": "2019-06-07T11:55:16.629079Z",
     "start_time": "2019-06-07T11:55:16.603186Z"
    },
    "hidden": true
   },
   "outputs": [],
   "source": [
    "if not run_config['use_all_experiments']:\n",
    "    frames_idx_with_labels = preprocessing.get_frames_with_idx_and_labels(settings.data.LABELLED_DATA)\n",
    "    frames_of_interest = ~frames_idx_with_labels['label'].isin([settings.data._BehaviorLabel_.REST])"
   ]
  },
  {
   "cell_type": "code",
   "execution_count": 9,
   "metadata": {
    "ExecuteTime": {
     "end_time": "2019-06-07T11:55:16.641136Z",
     "start_time": "2019-06-07T11:55:16.631497Z"
    },
    "hidden": true
   },
   "outputs": [],
   "source": [
    "# TODO form a wrapper around the used data, experiments (the ids), data, normalisation factor, images, ... a namedtuple should do the trick\n",
    "if run_config['data_type'] == _DATA_TYPE_2D_POS_:\n",
    "    if run_config['use_all_experiments']:\n",
    "        all_experiments = [e for e in experiments_from_root() if e.study_id not in _EXPERIMENT_BLACK_LIST_ or config.get_experiment_id(e) in _FLY_BLACK_LIST_]\n",
    "        joint_positions, normalisation_factors = preprocessing.get_data_and_normalization(all_experiments, normalize_data=True)\n",
    "    else:\n",
    "        joint_positions, normalisation_factors = preprocessing.get_data_and_normalization(settings.data.EXPERIMENTS, normalize_data=True)\n",
    "\n",
    "        images_paths_for_experiments = settings.data.EXPERIMENTS.map(lambda x: (x, config.positional_data(x)))\\\n",
    "                                               .flat_map(lambda x: [(x[0], config.get_path_for_image(x[0], i)) for i in range(x[1].shape[1])])\\\n",
    "                                               .to_list()\n",
    "\n",
    "        if len(frames_of_interest) != len(joint_positions):\n",
    "            warnings.warn('There is a bug here. The number of images and number of data points to NOT align.')\n",
    "            frames_of_interest = np.where(frames_of_interest[:len(joint_positions)])[0]\n",
    "        \n",
    "        joint_positions = joint_positions[frames_of_interest[:len(joint_positions)]]\n",
    "        frames_idx_with_labels = frames_idx_with_labels.iloc[frames_of_interest]\n",
    "        images_paths_for_experiments =  np.array(images_paths_for_experiments)[frames_of_interest].tolist()"
   ]
  },
  {
   "cell_type": "markdown",
   "metadata": {
    "heading_collapsed": true
   },
   "source": [
    "## loading of angle-data"
   ]
  },
  {
   "cell_type": "code",
   "execution_count": 10,
   "metadata": {
    "ExecuteTime": {
     "end_time": "2019-06-07T11:55:20.621740Z",
     "start_time": "2019-06-07T11:55:16.643598Z"
    },
    "hidden": true
   },
   "outputs": [
    {
     "name": "stderr",
     "output_type": "stream",
     "text": [
      "/home/samuel/.conda/envs/tf_nightly/lib/python3.7/site-packages/ipykernel_launcher.py:8: UserWarning: There is a bug here. The number of images and number of data points to NOT align.\n",
      "  \n"
     ]
    },
    {
     "data": {
      "image/png": "[encoded data removed]",
      "text/plain": [
       "<Figure size 360x3888 with 18 Axes>"
      ]
     },
     "metadata": {
      "needs_background": "light"
     },
     "output_type": "display_data"
    }
   ],
   "source": [
    "if run_config['data_type'] == _DATA_TYPE_3D_ANGLE_ and not run_config['use_all_experiments']:\n",
    "    data_angle = np.vstack(seq(settings.data.EXPERIMENTS).map(lambda x: settings.config.positional_data(x, dimensions='3d')))\n",
    "\n",
    "    #\n",
    "    # Using man-made selection (from Semigh)\n",
    "    #\n",
    "    data_angle_raw = SD.convert_3d_to_angle(data_angle)\n",
    "    warnings.warn('There is a bug here. The number of images and number of data points to NOT align.')\n",
    "    frames_of_interest = frames_of_interest[:len(data_angle_raw)]\n",
    "    \n",
    "    selected_cols = [2,7,12, 19+2, 19+4, 19+12]\n",
    "    angled_data_columns = SD.get_3d_columns_names(selected_cols)\n",
    "    # for some odd reason numpy complains with I do data_angle_raw[frames_of_interest, selected_cols]\n",
    "    #plots.plot_angle_columns(data_angle_raw[:, selected_cols][frames_of_interest], angled_data_columns);\n",
    "    \n",
    "    # But not all of this data has information in it (measured by variance),\n",
    "    # so we use a different selection\n",
    "\n",
    "    #\n",
    "    # column selection \n",
    "    #\n",
    "    threshold = 0.\n",
    "    selected_cols = np.where(np.var(data_angle_raw, axis=0) > threshold)[0]\n",
    "    \n",
    "    angled_data_columns = SD.get_3d_columns_names(selected_cols)\n",
    "    f = plots.plot_angle_columns(data_angle_raw[:, selected_cols][frames_of_interest], angled_data_columns)\n",
    "    f.suptitle(f\"threshold: {threshold}, {len(selected_cols)} selected\");\n",
    "    plt.subplots_adjust(top=0.97)\n",
    "\n",
    "    # TODO not so sure here, should we really normalize the data?\n",
    "    joint_positions, normalisation_factors = preprocessing.normalize(data_angle_raw[:, selected_cols][frames_of_interest])"
   ]
  },
  {
   "cell_type": "code",
   "execution_count": 11,
   "metadata": {
    "ExecuteTime": {
     "end_time": "2019-06-07T11:55:20.626993Z",
     "start_time": "2019-06-07T11:55:20.622934Z"
    },
    "hidden": true
   },
   "outputs": [],
   "source": [
    "if run_config['data_type'] == _DATA_TYPE_3D_ANGLE_ and run_config['use_all_experiments']:\n",
    "    all_experiments = [e for e in experiments_from_root() if (e.study_id not in _EXPERIMENT_BLACK_LIST_) and (e.key not in _FLY_BLACK_LIST_)]\n",
    "    # `per_experiment` is a shitty parameter name, the data is not normalised and return per experiment.\n",
    "    loading_kwargs = {'dimensions': '3d', 'return_with_experiment_id': True}\n",
    "    angle_data_raw = [(exp_id, SD.convert_3d_to_angle(d)) for exp_id, d in preprocessing.get_data_and_normalization(all_experiments, **loading_kwargs)]\n",
    "\n",
    "    # takes for ever to render, if you want to see this, please run it yourself\n",
    "    #plots.plot_distribution_of_angle_data(angle_data_raw, run_config=run_config);\n",
    "\n",
    "    exp_ids, angle_data  = zip(*angle_data_raw)\n",
    "    angle_data = np.vstack(angle_data)\n",
    "    selected_cols = np.where(np.var(angle_data, axis=0) > 0.0)[0]\n",
    "    joint_positions = angle_data[:, selected_cols]"
   ]
  },
  {
   "cell_type": "code",
   "execution_count": 13,
   "metadata": {
    "ExecuteTime": {
     "end_time": "2019-06-07T11:55:20.656829Z",
     "start_time": "2019-06-07T11:55:20.642732Z"
    },
    "hidden": true,
    "scrolled": false
   },
   "outputs": [],
   "source": [
    "# will generate a huge plot and take about 6min to run...\n",
    "#plots.plot_distribution_of_angle_data(angle_data_raw, run_config=run_config);"
   ]
  },
  {
   "cell_type": "code",
   "execution_count": 14,
   "metadata": {
    "ExecuteTime": {
     "end_time": "2019-06-07T11:55:20.667236Z",
     "start_time": "2019-06-07T11:55:20.659417Z"
    },
    "code_folding": [
     0
    ],
    "hidden": true
   },
   "outputs": [],
   "source": [
    "#all_experiments = experiments_from_root()\n",
    "#print(len(all_experiments))\n",
    "#\n",
    "#pos_data = preprocessing.get_data_and_normalization(all_experiments, per_experiment=True)\n",
    "#\n",
    "#norm_pos_data, norm_pos_data_params = zip(*[preprocessing.normalize(p) for p in pos_data])\n",
    "#experiment_lengths = [len(p) for p in norm_pos_data] # for applying the right normalization factors\n",
    "#norm_pos_data = np.vstack(norm_pos_data)\n",
    "#\n",
    "#print(f\"in total we have {len(all_experiments)} experiments, but only {len(experiment_lengths)} are usable right now\")\n",
    "#\n",
    "#norm_pos_data_embedded = TSNE(n_components=2, random_state=42).fit_transform(norm_pos_data[:, :, :2].reshape(norm_pos_data.shape[0], -1))\n",
    "#\n",
    "##_cs = sns.color_palette(n_colors=len(seen_labels))\n",
    "##\n",
    "##fig = plt.figure(figsize=(10, 10))\n",
    "##_all_frames_ = pd.concat((training_frames, testing_frames))\n",
    "##\n",
    "##behaviour_colours = dict(zip(seen_labels, _cs))\n",
    "##\n",
    "##for l, c in behaviour_colours.items():\n",
    "##    _d = X_embedded[_all_frames_['label'] == l]\n",
    "##    # c=[c] since matplotlib asks for it\n",
    "##    plt.scatter(_d[:, 0], _d[:,1], c=[c], label=l.name, marker='.')\n",
    "##    \n",
    "##plt.legend()\n",
    "##plt.title('simple t-SNE on latent space')\n",
    "##fig.savefig(f\"../neural_clustering_data/figures/{som_vae_config['ex_name']}_tsne.png\")\n",
    "#\n",
    "#_cs = sns.color_palette(n_colors=len(experiment_lengths))\n",
    "#\n",
    "#\n",
    "#used_until = 0\n",
    "#for i, l in enumerate(experiment_lengths):\n",
    "#    plt.scatter(norm_pos_data_embedded[used_until:used_until+l, 0], norm_pos_data_embedded[used_until:used_until+l, 1], c=[_cs[i]])\n",
    "#    used_until += l"
   ]
  },
  {
   "cell_type": "code",
   "execution_count": 15,
   "metadata": {
    "ExecuteTime": {
     "end_time": "2019-06-07T11:55:20.679988Z",
     "start_time": "2019-06-07T11:55:20.669296Z"
    },
    "hidden": true
   },
   "outputs": [
    {
     "data": {
      "text/plain": [
       "(1538, 18)"
      ]
     },
     "execution_count": 15,
     "metadata": {},
     "output_type": "execute_result"
    }
   ],
   "source": [
    "joint_positions.shape"
   ]
  },
  {
   "cell_type": "markdown",
   "metadata": {
    "heading_collapsed": true
   },
   "source": [
    "# preprocessing"
   ]
  },
  {
   "cell_type": "code",
   "execution_count": 16,
   "metadata": {
    "ExecuteTime": {
     "end_time": "2019-06-07T11:55:20.696182Z",
     "start_time": "2019-06-07T11:55:20.681716Z"
    },
    "code_folding": [
     0
    ],
    "hidden": true
   },
   "outputs": [],
   "source": [
    "def dummy_data_complex_sine_like(length):\n",
    "    DummyBehaviour = namedtuple('DummyBehaviour', 'type amplitude fraction frequency')\n",
    "    _dummy_behaviours_ = [\n",
    "        ('sinoid', 1., 0.1, 2),\n",
    "        ('flat', 0, 0.2, 0),\n",
    "        ('sinoid', 1., 0.2, 3),\n",
    "        ('sinoid', 1., 0.1, 5),\n",
    "        ('flat', 1., 0.2, 0),\n",
    "        ('sinoid', .5, .2, 3)\n",
    "    ]\n",
    "\n",
    "    assert np.array(_dummy_behaviours_)[:, 2].astype(np.float).sum() == 1., \"I don't know how to split the time duration with the given fractions\"\n",
    "\n",
    "    _dummy_behaviours_ = [DummyBehaviour(*db) for db in _dummy_behaviours_]\n",
    "    \n",
    "    cur_idx = 0\n",
    "    nb_frames = length\n",
    "\n",
    "    _new_frames_ = np.zeros(nb_frames)\n",
    "\n",
    "    for db in _dummy_behaviours_:\n",
    "        cur_idx_end = np.int(nb_frames * db.fraction + cur_idx)\n",
    "        if db.type == 'sinoid':\n",
    "            _new_frames_[cur_idx: cur_idx_end] = db.amplitude * np.sin(np.pi * np.linspace(0, 2, cur_idx_end - cur_idx) * db.frequency)\n",
    "        elif db.type == 'flat':\n",
    "            for frame in range(cur_idx, cur_idx_end):\n",
    "                _new_frames_[frame] = db.amplitude\n",
    "\n",
    "        cur_idx = cur_idx_end\n",
    "        \n",
    "    return _new_frames_"
   ]
  },
  {
   "cell_type": "code",
   "execution_count": 17,
   "metadata": {
    "ExecuteTime": {
     "end_time": "2019-06-07T11:55:20.820425Z",
     "start_time": "2019-06-07T11:55:20.697718Z"
    },
    "code_folding": [
     0
    ],
    "hidden": true
   },
   "outputs": [
    {
     "name": "stdout",
     "output_type": "stream",
     "text": [
      "train\n"
     ]
    },
    {
     "name": "stderr",
     "output_type": "stream",
     "text": [
      "/home/samuel/.conda/envs/tf_nightly/lib/python3.7/site-packages/ipykernel_launcher.py:24: UserWarning: this is not proper, fix the bugs here\n"
     ]
    },
    {
     "data": {
      "text/html": [
       "<div>\n",
       "<style scoped>\n",
       "    .dataframe tbody tr th:only-of-type {\n",
       "        vertical-align: middle;\n",
       "    }\n",
       "\n",
       "    .dataframe tbody tr th {\n",
       "        vertical-align: top;\n",
       "    }\n",
       "\n",
       "    .dataframe thead th {\n",
       "        text-align: right;\n",
       "    }\n",
       "</style>\n",
       "<table border=\"1\" class=\"dataframe\">\n",
       "  <thead>\n",
       "    <tr style=\"text-align: right;\">\n",
       "      <th></th>\n",
       "      <th>0</th>\n",
       "      <th>1</th>\n",
       "      <th>2</th>\n",
       "      <th>3</th>\n",
       "      <th>4</th>\n",
       "      <th>5</th>\n",
       "      <th>6</th>\n",
       "      <th>7</th>\n",
       "      <th>8</th>\n",
       "      <th>9</th>\n",
       "      <th>10</th>\n",
       "      <th>11</th>\n",
       "      <th>12</th>\n",
       "      <th>13</th>\n",
       "      <th>14</th>\n",
       "      <th>15</th>\n",
       "      <th>16</th>\n",
       "      <th>17</th>\n",
       "    </tr>\n",
       "  </thead>\n",
       "  <tbody>\n",
       "    <tr>\n",
       "      <th>count</th>\n",
       "      <td>1070.000000</td>\n",
       "      <td>1070.000000</td>\n",
       "      <td>1070.000000</td>\n",
       "      <td>1070.000000</td>\n",
       "      <td>1070.000000</td>\n",
       "      <td>1070.000000</td>\n",
       "      <td>1070.000000</td>\n",
       "      <td>1070.000000</td>\n",
       "      <td>1070.000000</td>\n",
       "      <td>1070.000000</td>\n",
       "      <td>1070.000000</td>\n",
       "      <td>1070.000000</td>\n",
       "      <td>1070.000000</td>\n",
       "      <td>1070.000000</td>\n",
       "      <td>1070.000000</td>\n",
       "      <td>1070.000000</td>\n",
       "      <td>1070.000000</td>\n",
       "      <td>1070.000000</td>\n",
       "    </tr>\n",
       "    <tr>\n",
       "      <th>mean</th>\n",
       "      <td>-0.086747</td>\n",
       "      <td>-0.086747</td>\n",
       "      <td>-0.086747</td>\n",
       "      <td>-0.086747</td>\n",
       "      <td>-0.086747</td>\n",
       "      <td>-0.086747</td>\n",
       "      <td>-0.086747</td>\n",
       "      <td>-0.086747</td>\n",
       "      <td>-0.086747</td>\n",
       "      <td>-0.086747</td>\n",
       "      <td>-0.086747</td>\n",
       "      <td>-0.086747</td>\n",
       "      <td>-0.086747</td>\n",
       "      <td>-0.086747</td>\n",
       "      <td>-0.086747</td>\n",
       "      <td>-0.086747</td>\n",
       "      <td>-0.086747</td>\n",
       "      <td>-0.086747</td>\n",
       "    </tr>\n",
       "    <tr>\n",
       "      <th>std</th>\n",
       "      <td>1.036680</td>\n",
       "      <td>1.036680</td>\n",
       "      <td>1.036680</td>\n",
       "      <td>1.036680</td>\n",
       "      <td>1.036680</td>\n",
       "      <td>1.036680</td>\n",
       "      <td>1.036680</td>\n",
       "      <td>1.036680</td>\n",
       "      <td>1.036680</td>\n",
       "      <td>1.036680</td>\n",
       "      <td>1.036680</td>\n",
       "      <td>1.036680</td>\n",
       "      <td>1.036680</td>\n",
       "      <td>1.036680</td>\n",
       "      <td>1.036680</td>\n",
       "      <td>1.036680</td>\n",
       "      <td>1.036680</td>\n",
       "      <td>1.036680</td>\n",
       "    </tr>\n",
       "    <tr>\n",
       "      <th>min</th>\n",
       "      <td>-1.938527</td>\n",
       "      <td>-1.938527</td>\n",
       "      <td>-1.938527</td>\n",
       "      <td>-1.938527</td>\n",
       "      <td>-1.938527</td>\n",
       "      <td>-1.938527</td>\n",
       "      <td>-1.938527</td>\n",
       "      <td>-1.938527</td>\n",
       "      <td>-1.938527</td>\n",
       "      <td>-1.938527</td>\n",
       "      <td>-1.938527</td>\n",
       "      <td>-1.938527</td>\n",
       "      <td>-1.938527</td>\n",
       "      <td>-1.938527</td>\n",
       "      <td>-1.938527</td>\n",
       "      <td>-1.938527</td>\n",
       "      <td>-1.938527</td>\n",
       "      <td>-1.938527</td>\n",
       "    </tr>\n",
       "    <tr>\n",
       "      <th>25%</th>\n",
       "      <td>-0.619495</td>\n",
       "      <td>-0.619495</td>\n",
       "      <td>-0.619495</td>\n",
       "      <td>-0.619495</td>\n",
       "      <td>-0.619495</td>\n",
       "      <td>-0.619495</td>\n",
       "      <td>-0.619495</td>\n",
       "      <td>-0.619495</td>\n",
       "      <td>-0.619495</td>\n",
       "      <td>-0.619495</td>\n",
       "      <td>-0.619495</td>\n",
       "      <td>-0.619495</td>\n",
       "      <td>-0.619495</td>\n",
       "      <td>-0.619495</td>\n",
       "      <td>-0.619495</td>\n",
       "      <td>-0.619495</td>\n",
       "      <td>-0.619495</td>\n",
       "      <td>-0.619495</td>\n",
       "    </tr>\n",
       "    <tr>\n",
       "      <th>50%</th>\n",
       "      <td>-0.322562</td>\n",
       "      <td>-0.322562</td>\n",
       "      <td>-0.322562</td>\n",
       "      <td>-0.322562</td>\n",
       "      <td>-0.322562</td>\n",
       "      <td>-0.322562</td>\n",
       "      <td>-0.322562</td>\n",
       "      <td>-0.322562</td>\n",
       "      <td>-0.322562</td>\n",
       "      <td>-0.322562</td>\n",
       "      <td>-0.322562</td>\n",
       "      <td>-0.322562</td>\n",
       "      <td>-0.322562</td>\n",
       "      <td>-0.322562</td>\n",
       "      <td>-0.322562</td>\n",
       "      <td>-0.322562</td>\n",
       "      <td>-0.322562</td>\n",
       "      <td>-0.322562</td>\n",
       "    </tr>\n",
       "    <tr>\n",
       "      <th>75%</th>\n",
       "      <td>1.030269</td>\n",
       "      <td>1.030269</td>\n",
       "      <td>1.030269</td>\n",
       "      <td>1.030269</td>\n",
       "      <td>1.030269</td>\n",
       "      <td>1.030269</td>\n",
       "      <td>1.030269</td>\n",
       "      <td>1.030269</td>\n",
       "      <td>1.030269</td>\n",
       "      <td>1.030269</td>\n",
       "      <td>1.030269</td>\n",
       "      <td>1.030269</td>\n",
       "      <td>1.030269</td>\n",
       "      <td>1.030269</td>\n",
       "      <td>1.030269</td>\n",
       "      <td>1.030269</td>\n",
       "      <td>1.030269</td>\n",
       "      <td>1.030269</td>\n",
       "    </tr>\n",
       "    <tr>\n",
       "      <th>max</th>\n",
       "      <td>1.293402</td>\n",
       "      <td>1.293402</td>\n",
       "      <td>1.293402</td>\n",
       "      <td>1.293402</td>\n",
       "      <td>1.293402</td>\n",
       "      <td>1.293402</td>\n",
       "      <td>1.293402</td>\n",
       "      <td>1.293402</td>\n",
       "      <td>1.293402</td>\n",
       "      <td>1.293402</td>\n",
       "      <td>1.293402</td>\n",
       "      <td>1.293402</td>\n",
       "      <td>1.293402</td>\n",
       "      <td>1.293402</td>\n",
       "      <td>1.293402</td>\n",
       "      <td>1.293402</td>\n",
       "      <td>1.293402</td>\n",
       "      <td>1.293402</td>\n",
       "    </tr>\n",
       "  </tbody>\n",
       "</table>\n",
       "</div>"
      ],
      "text/plain": [
       "                0            1            2            3            4   \\\n",
       "count  1070.000000  1070.000000  1070.000000  1070.000000  1070.000000   \n",
       "mean     -0.086747    -0.086747    -0.086747    -0.086747    -0.086747   \n",
       "std       1.036680     1.036680     1.036680     1.036680     1.036680   \n",
       "min      -1.938527    -1.938527    -1.938527    -1.938527    -1.938527   \n",
       "25%      -0.619495    -0.619495    -0.619495    -0.619495    -0.619495   \n",
       "50%      -0.322562    -0.322562    -0.322562    -0.322562    -0.322562   \n",
       "75%       1.030269     1.030269     1.030269     1.030269     1.030269   \n",
       "max       1.293402     1.293402     1.293402     1.293402     1.293402   \n",
       "\n",
       "                5            6            7            8            9   \\\n",
       "count  1070.000000  1070.000000  1070.000000  1070.000000  1070.000000   \n",
       "mean     -0.086747    -0.086747    -0.086747    -0.086747    -0.086747   \n",
       "std       1.036680     1.036680     1.036680     1.036680     1.036680   \n",
       "min      -1.938527    -1.938527    -1.938527    -1.938527    -1.938527   \n",
       "25%      -0.619495    -0.619495    -0.619495    -0.619495    -0.619495   \n",
       "50%      -0.322562    -0.322562    -0.322562    -0.322562    -0.322562   \n",
       "75%       1.030269     1.030269     1.030269     1.030269     1.030269   \n",
       "max       1.293402     1.293402     1.293402     1.293402     1.293402   \n",
       "\n",
       "                10           11           12           13           14  \\\n",
       "count  1070.000000  1070.000000  1070.000000  1070.000000  1070.000000   \n",
       "mean     -0.086747    -0.086747    -0.086747    -0.086747    -0.086747   \n",
       "std       1.036680     1.036680     1.036680     1.036680     1.036680   \n",
       "min      -1.938527    -1.938527    -1.938527    -1.938527    -1.938527   \n",
       "25%      -0.619495    -0.619495    -0.619495    -0.619495    -0.619495   \n",
       "50%      -0.322562    -0.322562    -0.322562    -0.322562    -0.322562   \n",
       "75%       1.030269     1.030269     1.030269     1.030269     1.030269   \n",
       "max       1.293402     1.293402     1.293402     1.293402     1.293402   \n",
       "\n",
       "                15           16           17  \n",
       "count  1070.000000  1070.000000  1070.000000  \n",
       "mean     -0.086747    -0.086747    -0.086747  \n",
       "std       1.036680     1.036680     1.036680  \n",
       "min      -1.938527    -1.938527    -1.938527  \n",
       "25%      -0.619495    -0.619495    -0.619495  \n",
       "50%      -0.322562    -0.322562    -0.322562  \n",
       "75%       1.030269     1.030269     1.030269  \n",
       "max       1.293402     1.293402     1.293402  "
      ]
     },
     "metadata": {},
     "output_type": "display_data"
    },
    {
     "name": "stdout",
     "output_type": "stream",
     "text": [
      "test\n"
     ]
    },
    {
     "data": {
      "text/html": [
       "<div>\n",
       "<style scoped>\n",
       "    .dataframe tbody tr th:only-of-type {\n",
       "        vertical-align: middle;\n",
       "    }\n",
       "\n",
       "    .dataframe tbody tr th {\n",
       "        vertical-align: top;\n",
       "    }\n",
       "\n",
       "    .dataframe thead th {\n",
       "        text-align: right;\n",
       "    }\n",
       "</style>\n",
       "<table border=\"1\" class=\"dataframe\">\n",
       "  <thead>\n",
       "    <tr style=\"text-align: right;\">\n",
       "      <th></th>\n",
       "      <th>0</th>\n",
       "      <th>1</th>\n",
       "      <th>2</th>\n",
       "      <th>3</th>\n",
       "      <th>4</th>\n",
       "      <th>5</th>\n",
       "      <th>6</th>\n",
       "      <th>7</th>\n",
       "      <th>8</th>\n",
       "      <th>9</th>\n",
       "      <th>10</th>\n",
       "      <th>11</th>\n",
       "      <th>12</th>\n",
       "      <th>13</th>\n",
       "      <th>14</th>\n",
       "      <th>15</th>\n",
       "      <th>16</th>\n",
       "      <th>17</th>\n",
       "    </tr>\n",
       "  </thead>\n",
       "  <tbody>\n",
       "    <tr>\n",
       "      <th>count</th>\n",
       "      <td>459.000000</td>\n",
       "      <td>459.000000</td>\n",
       "      <td>459.000000</td>\n",
       "      <td>459.000000</td>\n",
       "      <td>459.000000</td>\n",
       "      <td>459.000000</td>\n",
       "      <td>459.000000</td>\n",
       "      <td>459.000000</td>\n",
       "      <td>459.000000</td>\n",
       "      <td>459.000000</td>\n",
       "      <td>459.000000</td>\n",
       "      <td>459.000000</td>\n",
       "      <td>459.000000</td>\n",
       "      <td>459.000000</td>\n",
       "      <td>459.000000</td>\n",
       "      <td>459.000000</td>\n",
       "      <td>459.000000</td>\n",
       "      <td>459.000000</td>\n",
       "    </tr>\n",
       "    <tr>\n",
       "      <th>mean</th>\n",
       "      <td>0.198489</td>\n",
       "      <td>0.198489</td>\n",
       "      <td>0.198489</td>\n",
       "      <td>0.198489</td>\n",
       "      <td>0.198489</td>\n",
       "      <td>0.198489</td>\n",
       "      <td>0.198489</td>\n",
       "      <td>0.198489</td>\n",
       "      <td>0.198489</td>\n",
       "      <td>0.198489</td>\n",
       "      <td>0.198489</td>\n",
       "      <td>0.198489</td>\n",
       "      <td>0.198489</td>\n",
       "      <td>0.198489</td>\n",
       "      <td>0.198489</td>\n",
       "      <td>0.198489</td>\n",
       "      <td>0.198489</td>\n",
       "      <td>0.198489</td>\n",
       "    </tr>\n",
       "    <tr>\n",
       "      <th>std</th>\n",
       "      <td>0.888729</td>\n",
       "      <td>0.888729</td>\n",
       "      <td>0.888729</td>\n",
       "      <td>0.888729</td>\n",
       "      <td>0.888729</td>\n",
       "      <td>0.888729</td>\n",
       "      <td>0.888729</td>\n",
       "      <td>0.888729</td>\n",
       "      <td>0.888729</td>\n",
       "      <td>0.888729</td>\n",
       "      <td>0.888729</td>\n",
       "      <td>0.888729</td>\n",
       "      <td>0.888729</td>\n",
       "      <td>0.888729</td>\n",
       "      <td>0.888729</td>\n",
       "      <td>0.888729</td>\n",
       "      <td>0.888729</td>\n",
       "      <td>0.888729</td>\n",
       "    </tr>\n",
       "    <tr>\n",
       "      <th>min</th>\n",
       "      <td>-1.130161</td>\n",
       "      <td>-1.130161</td>\n",
       "      <td>-1.130161</td>\n",
       "      <td>-1.130161</td>\n",
       "      <td>-1.130161</td>\n",
       "      <td>-1.130161</td>\n",
       "      <td>-1.130161</td>\n",
       "      <td>-1.130161</td>\n",
       "      <td>-1.130161</td>\n",
       "      <td>-1.130161</td>\n",
       "      <td>-1.130161</td>\n",
       "      <td>-1.130161</td>\n",
       "      <td>-1.130161</td>\n",
       "      <td>-1.130161</td>\n",
       "      <td>-1.130161</td>\n",
       "      <td>-1.130161</td>\n",
       "      <td>-1.130161</td>\n",
       "      <td>-1.130161</td>\n",
       "    </tr>\n",
       "    <tr>\n",
       "      <th>25%</th>\n",
       "      <td>-0.614439</td>\n",
       "      <td>-0.614439</td>\n",
       "      <td>-0.614439</td>\n",
       "      <td>-0.614439</td>\n",
       "      <td>-0.614439</td>\n",
       "      <td>-0.614439</td>\n",
       "      <td>-0.614439</td>\n",
       "      <td>-0.614439</td>\n",
       "      <td>-0.614439</td>\n",
       "      <td>-0.614439</td>\n",
       "      <td>-0.614439</td>\n",
       "      <td>-0.614439</td>\n",
       "      <td>-0.614439</td>\n",
       "      <td>-0.614439</td>\n",
       "      <td>-0.614439</td>\n",
       "      <td>-0.614439</td>\n",
       "      <td>-0.614439</td>\n",
       "      <td>-0.614439</td>\n",
       "    </tr>\n",
       "    <tr>\n",
       "      <th>50%</th>\n",
       "      <td>0.221772</td>\n",
       "      <td>0.221772</td>\n",
       "      <td>0.221772</td>\n",
       "      <td>0.221772</td>\n",
       "      <td>0.221772</td>\n",
       "      <td>0.221772</td>\n",
       "      <td>0.221772</td>\n",
       "      <td>0.221772</td>\n",
       "      <td>0.221772</td>\n",
       "      <td>0.221772</td>\n",
       "      <td>0.221772</td>\n",
       "      <td>0.221772</td>\n",
       "      <td>0.221772</td>\n",
       "      <td>0.221772</td>\n",
       "      <td>0.221772</td>\n",
       "      <td>0.221772</td>\n",
       "      <td>0.221772</td>\n",
       "      <td>0.221772</td>\n",
       "    </tr>\n",
       "    <tr>\n",
       "      <th>75%</th>\n",
       "      <td>1.293402</td>\n",
       "      <td>1.293402</td>\n",
       "      <td>1.293402</td>\n",
       "      <td>1.293402</td>\n",
       "      <td>1.293402</td>\n",
       "      <td>1.293402</td>\n",
       "      <td>1.293402</td>\n",
       "      <td>1.293402</td>\n",
       "      <td>1.293402</td>\n",
       "      <td>1.293402</td>\n",
       "      <td>1.293402</td>\n",
       "      <td>1.293402</td>\n",
       "      <td>1.293402</td>\n",
       "      <td>1.293402</td>\n",
       "      <td>1.293402</td>\n",
       "      <td>1.293402</td>\n",
       "      <td>1.293402</td>\n",
       "      <td>1.293402</td>\n",
       "    </tr>\n",
       "    <tr>\n",
       "      <th>max</th>\n",
       "      <td>1.293402</td>\n",
       "      <td>1.293402</td>\n",
       "      <td>1.293402</td>\n",
       "      <td>1.293402</td>\n",
       "      <td>1.293402</td>\n",
       "      <td>1.293402</td>\n",
       "      <td>1.293402</td>\n",
       "      <td>1.293402</td>\n",
       "      <td>1.293402</td>\n",
       "      <td>1.293402</td>\n",
       "      <td>1.293402</td>\n",
       "      <td>1.293402</td>\n",
       "      <td>1.293402</td>\n",
       "      <td>1.293402</td>\n",
       "      <td>1.293402</td>\n",
       "      <td>1.293402</td>\n",
       "      <td>1.293402</td>\n",
       "      <td>1.293402</td>\n",
       "    </tr>\n",
       "  </tbody>\n",
       "</table>\n",
       "</div>"
      ],
      "text/plain": [
       "               0           1           2           3           4           5   \\\n",
       "count  459.000000  459.000000  459.000000  459.000000  459.000000  459.000000   \n",
       "mean     0.198489    0.198489    0.198489    0.198489    0.198489    0.198489   \n",
       "std      0.888729    0.888729    0.888729    0.888729    0.888729    0.888729   \n",
       "min     -1.130161   -1.130161   -1.130161   -1.130161   -1.130161   -1.130161   \n",
       "25%     -0.614439   -0.614439   -0.614439   -0.614439   -0.614439   -0.614439   \n",
       "50%      0.221772    0.221772    0.221772    0.221772    0.221772    0.221772   \n",
       "75%      1.293402    1.293402    1.293402    1.293402    1.293402    1.293402   \n",
       "max      1.293402    1.293402    1.293402    1.293402    1.293402    1.293402   \n",
       "\n",
       "               6           7           8           9           10          11  \\\n",
       "count  459.000000  459.000000  459.000000  459.000000  459.000000  459.000000   \n",
       "mean     0.198489    0.198489    0.198489    0.198489    0.198489    0.198489   \n",
       "std      0.888729    0.888729    0.888729    0.888729    0.888729    0.888729   \n",
       "min     -1.130161   -1.130161   -1.130161   -1.130161   -1.130161   -1.130161   \n",
       "25%     -0.614439   -0.614439   -0.614439   -0.614439   -0.614439   -0.614439   \n",
       "50%      0.221772    0.221772    0.221772    0.221772    0.221772    0.221772   \n",
       "75%      1.293402    1.293402    1.293402    1.293402    1.293402    1.293402   \n",
       "max      1.293402    1.293402    1.293402    1.293402    1.293402    1.293402   \n",
       "\n",
       "               12          13          14          15          16          17  \n",
       "count  459.000000  459.000000  459.000000  459.000000  459.000000  459.000000  \n",
       "mean     0.198489    0.198489    0.198489    0.198489    0.198489    0.198489  \n",
       "std      0.888729    0.888729    0.888729    0.888729    0.888729    0.888729  \n",
       "min     -1.130161   -1.130161   -1.130161   -1.130161   -1.130161   -1.130161  \n",
       "25%     -0.614439   -0.614439   -0.614439   -0.614439   -0.614439   -0.614439  \n",
       "50%      0.221772    0.221772    0.221772    0.221772    0.221772    0.221772  \n",
       "75%      1.293402    1.293402    1.293402    1.293402    1.293402    1.293402  \n",
       "max      1.293402    1.293402    1.293402    1.293402    1.293402    1.293402  "
      ]
     },
     "metadata": {},
     "output_type": "display_data"
    },
    {
     "name": "stdout",
     "output_type": "stream",
     "text": [
      "shapes for train/test: (1070, 10, 18), (459, 10, 18)\n"
     ]
    }
   ],
   "source": [
    "# full preprocessing pipeline\n",
    "\n",
    "def _to_time_series_(x):\n",
    "    return np.array(list(misc.to_time_series(x, sequence_length=run_config['time_series_length'])))\n",
    "\n",
    "def _prep_2d_pos_data_(x):\n",
    "    return x[:,:,:2].reshape(x.shape[0], -1).astype(np.float32)\n",
    "\n",
    "# scaling the data to be in [0, 1]\n",
    "# this is due to the sigmoid activation function in the reconstruction (and because ANN train better with normalised data) (which it is not...)\n",
    "#scaler = MinMaxScaler()\n",
    "scaler = StandardScaler()\n",
    "\n",
    "#\n",
    "# reshapping the data \n",
    "#\n",
    "\n",
    "# TODO bring this in order! (or in better order)\n",
    "\n",
    "if run_config['use_time_series']:\n",
    "    # it's the shitty logical combination of these values\n",
    "    # TODO the scaling should be learned on the training data only, but this is a bit tricky due to how we do the time-sequences\n",
    "    # TODO right now the training and testing data are just concatenated time-sequences, experiment overlapping. which is bad.\n",
    "    warnings.warn('this is not proper, fix the bugs here')\n",
    "    if run_config['data_type'] == _DATA_TYPE_2D_POS_:\n",
    "        reshaped_joint_position = scaler.fit_transform(_prep_2d_pos_data_(joint_positions))\n",
    "    else:\n",
    "        reshaped_joint_position = scaler.fit_transform(joint_positions)\n",
    "        \n",
    "    reshaped_joint_position = _to_time_series_(reshaped_joint_position)\n",
    "else:\n",
    "    if run_config['data_type'] == _DATA_TYPE_2D_POS_:\n",
    "        # angle data is already flat\n",
    "        reshaped_joint_position = _prep_2d_pos_data_(joint_positions)\n",
    "    else:\n",
    "        reshaped_joint_position = joint_positions\n",
    "\n",
    "#\n",
    "# debugging overwrite\n",
    "#\n",
    "    \n",
    "if run_config['debug']:\n",
    "    if run_config['d_zero_data']:\n",
    "        # resetting the scaler to make our life easier down below the pipeline\n",
    "        _dummy_data_ = np.zeros_like(joint_positions)\n",
    "    elif run_config['d_sinoid_data']:\n",
    "        if run_config['data_type'] == _DATA_TYPE_2D_POS_:\n",
    "            _dummy_data_ = np.zeros_like(joint_positions)\n",
    "            for frame in range(_dummy_data_.shape[0]):\n",
    "                for joint in range(_dummy_data_.shape[1]):\n",
    "                    _dummy_data_[frame, joint, :] = np.sin(2 * np.pi * frame/_dummy_data_.shape[0] + joint / _dummy_data_.shape[1])\n",
    "                \n",
    "        else:\n",
    "            _dummy_data_ = np.array([[np.sin(x) + (offset / joint_positions.shape[1]) \n",
    "                                      for x in range(len(joint_positions))] \n",
    "                                     for offset in range(joint_positions.shape[1])]).T.astype(joint_positions.dtype)\n",
    "    elif run_config['d_sinoid_cluster_data']:\n",
    "        if run_config['data_type'] == _DATA_TYPE_2D_POS_:\n",
    "            raise NotImplementedError\n",
    "        else:\n",
    "            _dummy_data_ = np.zeros_like(joint_positions)\n",
    "            for c in range(_dummy_data_.shape[1]):\n",
    "                _dummy_data_[:, c] = dummy_data_complex_sine_like(_dummy_data_.shape[0])\n",
    "            \n",
    "            \n",
    "    if run_config['data_type'] == _DATA_TYPE_2D_POS_:\n",
    "        _dummy_data_ = _prep_2d_pos_data_(_dummy_data_)\n",
    "        \n",
    "    if run_config['use_time_series']:\n",
    "        reshaped_joint_position = scaler.fit_transform(_dummy_data_)\n",
    "        reshaped_joint_position = _to_time_series_(reshaped_joint_position)\n",
    "    else:\n",
    "        reshaped_joint_position = _dummy_data_\n",
    "\n",
    "#\n",
    "# split and apply scaler\n",
    "#\n",
    "\n",
    "if reshaped_joint_position.shape[0] > 10**5:\n",
    "    n_of_data_points = int(reshaped_joint_position.shape[0] * 0.9)\n",
    "else:\n",
    "    n_of_data_points = int(reshaped_joint_position.shape[0] * 0.7)\n",
    "\n",
    "if run_config['use_time_series']:\n",
    "    data_train = reshaped_joint_position[:n_of_data_points]\n",
    "    data_test = reshaped_joint_position[n_of_data_points:]\n",
    "    print('train')\n",
    "    display.display(pd.DataFrame(data_train[:, -1, :]).describe())\n",
    "    print('test')\n",
    "    display.display(pd.DataFrame(data_test[:, -1, :]).describe())\n",
    "else:\n",
    "    data_train = scaler.fit_transform(reshaped_joint_position[:n_of_data_points])\n",
    "    data_test = scaler.transform(reshaped_joint_position[n_of_data_points:])\n",
    "    print('train')\n",
    "    display.display(pd.DataFrame(data_train).describe())\n",
    "    print('test')\n",
    "    display.display(pd.DataFrame(data_test).describe())\n",
    "    \n",
    "print(f\"shapes for train/test: {data_train.shape}, {data_test.shape}\")"
   ]
  },
  {
   "cell_type": "code",
   "execution_count": 18,
   "metadata": {
    "ExecuteTime": {
     "end_time": "2019-06-07T11:55:22.614310Z",
     "start_time": "2019-06-07T11:55:20.821569Z"
    },
    "hidden": true
   },
   "outputs": [
    {
     "data": {
      "image/png": "[encoded data removed]",
      "text/plain": [
       "<Figure size 720x432 with 12 Axes>"
      ]
     },
     "metadata": {
      "needs_background": "light"
     },
     "output_type": "display_data"
    }
   ],
   "source": [
    "reload(plots)\n",
    "#\n",
    "# Making sure that the train/test distributions are not too different from each other\n",
    "#\n",
    "if run_config['use_time_series']:\n",
    "    _plt_data_idx_ = np.s_[:, -1, :]\n",
    "else:\n",
    "    _plt_data_idx_ = np.s_[:]\n",
    "    \n",
    "if run_config['data_type'] == _DATA_TYPE_3D_ANGLE_:\n",
    "    fig = plots.plot_3d_angle_data_distribution(data_train[_plt_data_idx_], data_test[_plt_data_idx_], selected_cols, exp_desc=config.config_description(run_config))\n",
    "else:\n",
    "    fig = plots.plot_2d_distribution(data_train[_plt_data_idx_], data_test[_plt_data_idx_], exp_desc=config.config_description(run_config))"
   ]
  },
  {
   "cell_type": "markdown",
   "metadata": {
    "colab_type": "text",
    "hidden": true,
    "id": "PIGN6ouoQxt3"
   },
   "source": [
    "## Use *tf.data* to create batches and shuffle the dataset"
   ]
  },
  {
   "cell_type": "code",
   "execution_count": 19,
   "metadata": {
    "ExecuteTime": {
     "end_time": "2019-06-07T11:55:22.651090Z",
     "start_time": "2019-06-07T11:55:22.615437Z"
    },
    "colab": {
     "autoexec": {
      "startup": false,
      "wait_interval": 0
     }
    },
    "colab_type": "code",
    "hidden": true,
    "id": "S4PIDhoDLbsZ"
   },
   "outputs": [],
   "source": [
    "def to_tf_data(X):\n",
    "    return tf.data.Dataset.from_tensor_slices(X).shuffle(len(X)).batch(run_config['batch_size'])\n",
    "\n",
    "train_dataset = to_tf_data(data_train)\n",
    "test_dataset = to_tf_data(data_test) "
   ]
  },
  {
   "cell_type": "markdown",
   "metadata": {
    "colab_type": "text",
    "id": "THY-sZMiQ4UV"
   },
   "source": [
    "# model def"
   ]
  },
  {
   "cell_type": "markdown",
   "metadata": {
    "heading_collapsed": true
   },
   "source": [
    "## doc"
   ]
  },
  {
   "cell_type": "markdown",
   "metadata": {
    "hidden": true
   },
   "source": [
    "### Sources:\n",
    "\n",
    "- https://blog.keras.io/building-autoencoders-in-keras.html (keras autoencoder implementation)\n",
    "- https://medium.com/the-artificial-impostor/notes-understanding-tensorflow-part-3-7f6633fcc7c7 (temporal block)\n",
    "- https://stackoverflow.com/questions/46503816/keras-conv1d-layer-parameters-filters-and-kernel-size (refresher on conv layers)\n",
    "- https://towardsdatascience.com/types-of-convolutions-in-deep-learning-717013397f4d (refresher on conv layers)\n",
    "- https://jeddy92.github.io/JEddy92.github.io/ts_seq2seq_conv/ (for a good overview over diluted causal convolutions)\n",
    "- https://blog.goodaudience.com/introduction-to-1d-convolutional-neural-networks-in-keras-for-time-sequences-3a7ff801a2cf?gi=c5cb3c007035 (general reference)\n",
    "- https://medium.com/tensorflow/variational-autoencoders-with-tensorflow-probability-layers-d06c658931b7 (VAE with tensorflow probability)"
   ]
  },
  {
   "cell_type": "markdown",
   "metadata": {
    "ExecuteTime": {
     "end_time": "2019-05-10T13:12:53.469656Z",
     "start_time": "2019-05-10T13:12:53.444967Z"
    },
    "hidden": true
   },
   "source": [
    "### Generative Network\n",
    "This defines the generative model which takes a latent encoding as input, and outputs the parameters for a conditional distribution of the observation, i.e. $p(x|z)$. Additionally, we use a unit Gaussian prior $p(z)$ for the latent variable.\n",
    "\n",
    "### Inference Network\n",
    "This defines an approximate posterior distribution $q(z|x)$, which takes as input an observation and outputs a set of parameters for the conditional distribution of the latent representation. In this example, we simply model this distribution as a diagonal Gaussian. In this case, the inference network outputs the mean and log-variance parameters of a factorized Gaussian (log-variance instead of the variance directly is for numerical stability).\n",
    "\n",
    "### Reparameterization Trick\n",
    "During optimization, we can sample from $q(z|x)$ by first sampling from a unit Gaussian, and then multiplying by the standard deviation and adding the mean. This ensures the gradients could pass through the sample to the inference network parameters.\n",
    "\n",
    "### Network architecture\n",
    "For the inference network, we use two convolutional layers followed by a fully-connected layer. In the generative network, we mirror this architecture by using a fully-connected layer followed by three convolution transpose layers (a.k.a. deconvolutional layers in some contexts). Note, it's common practice to avoid using batch normalization when training VAEs, since the additional stochasticity due to using mini-batches may aggravate instability on top of the stochasticity from sampling.\n",
    "\n",
    "The dilated convolution between signal $f$ and kernel $k$ and dilution factor $l$ is defined as:\n",
    "\n",
    "$$\\left(k \\ast_{l} f\\right)_t = \\sum_{\\tau=-\\infty}^{\\infty} k_\\tau \\cdot f_{t - l\\tau}$$\n",
    "\n",
    "![](./figures/diluted_convolution.png)\n",
    "![](./figures/WaveNet_gif.gif)"
   ]
  },
  {
   "cell_type": "markdown",
   "metadata": {
    "hidden": true
   },
   "source": [
    "VAEs train by maximizing the evidence lower bound (ELBO) on the marginal log-likelihood:\n",
    "\n",
    "$$\\log p(x) \\ge \\text{ELBO} = \\mathbb{E}_{q(z|x)}\\left[\\log \\frac{p(x, z)}{q(z|x)}\\right].$$\n",
    "\n",
    "In practice, we optimize the single sample Monte Carlo estimate of this expectation:\n",
    "\n",
    "$$\\log p(x| z) + \\log p(z) - \\log q(z|x),$$\n",
    "where $z$ is sampled from $q(z|x)$.\n",
    "\n",
    "**Note**: we could also analytically compute the KL term, but here we incorporate all three terms in the Monte Carlo estimator for simplicity."
   ]
  },
  {
   "cell_type": "code",
   "execution_count": 20,
   "metadata": {
    "ExecuteTime": {
     "end_time": "2019-06-07T11:55:22.789864Z",
     "start_time": "2019-06-07T11:55:22.653793Z"
    },
    "hidden": true
   },
   "outputs": [
    {
     "data": {
      "text/plain": [
       "<matplotlib.legend.Legend at 0x7f0a305d44a8>"
      ]
     },
     "execution_count": 20,
     "metadata": {},
     "output_type": "execute_result"
    },
    {
     "data": {
      "image/png": "[encoded data removed]",
      "text/plain": [
       "<Figure size 432x288 with 1 Axes>"
      ]
     },
     "metadata": {
      "needs_background": "light"
     },
     "output_type": "display_data"
    }
   ],
   "source": [
    "def _receptive_field_size_temporal_conv_net_(kernel_size, n_layers):\n",
    "    return 1 + 2 * (kernel_size - 1) * (2 ** n_layers - 1)\n",
    "\n",
    "for k in range(2, 5):\n",
    "    plt.plot([_receptive_field_size_temporal_conv_net_(kernel_size=k, n_layers=n) for n in range(10)], label=f\"kernel size: {k}\")\n",
    "plt.xlabel('number of layers')\n",
    "plt.ylabel('receptive field size')\n",
    "plt.legend()"
   ]
  },
  {
   "cell_type": "markdown",
   "metadata": {},
   "source": [
    "## code"
   ]
  },
  {
   "cell_type": "code",
   "execution_count": 21,
   "metadata": {
    "ExecuteTime": {
     "end_time": "2019-06-07T11:55:22.797860Z",
     "start_time": "2019-06-07T11:55:22.791033Z"
    },
    "code_folding": [
     0
    ]
   },
   "outputs": [],
   "source": [
    "class TemporalBlock(tfkl.Layer):\n",
    "    def __init__(self, filter_size, kernel_size, dilation_rate, dropout=0.2, trainable=True, name=None, dtype=None, activity_regularizer=None, **kwargs):\n",
    "        \"\"\"\n",
    "        In the dilated convolution, the kernel only touches the signal at every lth entry \n",
    "        See https://www.inference.vc/dilated-convolutions-and-kronecker-factorisation/ (some bugs fixed and code adapted to our use case)\n",
    "        \"\"\"\n",
    "        super(TemporalBlock, self).__init__(\n",
    "            trainable=trainable, dtype=dtype,\n",
    "            activity_regularizer=activity_regularizer,\n",
    "            name=name, **kwargs)        \n",
    "        self.dropout = dropout\n",
    "        self.filter_size = filter_size\n",
    "        causal_conv_args = {\"padding\": \"causal\",\n",
    "                            \"dilation_rate\": dilation_rate, \n",
    "                            \"activation\": tf.nn.leaky_relu}\n",
    "        self.conv1 = tfkl.Conv1D(filter_size, kernel_size, **causal_conv_args, name=\"conv1\")\n",
    "        self.conv2 = tfkl.Conv1D(filter_size, kernel_size, **causal_conv_args, name=\"conv2\")\n",
    "        self.down_sample = None\n",
    "\n",
    "    \n",
    "    def build(self, input_shape):\n",
    "        channel_dim = -1\n",
    "        # SpatialDropout1D proved to be much better. Original paper: https://arxiv.org/abs/1411.4280\n",
    "        self.dropout1 = tfkl.SpatialDropout1D(self.dropout)\n",
    "        self.dropout2 = tfkl.SpatialDropout1D(self.dropout)\n",
    "        if input_shape[channel_dim] != self.filter_size:\n",
    "            # TODO why not a conv1d layer?\n",
    "            # self.down_sample = tf.layers.Conv1D(\n",
    "            #     self.filter_size, kernel_size=1, \n",
    "            #     activation=None, data_format=\"channels_last\", padding=\"valid\")\n",
    "            self.down_sample = tfkl.Dense(self.filter_size, activation=None)\n",
    "        self.built = True\n",
    "    \n",
    "    def call(self, inputs, training=True):\n",
    "        x = self.conv1(inputs)\n",
    "        x = self.dropout1(x, training=training)\n",
    "        x = self.conv2(x)\n",
    "        x = self.dropout2(x, training=training)\n",
    "        if self.down_sample is not None:\n",
    "            inputs = self.down_sample(inputs)\n",
    "        return tf.nn.relu(x + inputs)"
   ]
  },
  {
   "cell_type": "code",
   "execution_count": 22,
   "metadata": {
    "ExecuteTime": {
     "end_time": "2019-06-07T11:55:22.813803Z",
     "start_time": "2019-06-07T11:55:22.798986Z"
    },
    "code_folding": [
     4,
     11
    ]
   },
   "outputs": [],
   "source": [
    "# build using:\n",
    "#   - https://github.com/tensorflow/tensorflow/blob/r1.13/tensorflow/contrib/eager/python/examples/generative_examples/cvae.ipynb \n",
    "#   - https://www.kaggle.com/hone5com/fraud-detection-with-variational-autoencoder\n",
    "\n",
    "def dense_layers(sizes, activation_fn=tf.nn.leaky_relu, name_prefix=None):\n",
    "    # no activation in the last layer, because either it is \n",
    "    # a) the decoder/generative-layer which will apply a sigmoid activation function itself, or \n",
    "    # b) the encoder/inference-layer which does not need a activation function because ...??? TODO find a reason for this\n",
    "    \n",
    "    return [tfkl.Dense(size, activation=None if is_last else activation_fn, name=f\"{name_prefix}_dense_{idx}\") for idx, is_last, size in if_last(sizes)]\n",
    "\n",
    "def temporal_layers(filter_sizes, kernel_size=2, dropout=0.2):\n",
    "    return [TemporalBlock(filter_size, kernel_size, dilation_rate=2 ** i, dropout=dropout, name=f\"temporal_block_{i}\") for i, filter_size in enumerate(filter_sizes)]\n",
    "\n",
    "class DrosophVAE(tfk.Model):\n",
    "    def __init__(self, latent_dim, input_shape, batch_size, \n",
    "                 n_layers=3, dropout_rate_temporal=0.2, \n",
    "                 loss_weight_reconstruction=1.0, loss_weight_kl=1.0, \n",
    "                 filters_conv_layer=None, conv_layer_kernel_size=2,\n",
    "                 use_wavenet_temporal_layer=True):\n",
    "        \"\"\"\n",
    "        Args:\n",
    "        -----\n",
    "        \n",
    "        latent_dim              int, dimension of latent space\n",
    "        input_shape             tuple, total input shape is: [batch_size, *input_shape]\n",
    "        batch_size              int\n",
    "        n_layers                int, number of dense layers. \n",
    "                                output shape of the dense layers is linearly scaled.\n",
    "        dropout_rate_temporal   float, in [0, 1). dropout rate for temporal blocks (conv layers).\n",
    "        filters_conv_layer      list[int]. filter sizes for conv layers\n",
    "        \"\"\"\n",
    "        super(DrosophVAE, self).__init__()\n",
    "        self.latent_dim = latent_dim\n",
    "        self._input_shape = input_shape\n",
    "        self._batch_size = batch_size\n",
    "        self._loss_weight_reconstruction = loss_weight_reconstruction\n",
    "        self._loss_weight_kl = loss_weight_kl\n",
    "        self._layer_sizes_inference  = np.linspace(input_shape[-1], 2 * latent_dim, n_layers).astype(np.int)\n",
    "        # pseudo reverse as the inference network goes down to double the latent space, ask Semigh about this\n",
    "        # the 2 * n_layers is to keep compression speed roughly the same\n",
    "        self._layer_sizes_generative = np.linspace(latent_dim, input_shape[-1], 2 * n_layers).astype(np.int).tolist()\n",
    "        self._conv_layer_kernel_size = conv_layer_kernel_size\n",
    "        \n",
    "        if use_wavenet_temporal_layer:\n",
    "            # Remember that we do diluted convolutions -> The filter size can stay ~ constant. TODO discuss with Semigh\n",
    "            if filters_conv_layer is None:\n",
    "                # TODO this is probably not correct\n",
    "                self.filters_conv_layer = [input_shape[-1]] * 3\n",
    "            else:\n",
    "                self.filters_conv_layer = filters_conv_layer\n",
    "                \n",
    "            self.temporal_conv_net = tfk.Sequential([tfkl.InputLayer(input_shape=input_shape, name='input_temporal_conv_net'),\n",
    "                                                     *temporal_layers(kernel_size=self._conv_layer_kernel_size, \n",
    "                                                                      filter_sizes=self.filters_conv_layer,  \n",
    "                                                                      dropout=dropout_rate_temporal)],\n",
    "                                                     name='temporal_conv_net')\n",
    "            \n",
    "            inference_input_shape = input_shape\n",
    "            generative_input_shape = list(input_shape[:1]) + [latent_dim]\n",
    "        else:\n",
    "            self.temporal_conv_net = None\n",
    "            inference_input_shape = input_shape[-1]\n",
    "            generative_input_shape = (latent_dim, )\n",
    "            \n",
    "        self.inference_net = tfk.Sequential([tfkl.InputLayer(input_shape=inference_input_shape, name='input_inference_net'),\n",
    "                                                 *dense_layers(self._layer_sizes_inference, name_prefix='inf')],\n",
    "                                                 name='inference_net')\n",
    "            \n",
    "        self.generative_net = tfk.Sequential([tfkl.InputLayer(input_shape=generative_input_shape, name='input_generative_net'),\n",
    "                                                  *dense_layers(self._layer_sizes_generative, name_prefix='gen')],\n",
    "                                                  name='generative_net')\n",
    "    \n",
    "    def sample(self, eps=None):\n",
    "        if eps is None:\n",
    "            if self._loss_weight_kl == 0.0:\n",
    "                warnings.warn('KL loss is 0.0. The latent space is not properly trained')\n",
    "            # The KL-loss is calculated against a normal distribution, \n",
    "            # thus it should resemble one and thus sampling should make sense.\n",
    "            #eps = tf.random_normal(shape=(self._batch_size, self.latent_dim))\n",
    "            eps = tf.random_normal(shape=[self._batch_size] + list(self.generative_net.input_shape[1:]))\n",
    "        return self.decode(eps, apply_sigmoid=False)\n",
    "    \n",
    "    def encode(self, x, training=False):\n",
    "        if self.temporal_conv_net:\n",
    "            # TODO combine them into one? max pooling or something\n",
    "            #x_tmp = tfkl.Lambda(lambda x: x[:, -1, :])(self.temporal_conv_net(x, training=training))\n",
    "            mean, var = tf.split(self.inference_net(self.temporal_conv_net(x, training=training)), \n",
    "                                    num_or_size_splits=2,\n",
    "                                    axis=-1)\n",
    "        else:\n",
    "            mean, var = tf.split(self.inference_net(x),\n",
    "                                    num_or_size_splits=2,\n",
    "                                    axis=1)\n",
    "            \n",
    "        # the variance should be in [0, inf)\n",
    "        var = tf.nn.softplus(var)\n",
    "        return mean, var\n",
    "  \n",
    "    def reparameterize(self, mean, logvar):\n",
    "        # TODO check: the params should be correct? check original paper\n",
    "        eps = tf.random_normal(shape=mean.shape)\n",
    "        return eps * tf.exp(logvar * .5) + mean\n",
    "  \n",
    "    def decode(self, z, apply_sigmoid=False):\n",
    "        logits = self.generative_net(z)\n",
    "        if apply_sigmoid:\n",
    "            probs = tf.sigmoid(logits)\n",
    "            return probs\n",
    "  \n",
    "        return logits\n",
    "\n",
    "    def predict(self, x):\n",
    "        # https://github.com/LynnHo/VAE-Tensorflow/blob/master/train.py\n",
    "        # epsilon = tf.random_normal(tf.shape(z_mu))\n",
    "        # if is_training:\n",
    "        #     z = z_mu + tf.exp(0.5 * z_log_sigma_sq) * epsilon\n",
    "        # else:\n",
    "        #     z = z_mu\n",
    "        mean, logvar = self.encode(x)\n",
    "        z = model.reparameterize(mean, logvar)\n",
    "        return model.decode(z, apply_sigmoid=True)\n",
    "    \n",
    "    def call(self, x, training=False, apply_sigmoid=False):\n",
    "        return self.decode(self.reparameterize(*self.encode(x, training=training)), \n",
    "                           apply_sigmoid=apply_sigmoid)\n",
    "    \n",
    "    def _config_(self):\n",
    "        return {\n",
    "            \"latent_dim\": self.latent_dim,\n",
    "            \"input_shape\": self._input_shape,\n",
    "            \"batch_size\": self._batch_size,\n",
    "            \"layer_sizes_inference\": self._layer_sizes_inference,\n",
    "            \"layer_sizes_generative\": self._layer_sizes_generative,\n",
    "            \"loss_weight_reconstruction\": self._loss_weight_reconstruction,\n",
    "            \"loss_weight_kl\": self._loss_weight_kl,\n",
    "            \"model_impl\": self._name\n",
    "        }"
   ]
  },
  {
   "cell_type": "code",
   "execution_count": 23,
   "metadata": {
    "ExecuteTime": {
     "end_time": "2019-06-07T11:55:22.827831Z",
     "start_time": "2019-06-07T11:55:22.816065Z"
    },
    "code_folding": [
     0
    ]
   },
   "outputs": [],
   "source": [
    "class TemporalUpsamplingConv(tfkl.Layer):\n",
    "    \"\"\"\n",
    "    This layer requires good fine tuning of parameters. Use PaddedConv1dTransposed if you want an easier layer.\n",
    "    \n",
    "    For a general nice description of convolutions:\n",
    "        https://arxiv.org/pdf/1603.07285.pdf\n",
    "        \n",
    "        A guide to convolution arithmetic for deeplearning\n",
    "        Vincent Dumoulin and Francesco Visin\n",
    "    \n",
    "    For the artifacts:\n",
    "        Conditional generative adversarial nets for convolutional face generation\n",
    "        J. Gauthier.\n",
    "        Class Project for Stanford CS231N: Convolutional Neural Networks for Visual Recognition, Winter semester, Vol 2014. 2014. \n",
    "        http://www.foldl.me/uploads/papers/tr-cgans.pdf\n",
    "    \"\"\"\n",
    "    def __init__(self, conv_n_filters, upsampling_size=3, conv_kernel_size=2, conv_padding='valid', conv_strides=2, name=None):\n",
    "        super(TemporalUpsamplingConv, self).__init__(name=name)\n",
    "        \n",
    "        if conv_kernel_size % conv_strides != 0:\n",
    "            warnings.warn(f\"Using a kernel size not divisable by the stride will lead to artifacts.:\"\n",
    "                          f\" Given kernel_size: {conv_kernel_size}\"\n",
    "                          f\" stride: {conv_strides}\")\n",
    "        \n",
    "        self.upsampling_size = upsampling_size\n",
    "        self.conv_n_filters = conv_n_filters\n",
    "        self.conv_kernel_size = conv_kernel_size\n",
    "        self.conv_padding = conv_padding\n",
    "        self.conv_strides = conv_strides\n",
    "        \n",
    "        # upscale with 3 so that we can again apply `valid` padding and \"reverse\" the encoder\n",
    "        self.upsampling = tfkl.UpSampling1D(size=self.upsampling_size,\n",
    "                                            name=f\"{name}_upsampling\")\n",
    "        # TODO maybe add some fancy flipping of the input, right now it cuts again from the \"start\", ideally it should append there...\n",
    "        self.conv = tfkl.Conv1D(filters=self.conv_n_filters, \n",
    "                                kernel_size=self.conv_kernel_size, \n",
    "                                padding=self.conv_padding, \n",
    "                                strides=self.conv_strides,\n",
    "                                name=f\"{name}_conv\")\n",
    "    \n",
    "    def call(self, x): \n",
    "        return self.conv(self.upsampling(x))"
   ]
  },
  {
   "cell_type": "code",
   "execution_count": 24,
   "metadata": {
    "ExecuteTime": {
     "end_time": "2019-06-07T11:55:22.845534Z",
     "start_time": "2019-06-07T11:55:22.829907Z"
    },
    "code_folding": []
   },
   "outputs": [],
   "source": [
    "class PaddedConv1dTransposed(tfkl.Layer):\n",
    "    \"\"\" The most inefficient transpose version. The focus is to get a roughly equal decompression speed.\n",
    "    \n",
    "    Build on https://arxiv.org/pdf/1603.07285.pdf relationship 8, page 22\n",
    "    \n",
    "    Note that this will almost certainly lead to artifacts as the receptive fields overlap. \n",
    "    But... as we don't really care about it... (at least for now).\n",
    "    \n",
    "    See also https://distill.pub/2016/deconv-checkerboard/\n",
    "    \"\"\"\n",
    "    def __init__(self, n_filters, kernel_size=2, name=None, activation=tf.nn.leaky_relu, batch_norm=False):\n",
    "        if batch_norm:\n",
    "            name += '_bn'\n",
    "        super(PaddedConv1dTransposed, self).__init__(name=name)\n",
    "        \n",
    "        self.n_filters = n_filters\n",
    "        self.kernel_size = kernel_size\n",
    "        \n",
    "        self.padding = [[0, 0], [1, 1], [0, 0]] # adds only a zero at the end of the time-dimension\n",
    "        self.conv = tfkl.Conv1D(filters=self.n_filters, kernel_size=self.kernel_size, activation=activation)\n",
    "        \n",
    "        if batch_norm:\n",
    "            self.batch_norm = tfkl.BatchNormalization()\n",
    "        else:\n",
    "            self.batch_norm = None\n",
    "    \n",
    "    def call(self, x): \n",
    "        x = tf.pad(x, self.padding)\n",
    "        x = self.conv(x)\n",
    "        \n",
    "        if self.batch_norm:\n",
    "            x = self.batch_norm(x)\n",
    "        \n",
    "        return x"
   ]
  },
  {
   "cell_type": "code",
   "execution_count": 25,
   "metadata": {
    "ExecuteTime": {
     "end_time": "2019-06-07T11:55:22.863131Z",
     "start_time": "2019-06-07T11:55:22.847266Z"
    },
    "code_folding": []
   },
   "outputs": [],
   "source": [
    "class DrosophVAEConv(DrosophVAE):\n",
    "    \"\"\"\n",
    "    About the Deconvolution: https://datascience.stackexchange.com/questions/6107/what-are-deconvolutional-layers\n",
    "    \"\"\"\n",
    "    def __init__(self, latent_dim, input_shape, batch_size, n_start_filters=None, dropout_rate_temporal=0.2, loss_weight_reconstruction=1.0, loss_weight_kl=1.0, with_batch_norm=False):\n",
    "        \"\"\"\n",
    "        Args:\n",
    "        -----\n",
    "        \n",
    "        latent_dim              int, dimension of latent space\n",
    "        input_shape             tuple, total input shape is: [batch_size, *input_shape]\n",
    "        batch_size              int\n",
    "        n_layers                int, number of dense layers. \n",
    "                                output shape of the dense layers is linearly scaled.\n",
    "        dropout_rate_temporal   float, in [0, 1). dropout rate for temporal blocks (conv layers).\n",
    "        filters_conv_layer      list[int]. filter sizes for conv layers\n",
    "        \"\"\"\n",
    "        # just a dummy init, we are only interested in defining the two nets.\n",
    "        super(DrosophVAEConv, self).__init__(\n",
    "            latent_dim=latent_dim,\n",
    "            input_shape=input_shape,\n",
    "            batch_size=batch_size,\n",
    "            loss_weight_reconstruction=loss_weight_reconstruction,\n",
    "            loss_weight_kl=loss_weight_kl,\n",
    "            use_wavenet_temporal_layer=False,\n",
    "            n_layers=1)\n",
    "        \n",
    "        if n_start_filters is None:\n",
    "            n_start_filters = input_shape[-1]\n",
    "            \n",
    "        self.latent_dim = latent_dim\n",
    "        self._layer_sizes_inference  = np.linspace(n_start_filters, 2 * latent_dim, num=input_shape[-2] -1, dtype=np.int)\n",
    "        # pseudo reverse as the inference network goes down to double the latent space, ask Semigh about this\n",
    "        # the 2 * n_layers is to keep compression speed roughly the same\n",
    "        \n",
    "        # since the layers grow only one time-step per layer:\n",
    "        self._layer_sizes_generative = np.linspace(latent_dim, n_start_filters, num=input_shape[-2] - 1, dtype=np.int)\n",
    "        \n",
    "        # TODO add MaxPooling\n",
    "        self.inference_net = tfk.Sequential([tfkl.InputLayer(input_shape=input_shape, name='input_inference_net'),\n",
    "                                                  *[self._convolutional_layer_(idx=i,\n",
    "                                                                               filters=fs,\n",
    "                                                                               kernel_size=2,\n",
    "                                                                               padding='valid',\n",
    "                                                                               name=f\"inf_{i}\",\n",
    "                                                                               activation=tf.nn.leaky_relu) \n",
    "                                                    for i, fs in enumerate(self._layer_sizes_inference)],\n",
    "                                                  tfkl.Flatten(),\n",
    "                                                  tfkl.Dense(2 * self.latent_dim)],\n",
    "                                                 name='inference_net')\n",
    "        # This does not work...\n",
    "        #self.generative_net = tf.keras.Sequential([tfkl.InputLayer(input_shape=(latent_dim,)),\n",
    "        #                                           tfkl.Lambda(lambda x: tf.reshape(x, [batch_size, 1, latent_dim]), name='gen_reshaping'),\n",
    "        #                                           *[UpsamplingConv(n_filters=fs, name=f\"gen_conv_{i}\") for i, fs in enumerate(self._layer_sizes_generative)],\n",
    "        #                                           tfkl.Dense(input_shape[-1])],\n",
    "        #                                          name='generative_net')\n",
    "        \n",
    "        self.generative_net = tfk.Sequential([tfkl.InputLayer(input_shape=(self.latent_dim,), name='input_generative_net'),\n",
    "                                              tfkl.Lambda(lambda x: tf.reshape(x, [-1, 1, self.latent_dim])),\n",
    "                                              *[PaddedConv1dTransposed(n_filters=fs, batch_norm=with_batch_norm, name=f\"gen_{i}\") for i, fs\n",
    "                                                in enumerate(self._layer_sizes_generative)],\n",
    "                                              tfkl.TimeDistributed(tfkl.Dense(input_shape[-1], activation=tf.nn.leaky_relu, name=f\"gen_dense_0\")), \n",
    "                                              tfkl.TimeDistributed(tfkl.Dense(input_shape[-1], activation=tf.nn.leaky_relu, name=f\"gen_dense_1\")), \n",
    "                                              tfkl.TimeDistributed(tfkl.Dense(input_shape[-1], activation=None, name=f\"gen_dense_2\"))], \n",
    "                                                  name='generative_net')\n",
    "        \n",
    "    def _convolutional_layer_(self, idx, **kwargs):\n",
    "        return tfk.Sequential([tfkl.Conv1D(**{**kwargs, 'name': f\"{kwargs['name']}_block_{idx}_conv_0\"}), \n",
    "                               tfkl.Conv1D(**{**kwargs, 'name': f\"{kwargs['name']}_block_{idx}_conv_1\", 'padding': 'same'}), \n",
    "                                tfkl.BatchNormalization(name=f\"conv_block_{idx}_batch_norm\")], \n",
    "                              name=f\"conv_block_{idx}\")"
   ]
  },
  {
   "cell_type": "code",
   "execution_count": 26,
   "metadata": {
    "ExecuteTime": {
     "end_time": "2019-06-07T11:55:22.876557Z",
     "start_time": "2019-06-07T11:55:22.864737Z"
    },
    "code_folding": [
     0
    ]
   },
   "outputs": [],
   "source": [
    "class DrosophVAESkipConv(DrosophVAE):\n",
    "    \"\"\"\n",
    "    About the Deconvolution: https://datascience.stackexchange.com/questions/6107/what-are-deconvolutional-layers\n",
    "    \n",
    "    Based on https://arxiv.org/pdf/1807.04863.pdf to avoid latent space collapse\n",
    "\n",
    "    \"\"\"\n",
    "    def __init__(self, latent_dim, input_shape, batch_size, \n",
    "                 n_conv_layers=None, n_start_filters=None, dropout_rate_temporal=0.2, loss_weight_reconstruction=1.0, loss_weight_kl=1.0):\n",
    "        \"\"\"\n",
    "        Args:\n",
    "        -----\n",
    "        \n",
    "        latent_dim              int, dimension of latent space\n",
    "        input_shape             tuple, total input shape is: [batch_size, *input_shape]\n",
    "        batch_size              int\n",
    "        n_layers                int, number of dense layers. \n",
    "                                output shape of the dense layers is linearly scaled.\n",
    "        dropout_rate_temporal   float, in [0, 1). dropout rate for temporal blocks (conv layers).\n",
    "        filters_conv_layer      list[int]. filter sizes for conv layers\n",
    "        \"\"\"\n",
    "        # just a dummy init, we are only interested in defining the two nets.\n",
    "        super(DrosophVAESkipConv, self).__init__(\n",
    "            latent_dim=latent_dim,\n",
    "            input_shape=input_shape,\n",
    "            batch_size=batch_size,\n",
    "            loss_weight_reconstruction=loss_weight_reconstruction,\n",
    "            loss_weight_kl=loss_weight_kl,\n",
    "            use_wavenet_temporal_layer=False,\n",
    "            n_layers=1,\n",
    "        )\n",
    "        \n",
    "        if n_start_filters is None:\n",
    "            n_start_filters = input_shape[-1]\n",
    "            \n",
    "        if n_conv_layers is None:\n",
    "            n_conv_layers = np.int(np.ceil((n_start_filters - latent_dim) / 2 + 1))\n",
    "            \n",
    "        self.latent_dim = latent_dim\n",
    "        self._layer_sizes_inference  = np.linspace(n_start_filters, 2 * latent_dim, num=input_shape[-2] -1, dtype=np.int)\n",
    "        # pseudo reverse as the inference network goes down to double the latent space, ask Semigh about this\n",
    "        # the 2 * n_layers is to keep compression speed roughly the same\n",
    "        \n",
    "        # since the layers grow only one time-step per layer:\n",
    "        self._layer_sizes_generative = np.linspace(latent_dim, n_start_filters, num=input_shape[-2] - 1, dtype=np.int)\n",
    "        \n",
    "        print(self._layer_sizes_inference)\n",
    "        print(self._layer_sizes_generative)\n",
    "        \n",
    "        # TODO add MaxPooling\n",
    "        self.inference_net = tf.keras.Sequential([tfkl.InputLayer(input_shape=input_shape, name='input_inference_net'),\n",
    "                                                  *[tfkl.Conv1D(filters=fs, kernel_size=2, padding='valid', name=f\"inf_conv_{i}\") \n",
    "                                                    for i, fs in enumerate(self._layer_sizes_inference)],\n",
    "                                                  tfkl.Flatten(),\n",
    "                                                  tfkl.Dense(2 * self.latent_dim)],\n",
    "                                                 name='inference_net')\n",
    "        \n",
    "        self.generative_net = _skip_connection_model_(input_shape=self.latent_dim, \n",
    "                                                      layer_sizes=self._layer_sizes_generative,\n",
    "                                                      output_dim=input_shape[-1],\n",
    "                                                      name='generative_net')\n",
    "        \n",
    "        \n",
    "def _skip_connection_model_(input_shape, layer_sizes, output_dim, name):\n",
    "    input_layer = tfkl.Input(shape=(input_shape,))\n",
    "    x = tfkl.Lambda(lambda x: tf.reshape(x, [-1, 1, input_shape]))(input_layer)\n",
    "\n",
    "    for i, fs in enumerate(layer_sizes):\n",
    "        x = PaddedConv1dTransposed(n_filters=fs, activation=None)(x)\n",
    "        x_skip = tf.reshape(tfkl.Dense(x.shape[-1], activation=None)(input_layer), [-1, 1, x.shape[-1]])\n",
    "        x = x + x_skip\n",
    "        x = tfkl.Activation(tf.nn.leaky_relu)(x)\n",
    "        \n",
    "    x = tfkl.TimeDistributed(tfkl.Dense(output_dim, activation=None))(x)\n",
    "\n",
    "    return tfk.Model(inputs=[input_layer], outputs=[x])"
   ]
  },
  {
   "cell_type": "code",
   "execution_count": 27,
   "metadata": {
    "ExecuteTime": {
     "end_time": "2019-06-07T11:55:22.892472Z",
     "start_time": "2019-06-07T11:55:22.877658Z"
    }
   },
   "outputs": [],
   "source": [
    "if run_config['use_time_series']:\n",
    "    assert len(data_train.shape) == 3, 'run all the necessary code, shape does not align with config'\n",
    "else:\n",
    "    assert len(data_train.shape) == 2, 'run all the necessary code, shape does not align with config'"
   ]
  },
  {
   "cell_type": "code",
   "execution_count": 28,
   "metadata": {
    "ExecuteTime": {
     "end_time": "2019-06-07T11:55:22.911412Z",
     "start_time": "2019-06-07T11:55:22.893800Z"
    }
   },
   "outputs": [
    {
     "data": {
      "text/plain": [
       "(459, 10, 18)"
      ]
     },
     "execution_count": 28,
     "metadata": {},
     "output_type": "execute_result"
    }
   ],
   "source": [
    "data_test.shape"
   ]
  },
  {
   "cell_type": "code",
   "execution_count": null,
   "metadata": {
    "ExecuteTime": {
     "end_time": "2019-06-07T11:53:27.999142Z",
     "start_time": "2019-06-07T11:53:27.991951Z"
    }
   },
   "outputs": [],
   "source": [
    "# For the loss function:\n",
    "#\n",
    "# https://github.com/pytorch/examples/issues/399\n",
    "#   Argues that since we are using a normal distribution we should not use any activation function in the last layer\n",
    "#   and the loss should be MSE.\n",
    "# https://stats.stackexchange.com/questions/332179/how-to-weight-kld-loss-vs-reconstruction-loss-in-variational-auto-encoder?rq=1\n",
    "#   Some general discussion about KL vs recon-loss\n",
    "# https://stats.stackexchange.com/questions/368001/is-the-output-of-a-variational-autoencoder-meant-to-be-a-distribution-that-can-b\n",
    "    \n",
    "\n",
    "def log_normal_pdf(sample, mean, var, raxis=1):\n",
    "    log2pi = tf.log(2. * np.pi)\n",
    "    return tf.reduce_sum(-.5 * ((sample - mean) ** 2. * tf.exp(-var) + var + log2pi), axis=raxis)\n",
    "\n",
    "def compute_loss(model, x, detailed=False, kl_nan_offset=1e-18):\n",
    "    \"\"\"\n",
    "    Args:\n",
    "    \n",
    "        model          the model\n",
    "        x              the data\n",
    "        detailed       set to true if you want the separate losses to be returned as well, basically a debug mode\n",
    "        kl_nan_offset  the kicker, can lead to NaN errors otherwise (don't ask me how long it took to find this)\n",
    "                       value was found empirically \n",
    "    \"\"\"\n",
    "    mean, var = model.encode(x)\n",
    "    z = model.reparameterize(mean, var)\n",
    "    x_logit = model.decode(z)\n",
    "    \n",
    "    #if run_config['use_time_series']:\n",
    "    #    # Note, the model is trained to reconstruct only the last, most current time step (by taking the last entry in the timeseries)\n",
    "    #    # this works on classification data (or binary data)\n",
    "    #    #cross_ent = tf.nn.sigmoid_cross_entropy_with_logits(logits=x_logit, labels=x[:, -1, :])\n",
    "    #    recon_loss = tf.losses.mean_squared_error(predictions=x_logit, labels=x[:, -1, :])\n",
    "    #else:\n",
    "    #    recon_loss = tf.losses.mean_squared_error(predictions=x_logit, labels=x)\n",
    "    \n",
    "    # Putting more weight on the most current time epochs\n",
    "    recon_loss = tf.losses.mean_squared_error(predictions=x_logit,\n",
    "                                          labels=x, \n",
    "                                          weights=np.exp(np.linspace(0, 1, num=run_config['time_series_length']))\\\n",
    "                                                    .reshape((1, run_config['time_series_length'], 1)))\n",
    "    \n",
    "    # Checkout https://en.wikipedia.org/wiki/Jensen%E2%80%93Shannon_divergence\n",
    "    # https://arxiv.org/pdf/1606.00704.pdf\n",
    "    #  Adversarially Learned Inference\n",
    "    #  Vincent Dumoulin, Ishmael Belghazi, Ben Poole, Olivier Mastropietro1,Alex Lamb1,Martin Arjovsky3Aaron Courville1\n",
    "    \n",
    "    # This small constant offset prevents Nan errors\n",
    "    p = tfp.distributions.Normal(loc=tf.zeros_like(mean) + tf.constant(kl_nan_offset), scale=tf.ones_like(var) + tf.constant(kl_nan_offset))\n",
    "    q = tfp.distributions.Normal(loc=mean + tf.constant(kl_nan_offset), scale=var + tf.constant(kl_nan_offset))\n",
    "    try:\n",
    "        # the KL loss can explode easily, this is to prevent overflow errors\n",
    "        kl = tf.reduce_mean(tf.clip_by_value(tfp.distributions.kl_divergence(p, q, allow_nan_stats=True), 0., 1e32))\n",
    "    except (_NotOkStatusException, InfOrNanError) as e:\n",
    "        print('Error with KL-loss: ', e, tf.reduce_mean(var))\n",
    "        kl = 1.\n",
    "    \n",
    "    if not detailed:\n",
    "        kl = tf.clip_by_value(kl, 0., 1.)\n",
    "    \n",
    "    if model._loss_weight_kl == 0.:\n",
    "        loss = model._loss_weight_reconstruction*recon_loss \n",
    "    else:\n",
    "        # KL loss can be NaN for some data. This is inherit to KL-loss (but the data is probably more to blame)\n",
    "        loss = model._loss_weight_reconstruction*recon_loss + model._loss_weight_kl*kl\n",
    "    \n",
    "    if detailed:\n",
    "        return loss, recon_loss, kl\n",
    "    else:\n",
    "        return loss\n",
    "\n",
    "def compute_gradients(model, x): \n",
    "    with tf.GradientTape() as tape: \n",
    "        loss = compute_loss(model, x) \n",
    "        return tape.gradient(loss, model.trainable_variables), loss\n",
    "\n",
    "def apply_gradients(optimizer, gradients, variables, global_step=None):\n",
    "    # TODO try out gradient clipping\n",
    "    #gradients, _ = tf.clip_by_global_norm(gradients, 5.0)\n",
    "    optimizer.apply_gradients(zip(gradients, variables), global_step=global_step)"
   ]
  },
  {
   "cell_type": "code",
   "execution_count": 35,
   "metadata": {
    "ExecuteTime": {
     "end_time": "2019-06-07T11:58:05.407395Z",
     "start_time": "2019-06-07T11:58:05.386512Z"
    },
    "code_folding": [],
    "colab": {
     "autoexec": {
      "startup": false,
      "wait_interval": 0
     }
    },
    "colab_type": "code",
    "id": "iWCn_PVdEJZ7"
   },
   "outputs": [],
   "source": [
    "# For the loss function:\n",
    "#\n",
    "# https://github.com/pytorch/examples/issues/399\n",
    "#   Argues that since we are using a normal distribution we should not use any activation function in the last layer\n",
    "#   and the loss should be MSE.\n",
    "# https://stats.stackexchange.com/questions/332179/how-to-weight-kld-loss-vs-reconstruction-loss-in-variational-auto-encoder?rq=1\n",
    "#   Some general discussion about KL vs recon-loss\n",
    "# https://stats.stackexchange.com/questions/368001/is-the-output-of-a-variational-autoencoder-meant-to-be-a-distribution-that-can-b\n",
    "    \n",
    "\n",
    "def log_normal_pdf(sample, mean, logvar, raxis=1):\n",
    "    log2pi = tf.log(2. * np.pi)\n",
    "    return tf.reduce_sum(-.5 * ((sample - mean) ** 2. * tf.exp(-logvar) + logvar + log2pi), axis=raxis)\n",
    "\n",
    "def compute_loss(model, x, detailed=False, kl_nan_offset=1e-18):\n",
    "    \"\"\"\n",
    "    Args:\n",
    "    \n",
    "        model          the model\n",
    "        x              the data\n",
    "        detailed       set to true if you want the separate losses to be returned as well, basically a debug mode\n",
    "        kl_nan_offset  the kicker, can lead to NaN errors otherwise (don't ask me how long it took to find this)\n",
    "                       value was found empirically \n",
    "    \"\"\"\n",
    "    mean, logvar = model.encode(x)\n",
    "    z = model.reparameterize(mean, logvar)\n",
    "    x_logit = model.decode(z)\n",
    "    \n",
    "    # old version, were only one time step is being reproduced\n",
    "    #if run_config['use_time_series']:\n",
    "    #    # Note, the model is trained to reconstruct only the last, most current time step (by taking the last entry in the timeseries)\n",
    "    #    # this works on classification data (or binary data)\n",
    "    #    #cross_ent = tf.nn.sigmoid_cross_entropy_with_logits(logits=x_logit, labels=x[:, -1, :])\n",
    "    #    recon_loss = tf.losses.mean_squared_error(predictions=x_logit, labels=x[:, -1, :])\n",
    "    #else:\n",
    "    #    recon_loss = tf.losses.mean_squared_error(predictions=x_logit, labels=x)\n",
    "\n",
    "    # TODO increase weights for the latest construction, exponentially scaled\n",
    "    recon_loss = tf.losses.mean_squared_error(predictions=x_logit,\n",
    "                                              labels=x, \n",
    "                                              weights=np.exp(np.linspace(0, 1, num=run_config['time_series_length']))\\\n",
    "                                                        .reshape((1, run_config['time_series_length'], 1)))\n",
    "    \n",
    "    # Checkout https://en.wikipedia.org/wiki/Jensen%E2%80%93Shannon_divergence\n",
    "    # https://arxiv.org/pdf/1606.00704.pdf\n",
    "    #  Adversarially Learned Inference\n",
    "    #  Vincent Dumoulin, Ishmael Belghazi, Ben Poole, Olivier Mastropietro1,Alex Lamb1,Martin Arjovsky3Aaron Courville1\n",
    "    \n",
    "    # This small constant offset prevents Nan errors\n",
    "    p = tfp.distributions.Normal(loc=tf.zeros_like(mean) + tf.constant(kl_nan_offset), scale=tf.ones_like(logvar) + tf.constant(kl_nan_offset))\n",
    "    q = tfp.distributions.Normal(loc=mean + tf.constant(kl_nan_offset), scale=logvar + tf.constant(kl_nan_offset))\n",
    "    kl = tf.reduce_mean(tfp.distributions.kl_divergence(p, q, allow_nan_stats=False))\n",
    "    \n",
    "    if not detailed:\n",
    "        kl = tf.clip_by_value(kl, 0., 1.)\n",
    "    \n",
    "    if model._loss_weight_kl == 0.:\n",
    "        loss = model._loss_weight_reconstruction*recon_loss \n",
    "    else:\n",
    "        # KL loss can be NaN for some data. This is inherit to KL-loss (but the data is probably more to blame)\n",
    "        loss = model._loss_weight_reconstruction*recon_loss + model._loss_weight_kl*kl\n",
    "    \n",
    "    if detailed:\n",
    "        return loss, recon_loss, kl\n",
    "    else:\n",
    "        return loss\n",
    "    \n",
    "    # TODO check this!\n",
    "    # reconstruction loss\n",
    "    #logpx_z = -tf.reduce_sum(cross_ent, axis=[1, 2, 3])\n",
    "    #logpx_z = -tf.reduce_sum(cross_ent, axis=[1]) # down to [batch, loss]\n",
    "    # KL loss\n",
    "    logpz = log_normal_pdf(z, 0., 0.) # shouldn't it be `logvar = 0.0001` or something small?\n",
    "    logqz_x = log_normal_pdf(z, mean, logvar)\n",
    "    #return -tf.reduce_mean(model._loss_weight_reconstruction*logpx_z + model._loss_weight_kl*(logpz - logqz_x))\n",
    "\n",
    "def compute_gradients(model, x): \n",
    "    with tf.GradientTape() as tape: \n",
    "        loss = compute_loss(model, x) \n",
    "        return tape.gradient(loss, model.trainable_variables), loss\n",
    "\n",
    "def apply_gradients(optimizer, gradients, variables, global_step=None):\n",
    "    # TODO try out gradient clipping\n",
    "    #gradients, _ = tf.clip_by_global_norm(gradients, 5.0)\n",
    "    optimizer.apply_gradients(zip(gradients, variables), global_step=global_step)"
   ]
  },
  {
   "cell_type": "markdown",
   "metadata": {},
   "source": [
    "## training"
   ]
  },
  {
   "cell_type": "code",
   "execution_count": 36,
   "metadata": {
    "ExecuteTime": {
     "end_time": "2019-06-07T11:58:07.779079Z",
     "start_time": "2019-06-07T11:58:06.485325Z"
    },
    "code_folding": [],
    "colab": {
     "autoexec": {
      "startup": false,
      "wait_interval": 0
     }
    },
    "colab_type": "code",
    "id": "NS2GWywBbAWo"
   },
   "outputs": [
    {
     "name": "stdout",
     "output_type": "stream",
     "text": [
      "Using model: padd_conv\n"
     ]
    },
    {
     "name": "stderr",
     "output_type": "stream",
     "text": [
      "/home/samuel/.conda/envs/tf_nightly/lib/python3.7/site-packages/tensorflow/python/eager/execution_callbacks.py:174: FutureWarning: Conversion of the second argument of issubdtype from `complex` to `np.complexfloating` is deprecated. In future, it will be treated as `np.complex128 == np.dtype(complex).type`.\n",
      "  np.issubdtype(numpy_dtype, np.complex) or\n"
     ]
    },
    {
     "name": "stdout",
     "output_type": "stream",
     "text": [
      "Model: \"inference_net\"\n",
      "____________________________________________________________________________________________________\n",
      "Layer (type)                                 Output Shape                            Param #        \n",
      "====================================================================================================\n",
      "conv_block_0 (Sequential)                    (None, 9, 18)                           1404           \n",
      "____________________________________________________________________________________________________\n",
      "conv_block_1 (Sequential)                    (None, 8, 16)                           1184           \n",
      "____________________________________________________________________________________________________\n",
      "conv_block_2 (Sequential)                    (None, 7, 15)                           1020           \n",
      "____________________________________________________________________________________________________\n",
      "conv_block_3 (Sequential)                    (None, 6, 14)                           896            \n",
      "____________________________________________________________________________________________________\n",
      "conv_block_4 (Sequential)                    (None, 5, 13)                           780            \n",
      "____________________________________________________________________________________________________\n",
      "conv_block_5 (Sequential)                    (None, 4, 11)                           594            \n",
      "____________________________________________________________________________________________________\n",
      "conv_block_6 (Sequential)                    (None, 3, 10)                           480            \n",
      "____________________________________________________________________________________________________\n",
      "conv_block_7 (Sequential)                    (None, 2, 9)                            396            \n",
      "____________________________________________________________________________________________________\n",
      "conv_block_8 (Sequential)                    (None, 1, 8)                            320            \n",
      "____________________________________________________________________________________________________\n",
      "flatten (Flatten)                            (None, 8)                               0              \n",
      "____________________________________________________________________________________________________\n",
      "dense (Dense)                                (None, 8)                               72             \n",
      "====================================================================================================\n",
      "Total params: 7,146\n",
      "Trainable params: 6,918\n",
      "Non-trainable params: 228\n",
      "____________________________________________________________________________________________________\n",
      "Model: \"generative_net\"\n",
      "____________________________________________________________________________________________________\n",
      "Layer (type)                                 Output Shape                            Param #        \n",
      "====================================================================================================\n",
      "lambda (Lambda)                              (None, 1, 4)                            0              \n",
      "____________________________________________________________________________________________________\n",
      "gen_0_bn (PaddedConv1dTransposed)            (None, 2, 4)                            52             \n",
      "____________________________________________________________________________________________________\n",
      "gen_1_bn (PaddedConv1dTransposed)            (None, 3, 5)                            65             \n",
      "____________________________________________________________________________________________________\n",
      "gen_2_bn (PaddedConv1dTransposed)            (None, 4, 7)                            105            \n",
      "____________________________________________________________________________________________________\n",
      "gen_3_bn (PaddedConv1dTransposed)            (None, 5, 9)                            171            \n",
      "____________________________________________________________________________________________________\n",
      "gen_4_bn (PaddedConv1dTransposed)            (None, 6, 11)                           253            \n",
      "____________________________________________________________________________________________________\n",
      "gen_5_bn (PaddedConv1dTransposed)            (None, 7, 12)                           324            \n",
      "____________________________________________________________________________________________________\n",
      "gen_6_bn (PaddedConv1dTransposed)            (None, 8, 14)                           406            \n",
      "____________________________________________________________________________________________________\n",
      "gen_7_bn (PaddedConv1dTransposed)            (None, 9, 16)                           528            \n",
      "____________________________________________________________________________________________________\n",
      "gen_8_bn (PaddedConv1dTransposed)            (None, 10, 18)                          666            \n",
      "____________________________________________________________________________________________________\n",
      "time_distributed (TimeDistributed)           (None, 10, 18)                          342            \n",
      "____________________________________________________________________________________________________\n",
      "time_distributed_1 (TimeDistributed)         (None, 10, 18)                          342            \n",
      "____________________________________________________________________________________________________\n",
      "time_distributed_2 (TimeDistributed)         (None, 10, 18)                          342            \n",
      "====================================================================================================\n",
      "Total params: 3,596\n",
      "Trainable params: 3,404\n",
      "Non-trainable params: 192\n",
      "____________________________________________________________________________________________________\n"
     ]
    }
   ],
   "source": [
    "# This is the init cell. The model and all related objects are created here.\n",
    "if run_config['debug'] and run_config['d_no_compression']:\n",
    "    run_config['latent_dim'] = data_train.shape[-1]\n",
    "    \n",
    "\n",
    "tf.reset_default_graph()\n",
    "\n",
    "# This is a bit shitty... but I like to run the training loop multiple times...\n",
    "test_reports = np.array([]) \n",
    "train_reports = np.array([]) \n",
    "_cur_train_reports = []\n",
    "_cur_test_reports  = []\n",
    "\n",
    "run_config['loss_weight_reconstruction'] = 1.0\n",
    "run_config['loss_weight_kl'] = 0.0 # 1e-3\n",
    "\n",
    "run_config['model_impl'] = _MODEL_IMPL_PADD_CONV_\n",
    "\n",
    "print(f\"Using model: {run_config['model_impl']}\")\n",
    "      \n",
    "model_config = {'latent_dim': run_config['latent_dim'], \n",
    "                'input_shape': data_train.shape[1:], \n",
    "                'batch_size': run_config['batch_size'], \n",
    "                'loss_weight_reconstruction': run_config['loss_weight_reconstruction'],\n",
    "                'loss_weight_kl': run_config['loss_weight_kl'],\n",
    "                'with_batch_norm': run_config['with_batch_norm']}\n",
    "      \n",
    "if run_config['model_impl'] == _MODEL_IMPL_TEMPORAL_CONV_:\n",
    "    model = DrosophVAE(run_config['latent_dim'], \n",
    "                       input_shape=data_train.shape[1:], \n",
    "                       batch_size=run_config['batch_size'], \n",
    "                       n_layers=run_config['n_conv_layers'], \n",
    "                       dropout_rate_temporal=run_config['dropout_rate'],\n",
    "                       loss_weight_reconstruction=run_config['loss_weight_reconstruction'],\n",
    "                       loss_weight_kl=run_config['loss_weight_kl'], \n",
    "                       use_wavenet_temporal_layer=run_config['use_time_series'])\n",
    "\n",
    "    if run_config['use_time_series']:\n",
    "        model.temporal_conv_net.summary()\n",
    "elif run_config['model_impl'] == _MODEL_IMPL_PADD_CONV_:\n",
    "    model = DrosophVAEConv(**model_config)\n",
    "elif run_config['model_impl'] == _MODEL_IMPL_SKIP_CON_:\n",
    "    model = DrosophVAESkipConv(**model_config)\n",
    "else:\n",
    "    raise ValueError('not such model')\n",
    "\n",
    "    \n",
    "model.inference_net.summary(line_length=100)\n",
    "model.generative_net.summary(line_length=100)\n",
    "\n",
    "optimizer = tf.train.AdamOptimizer(1e-4)\n",
    "#optimizer = tf.train.AdadeltaOptimizer(1e-4)\n",
    "run_config['optimizer'] = optimizer._name\n",
    "_config_hash_ = config.get_config_hash(run_config)\n",
    "_base_path_ = f\"{settings.config.__DATA_ROOT__}/tvae_logs/exponential_weight_{config.config_description(run_config, short=True)}_{_config_hash_}\"\n",
    "train_summary_writer = tfc.summary.create_file_writer(_base_path_ + '/train')\n",
    "test_summary_writer = tfc.summary.create_file_writer(_base_path_ + '/test')\n",
    "#gradients_writer = tfc.summary.create_file_writer(_base_path_ + '/gradients')"
   ]
  },
  {
   "cell_type": "code",
   "execution_count": 60,
   "metadata": {
    "ExecuteTime": {
     "end_time": "2019-06-07T14:01:06.153886Z",
     "start_time": "2019-06-07T13:26:09.662426Z"
    },
    "code_folding": [
     0
    ]
   },
   "outputs": [
    {
     "name": "stdout",
     "output_type": "stream",
     "text": [
      "will train model {'latent_dim': 4, 'input_shape': (10, 18), 'batch_size': 128, 'layer_sizes_inference': array([18, 16, 15, 14, 13, 11, 10,  9,  8]), 'layer_sizes_generative': array([ 4,  5,  7,  9, 11, 12, 14, 16, 18]), 'loss_weight_reconstruction': 1.0, 'loss_weight_kl': 0.0, 'model_impl': 'drosoph_vae_conv'}, with global params: {'debug': True, 'd_zero_data': False, 'd_sinoid_data': False, 'd_sinoid_cluster_data': True, 'd_no_compression': False, 'use_all_experiments': False, 'data_type': '3d_angle', 'use_time_series': True, 'time_series_length': 10, 'conv_layer_kernel_size': 2, 'n_conv_layers': 3, 'latent_dim': 4, 'batch_size': 128, 'loss_weight_reconstruction': 1.0, 'loss_weight_kl': 0.0, 'dropout_rate': 0.0, 'with_batch_norm': True, 'model_impl': 'padd_conv', 'optimizer': 'Adam'}, hash: 28728\n",
      "will train for ever...\n",
      "Epoch: 0110, train/test loss: 0.184\t 0.103 took 2.091 sec\n",
      "Epoch: 0120, train/test loss: 0.167\t 0.083 took 2.031 sec\n",
      "Epoch: 0130, train/test loss: 0.157\t 0.069 took 2.386 sec\n",
      "Epoch: 0140, train/test loss: 0.150\t 0.062 took 2.542 sec\n",
      "Epoch: 0150, train/test loss: 0.146\t 0.056 took 2.501 sec\n",
      "Epoch: 0160, train/test loss: 0.141\t 0.054 took 2.460 sec\n",
      "Epoch: 0170, train/test loss: 0.138\t 0.051 took 2.444 sec\n",
      "Epoch: 0180, train/test loss: 0.133\t 0.051 took 2.772 sec\n",
      "Epoch: 0190, train/test loss: 0.128\t 0.049 took 2.523 sec\n",
      "Epoch: 0200, train/test loss: 0.124\t 0.048 took 2.781 sec\n",
      "Epoch: 0210, train/test loss: 0.121\t 0.047 took 2.871 sec\n",
      "Epoch: 0220, train/test loss: 0.117\t 0.047 took 2.870 sec\n",
      "Epoch: 0230, train/test loss: 0.114\t 0.048 took 2.891 sec\n",
      "Epoch: 0240, train/test loss: 0.108\t 0.046 took 3.241 sec\n",
      "Epoch: 0250, train/test loss: 0.105\t 0.047 took 3.171 sec\n",
      "Epoch: 0260, train/test loss: 0.100\t 0.046 took 3.324 sec\n",
      "Epoch: 0270, train/test loss: 0.096\t 0.046 took 3.283 sec\n",
      "Epoch: 0280, train/test loss: 0.091\t 0.048 took 3.191 sec\n",
      "Epoch: 0290, train/test loss: 0.086\t 0.046 took 3.655 sec\n",
      "Epoch: 0300, train/test loss: 0.081\t 0.042 took 3.562 sec\n",
      "Epoch: 0310, train/test loss: 0.075\t 0.042 took 3.858 sec\n",
      "Epoch: 0320, train/test loss: 0.070\t 0.039 took 3.905 sec\n",
      "Epoch: 0330, train/test loss: 0.064\t 0.036 took 4.046 sec\n",
      "Epoch: 0340, train/test loss: 0.060\t 0.032 took 4.077 sec\n",
      "Epoch: 0350, train/test loss: 0.056\t 0.030 took 4.083 sec\n",
      "Epoch: 0360, train/test loss: 0.053\t 0.028 took 4.069 sec\n",
      "Epoch: 0390, train/test loss: 0.045\t 0.025 took 4.555 sec\n",
      "Epoch: 0400, train/test loss: 0.043\t 0.024 took 4.518 sec\n",
      "Epoch: 0410, train/test loss: 0.042\t 0.024 took 4.551 sec\n",
      "Epoch: 0420, train/test loss: 0.040\t 0.023 took 4.866 sec\n",
      "Epoch: 0430, train/test loss: 0.038\t 0.022 took 5.038 sec\n",
      "Epoch: 0440, train/test loss: 0.037\t 0.022 took 4.883 sec\n",
      "Epoch: 0450, train/test loss: 0.036\t 0.022 took 5.255 sec\n",
      "Epoch: 0460, train/test loss: 0.034\t 0.021 took 4.945 sec\n",
      "Epoch: 0470, train/test loss: 0.033\t 0.021 took 5.018 sec\n",
      "Epoch: 0480, train/test loss: 0.032\t 0.020 took 5.183 sec\n",
      "====......\r"
     ]
    },
    {
     "ename": "ResourceExhaustedError",
     "evalue": "OOM when allocating tensor with shape[128,10,18] and type float on /job:localhost/replica:0/task:0/device:GPU:0 by allocator GPU_0_bfc [Op:Add] name: generative_net/gen_8_bn/batch_normalization_8/batchnorm/add/",
     "output_type": "error",
     "traceback": [
      "\u001b[0;31m---------------------------------------------------------------------------\u001b[0m",
      "\u001b[0;31mResourceExhaustedError\u001b[0m                    Traceback (most recent call last)",
      "\u001b[0;32m<ipython-input-60-0e50a5f69f42>\u001b[0m in \u001b[0;36m<module>\u001b[0;34m\u001b[0m\n\u001b[1;32m     39\u001b[0m             \u001b[0mstart_time\u001b[0m \u001b[0;34m=\u001b[0m \u001b[0mtime\u001b[0m\u001b[0;34m.\u001b[0m\u001b[0mtime\u001b[0m\u001b[0;34m(\u001b[0m\u001b[0;34m)\u001b[0m\u001b[0;34m\u001b[0m\u001b[0;34m\u001b[0m\u001b[0m\n\u001b[1;32m     40\u001b[0m             \u001b[0;32mfor\u001b[0m \u001b[0mtrain_x\u001b[0m \u001b[0;32min\u001b[0m \u001b[0mtrain_dataset\u001b[0m\u001b[0;34m:\u001b[0m\u001b[0;34m\u001b[0m\u001b[0;34m\u001b[0m\u001b[0m\n\u001b[0;32m---> 41\u001b[0;31m                 \u001b[0mgradients\u001b[0m\u001b[0;34m,\u001b[0m \u001b[0mloss\u001b[0m \u001b[0;34m=\u001b[0m \u001b[0mcompute_gradients\u001b[0m\u001b[0;34m(\u001b[0m\u001b[0mmodel\u001b[0m\u001b[0;34m,\u001b[0m \u001b[0mtrain_x\u001b[0m\u001b[0;34m)\u001b[0m\u001b[0;34m\u001b[0m\u001b[0;34m\u001b[0m\u001b[0m\n\u001b[0m\u001b[1;32m     42\u001b[0m                 \u001b[0mapply_gradients\u001b[0m\u001b[0;34m(\u001b[0m\u001b[0moptimizer\u001b[0m\u001b[0;34m,\u001b[0m \u001b[0mgradients\u001b[0m\u001b[0;34m,\u001b[0m \u001b[0mmodel\u001b[0m\u001b[0;34m.\u001b[0m\u001b[0mtrainable_variables\u001b[0m\u001b[0;34m)\u001b[0m\u001b[0;34m\u001b[0m\u001b[0;34m\u001b[0m\u001b[0m\n\u001b[1;32m     43\u001b[0m             \u001b[0mend_time\u001b[0m \u001b[0;34m=\u001b[0m \u001b[0mtime\u001b[0m\u001b[0;34m.\u001b[0m\u001b[0mtime\u001b[0m\u001b[0;34m(\u001b[0m\u001b[0;34m)\u001b[0m\u001b[0;34m\u001b[0m\u001b[0;34m\u001b[0m\u001b[0m\n",
      "\u001b[0;32m<ipython-input-35-26c3b317226b>\u001b[0m in \u001b[0;36mcompute_gradients\u001b[0;34m(model, x)\u001b[0m\n\u001b[1;32m     75\u001b[0m \u001b[0;32mdef\u001b[0m \u001b[0mcompute_gradients\u001b[0m\u001b[0;34m(\u001b[0m\u001b[0mmodel\u001b[0m\u001b[0;34m,\u001b[0m \u001b[0mx\u001b[0m\u001b[0;34m)\u001b[0m\u001b[0;34m:\u001b[0m\u001b[0;34m\u001b[0m\u001b[0;34m\u001b[0m\u001b[0m\n\u001b[1;32m     76\u001b[0m     \u001b[0;32mwith\u001b[0m \u001b[0mtf\u001b[0m\u001b[0;34m.\u001b[0m\u001b[0mGradientTape\u001b[0m\u001b[0;34m(\u001b[0m\u001b[0;34m)\u001b[0m \u001b[0;32mas\u001b[0m \u001b[0mtape\u001b[0m\u001b[0;34m:\u001b[0m\u001b[0;34m\u001b[0m\u001b[0;34m\u001b[0m\u001b[0m\n\u001b[0;32m---> 77\u001b[0;31m         \u001b[0mloss\u001b[0m \u001b[0;34m=\u001b[0m \u001b[0mcompute_loss\u001b[0m\u001b[0;34m(\u001b[0m\u001b[0mmodel\u001b[0m\u001b[0;34m,\u001b[0m \u001b[0mx\u001b[0m\u001b[0;34m)\u001b[0m\u001b[0;34m\u001b[0m\u001b[0;34m\u001b[0m\u001b[0m\n\u001b[0m\u001b[1;32m     78\u001b[0m         \u001b[0;32mreturn\u001b[0m \u001b[0mtape\u001b[0m\u001b[0;34m.\u001b[0m\u001b[0mgradient\u001b[0m\u001b[0;34m(\u001b[0m\u001b[0mloss\u001b[0m\u001b[0;34m,\u001b[0m \u001b[0mmodel\u001b[0m\u001b[0;34m.\u001b[0m\u001b[0mtrainable_variables\u001b[0m\u001b[0;34m)\u001b[0m\u001b[0;34m,\u001b[0m \u001b[0mloss\u001b[0m\u001b[0;34m\u001b[0m\u001b[0;34m\u001b[0m\u001b[0m\n\u001b[1;32m     79\u001b[0m \u001b[0;34m\u001b[0m\u001b[0m\n",
      "\u001b[0;32m<ipython-input-35-26c3b317226b>\u001b[0m in \u001b[0;36mcompute_loss\u001b[0;34m(model, x, detailed, kl_nan_offset)\u001b[0m\n\u001b[1;32m     25\u001b[0m     \u001b[0mmean\u001b[0m\u001b[0;34m,\u001b[0m \u001b[0mlogvar\u001b[0m \u001b[0;34m=\u001b[0m \u001b[0mmodel\u001b[0m\u001b[0;34m.\u001b[0m\u001b[0mencode\u001b[0m\u001b[0;34m(\u001b[0m\u001b[0mx\u001b[0m\u001b[0;34m)\u001b[0m\u001b[0;34m\u001b[0m\u001b[0;34m\u001b[0m\u001b[0m\n\u001b[1;32m     26\u001b[0m     \u001b[0mz\u001b[0m \u001b[0;34m=\u001b[0m \u001b[0mmodel\u001b[0m\u001b[0;34m.\u001b[0m\u001b[0mreparameterize\u001b[0m\u001b[0;34m(\u001b[0m\u001b[0mmean\u001b[0m\u001b[0;34m,\u001b[0m \u001b[0mlogvar\u001b[0m\u001b[0;34m)\u001b[0m\u001b[0;34m\u001b[0m\u001b[0;34m\u001b[0m\u001b[0m\n\u001b[0;32m---> 27\u001b[0;31m     \u001b[0mx_logit\u001b[0m \u001b[0;34m=\u001b[0m \u001b[0mmodel\u001b[0m\u001b[0;34m.\u001b[0m\u001b[0mdecode\u001b[0m\u001b[0;34m(\u001b[0m\u001b[0mz\u001b[0m\u001b[0;34m)\u001b[0m\u001b[0;34m\u001b[0m\u001b[0;34m\u001b[0m\u001b[0m\n\u001b[0m\u001b[1;32m     28\u001b[0m \u001b[0;34m\u001b[0m\u001b[0m\n\u001b[1;32m     29\u001b[0m     \u001b[0;31m#if run_config['use_time_series']:\u001b[0m\u001b[0;34m\u001b[0m\u001b[0;34m\u001b[0m\u001b[0;34m\u001b[0m\u001b[0m\n",
      "\u001b[0;32m<ipython-input-22-d504f398c93a>\u001b[0m in \u001b[0;36mdecode\u001b[0;34m(self, z, apply_sigmoid)\u001b[0m\n\u001b[1;32m    101\u001b[0m \u001b[0;34m\u001b[0m\u001b[0m\n\u001b[1;32m    102\u001b[0m     \u001b[0;32mdef\u001b[0m \u001b[0mdecode\u001b[0m\u001b[0;34m(\u001b[0m\u001b[0mself\u001b[0m\u001b[0;34m,\u001b[0m \u001b[0mz\u001b[0m\u001b[0;34m,\u001b[0m \u001b[0mapply_sigmoid\u001b[0m\u001b[0;34m=\u001b[0m\u001b[0;32mFalse\u001b[0m\u001b[0;34m)\u001b[0m\u001b[0;34m:\u001b[0m\u001b[0;34m\u001b[0m\u001b[0;34m\u001b[0m\u001b[0m\n\u001b[0;32m--> 103\u001b[0;31m         \u001b[0mlogits\u001b[0m \u001b[0;34m=\u001b[0m \u001b[0mself\u001b[0m\u001b[0;34m.\u001b[0m\u001b[0mgenerative_net\u001b[0m\u001b[0;34m(\u001b[0m\u001b[0mz\u001b[0m\u001b[0;34m)\u001b[0m\u001b[0;34m\u001b[0m\u001b[0;34m\u001b[0m\u001b[0m\n\u001b[0m\u001b[1;32m    104\u001b[0m         \u001b[0;32mif\u001b[0m \u001b[0mapply_sigmoid\u001b[0m\u001b[0;34m:\u001b[0m\u001b[0;34m\u001b[0m\u001b[0;34m\u001b[0m\u001b[0m\n\u001b[1;32m    105\u001b[0m             \u001b[0mprobs\u001b[0m \u001b[0;34m=\u001b[0m \u001b[0mtf\u001b[0m\u001b[0;34m.\u001b[0m\u001b[0msigmoid\u001b[0m\u001b[0;34m(\u001b[0m\u001b[0mlogits\u001b[0m\u001b[0;34m)\u001b[0m\u001b[0;34m\u001b[0m\u001b[0;34m\u001b[0m\u001b[0m\n",
      "\u001b[0;32m~/.conda/envs/tf_nightly/lib/python3.7/site-packages/tensorflow/python/keras/engine/base_layer.py\u001b[0m in \u001b[0;36m__call__\u001b[0;34m(self, inputs, *args, **kwargs)\u001b[0m\n\u001b[1;32m    674\u001b[0m           with base_layer_utils.autocast_context_manager(\n\u001b[1;32m    675\u001b[0m               input_list, self._mixed_precision_policy.should_cast_variables):\n\u001b[0;32m--> 676\u001b[0;31m             \u001b[0moutputs\u001b[0m \u001b[0;34m=\u001b[0m \u001b[0mself\u001b[0m\u001b[0;34m.\u001b[0m\u001b[0mcall\u001b[0m\u001b[0;34m(\u001b[0m\u001b[0minputs\u001b[0m\u001b[0;34m,\u001b[0m \u001b[0;34m*\u001b[0m\u001b[0margs\u001b[0m\u001b[0;34m,\u001b[0m \u001b[0;34m**\u001b[0m\u001b[0mkwargs\u001b[0m\u001b[0;34m)\u001b[0m\u001b[0;34m\u001b[0m\u001b[0;34m\u001b[0m\u001b[0m\n\u001b[0m\u001b[1;32m    677\u001b[0m           \u001b[0mself\u001b[0m\u001b[0;34m.\u001b[0m\u001b[0m_handle_activity_regularization\u001b[0m\u001b[0;34m(\u001b[0m\u001b[0minputs\u001b[0m\u001b[0;34m,\u001b[0m \u001b[0moutputs\u001b[0m\u001b[0;34m)\u001b[0m\u001b[0;34m\u001b[0m\u001b[0;34m\u001b[0m\u001b[0m\n\u001b[1;32m    678\u001b[0m           \u001b[0mself\u001b[0m\u001b[0;34m.\u001b[0m\u001b[0m_set_mask_metadata\u001b[0m\u001b[0;34m(\u001b[0m\u001b[0minputs\u001b[0m\u001b[0;34m,\u001b[0m \u001b[0moutputs\u001b[0m\u001b[0;34m,\u001b[0m \u001b[0mprevious_mask\u001b[0m\u001b[0;34m)\u001b[0m\u001b[0;34m\u001b[0m\u001b[0;34m\u001b[0m\u001b[0m\n",
      "\u001b[0;32m~/.conda/envs/tf_nightly/lib/python3.7/site-packages/tensorflow/python/keras/engine/sequential.py\u001b[0m in \u001b[0;36mcall\u001b[0;34m(self, inputs, training, mask)\u001b[0m\n\u001b[1;32m    245\u001b[0m       \u001b[0;32mif\u001b[0m \u001b[0;32mnot\u001b[0m \u001b[0mself\u001b[0m\u001b[0;34m.\u001b[0m\u001b[0mbuilt\u001b[0m\u001b[0;34m:\u001b[0m\u001b[0;34m\u001b[0m\u001b[0;34m\u001b[0m\u001b[0m\n\u001b[1;32m    246\u001b[0m         \u001b[0mself\u001b[0m\u001b[0;34m.\u001b[0m\u001b[0m_init_graph_network\u001b[0m\u001b[0;34m(\u001b[0m\u001b[0mself\u001b[0m\u001b[0;34m.\u001b[0m\u001b[0minputs\u001b[0m\u001b[0;34m,\u001b[0m \u001b[0mself\u001b[0m\u001b[0;34m.\u001b[0m\u001b[0moutputs\u001b[0m\u001b[0;34m,\u001b[0m \u001b[0mname\u001b[0m\u001b[0;34m=\u001b[0m\u001b[0mself\u001b[0m\u001b[0;34m.\u001b[0m\u001b[0mname\u001b[0m\u001b[0;34m)\u001b[0m\u001b[0;34m\u001b[0m\u001b[0;34m\u001b[0m\u001b[0m\n\u001b[0;32m--> 247\u001b[0;31m       \u001b[0;32mreturn\u001b[0m \u001b[0msuper\u001b[0m\u001b[0;34m(\u001b[0m\u001b[0mSequential\u001b[0m\u001b[0;34m,\u001b[0m \u001b[0mself\u001b[0m\u001b[0;34m)\u001b[0m\u001b[0;34m.\u001b[0m\u001b[0mcall\u001b[0m\u001b[0;34m(\u001b[0m\u001b[0minputs\u001b[0m\u001b[0;34m,\u001b[0m \u001b[0mtraining\u001b[0m\u001b[0;34m=\u001b[0m\u001b[0mtraining\u001b[0m\u001b[0;34m,\u001b[0m \u001b[0mmask\u001b[0m\u001b[0;34m=\u001b[0m\u001b[0mmask\u001b[0m\u001b[0;34m)\u001b[0m\u001b[0;34m\u001b[0m\u001b[0;34m\u001b[0m\u001b[0m\n\u001b[0m\u001b[1;32m    248\u001b[0m \u001b[0;34m\u001b[0m\u001b[0m\n\u001b[1;32m    249\u001b[0m     \u001b[0moutputs\u001b[0m \u001b[0;34m=\u001b[0m \u001b[0minputs\u001b[0m  \u001b[0;31m# handle the corner case where self.layers is empty\u001b[0m\u001b[0;34m\u001b[0m\u001b[0;34m\u001b[0m\u001b[0m\n",
      "\u001b[0;32m~/.conda/envs/tf_nightly/lib/python3.7/site-packages/tensorflow/python/keras/engine/network.py\u001b[0m in \u001b[0;36mcall\u001b[0;34m(self, inputs, training, mask)\u001b[0m\n\u001b[1;32m    747\u001b[0m                                 ' implement a `call` method.')\n\u001b[1;32m    748\u001b[0m \u001b[0;34m\u001b[0m\u001b[0m\n\u001b[0;32m--> 749\u001b[0;31m     \u001b[0;32mreturn\u001b[0m \u001b[0mself\u001b[0m\u001b[0;34m.\u001b[0m\u001b[0m_run_internal_graph\u001b[0m\u001b[0;34m(\u001b[0m\u001b[0minputs\u001b[0m\u001b[0;34m,\u001b[0m \u001b[0mtraining\u001b[0m\u001b[0;34m=\u001b[0m\u001b[0mtraining\u001b[0m\u001b[0;34m,\u001b[0m \u001b[0mmask\u001b[0m\u001b[0;34m=\u001b[0m\u001b[0mmask\u001b[0m\u001b[0;34m)\u001b[0m\u001b[0;34m\u001b[0m\u001b[0;34m\u001b[0m\u001b[0m\n\u001b[0m\u001b[1;32m    750\u001b[0m \u001b[0;34m\u001b[0m\u001b[0m\n\u001b[1;32m    751\u001b[0m   \u001b[0;32mdef\u001b[0m \u001b[0mcompute_output_shape\u001b[0m\u001b[0;34m(\u001b[0m\u001b[0mself\u001b[0m\u001b[0;34m,\u001b[0m \u001b[0minput_shape\u001b[0m\u001b[0;34m)\u001b[0m\u001b[0;34m:\u001b[0m\u001b[0;34m\u001b[0m\u001b[0;34m\u001b[0m\u001b[0m\n",
      "\u001b[0;32m~/.conda/envs/tf_nightly/lib/python3.7/site-packages/tensorflow/python/keras/engine/network.py\u001b[0m in \u001b[0;36m_run_internal_graph\u001b[0;34m(self, inputs, training, mask)\u001b[0m\n\u001b[1;32m    889\u001b[0m \u001b[0;34m\u001b[0m\u001b[0m\n\u001b[1;32m    890\u001b[0m           \u001b[0;31m# Compute outputs.\u001b[0m\u001b[0;34m\u001b[0m\u001b[0;34m\u001b[0m\u001b[0;34m\u001b[0m\u001b[0m\n\u001b[0;32m--> 891\u001b[0;31m           \u001b[0moutput_tensors\u001b[0m \u001b[0;34m=\u001b[0m \u001b[0mlayer\u001b[0m\u001b[0;34m(\u001b[0m\u001b[0mcomputed_tensors\u001b[0m\u001b[0;34m,\u001b[0m \u001b[0;34m**\u001b[0m\u001b[0mkwargs\u001b[0m\u001b[0;34m)\u001b[0m\u001b[0;34m\u001b[0m\u001b[0;34m\u001b[0m\u001b[0m\n\u001b[0m\u001b[1;32m    892\u001b[0m \u001b[0;34m\u001b[0m\u001b[0m\n\u001b[1;32m    893\u001b[0m           \u001b[0;31m# Update tensor_dict.\u001b[0m\u001b[0;34m\u001b[0m\u001b[0;34m\u001b[0m\u001b[0;34m\u001b[0m\u001b[0m\n",
      "\u001b[0;32m~/.conda/envs/tf_nightly/lib/python3.7/site-packages/tensorflow/python/keras/engine/base_layer.py\u001b[0m in \u001b[0;36m__call__\u001b[0;34m(self, inputs, *args, **kwargs)\u001b[0m\n\u001b[1;32m    674\u001b[0m           with base_layer_utils.autocast_context_manager(\n\u001b[1;32m    675\u001b[0m               input_list, self._mixed_precision_policy.should_cast_variables):\n\u001b[0;32m--> 676\u001b[0;31m             \u001b[0moutputs\u001b[0m \u001b[0;34m=\u001b[0m \u001b[0mself\u001b[0m\u001b[0;34m.\u001b[0m\u001b[0mcall\u001b[0m\u001b[0;34m(\u001b[0m\u001b[0minputs\u001b[0m\u001b[0;34m,\u001b[0m \u001b[0;34m*\u001b[0m\u001b[0margs\u001b[0m\u001b[0;34m,\u001b[0m \u001b[0;34m**\u001b[0m\u001b[0mkwargs\u001b[0m\u001b[0;34m)\u001b[0m\u001b[0;34m\u001b[0m\u001b[0;34m\u001b[0m\u001b[0m\n\u001b[0m\u001b[1;32m    677\u001b[0m           \u001b[0mself\u001b[0m\u001b[0;34m.\u001b[0m\u001b[0m_handle_activity_regularization\u001b[0m\u001b[0;34m(\u001b[0m\u001b[0minputs\u001b[0m\u001b[0;34m,\u001b[0m \u001b[0moutputs\u001b[0m\u001b[0;34m)\u001b[0m\u001b[0;34m\u001b[0m\u001b[0;34m\u001b[0m\u001b[0m\n\u001b[1;32m    678\u001b[0m           \u001b[0mself\u001b[0m\u001b[0;34m.\u001b[0m\u001b[0m_set_mask_metadata\u001b[0m\u001b[0;34m(\u001b[0m\u001b[0minputs\u001b[0m\u001b[0;34m,\u001b[0m \u001b[0moutputs\u001b[0m\u001b[0;34m,\u001b[0m \u001b[0mprevious_mask\u001b[0m\u001b[0;34m)\u001b[0m\u001b[0;34m\u001b[0m\u001b[0;34m\u001b[0m\u001b[0m\n",
      "\u001b[0;32m<ipython-input-24-409a4fa0e36c>\u001b[0m in \u001b[0;36mcall\u001b[0;34m(self, x)\u001b[0m\n\u001b[1;32m     30\u001b[0m \u001b[0;34m\u001b[0m\u001b[0m\n\u001b[1;32m     31\u001b[0m         \u001b[0;32mif\u001b[0m \u001b[0mself\u001b[0m\u001b[0;34m.\u001b[0m\u001b[0mbatch_norm\u001b[0m\u001b[0;34m:\u001b[0m\u001b[0;34m\u001b[0m\u001b[0;34m\u001b[0m\u001b[0m\n\u001b[0;32m---> 32\u001b[0;31m             \u001b[0mx\u001b[0m \u001b[0;34m=\u001b[0m \u001b[0mself\u001b[0m\u001b[0;34m.\u001b[0m\u001b[0mbatch_norm\u001b[0m\u001b[0;34m(\u001b[0m\u001b[0mx\u001b[0m\u001b[0;34m)\u001b[0m\u001b[0;34m\u001b[0m\u001b[0;34m\u001b[0m\u001b[0m\n\u001b[0m\u001b[1;32m     33\u001b[0m \u001b[0;34m\u001b[0m\u001b[0m\n\u001b[1;32m     34\u001b[0m         \u001b[0;32mreturn\u001b[0m \u001b[0mx\u001b[0m\u001b[0;34m\u001b[0m\u001b[0;34m\u001b[0m\u001b[0m\n",
      "\u001b[0;32m~/.conda/envs/tf_nightly/lib/python3.7/site-packages/tensorflow/python/keras/engine/base_layer.py\u001b[0m in \u001b[0;36m__call__\u001b[0;34m(self, inputs, *args, **kwargs)\u001b[0m\n\u001b[1;32m    674\u001b[0m           with base_layer_utils.autocast_context_manager(\n\u001b[1;32m    675\u001b[0m               input_list, self._mixed_precision_policy.should_cast_variables):\n\u001b[0;32m--> 676\u001b[0;31m             \u001b[0moutputs\u001b[0m \u001b[0;34m=\u001b[0m \u001b[0mself\u001b[0m\u001b[0;34m.\u001b[0m\u001b[0mcall\u001b[0m\u001b[0;34m(\u001b[0m\u001b[0minputs\u001b[0m\u001b[0;34m,\u001b[0m \u001b[0;34m*\u001b[0m\u001b[0margs\u001b[0m\u001b[0;34m,\u001b[0m \u001b[0;34m**\u001b[0m\u001b[0mkwargs\u001b[0m\u001b[0;34m)\u001b[0m\u001b[0;34m\u001b[0m\u001b[0;34m\u001b[0m\u001b[0m\n\u001b[0m\u001b[1;32m    677\u001b[0m           \u001b[0mself\u001b[0m\u001b[0;34m.\u001b[0m\u001b[0m_handle_activity_regularization\u001b[0m\u001b[0;34m(\u001b[0m\u001b[0minputs\u001b[0m\u001b[0;34m,\u001b[0m \u001b[0moutputs\u001b[0m\u001b[0;34m)\u001b[0m\u001b[0;34m\u001b[0m\u001b[0;34m\u001b[0m\u001b[0m\n\u001b[1;32m    678\u001b[0m           \u001b[0mself\u001b[0m\u001b[0;34m.\u001b[0m\u001b[0m_set_mask_metadata\u001b[0m\u001b[0;34m(\u001b[0m\u001b[0minputs\u001b[0m\u001b[0;34m,\u001b[0m \u001b[0moutputs\u001b[0m\u001b[0;34m,\u001b[0m \u001b[0mprevious_mask\u001b[0m\u001b[0;34m)\u001b[0m\u001b[0;34m\u001b[0m\u001b[0;34m\u001b[0m\u001b[0m\n",
      "\u001b[0;32m~/.conda/envs/tf_nightly/lib/python3.7/site-packages/tensorflow/python/keras/layers/normalization.py\u001b[0m in \u001b[0;36mcall\u001b[0;34m(self, inputs, training)\u001b[0m\n\u001b[1;32m    732\u001b[0m                                      \u001b[0moffset\u001b[0m\u001b[0;34m,\u001b[0m\u001b[0;34m\u001b[0m\u001b[0;34m\u001b[0m\u001b[0m\n\u001b[1;32m    733\u001b[0m                                      \u001b[0mscale\u001b[0m\u001b[0;34m,\u001b[0m\u001b[0;34m\u001b[0m\u001b[0;34m\u001b[0m\u001b[0m\n\u001b[0;32m--> 734\u001b[0;31m                                      self.epsilon)\n\u001b[0m\u001b[1;32m    735\u001b[0m     \u001b[0;31m# If some components of the shape got lost due to adjustments, fix that.\u001b[0m\u001b[0;34m\u001b[0m\u001b[0;34m\u001b[0m\u001b[0;34m\u001b[0m\u001b[0m\n\u001b[1;32m    736\u001b[0m     \u001b[0moutputs\u001b[0m\u001b[0;34m.\u001b[0m\u001b[0mset_shape\u001b[0m\u001b[0;34m(\u001b[0m\u001b[0minput_shape\u001b[0m\u001b[0;34m)\u001b[0m\u001b[0;34m\u001b[0m\u001b[0;34m\u001b[0m\u001b[0m\n",
      "\u001b[0;32m~/.conda/envs/tf_nightly/lib/python3.7/site-packages/tensorflow/python/ops/nn_impl.py\u001b[0m in \u001b[0;36mbatch_normalization\u001b[0;34m(x, mean, variance, offset, scale, variance_epsilon, name)\u001b[0m\n\u001b[1;32m   1243\u001b[0m     \u001b[0;31m# the precise order of ops that are generated by the expression below.\u001b[0m\u001b[0;34m\u001b[0m\u001b[0;34m\u001b[0m\u001b[0;34m\u001b[0m\u001b[0m\n\u001b[1;32m   1244\u001b[0m     return x * math_ops.cast(inv, x.dtype) + math_ops.cast(\n\u001b[0;32m-> 1245\u001b[0;31m         offset - mean * inv if offset is not None else -mean * inv, x.dtype)\n\u001b[0m\u001b[1;32m   1246\u001b[0m \u001b[0;34m\u001b[0m\u001b[0m\n\u001b[1;32m   1247\u001b[0m \u001b[0;34m\u001b[0m\u001b[0m\n",
      "\u001b[0;32m~/.conda/envs/tf_nightly/lib/python3.7/site-packages/tensorflow/python/ops/math_ops.py\u001b[0m in \u001b[0;36mbinary_op_wrapper\u001b[0;34m(x, y)\u001b[0m\n\u001b[1;32m    882\u001b[0m     \u001b[0;32mwith\u001b[0m \u001b[0mops\u001b[0m\u001b[0;34m.\u001b[0m\u001b[0mname_scope\u001b[0m\u001b[0;34m(\u001b[0m\u001b[0;32mNone\u001b[0m\u001b[0;34m,\u001b[0m \u001b[0mop_name\u001b[0m\u001b[0;34m,\u001b[0m \u001b[0;34m[\u001b[0m\u001b[0mx\u001b[0m\u001b[0;34m,\u001b[0m \u001b[0my\u001b[0m\u001b[0;34m]\u001b[0m\u001b[0;34m)\u001b[0m \u001b[0;32mas\u001b[0m \u001b[0mname\u001b[0m\u001b[0;34m:\u001b[0m\u001b[0;34m\u001b[0m\u001b[0;34m\u001b[0m\u001b[0m\n\u001b[1;32m    883\u001b[0m       \u001b[0;32mif\u001b[0m \u001b[0misinstance\u001b[0m\u001b[0;34m(\u001b[0m\u001b[0mx\u001b[0m\u001b[0;34m,\u001b[0m \u001b[0mops\u001b[0m\u001b[0;34m.\u001b[0m\u001b[0mTensor\u001b[0m\u001b[0;34m)\u001b[0m \u001b[0;32mand\u001b[0m \u001b[0misinstance\u001b[0m\u001b[0;34m(\u001b[0m\u001b[0my\u001b[0m\u001b[0;34m,\u001b[0m \u001b[0mops\u001b[0m\u001b[0;34m.\u001b[0m\u001b[0mTensor\u001b[0m\u001b[0;34m)\u001b[0m\u001b[0;34m:\u001b[0m\u001b[0;34m\u001b[0m\u001b[0;34m\u001b[0m\u001b[0m\n\u001b[0;32m--> 884\u001b[0;31m         \u001b[0;32mreturn\u001b[0m \u001b[0mfunc\u001b[0m\u001b[0;34m(\u001b[0m\u001b[0mx\u001b[0m\u001b[0;34m,\u001b[0m \u001b[0my\u001b[0m\u001b[0;34m,\u001b[0m \u001b[0mname\u001b[0m\u001b[0;34m=\u001b[0m\u001b[0mname\u001b[0m\u001b[0;34m)\u001b[0m\u001b[0;34m\u001b[0m\u001b[0;34m\u001b[0m\u001b[0m\n\u001b[0m\u001b[1;32m    885\u001b[0m       \u001b[0;32melif\u001b[0m \u001b[0;32mnot\u001b[0m \u001b[0misinstance\u001b[0m\u001b[0;34m(\u001b[0m\u001b[0my\u001b[0m\u001b[0;34m,\u001b[0m \u001b[0msparse_tensor\u001b[0m\u001b[0;34m.\u001b[0m\u001b[0mSparseTensor\u001b[0m\u001b[0;34m)\u001b[0m\u001b[0;34m:\u001b[0m\u001b[0;34m\u001b[0m\u001b[0;34m\u001b[0m\u001b[0m\n\u001b[1;32m    886\u001b[0m         \u001b[0;32mtry\u001b[0m\u001b[0;34m:\u001b[0m\u001b[0;34m\u001b[0m\u001b[0;34m\u001b[0m\u001b[0m\n",
      "\u001b[0;32m~/.conda/envs/tf_nightly/lib/python3.7/site-packages/tensorflow/python/ops/gen_math_ops.py\u001b[0m in \u001b[0;36madd\u001b[0;34m(x, y, name)\u001b[0m\n\u001b[1;32m    381\u001b[0m       \u001b[0;32melse\u001b[0m\u001b[0;34m:\u001b[0m\u001b[0;34m\u001b[0m\u001b[0;34m\u001b[0m\u001b[0m\n\u001b[1;32m    382\u001b[0m         \u001b[0mmessage\u001b[0m \u001b[0;34m=\u001b[0m \u001b[0me\u001b[0m\u001b[0;34m.\u001b[0m\u001b[0mmessage\u001b[0m\u001b[0;34m\u001b[0m\u001b[0;34m\u001b[0m\u001b[0m\n\u001b[0;32m--> 383\u001b[0;31m       \u001b[0m_six\u001b[0m\u001b[0;34m.\u001b[0m\u001b[0mraise_from\u001b[0m\u001b[0;34m(\u001b[0m\u001b[0m_core\u001b[0m\u001b[0;34m.\u001b[0m\u001b[0m_status_to_exception\u001b[0m\u001b[0;34m(\u001b[0m\u001b[0me\u001b[0m\u001b[0;34m.\u001b[0m\u001b[0mcode\u001b[0m\u001b[0;34m,\u001b[0m \u001b[0mmessage\u001b[0m\u001b[0;34m)\u001b[0m\u001b[0;34m,\u001b[0m \u001b[0;32mNone\u001b[0m\u001b[0;34m)\u001b[0m\u001b[0;34m\u001b[0m\u001b[0;34m\u001b[0m\u001b[0m\n\u001b[0m\u001b[1;32m    384\u001b[0m   \u001b[0;31m# Add nodes to the TensorFlow graph.\u001b[0m\u001b[0;34m\u001b[0m\u001b[0;34m\u001b[0m\u001b[0;34m\u001b[0m\u001b[0m\n\u001b[1;32m    385\u001b[0m   \u001b[0;32mtry\u001b[0m\u001b[0;34m:\u001b[0m\u001b[0;34m\u001b[0m\u001b[0;34m\u001b[0m\u001b[0m\n",
      "\u001b[0;32m~/.conda/envs/tf_nightly/lib/python3.7/site-packages/six.py\u001b[0m in \u001b[0;36mraise_from\u001b[0;34m(value, from_value)\u001b[0m\n",
      "\u001b[0;31mResourceExhaustedError\u001b[0m: OOM when allocating tensor with shape[128,10,18] and type float on /job:localhost/replica:0/task:0/device:GPU:0 by allocator GPU_0_bfc [Op:Add] name: generative_net/gen_8_bn/batch_normalization_8/batchnorm/add/"
     ]
    }
   ],
   "source": [
    "# This is the run cell. Designed to be able to train the model for an arbitrary amount of epochs.\n",
    "def _compute_loss_for_data_(model, data):\n",
    "    loss = tfe.metrics.Mean()\n",
    "    recon = tfe.metrics.Mean()\n",
    "    kl = tfe.metrics.Mean()\n",
    "    for batch in data:\n",
    "        loss_b, recon_b, kl_b  = compute_loss(model, batch, detailed=True)\n",
    "        loss(loss_b)\n",
    "        recon(recon_b)\n",
    "        kl(kl_b)\n",
    "        \n",
    "    total_loss = loss.result()\n",
    "    total_recon = recon.result()\n",
    "    total_kl = kl.result()\n",
    "    \n",
    "    return total_loss, total_recon, total_kl\n",
    "\n",
    "def _progress_str_(epoch, _cur_train_reports, _cur_test_reports, time=None, stopped=False):\n",
    "    progress_str = f\"Epoch: {epoch:0>4}, train/test loss: {_cur_train_reports[-1][0]:0.3f}\\t {_cur_test_reports[-1][0]:0.3f}\"\n",
    "    if time:\n",
    "        progress_str += f\" took {time:0.3f} sec\"\n",
    "        \n",
    "    if stopped:\n",
    "        progress_str = \"Stopped training during \" + progress_str\n",
    "        \n",
    "    return progress_str\n",
    "\n",
    "\n",
    "print(f\"will train model {model._config_()}, with global params: {run_config}, hash: {_config_hash_}\")\n",
    "print(f\"will train for ever...\")\n",
    "epoch = len(train_reports)\n",
    "\n",
    "\n",
    "with warnings.catch_warnings():\n",
    "    # pesky tensorflow again\n",
    "    warnings.simplefilter(action='ignore', category=FutureWarning)\n",
    "    while True:\n",
    "        try:\n",
    "            start_time = time.time()\n",
    "            for train_x in train_dataset:\n",
    "                gradients, loss = compute_gradients(model, train_x)\n",
    "                apply_gradients(optimizer, gradients, model.trainable_variables)\n",
    "            end_time = time.time()\n",
    "\n",
    "            _cur_train_reports += [_compute_loss_for_data_(model, train_dataset)]\n",
    "            _cur_test_reports += [_compute_loss_for_data_(model, test_dataset)]\n",
    "            \n",
    "            _recorded_scalars_ =  ['loss', 'recon', 'kl']\n",
    "            tf_helpers.tf_write_scalars(train_summary_writer, zip(_recorded_scalars_, _cur_train_reports[-1]), step=epoch)\n",
    "            tf_helpers.tf_write_scalars(test_summary_writer,  zip(_recorded_scalars_, _cur_test_reports[-1]),  step=epoch)\n",
    "\n",
    "            with train_summary_writer.as_default(), tfc.summary.always_record_summaries():\n",
    "                for g, var_name in zip(gradients, [tf_helpers.tf_clean_variable_name(v.name) for v in model.trainable_variables]):\n",
    "                    tfc.summary.histogram(f'gradient_{var_name}', g, step=epoch)\n",
    "\n",
    "            if epoch % 10 == 0:\n",
    "                print(_progress_str_(epoch, _cur_train_reports, _cur_test_reports, time=end_time - start_time))\n",
    "                tfc.summary.flush()\n",
    "            else:\n",
    "                # simple \"loading bar\"\n",
    "                print('=' * (epoch % 10) + '.' * (10 - (epoch % 10)), end='\\r')\n",
    "\n",
    "            epoch += 1\n",
    "\n",
    "            #if np.argmin(np.array(_cur_test_reports)[:, 1]) < (len(_cur_test_reports) - 10):\n",
    "            #    # if there was no improvement in the last 10 epochs, stop it\n",
    "            #    print('early stopping')\n",
    "            #    break\n",
    "        except KeyboardInterrupt:\n",
    "            tfc.summary.flush()\n",
    "            print(_progress_str_(epoch, _cur_train_reports, _cur_test_reports, stopped=True))\n",
    "            break\n",
    "        \n",
    "        \n",
    "tfc.summary.flush()\n",
    "train_reports = np.array(_cur_train_reports)\n",
    "test_reports =  np.array(_cur_test_reports)\n",
    "\n",
    "train_losses = train_reports[:, 0]\n",
    "test_losses = test_reports[:, 0]"
   ]
  },
  {
   "cell_type": "markdown",
   "metadata": {
    "ExecuteTime": {
     "end_time": "2019-05-21T16:37:31.785780Z",
     "start_time": "2019-05-21T16:37:31.782033Z"
    }
   },
   "source": [
    "# evaluation"
   ]
  },
  {
   "cell_type": "code",
   "execution_count": 61,
   "metadata": {
    "ExecuteTime": {
     "end_time": "2019-06-07T15:04:56.810509Z",
     "start_time": "2019-06-07T15:04:56.804960Z"
    }
   },
   "outputs": [],
   "source": [
    "def _reverse_to_original_shape_(X):\n",
    "    rescaled = scaler.inverse_transform(X)\n",
    "    if run_config['data_type'] == _DATA_TYPE_2D_POS_:\n",
    "        return rescaled.reshape(-1, 15, 2)\n",
    "    else:\n",
    "        return rescaled"
   ]
  },
  {
   "cell_type": "code",
   "execution_count": 62,
   "metadata": {
    "ExecuteTime": {
     "end_time": "2019-06-07T15:05:08.170477Z",
     "start_time": "2019-06-07T15:04:57.620188Z"
    }
   },
   "outputs": [
    {
     "ename": "InternalError",
     "evalue": "Failed copying input tensor from /job:localhost/replica:0/task:0/device:CPU:0 to /job:localhost/replica:0/task:0/device:GPU:0 in order to run ExpandDims: Dst tensor is not initialized. [Op:ExpandDims]",
     "output_type": "error",
     "traceback": [
      "\u001b[0;31m---------------------------------------------------------------------------\u001b[0m",
      "\u001b[0;31mInternalError\u001b[0m                             Traceback (most recent call last)",
      "\u001b[0;32m<ipython-input-62-4abfbbaa0252>\u001b[0m in \u001b[0;36m<module>\u001b[0;34m\u001b[0m\n\u001b[1;32m     10\u001b[0m \u001b[0;34m\u001b[0m\u001b[0m\n\u001b[1;32m     11\u001b[0m \u001b[0minput_data\u001b[0m \u001b[0;34m=\u001b[0m \u001b[0m_reverse_to_original_shape_\u001b[0m\u001b[0;34m(\u001b[0m\u001b[0minput_data_raw\u001b[0m\u001b[0;34m[\u001b[0m\u001b[0mback_to_single_time\u001b[0m\u001b[0;34m]\u001b[0m\u001b[0;34m)\u001b[0m\u001b[0;34m\u001b[0m\u001b[0;34m\u001b[0m\u001b[0m\n\u001b[0;32m---> 12\u001b[0;31m \u001b[0mreconstructed_data\u001b[0m \u001b[0;34m=\u001b[0m \u001b[0m_reverse_to_original_shape_\u001b[0m\u001b[0;34m(\u001b[0m\u001b[0mmodel\u001b[0m\u001b[0;34m(\u001b[0m\u001b[0minput_data_raw\u001b[0m\u001b[0;34m,\u001b[0m \u001b[0mapply_sigmoid\u001b[0m\u001b[0;34m=\u001b[0m\u001b[0;32mFalse\u001b[0m\u001b[0;34m)\u001b[0m\u001b[0;34m.\u001b[0m\u001b[0mnumpy\u001b[0m\u001b[0;34m(\u001b[0m\u001b[0;34m)\u001b[0m\u001b[0;34m[\u001b[0m\u001b[0mback_to_single_time\u001b[0m\u001b[0;34m]\u001b[0m\u001b[0;34m)\u001b[0m\u001b[0;34m\u001b[0m\u001b[0;34m\u001b[0m\u001b[0m\n\u001b[0m\u001b[1;32m     13\u001b[0m \u001b[0;34m\u001b[0m\u001b[0m\n\u001b[1;32m     14\u001b[0m \u001b[0m_min_nb_batches_for_sample_length_\u001b[0m \u001b[0;34m=\u001b[0m \u001b[0mint\u001b[0m\u001b[0;34m(\u001b[0m\u001b[0mnp\u001b[0m\u001b[0;34m.\u001b[0m\u001b[0mceil\u001b[0m\u001b[0;34m(\u001b[0m\u001b[0mlen\u001b[0m\u001b[0;34m(\u001b[0m\u001b[0minput_data_raw\u001b[0m\u001b[0;34m)\u001b[0m \u001b[0;34m/\u001b[0m \u001b[0mrun_config\u001b[0m\u001b[0;34m[\u001b[0m\u001b[0;34m'batch_size'\u001b[0m\u001b[0;34m]\u001b[0m \u001b[0;34m/\u001b[0m \u001b[0mrun_config\u001b[0m\u001b[0;34m[\u001b[0m\u001b[0;34m'time_series_length'\u001b[0m\u001b[0;34m]\u001b[0m\u001b[0;34m)\u001b[0m\u001b[0;34m)\u001b[0m\u001b[0;34m\u001b[0m\u001b[0;34m\u001b[0m\u001b[0m\n",
      "\u001b[0;32m~/.conda/envs/tf_nightly/lib/python3.7/site-packages/tensorflow/python/keras/engine/base_layer.py\u001b[0m in \u001b[0;36m__call__\u001b[0;34m(self, inputs, *args, **kwargs)\u001b[0m\n\u001b[1;32m    674\u001b[0m           with base_layer_utils.autocast_context_manager(\n\u001b[1;32m    675\u001b[0m               input_list, self._mixed_precision_policy.should_cast_variables):\n\u001b[0;32m--> 676\u001b[0;31m             \u001b[0moutputs\u001b[0m \u001b[0;34m=\u001b[0m \u001b[0mself\u001b[0m\u001b[0;34m.\u001b[0m\u001b[0mcall\u001b[0m\u001b[0;34m(\u001b[0m\u001b[0minputs\u001b[0m\u001b[0;34m,\u001b[0m \u001b[0;34m*\u001b[0m\u001b[0margs\u001b[0m\u001b[0;34m,\u001b[0m \u001b[0;34m**\u001b[0m\u001b[0mkwargs\u001b[0m\u001b[0;34m)\u001b[0m\u001b[0;34m\u001b[0m\u001b[0;34m\u001b[0m\u001b[0m\n\u001b[0m\u001b[1;32m    677\u001b[0m           \u001b[0mself\u001b[0m\u001b[0;34m.\u001b[0m\u001b[0m_handle_activity_regularization\u001b[0m\u001b[0;34m(\u001b[0m\u001b[0minputs\u001b[0m\u001b[0;34m,\u001b[0m \u001b[0moutputs\u001b[0m\u001b[0;34m)\u001b[0m\u001b[0;34m\u001b[0m\u001b[0;34m\u001b[0m\u001b[0m\n\u001b[1;32m    678\u001b[0m           \u001b[0mself\u001b[0m\u001b[0;34m.\u001b[0m\u001b[0m_set_mask_metadata\u001b[0m\u001b[0;34m(\u001b[0m\u001b[0minputs\u001b[0m\u001b[0;34m,\u001b[0m \u001b[0moutputs\u001b[0m\u001b[0;34m,\u001b[0m \u001b[0mprevious_mask\u001b[0m\u001b[0;34m)\u001b[0m\u001b[0;34m\u001b[0m\u001b[0;34m\u001b[0m\u001b[0m\n",
      "\u001b[0;32m<ipython-input-22-d504f398c93a>\u001b[0m in \u001b[0;36mcall\u001b[0;34m(self, x, training, apply_sigmoid)\u001b[0m\n\u001b[1;32m    120\u001b[0m \u001b[0;34m\u001b[0m\u001b[0m\n\u001b[1;32m    121\u001b[0m     \u001b[0;32mdef\u001b[0m \u001b[0mcall\u001b[0m\u001b[0;34m(\u001b[0m\u001b[0mself\u001b[0m\u001b[0;34m,\u001b[0m \u001b[0mx\u001b[0m\u001b[0;34m,\u001b[0m \u001b[0mtraining\u001b[0m\u001b[0;34m=\u001b[0m\u001b[0;32mFalse\u001b[0m\u001b[0;34m,\u001b[0m \u001b[0mapply_sigmoid\u001b[0m\u001b[0;34m=\u001b[0m\u001b[0;32mFalse\u001b[0m\u001b[0;34m)\u001b[0m\u001b[0;34m:\u001b[0m\u001b[0;34m\u001b[0m\u001b[0;34m\u001b[0m\u001b[0m\n\u001b[0;32m--> 122\u001b[0;31m         return self.decode(self.reparameterize(*self.encode(x, training=training)), \n\u001b[0m\u001b[1;32m    123\u001b[0m                            apply_sigmoid=apply_sigmoid)\n\u001b[1;32m    124\u001b[0m \u001b[0;34m\u001b[0m\u001b[0m\n",
      "\u001b[0;32m<ipython-input-22-d504f398c93a>\u001b[0m in \u001b[0;36mencode\u001b[0;34m(self, x, training)\u001b[0m\n\u001b[1;32m     90\u001b[0m                                     axis=-1)\n\u001b[1;32m     91\u001b[0m         \u001b[0;32melse\u001b[0m\u001b[0;34m:\u001b[0m\u001b[0;34m\u001b[0m\u001b[0;34m\u001b[0m\u001b[0m\n\u001b[0;32m---> 92\u001b[0;31m             mean, logvar = tf.split(self.inference_net(x),\n\u001b[0m\u001b[1;32m     93\u001b[0m                                     \u001b[0mnum_or_size_splits\u001b[0m\u001b[0;34m=\u001b[0m\u001b[0;36m2\u001b[0m\u001b[0;34m,\u001b[0m\u001b[0;34m\u001b[0m\u001b[0;34m\u001b[0m\u001b[0m\n\u001b[1;32m     94\u001b[0m                                     axis=1)\n",
      "\u001b[0;32m~/.conda/envs/tf_nightly/lib/python3.7/site-packages/tensorflow/python/keras/engine/base_layer.py\u001b[0m in \u001b[0;36m__call__\u001b[0;34m(self, inputs, *args, **kwargs)\u001b[0m\n\u001b[1;32m    674\u001b[0m           with base_layer_utils.autocast_context_manager(\n\u001b[1;32m    675\u001b[0m               input_list, self._mixed_precision_policy.should_cast_variables):\n\u001b[0;32m--> 676\u001b[0;31m             \u001b[0moutputs\u001b[0m \u001b[0;34m=\u001b[0m \u001b[0mself\u001b[0m\u001b[0;34m.\u001b[0m\u001b[0mcall\u001b[0m\u001b[0;34m(\u001b[0m\u001b[0minputs\u001b[0m\u001b[0;34m,\u001b[0m \u001b[0;34m*\u001b[0m\u001b[0margs\u001b[0m\u001b[0;34m,\u001b[0m \u001b[0;34m**\u001b[0m\u001b[0mkwargs\u001b[0m\u001b[0;34m)\u001b[0m\u001b[0;34m\u001b[0m\u001b[0;34m\u001b[0m\u001b[0m\n\u001b[0m\u001b[1;32m    677\u001b[0m           \u001b[0mself\u001b[0m\u001b[0;34m.\u001b[0m\u001b[0m_handle_activity_regularization\u001b[0m\u001b[0;34m(\u001b[0m\u001b[0minputs\u001b[0m\u001b[0;34m,\u001b[0m \u001b[0moutputs\u001b[0m\u001b[0;34m)\u001b[0m\u001b[0;34m\u001b[0m\u001b[0;34m\u001b[0m\u001b[0m\n\u001b[1;32m    678\u001b[0m           \u001b[0mself\u001b[0m\u001b[0;34m.\u001b[0m\u001b[0m_set_mask_metadata\u001b[0m\u001b[0;34m(\u001b[0m\u001b[0minputs\u001b[0m\u001b[0;34m,\u001b[0m \u001b[0moutputs\u001b[0m\u001b[0;34m,\u001b[0m \u001b[0mprevious_mask\u001b[0m\u001b[0;34m)\u001b[0m\u001b[0;34m\u001b[0m\u001b[0;34m\u001b[0m\u001b[0m\n",
      "\u001b[0;32m~/.conda/envs/tf_nightly/lib/python3.7/site-packages/tensorflow/python/keras/engine/sequential.py\u001b[0m in \u001b[0;36mcall\u001b[0;34m(self, inputs, training, mask)\u001b[0m\n\u001b[1;32m    245\u001b[0m       \u001b[0;32mif\u001b[0m \u001b[0;32mnot\u001b[0m \u001b[0mself\u001b[0m\u001b[0;34m.\u001b[0m\u001b[0mbuilt\u001b[0m\u001b[0;34m:\u001b[0m\u001b[0;34m\u001b[0m\u001b[0;34m\u001b[0m\u001b[0m\n\u001b[1;32m    246\u001b[0m         \u001b[0mself\u001b[0m\u001b[0;34m.\u001b[0m\u001b[0m_init_graph_network\u001b[0m\u001b[0;34m(\u001b[0m\u001b[0mself\u001b[0m\u001b[0;34m.\u001b[0m\u001b[0minputs\u001b[0m\u001b[0;34m,\u001b[0m \u001b[0mself\u001b[0m\u001b[0;34m.\u001b[0m\u001b[0moutputs\u001b[0m\u001b[0;34m,\u001b[0m \u001b[0mname\u001b[0m\u001b[0;34m=\u001b[0m\u001b[0mself\u001b[0m\u001b[0;34m.\u001b[0m\u001b[0mname\u001b[0m\u001b[0;34m)\u001b[0m\u001b[0;34m\u001b[0m\u001b[0;34m\u001b[0m\u001b[0m\n\u001b[0;32m--> 247\u001b[0;31m       \u001b[0;32mreturn\u001b[0m \u001b[0msuper\u001b[0m\u001b[0;34m(\u001b[0m\u001b[0mSequential\u001b[0m\u001b[0;34m,\u001b[0m \u001b[0mself\u001b[0m\u001b[0;34m)\u001b[0m\u001b[0;34m.\u001b[0m\u001b[0mcall\u001b[0m\u001b[0;34m(\u001b[0m\u001b[0minputs\u001b[0m\u001b[0;34m,\u001b[0m \u001b[0mtraining\u001b[0m\u001b[0;34m=\u001b[0m\u001b[0mtraining\u001b[0m\u001b[0;34m,\u001b[0m \u001b[0mmask\u001b[0m\u001b[0;34m=\u001b[0m\u001b[0mmask\u001b[0m\u001b[0;34m)\u001b[0m\u001b[0;34m\u001b[0m\u001b[0;34m\u001b[0m\u001b[0m\n\u001b[0m\u001b[1;32m    248\u001b[0m \u001b[0;34m\u001b[0m\u001b[0m\n\u001b[1;32m    249\u001b[0m     \u001b[0moutputs\u001b[0m \u001b[0;34m=\u001b[0m \u001b[0minputs\u001b[0m  \u001b[0;31m# handle the corner case where self.layers is empty\u001b[0m\u001b[0;34m\u001b[0m\u001b[0;34m\u001b[0m\u001b[0m\n",
      "\u001b[0;32m~/.conda/envs/tf_nightly/lib/python3.7/site-packages/tensorflow/python/keras/engine/network.py\u001b[0m in \u001b[0;36mcall\u001b[0;34m(self, inputs, training, mask)\u001b[0m\n\u001b[1;32m    747\u001b[0m                                 ' implement a `call` method.')\n\u001b[1;32m    748\u001b[0m \u001b[0;34m\u001b[0m\u001b[0m\n\u001b[0;32m--> 749\u001b[0;31m     \u001b[0;32mreturn\u001b[0m \u001b[0mself\u001b[0m\u001b[0;34m.\u001b[0m\u001b[0m_run_internal_graph\u001b[0m\u001b[0;34m(\u001b[0m\u001b[0minputs\u001b[0m\u001b[0;34m,\u001b[0m \u001b[0mtraining\u001b[0m\u001b[0;34m=\u001b[0m\u001b[0mtraining\u001b[0m\u001b[0;34m,\u001b[0m \u001b[0mmask\u001b[0m\u001b[0;34m=\u001b[0m\u001b[0mmask\u001b[0m\u001b[0;34m)\u001b[0m\u001b[0;34m\u001b[0m\u001b[0;34m\u001b[0m\u001b[0m\n\u001b[0m\u001b[1;32m    750\u001b[0m \u001b[0;34m\u001b[0m\u001b[0m\n\u001b[1;32m    751\u001b[0m   \u001b[0;32mdef\u001b[0m \u001b[0mcompute_output_shape\u001b[0m\u001b[0;34m(\u001b[0m\u001b[0mself\u001b[0m\u001b[0;34m,\u001b[0m \u001b[0minput_shape\u001b[0m\u001b[0;34m)\u001b[0m\u001b[0;34m:\u001b[0m\u001b[0;34m\u001b[0m\u001b[0;34m\u001b[0m\u001b[0m\n",
      "\u001b[0;32m~/.conda/envs/tf_nightly/lib/python3.7/site-packages/tensorflow/python/keras/engine/network.py\u001b[0m in \u001b[0;36m_run_internal_graph\u001b[0;34m(self, inputs, training, mask)\u001b[0m\n\u001b[1;32m    889\u001b[0m \u001b[0;34m\u001b[0m\u001b[0m\n\u001b[1;32m    890\u001b[0m           \u001b[0;31m# Compute outputs.\u001b[0m\u001b[0;34m\u001b[0m\u001b[0;34m\u001b[0m\u001b[0;34m\u001b[0m\u001b[0m\n\u001b[0;32m--> 891\u001b[0;31m           \u001b[0moutput_tensors\u001b[0m \u001b[0;34m=\u001b[0m \u001b[0mlayer\u001b[0m\u001b[0;34m(\u001b[0m\u001b[0mcomputed_tensors\u001b[0m\u001b[0;34m,\u001b[0m \u001b[0;34m**\u001b[0m\u001b[0mkwargs\u001b[0m\u001b[0;34m)\u001b[0m\u001b[0;34m\u001b[0m\u001b[0;34m\u001b[0m\u001b[0m\n\u001b[0m\u001b[1;32m    892\u001b[0m \u001b[0;34m\u001b[0m\u001b[0m\n\u001b[1;32m    893\u001b[0m           \u001b[0;31m# Update tensor_dict.\u001b[0m\u001b[0;34m\u001b[0m\u001b[0;34m\u001b[0m\u001b[0;34m\u001b[0m\u001b[0m\n",
      "\u001b[0;32m~/.conda/envs/tf_nightly/lib/python3.7/site-packages/tensorflow/python/keras/engine/base_layer.py\u001b[0m in \u001b[0;36m__call__\u001b[0;34m(self, inputs, *args, **kwargs)\u001b[0m\n\u001b[1;32m    674\u001b[0m           with base_layer_utils.autocast_context_manager(\n\u001b[1;32m    675\u001b[0m               input_list, self._mixed_precision_policy.should_cast_variables):\n\u001b[0;32m--> 676\u001b[0;31m             \u001b[0moutputs\u001b[0m \u001b[0;34m=\u001b[0m \u001b[0mself\u001b[0m\u001b[0;34m.\u001b[0m\u001b[0mcall\u001b[0m\u001b[0;34m(\u001b[0m\u001b[0minputs\u001b[0m\u001b[0;34m,\u001b[0m \u001b[0;34m*\u001b[0m\u001b[0margs\u001b[0m\u001b[0;34m,\u001b[0m \u001b[0;34m**\u001b[0m\u001b[0mkwargs\u001b[0m\u001b[0;34m)\u001b[0m\u001b[0;34m\u001b[0m\u001b[0;34m\u001b[0m\u001b[0m\n\u001b[0m\u001b[1;32m    677\u001b[0m           \u001b[0mself\u001b[0m\u001b[0;34m.\u001b[0m\u001b[0m_handle_activity_regularization\u001b[0m\u001b[0;34m(\u001b[0m\u001b[0minputs\u001b[0m\u001b[0;34m,\u001b[0m \u001b[0moutputs\u001b[0m\u001b[0;34m)\u001b[0m\u001b[0;34m\u001b[0m\u001b[0;34m\u001b[0m\u001b[0m\n\u001b[1;32m    678\u001b[0m           \u001b[0mself\u001b[0m\u001b[0;34m.\u001b[0m\u001b[0m_set_mask_metadata\u001b[0m\u001b[0;34m(\u001b[0m\u001b[0minputs\u001b[0m\u001b[0;34m,\u001b[0m \u001b[0moutputs\u001b[0m\u001b[0;34m,\u001b[0m \u001b[0mprevious_mask\u001b[0m\u001b[0;34m)\u001b[0m\u001b[0;34m\u001b[0m\u001b[0;34m\u001b[0m\u001b[0m\n",
      "\u001b[0;32m~/.conda/envs/tf_nightly/lib/python3.7/site-packages/tensorflow/python/keras/engine/sequential.py\u001b[0m in \u001b[0;36mcall\u001b[0;34m(self, inputs, training, mask)\u001b[0m\n\u001b[1;32m    259\u001b[0m         \u001b[0mkwargs\u001b[0m\u001b[0;34m[\u001b[0m\u001b[0;34m'training'\u001b[0m\u001b[0;34m]\u001b[0m \u001b[0;34m=\u001b[0m \u001b[0mtraining\u001b[0m\u001b[0;34m\u001b[0m\u001b[0;34m\u001b[0m\u001b[0m\n\u001b[1;32m    260\u001b[0m \u001b[0;34m\u001b[0m\u001b[0m\n\u001b[0;32m--> 261\u001b[0;31m       \u001b[0moutputs\u001b[0m \u001b[0;34m=\u001b[0m \u001b[0mlayer\u001b[0m\u001b[0;34m(\u001b[0m\u001b[0minputs\u001b[0m\u001b[0;34m,\u001b[0m \u001b[0;34m**\u001b[0m\u001b[0mkwargs\u001b[0m\u001b[0;34m)\u001b[0m\u001b[0;34m\u001b[0m\u001b[0;34m\u001b[0m\u001b[0m\n\u001b[0m\u001b[1;32m    262\u001b[0m \u001b[0;34m\u001b[0m\u001b[0m\n\u001b[1;32m    263\u001b[0m       \u001b[0;31m# `outputs` will be the inputs to the next layer.\u001b[0m\u001b[0;34m\u001b[0m\u001b[0;34m\u001b[0m\u001b[0;34m\u001b[0m\u001b[0m\n",
      "\u001b[0;32m~/.conda/envs/tf_nightly/lib/python3.7/site-packages/tensorflow/python/keras/engine/base_layer.py\u001b[0m in \u001b[0;36m__call__\u001b[0;34m(self, inputs, *args, **kwargs)\u001b[0m\n\u001b[1;32m    674\u001b[0m           with base_layer_utils.autocast_context_manager(\n\u001b[1;32m    675\u001b[0m               input_list, self._mixed_precision_policy.should_cast_variables):\n\u001b[0;32m--> 676\u001b[0;31m             \u001b[0moutputs\u001b[0m \u001b[0;34m=\u001b[0m \u001b[0mself\u001b[0m\u001b[0;34m.\u001b[0m\u001b[0mcall\u001b[0m\u001b[0;34m(\u001b[0m\u001b[0minputs\u001b[0m\u001b[0;34m,\u001b[0m \u001b[0;34m*\u001b[0m\u001b[0margs\u001b[0m\u001b[0;34m,\u001b[0m \u001b[0;34m**\u001b[0m\u001b[0mkwargs\u001b[0m\u001b[0;34m)\u001b[0m\u001b[0;34m\u001b[0m\u001b[0;34m\u001b[0m\u001b[0m\n\u001b[0m\u001b[1;32m    677\u001b[0m           \u001b[0mself\u001b[0m\u001b[0;34m.\u001b[0m\u001b[0m_handle_activity_regularization\u001b[0m\u001b[0;34m(\u001b[0m\u001b[0minputs\u001b[0m\u001b[0;34m,\u001b[0m \u001b[0moutputs\u001b[0m\u001b[0;34m)\u001b[0m\u001b[0;34m\u001b[0m\u001b[0;34m\u001b[0m\u001b[0m\n\u001b[1;32m    678\u001b[0m           \u001b[0mself\u001b[0m\u001b[0;34m.\u001b[0m\u001b[0m_set_mask_metadata\u001b[0m\u001b[0;34m(\u001b[0m\u001b[0minputs\u001b[0m\u001b[0;34m,\u001b[0m \u001b[0moutputs\u001b[0m\u001b[0;34m,\u001b[0m \u001b[0mprevious_mask\u001b[0m\u001b[0;34m)\u001b[0m\u001b[0;34m\u001b[0m\u001b[0;34m\u001b[0m\u001b[0m\n",
      "\u001b[0;32m~/.conda/envs/tf_nightly/lib/python3.7/site-packages/tensorflow/python/keras/layers/convolutional.py\u001b[0m in \u001b[0;36mcall\u001b[0;34m(self, inputs)\u001b[0m\n\u001b[1;32m    371\u001b[0m     \u001b[0;32mif\u001b[0m \u001b[0mself\u001b[0m\u001b[0;34m.\u001b[0m\u001b[0mpadding\u001b[0m \u001b[0;34m==\u001b[0m \u001b[0;34m'causal'\u001b[0m\u001b[0;34m:\u001b[0m\u001b[0;34m\u001b[0m\u001b[0;34m\u001b[0m\u001b[0m\n\u001b[1;32m    372\u001b[0m       \u001b[0minputs\u001b[0m \u001b[0;34m=\u001b[0m \u001b[0marray_ops\u001b[0m\u001b[0;34m.\u001b[0m\u001b[0mpad\u001b[0m\u001b[0;34m(\u001b[0m\u001b[0minputs\u001b[0m\u001b[0;34m,\u001b[0m \u001b[0mself\u001b[0m\u001b[0;34m.\u001b[0m\u001b[0m_compute_causal_padding\u001b[0m\u001b[0;34m(\u001b[0m\u001b[0;34m)\u001b[0m\u001b[0;34m)\u001b[0m\u001b[0;34m\u001b[0m\u001b[0;34m\u001b[0m\u001b[0m\n\u001b[0;32m--> 373\u001b[0;31m     \u001b[0;32mreturn\u001b[0m \u001b[0msuper\u001b[0m\u001b[0;34m(\u001b[0m\u001b[0mConv1D\u001b[0m\u001b[0;34m,\u001b[0m \u001b[0mself\u001b[0m\u001b[0;34m)\u001b[0m\u001b[0;34m.\u001b[0m\u001b[0mcall\u001b[0m\u001b[0;34m(\u001b[0m\u001b[0minputs\u001b[0m\u001b[0;34m)\u001b[0m\u001b[0;34m\u001b[0m\u001b[0;34m\u001b[0m\u001b[0m\n\u001b[0m\u001b[1;32m    374\u001b[0m \u001b[0;34m\u001b[0m\u001b[0m\n\u001b[1;32m    375\u001b[0m \u001b[0;34m\u001b[0m\u001b[0m\n",
      "\u001b[0;32m~/.conda/envs/tf_nightly/lib/python3.7/site-packages/tensorflow/python/keras/layers/convolutional.py\u001b[0m in \u001b[0;36mcall\u001b[0;34m(self, inputs)\u001b[0m\n\u001b[1;32m    194\u001b[0m \u001b[0;34m\u001b[0m\u001b[0m\n\u001b[1;32m    195\u001b[0m   \u001b[0;32mdef\u001b[0m \u001b[0mcall\u001b[0m\u001b[0;34m(\u001b[0m\u001b[0mself\u001b[0m\u001b[0;34m,\u001b[0m \u001b[0minputs\u001b[0m\u001b[0;34m)\u001b[0m\u001b[0;34m:\u001b[0m\u001b[0;34m\u001b[0m\u001b[0;34m\u001b[0m\u001b[0m\n\u001b[0;32m--> 196\u001b[0;31m     \u001b[0moutputs\u001b[0m \u001b[0;34m=\u001b[0m \u001b[0mself\u001b[0m\u001b[0;34m.\u001b[0m\u001b[0m_convolution_op\u001b[0m\u001b[0;34m(\u001b[0m\u001b[0minputs\u001b[0m\u001b[0;34m,\u001b[0m \u001b[0mself\u001b[0m\u001b[0;34m.\u001b[0m\u001b[0mkernel\u001b[0m\u001b[0;34m)\u001b[0m\u001b[0;34m\u001b[0m\u001b[0;34m\u001b[0m\u001b[0m\n\u001b[0m\u001b[1;32m    197\u001b[0m \u001b[0;34m\u001b[0m\u001b[0m\n\u001b[1;32m    198\u001b[0m     \u001b[0;32mif\u001b[0m \u001b[0mself\u001b[0m\u001b[0;34m.\u001b[0m\u001b[0muse_bias\u001b[0m\u001b[0;34m:\u001b[0m\u001b[0;34m\u001b[0m\u001b[0;34m\u001b[0m\u001b[0m\n",
      "\u001b[0;32m~/.conda/envs/tf_nightly/lib/python3.7/site-packages/tensorflow/python/ops/nn_ops.py\u001b[0m in \u001b[0;36m__call__\u001b[0;34m(self, inp, filter)\u001b[0m\n\u001b[1;32m   1077\u001b[0m \u001b[0;34m\u001b[0m\u001b[0m\n\u001b[1;32m   1078\u001b[0m   \u001b[0;32mdef\u001b[0m \u001b[0m__call__\u001b[0m\u001b[0;34m(\u001b[0m\u001b[0mself\u001b[0m\u001b[0;34m,\u001b[0m \u001b[0minp\u001b[0m\u001b[0;34m,\u001b[0m \u001b[0mfilter\u001b[0m\u001b[0;34m)\u001b[0m\u001b[0;34m:\u001b[0m  \u001b[0;31m# pylint: disable=redefined-builtin\u001b[0m\u001b[0;34m\u001b[0m\u001b[0;34m\u001b[0m\u001b[0m\n\u001b[0;32m-> 1079\u001b[0;31m     \u001b[0;32mreturn\u001b[0m \u001b[0mself\u001b[0m\u001b[0;34m.\u001b[0m\u001b[0mconv_op\u001b[0m\u001b[0;34m(\u001b[0m\u001b[0minp\u001b[0m\u001b[0;34m,\u001b[0m \u001b[0mfilter\u001b[0m\u001b[0;34m)\u001b[0m\u001b[0;34m\u001b[0m\u001b[0;34m\u001b[0m\u001b[0m\n\u001b[0m\u001b[1;32m   1080\u001b[0m \u001b[0;34m\u001b[0m\u001b[0m\n\u001b[1;32m   1081\u001b[0m \u001b[0;34m\u001b[0m\u001b[0m\n",
      "\u001b[0;32m~/.conda/envs/tf_nightly/lib/python3.7/site-packages/tensorflow/python/ops/nn_ops.py\u001b[0m in \u001b[0;36m__call__\u001b[0;34m(self, inp, filter)\u001b[0m\n\u001b[1;32m    633\u001b[0m \u001b[0;34m\u001b[0m\u001b[0m\n\u001b[1;32m    634\u001b[0m   \u001b[0;32mdef\u001b[0m \u001b[0m__call__\u001b[0m\u001b[0;34m(\u001b[0m\u001b[0mself\u001b[0m\u001b[0;34m,\u001b[0m \u001b[0minp\u001b[0m\u001b[0;34m,\u001b[0m \u001b[0mfilter\u001b[0m\u001b[0;34m)\u001b[0m\u001b[0;34m:\u001b[0m  \u001b[0;31m# pylint: disable=redefined-builtin\u001b[0m\u001b[0;34m\u001b[0m\u001b[0;34m\u001b[0m\u001b[0m\n\u001b[0;32m--> 635\u001b[0;31m     \u001b[0;32mreturn\u001b[0m \u001b[0mself\u001b[0m\u001b[0;34m.\u001b[0m\u001b[0mcall\u001b[0m\u001b[0;34m(\u001b[0m\u001b[0minp\u001b[0m\u001b[0;34m,\u001b[0m \u001b[0mfilter\u001b[0m\u001b[0;34m)\u001b[0m\u001b[0;34m\u001b[0m\u001b[0;34m\u001b[0m\u001b[0m\n\u001b[0m\u001b[1;32m    636\u001b[0m \u001b[0;34m\u001b[0m\u001b[0m\n\u001b[1;32m    637\u001b[0m \u001b[0;34m\u001b[0m\u001b[0m\n",
      "\u001b[0;32m~/.conda/envs/tf_nightly/lib/python3.7/site-packages/tensorflow/python/ops/nn_ops.py\u001b[0m in \u001b[0;36m__call__\u001b[0;34m(self, inp, filter)\u001b[0m\n\u001b[1;32m    232\u001b[0m         \u001b[0mpadding\u001b[0m\u001b[0;34m=\u001b[0m\u001b[0mself\u001b[0m\u001b[0;34m.\u001b[0m\u001b[0mpadding\u001b[0m\u001b[0;34m,\u001b[0m\u001b[0;34m\u001b[0m\u001b[0;34m\u001b[0m\u001b[0m\n\u001b[1;32m    233\u001b[0m         \u001b[0mdata_format\u001b[0m\u001b[0;34m=\u001b[0m\u001b[0mself\u001b[0m\u001b[0;34m.\u001b[0m\u001b[0mdata_format\u001b[0m\u001b[0;34m,\u001b[0m\u001b[0;34m\u001b[0m\u001b[0;34m\u001b[0m\u001b[0m\n\u001b[0;32m--> 234\u001b[0;31m         name=self.name)\n\u001b[0m\u001b[1;32m    235\u001b[0m \u001b[0;34m\u001b[0m\u001b[0m\n\u001b[1;32m    236\u001b[0m \u001b[0;34m\u001b[0m\u001b[0m\n",
      "\u001b[0;32m~/.conda/envs/tf_nightly/lib/python3.7/site-packages/tensorflow/python/ops/nn_ops.py\u001b[0m in \u001b[0;36m_conv1d\u001b[0;34m(self, input, filter, strides, padding, data_format, name)\u001b[0m\n\u001b[1;32m    221\u001b[0m         \u001b[0mpadding\u001b[0m\u001b[0;34m=\u001b[0m\u001b[0mpadding\u001b[0m\u001b[0;34m,\u001b[0m\u001b[0;34m\u001b[0m\u001b[0;34m\u001b[0m\u001b[0m\n\u001b[1;32m    222\u001b[0m         \u001b[0mdata_format\u001b[0m\u001b[0;34m=\u001b[0m\u001b[0mdata_format\u001b[0m\u001b[0;34m,\u001b[0m\u001b[0;34m\u001b[0m\u001b[0;34m\u001b[0m\u001b[0m\n\u001b[0;32m--> 223\u001b[0;31m         name=name)\n\u001b[0m\u001b[1;32m    224\u001b[0m \u001b[0;34m\u001b[0m\u001b[0m\n\u001b[1;32m    225\u001b[0m   \u001b[0;31m# pylint: enable=redefined-builtin\u001b[0m\u001b[0;34m\u001b[0m\u001b[0;34m\u001b[0m\u001b[0;34m\u001b[0m\u001b[0m\n",
      "\u001b[0;32m~/.conda/envs/tf_nightly/lib/python3.7/site-packages/tensorflow/python/util/deprecation.py\u001b[0m in \u001b[0;36mnew_func\u001b[0;34m(*args, **kwargs)\u001b[0m\n\u001b[1;32m    572\u001b[0m                   \u001b[0mfunc\u001b[0m\u001b[0;34m.\u001b[0m\u001b[0m__module__\u001b[0m\u001b[0;34m,\u001b[0m \u001b[0marg_name\u001b[0m\u001b[0;34m,\u001b[0m \u001b[0marg_value\u001b[0m\u001b[0;34m,\u001b[0m \u001b[0;34m'in a future version'\u001b[0m\u001b[0;34m\u001b[0m\u001b[0;34m\u001b[0m\u001b[0m\n\u001b[1;32m    573\u001b[0m                   if date is None else ('after %s' % date), instructions)\n\u001b[0;32m--> 574\u001b[0;31m       \u001b[0;32mreturn\u001b[0m \u001b[0mfunc\u001b[0m\u001b[0;34m(\u001b[0m\u001b[0;34m*\u001b[0m\u001b[0margs\u001b[0m\u001b[0;34m,\u001b[0m \u001b[0;34m**\u001b[0m\u001b[0mkwargs\u001b[0m\u001b[0;34m)\u001b[0m\u001b[0;34m\u001b[0m\u001b[0;34m\u001b[0m\u001b[0m\n\u001b[0m\u001b[1;32m    575\u001b[0m \u001b[0;34m\u001b[0m\u001b[0m\n\u001b[1;32m    576\u001b[0m     doc = _add_deprecated_arg_value_notice_to_docstring(\n",
      "\u001b[0;32m~/.conda/envs/tf_nightly/lib/python3.7/site-packages/tensorflow/python/util/deprecation.py\u001b[0m in \u001b[0;36mnew_func\u001b[0;34m(*args, **kwargs)\u001b[0m\n\u001b[1;32m    572\u001b[0m                   \u001b[0mfunc\u001b[0m\u001b[0;34m.\u001b[0m\u001b[0m__module__\u001b[0m\u001b[0;34m,\u001b[0m \u001b[0marg_name\u001b[0m\u001b[0;34m,\u001b[0m \u001b[0marg_value\u001b[0m\u001b[0;34m,\u001b[0m \u001b[0;34m'in a future version'\u001b[0m\u001b[0;34m\u001b[0m\u001b[0;34m\u001b[0m\u001b[0m\n\u001b[1;32m    573\u001b[0m                   if date is None else ('after %s' % date), instructions)\n\u001b[0;32m--> 574\u001b[0;31m       \u001b[0;32mreturn\u001b[0m \u001b[0mfunc\u001b[0m\u001b[0;34m(\u001b[0m\u001b[0;34m*\u001b[0m\u001b[0margs\u001b[0m\u001b[0;34m,\u001b[0m \u001b[0;34m**\u001b[0m\u001b[0mkwargs\u001b[0m\u001b[0;34m)\u001b[0m\u001b[0;34m\u001b[0m\u001b[0;34m\u001b[0m\u001b[0m\n\u001b[0m\u001b[1;32m    575\u001b[0m \u001b[0;34m\u001b[0m\u001b[0m\n\u001b[1;32m    576\u001b[0m     doc = _add_deprecated_arg_value_notice_to_docstring(\n",
      "\u001b[0;32m~/.conda/envs/tf_nightly/lib/python3.7/site-packages/tensorflow/python/ops/nn_ops.py\u001b[0m in \u001b[0;36mconv1d\u001b[0;34m(value, filters, stride, padding, use_cudnn_on_gpu, data_format, name, input, dilations)\u001b[0m\n\u001b[1;32m   1612\u001b[0m     \u001b[0mdilations\u001b[0m \u001b[0;34m=\u001b[0m \u001b[0;34m[\u001b[0m\u001b[0;36m1\u001b[0m\u001b[0;34m]\u001b[0m \u001b[0;34m+\u001b[0m \u001b[0m_get_sequence\u001b[0m\u001b[0;34m(\u001b[0m\u001b[0mdilations\u001b[0m\u001b[0;34m,\u001b[0m \u001b[0;36m1\u001b[0m\u001b[0;34m,\u001b[0m \u001b[0mchannel_index\u001b[0m\u001b[0;34m,\u001b[0m \u001b[0;34m\"dilations\"\u001b[0m\u001b[0;34m)\u001b[0m\u001b[0;34m\u001b[0m\u001b[0;34m\u001b[0m\u001b[0m\n\u001b[1;32m   1613\u001b[0m \u001b[0;34m\u001b[0m\u001b[0m\n\u001b[0;32m-> 1614\u001b[0;31m     \u001b[0mvalue\u001b[0m \u001b[0;34m=\u001b[0m \u001b[0marray_ops\u001b[0m\u001b[0;34m.\u001b[0m\u001b[0mexpand_dims\u001b[0m\u001b[0;34m(\u001b[0m\u001b[0mvalue\u001b[0m\u001b[0;34m,\u001b[0m \u001b[0mspatial_start_dim\u001b[0m\u001b[0;34m)\u001b[0m\u001b[0;34m\u001b[0m\u001b[0;34m\u001b[0m\u001b[0m\n\u001b[0m\u001b[1;32m   1615\u001b[0m     \u001b[0mfilters\u001b[0m \u001b[0;34m=\u001b[0m \u001b[0marray_ops\u001b[0m\u001b[0;34m.\u001b[0m\u001b[0mexpand_dims\u001b[0m\u001b[0;34m(\u001b[0m\u001b[0mfilters\u001b[0m\u001b[0;34m,\u001b[0m \u001b[0;36m0\u001b[0m\u001b[0;34m)\u001b[0m\u001b[0;34m\u001b[0m\u001b[0;34m\u001b[0m\u001b[0m\n\u001b[1;32m   1616\u001b[0m     result = gen_nn_ops.conv2d(\n",
      "\u001b[0;32m~/.conda/envs/tf_nightly/lib/python3.7/site-packages/tensorflow/python/util/dispatch.py\u001b[0m in \u001b[0;36mwrapper\u001b[0;34m(*args, **kwargs)\u001b[0m\n\u001b[1;32m    178\u001b[0m     \u001b[0;34m\"\"\"Call target, and fall back on dispatchers if there is a TypeError.\"\"\"\u001b[0m\u001b[0;34m\u001b[0m\u001b[0;34m\u001b[0m\u001b[0m\n\u001b[1;32m    179\u001b[0m     \u001b[0;32mtry\u001b[0m\u001b[0;34m:\u001b[0m\u001b[0;34m\u001b[0m\u001b[0;34m\u001b[0m\u001b[0m\n\u001b[0;32m--> 180\u001b[0;31m       \u001b[0;32mreturn\u001b[0m \u001b[0mtarget\u001b[0m\u001b[0;34m(\u001b[0m\u001b[0;34m*\u001b[0m\u001b[0margs\u001b[0m\u001b[0;34m,\u001b[0m \u001b[0;34m**\u001b[0m\u001b[0mkwargs\u001b[0m\u001b[0;34m)\u001b[0m\u001b[0;34m\u001b[0m\u001b[0;34m\u001b[0m\u001b[0m\n\u001b[0m\u001b[1;32m    181\u001b[0m     \u001b[0;32mexcept\u001b[0m \u001b[0;34m(\u001b[0m\u001b[0mTypeError\u001b[0m\u001b[0;34m,\u001b[0m \u001b[0mValueError\u001b[0m\u001b[0;34m)\u001b[0m\u001b[0;34m:\u001b[0m\u001b[0;34m\u001b[0m\u001b[0;34m\u001b[0m\u001b[0m\n\u001b[1;32m    182\u001b[0m       \u001b[0;31m# Note: convert_to_eager_tensor currently raises a ValueError, not a\u001b[0m\u001b[0;34m\u001b[0m\u001b[0;34m\u001b[0m\u001b[0;34m\u001b[0m\u001b[0m\n",
      "\u001b[0;32m~/.conda/envs/tf_nightly/lib/python3.7/site-packages/tensorflow/python/util/deprecation.py\u001b[0m in \u001b[0;36mnew_func\u001b[0;34m(*args, **kwargs)\u001b[0m\n\u001b[1;32m    505\u001b[0m                 \u001b[0;34m'in a future version'\u001b[0m \u001b[0;32mif\u001b[0m \u001b[0mdate\u001b[0m \u001b[0;32mis\u001b[0m \u001b[0;32mNone\u001b[0m \u001b[0;32melse\u001b[0m \u001b[0;34m(\u001b[0m\u001b[0;34m'after %s'\u001b[0m \u001b[0;34m%\u001b[0m \u001b[0mdate\u001b[0m\u001b[0;34m)\u001b[0m\u001b[0;34m,\u001b[0m\u001b[0;34m\u001b[0m\u001b[0;34m\u001b[0m\u001b[0m\n\u001b[1;32m    506\u001b[0m                 instructions)\n\u001b[0;32m--> 507\u001b[0;31m       \u001b[0;32mreturn\u001b[0m \u001b[0mfunc\u001b[0m\u001b[0;34m(\u001b[0m\u001b[0;34m*\u001b[0m\u001b[0margs\u001b[0m\u001b[0;34m,\u001b[0m \u001b[0;34m**\u001b[0m\u001b[0mkwargs\u001b[0m\u001b[0;34m)\u001b[0m\u001b[0;34m\u001b[0m\u001b[0;34m\u001b[0m\u001b[0m\n\u001b[0m\u001b[1;32m    508\u001b[0m \u001b[0;34m\u001b[0m\u001b[0m\n\u001b[1;32m    509\u001b[0m     doc = _add_deprecated_arg_notice_to_docstring(\n",
      "\u001b[0;32m~/.conda/envs/tf_nightly/lib/python3.7/site-packages/tensorflow/python/ops/array_ops.py\u001b[0m in \u001b[0;36mexpand_dims\u001b[0;34m(input, axis, name, dim)\u001b[0m\n\u001b[1;32m    146\u001b[0m   \u001b[0;32mif\u001b[0m \u001b[0maxis\u001b[0m \u001b[0;32mis\u001b[0m \u001b[0;32mNone\u001b[0m\u001b[0;34m:\u001b[0m\u001b[0;34m\u001b[0m\u001b[0;34m\u001b[0m\u001b[0m\n\u001b[1;32m    147\u001b[0m     \u001b[0;32mraise\u001b[0m \u001b[0mValueError\u001b[0m\u001b[0;34m(\u001b[0m\u001b[0;34m\"Must specify an axis argument to tf.expand_dims()\"\u001b[0m\u001b[0;34m)\u001b[0m\u001b[0;34m\u001b[0m\u001b[0;34m\u001b[0m\u001b[0m\n\u001b[0;32m--> 148\u001b[0;31m   \u001b[0;32mreturn\u001b[0m \u001b[0mexpand_dims_v2\u001b[0m\u001b[0;34m(\u001b[0m\u001b[0minput\u001b[0m\u001b[0;34m,\u001b[0m \u001b[0maxis\u001b[0m\u001b[0;34m,\u001b[0m \u001b[0mname\u001b[0m\u001b[0;34m)\u001b[0m\u001b[0;34m\u001b[0m\u001b[0;34m\u001b[0m\u001b[0m\n\u001b[0m\u001b[1;32m    149\u001b[0m \u001b[0;34m\u001b[0m\u001b[0m\n\u001b[1;32m    150\u001b[0m \u001b[0;34m\u001b[0m\u001b[0m\n",
      "\u001b[0;32m~/.conda/envs/tf_nightly/lib/python3.7/site-packages/tensorflow/python/util/dispatch.py\u001b[0m in \u001b[0;36mwrapper\u001b[0;34m(*args, **kwargs)\u001b[0m\n\u001b[1;32m    178\u001b[0m     \u001b[0;34m\"\"\"Call target, and fall back on dispatchers if there is a TypeError.\"\"\"\u001b[0m\u001b[0;34m\u001b[0m\u001b[0;34m\u001b[0m\u001b[0m\n\u001b[1;32m    179\u001b[0m     \u001b[0;32mtry\u001b[0m\u001b[0;34m:\u001b[0m\u001b[0;34m\u001b[0m\u001b[0;34m\u001b[0m\u001b[0m\n\u001b[0;32m--> 180\u001b[0;31m       \u001b[0;32mreturn\u001b[0m \u001b[0mtarget\u001b[0m\u001b[0;34m(\u001b[0m\u001b[0;34m*\u001b[0m\u001b[0margs\u001b[0m\u001b[0;34m,\u001b[0m \u001b[0;34m**\u001b[0m\u001b[0mkwargs\u001b[0m\u001b[0;34m)\u001b[0m\u001b[0;34m\u001b[0m\u001b[0;34m\u001b[0m\u001b[0m\n\u001b[0m\u001b[1;32m    181\u001b[0m     \u001b[0;32mexcept\u001b[0m \u001b[0;34m(\u001b[0m\u001b[0mTypeError\u001b[0m\u001b[0;34m,\u001b[0m \u001b[0mValueError\u001b[0m\u001b[0;34m)\u001b[0m\u001b[0;34m:\u001b[0m\u001b[0;34m\u001b[0m\u001b[0;34m\u001b[0m\u001b[0m\n\u001b[1;32m    182\u001b[0m       \u001b[0;31m# Note: convert_to_eager_tensor currently raises a ValueError, not a\u001b[0m\u001b[0;34m\u001b[0m\u001b[0;34m\u001b[0m\u001b[0;34m\u001b[0m\u001b[0m\n",
      "\u001b[0;32m~/.conda/envs/tf_nightly/lib/python3.7/site-packages/tensorflow/python/ops/array_ops.py\u001b[0m in \u001b[0;36mexpand_dims_v2\u001b[0;34m(input, axis, name)\u001b[0m\n\u001b[1;32m    195\u001b[0m     \u001b[0mdimension\u001b[0m \u001b[0mof\u001b[0m \u001b[0msize\u001b[0m \u001b[0;36m1\u001b[0m \u001b[0madded\u001b[0m\u001b[0;34m.\u001b[0m\u001b[0;34m\u001b[0m\u001b[0;34m\u001b[0m\u001b[0m\n\u001b[1;32m    196\u001b[0m   \"\"\"\n\u001b[0;32m--> 197\u001b[0;31m   \u001b[0;32mreturn\u001b[0m \u001b[0mgen_array_ops\u001b[0m\u001b[0;34m.\u001b[0m\u001b[0mexpand_dims\u001b[0m\u001b[0;34m(\u001b[0m\u001b[0minput\u001b[0m\u001b[0;34m,\u001b[0m \u001b[0maxis\u001b[0m\u001b[0;34m,\u001b[0m \u001b[0mname\u001b[0m\u001b[0;34m)\u001b[0m\u001b[0;34m\u001b[0m\u001b[0;34m\u001b[0m\u001b[0m\n\u001b[0m\u001b[1;32m    198\u001b[0m \u001b[0;34m\u001b[0m\u001b[0m\n\u001b[1;32m    199\u001b[0m \u001b[0;34m\u001b[0m\u001b[0m\n",
      "\u001b[0;32m~/.conda/envs/tf_nightly/lib/python3.7/site-packages/tensorflow/python/ops/gen_array_ops.py\u001b[0m in \u001b[0;36mexpand_dims\u001b[0;34m(input, axis, name)\u001b[0m\n\u001b[1;32m   2454\u001b[0m       \u001b[0;32melse\u001b[0m\u001b[0;34m:\u001b[0m\u001b[0;34m\u001b[0m\u001b[0;34m\u001b[0m\u001b[0m\n\u001b[1;32m   2455\u001b[0m         \u001b[0mmessage\u001b[0m \u001b[0;34m=\u001b[0m \u001b[0me\u001b[0m\u001b[0;34m.\u001b[0m\u001b[0mmessage\u001b[0m\u001b[0;34m\u001b[0m\u001b[0;34m\u001b[0m\u001b[0m\n\u001b[0;32m-> 2456\u001b[0;31m       \u001b[0m_six\u001b[0m\u001b[0;34m.\u001b[0m\u001b[0mraise_from\u001b[0m\u001b[0;34m(\u001b[0m\u001b[0m_core\u001b[0m\u001b[0;34m.\u001b[0m\u001b[0m_status_to_exception\u001b[0m\u001b[0;34m(\u001b[0m\u001b[0me\u001b[0m\u001b[0;34m.\u001b[0m\u001b[0mcode\u001b[0m\u001b[0;34m,\u001b[0m \u001b[0mmessage\u001b[0m\u001b[0;34m)\u001b[0m\u001b[0;34m,\u001b[0m \u001b[0;32mNone\u001b[0m\u001b[0;34m)\u001b[0m\u001b[0;34m\u001b[0m\u001b[0;34m\u001b[0m\u001b[0m\n\u001b[0m\u001b[1;32m   2457\u001b[0m   \u001b[0;31m# Add nodes to the TensorFlow graph.\u001b[0m\u001b[0;34m\u001b[0m\u001b[0;34m\u001b[0m\u001b[0;34m\u001b[0m\u001b[0m\n\u001b[1;32m   2458\u001b[0m   _, _, _op = _op_def_lib._apply_op_helper(\n",
      "\u001b[0;32m~/.conda/envs/tf_nightly/lib/python3.7/site-packages/six.py\u001b[0m in \u001b[0;36mraise_from\u001b[0;34m(value, from_value)\u001b[0m\n",
      "\u001b[0;31mInternalError\u001b[0m: Failed copying input tensor from /job:localhost/replica:0/task:0/device:CPU:0 to /job:localhost/replica:0/task:0/device:GPU:0 in order to run ExpandDims: Dst tensor is not initialized. [Op:ExpandDims]"
     ]
    }
   ],
   "source": [
    "exp_desc = config.exp_desc(run_config, {**model._config_(), 'epochs': len(train_losses)})\n",
    "exp_desc_short = config.exp_desc(run_config, {**model._config_(), 'epochs': len(train_losses)}, short=True)\n",
    "input_data_raw = np.vstack((data_train, data_test))\n",
    "\n",
    "if run_config['use_time_series']:\n",
    "    back_to_single_time = np.s_[:, -1, :]\n",
    "else:\n",
    "    back_to_single_time = np.s_[:]\n",
    "    \n",
    "\n",
    "input_data = _reverse_to_original_shape_(input_data_raw[back_to_single_time])\n",
    "reconstructed_data = _reverse_to_original_shape_(model(input_data_raw, apply_sigmoid=False).numpy()[back_to_single_time])\n",
    "    \n",
    "_min_nb_batches_for_sample_length_ = int(np.ceil(len(input_data_raw) / run_config['batch_size'] / run_config['time_series_length']))\n",
    "generated_data = _reverse_to_original_shape_(np.vstack([model.sample().numpy() for _ in range(_min_nb_batches_for_sample_length_)])[back_to_single_time])[:len(reconstructed_data)]"
   ]
  },
  {
   "cell_type": "code",
   "execution_count": null,
   "metadata": {
    "ExecuteTime": {
     "end_time": "2019-06-07T15:05:08.172206Z",
     "start_time": "2019-06-07T15:04:58.352Z"
    }
   },
   "outputs": [],
   "source": [
    "for a, n in zip(range(train_reports.shape[1]), _recorded_scalars_):\n",
    "    plt.subplot(train_reports.shape[1], 1, a + 1)\n",
    "    plt.plot(train_reports[:, a], label=f\"train_{n}\")\n",
    "    plt.plot(test_reports[:, a], label=f\"test_{n}\")\n",
    "    plt.title(n)\n",
    "    \n",
    "plt.tight_layout()\n",
    "plt.legend()"
   ]
  },
  {
   "cell_type": "code",
   "execution_count": null,
   "metadata": {
    "ExecuteTime": {
     "end_time": "2019-06-07T15:05:08.172717Z",
     "start_time": "2019-06-07T15:04:58.777Z"
    }
   },
   "outputs": [],
   "source": [
    "#plots.plot_losses(train_losses, test_losses, exp_desc=exp_desc);"
   ]
  },
  {
   "cell_type": "code",
   "execution_count": null,
   "metadata": {
    "ExecuteTime": {
     "end_time": "2019-06-07T15:05:08.173303Z",
     "start_time": "2019-06-07T15:04:59.366Z"
    },
    "scrolled": false
   },
   "outputs": [],
   "source": [
    "if run_config['data_type'] == _DATA_TYPE_2D_POS_:\n",
    "    fig = plots.plot_comparing_joint_position_with_reconstructed(input_data, reconstructed_data, generated_data, validation_cut_off=len(data_train), exp_desc=exp_desc);\n",
    "else:\n",
    "    # ncols is an ugly hack... it works on the basis that we have three working angles for each leg\n",
    "    if run_config['use_all_experiments']:\n",
    "        start = 100\n",
    "        end = 1000\n",
    "    else:\n",
    "        start = 0\n",
    "        end = len(input_data)\n",
    "    xticks = np.arange(start, end)\n",
    "    if run_config['debug']:\n",
    "        _input_data = input_data_raw[:, :, 0]\n",
    "        _recon = model(input_data_raw, apply_sigmoid=False).numpy()[:, :, 0]\n",
    "        fig, axs = plt.subplots(nrows=_input_data.shape[-1], ncols=1, figsize=(20, 30), sharex=True, sharey=True)\n",
    "        for i in range(_input_data.shape[-1]):\n",
    "            _idx_ = np.s_[start:end, i]\n",
    "            axs[i].plot(xticks, _input_data[_idx_], label='input')\n",
    "            axs[i].plot(xticks, _recon[_idx_], label='reconstructed')\n",
    "            #axs[i].plot(xticks, generated_data[_idx_], label='generated')\n",
    "\n",
    "            #axs[i].set_title(cn)\n",
    "\n",
    "            #for a in axs[i]:\n",
    "            #    a.axvline(len(data_train), label='validation cut off', linestyle='--')\n",
    "    else:\n",
    "        fig, axs = plt.subplots(nrows=input_data.shape[1], ncols=1, figsize=(20, 30), sharex=True, sharey=True)\n",
    "        for i, cn in enumerate(SD.get_3d_columns_names(selected_cols)):\n",
    "            _idx_ = np.s_[start:end, i]\n",
    "            axs[i].plot(xticks, input_data[_idx_], label='input')\n",
    "            axs[i].plot(xticks, reconstructed_data[_idx_], label='reconstructed')\n",
    "            #axs[i].plot(xticks, generated_data[_idx_], label='generated')\n",
    "\n",
    "            axs[i].set_title(cn)\n",
    "\n",
    "            #for a in axs[i]:\n",
    "            #    a.axvline(len(data_train), label='validation cut off', linestyle='--')\n",
    "\n",
    "    axs[-1].set_xlabel('time step')\n",
    "    axs[0].legend(loc='upper left')\n",
    "    \n",
    "    #plt.legend(bbox_to_anchor=(1.05, 1), loc=2, borderaxespad=0.)\n",
    "    plt.suptitle(f\"Comparision of selection of data\\n({exp_desc})\")\n",
    "    \n",
    "    plt.tight_layout()\n",
    "    plt.subplots_adjust(top=0.94)\n",
    "    plt.savefig(f\"./figures/{exp_desc_short}_input_gen_recon_comparision.png\")"
   ]
  },
  {
   "cell_type": "markdown",
   "metadata": {},
   "source": [
    "# Latent space"
   ]
  },
  {
   "cell_type": "code",
   "execution_count": null,
   "metadata": {
    "ExecuteTime": {
     "end_time": "2019-06-07T15:05:08.173801Z",
     "start_time": "2019-06-07T15:05:00.537Z"
    }
   },
   "outputs": [],
   "source": [
    "from hdbscan import HDBSCAN"
   ]
  },
  {
   "cell_type": "code",
   "execution_count": null,
   "metadata": {
    "ExecuteTime": {
     "end_time": "2019-06-07T15:05:08.174289Z",
     "start_time": "2019-06-07T15:05:01.135Z"
    }
   },
   "outputs": [],
   "source": [
    "from collections import namedtuple\n",
    "from sklearn.manifold import TSNE\n",
    "\n",
    "LatentSpaceEncoding = namedtuple('LatentSpaceEncoding', 'mean var')\n",
    "\n",
    "if run_config['use_all_experiments']:\n",
    "    warnings.warn('should use all data `input_data`')\n",
    "    if model._name in ['drosoph_vae_conv', 'drosoph_vae_skip_conv']:\n",
    "        X_latent = LatentSpaceEncoding(*map(lambda x: x.numpy(), model.encode(input_data_raw[np.random.choice(len(input_data), 10000)])))\n",
    "    else:\n",
    "        X_latent = LatentSpaceEncoding(*map(lambda x: x.numpy()[back_to_single_time], model.encode(input_data_raw[np.random.choice(len(input_data), 10000)])))\n",
    "else:\n",
    "    if model._name in ['drosoph_vae_conv', 'drosoph_vae_skip_conv']:\n",
    "        X_latent = LatentSpaceEncoding(*map(lambda x: x.numpy(), model.encode(input_data_raw)))\n",
    "    else:\n",
    "        X_latent = LatentSpaceEncoding(*map(lambda x: x.numpy()[back_to_single_time], model.encode(input_data_raw)))\n",
    "    \n",
    "X_latent_mean_tsne_proj = TSNE(n_components=2, random_state=42).fit_transform(np.hstack((X_latent.mean, X_latent.var)))"
   ]
  },
  {
   "cell_type": "code",
   "execution_count": null,
   "metadata": {
    "ExecuteTime": {
     "end_time": "2019-06-07T15:05:08.174769Z",
     "start_time": "2019-06-07T15:05:01.754Z"
    }
   },
   "outputs": [],
   "source": [
    "cluster_assignments = HDBSCAN(min_cluster_size=8).fit_predict(np.hstack((X_latent.mean, X_latent.var)))\n",
    "cluster_colors = sns.color_palette(n_colors=len(np.unique(cluster_assignments)))"
   ]
  },
  {
   "cell_type": "code",
   "execution_count": null,
   "metadata": {
    "ExecuteTime": {
     "end_time": "2019-06-07T15:05:08.175250Z",
     "start_time": "2019-06-07T15:05:02.388Z"
    }
   },
   "outputs": [],
   "source": [
    "def plot_debug(input_data, cluster_assignments, cluster_colors=None):\n",
    "    _clusters = np.unique(cluster_assignments)\n",
    "    _colors = sns.color_palette(n_colors=len(_clusters))\n",
    "    if cluster_colors is None:\n",
    "        cluster_colors = dict(zip(_clusters, _colors))\n",
    "\n",
    "    plt.figure(figsize=(10, 8))\n",
    "    for cluster_id, segments in video.group_by_cluster(cluster_assignments).items():\n",
    "        for s in segments:\n",
    "            plt.plot(s, input_data[s], c=cluster_colors[cluster_id])\n",
    "\n",
    "    plt.title('Input data and cluster assigment using debug data');\n",
    "    \n",
    "if run_config['debug']:\n",
    "    plot_debug(input_data, cluster_assignments)"
   ]
  },
  {
   "cell_type": "code",
   "execution_count": null,
   "metadata": {
    "ExecuteTime": {
     "end_time": "2019-06-07T15:05:08.175724Z",
     "start_time": "2019-06-07T15:05:03.037Z"
    }
   },
   "outputs": [],
   "source": [
    "exp_desc_short"
   ]
  },
  {
   "cell_type": "code",
   "execution_count": null,
   "metadata": {
    "ExecuteTime": {
     "end_time": "2019-06-07T15:05:08.176201Z",
     "start_time": "2019-06-07T15:05:03.922Z"
    }
   },
   "outputs": [],
   "source": [
    "# TODO\n",
    "# use this to add a different shape to the scatter plot\n",
    "# frames_idx_with_labels[:len(frames_of_interest)][frames_of_interest][run_config['time_series_length'] - 1:]['label'].apply(lambda x: x.value)"
   ]
  },
  {
   "cell_type": "code",
   "execution_count": null,
   "metadata": {
    "ExecuteTime": {
     "end_time": "2019-06-07T15:05:08.176683Z",
     "start_time": "2019-06-07T15:05:04.451Z"
    }
   },
   "outputs": [],
   "source": [
    "from matplotlib import gridspec\n",
    "\n",
    "fig = plt.figure(figsize=(20, 18))\n",
    "gs = gridspec.GridSpec(3, 2, figure=fig)\n",
    "ax1 = plt.subplot(gs[:2, :])\n",
    "ax2 = plt.subplot(gs[-1:, :1])\n",
    "ax3 = plt.subplot(gs[-1:, 1:])\n",
    "\n",
    "#plt.figure(figsize=(20, 12))\n",
    "#fig, axs = plt.subplots(nrows=3, ncols=1, figsize=(20, 30))\n",
    "for cluster in np.unique(cluster_assignments):\n",
    "    c_idx = cluster_assignments == cluster\n",
    "    if run_config['use_all_experiments']:\n",
    "        c_idx = c_idx & (np.random.random(len(c_idx)) > 0.7) # don't show all of them, takes for ever otherwise\n",
    "    sns.scatterplot(X_latent_mean_tsne_proj[c_idx, 0], X_latent_mean_tsne_proj[c_idx, 1], label=cluster, ax=ax1, color=cluster_colors[cluster])\n",
    "    sns.scatterplot(X_latent.mean[c_idx, 0], X_latent.mean[c_idx, 1], label=cluster, ax=ax2)\n",
    "    sns.scatterplot(X_latent.var[c_idx, 0], X_latent.var[c_idx, 1], label=cluster, ax=ax3)\n",
    "    \n",
    "plt.legend()\n",
    "ax1.set_title('T-SNE proejection of latent space (mean & var stacked)')\n",
    "ax2.set_title('mean')\n",
    "ax3.set_title('var');"
   ]
  },
  {
   "cell_type": "markdown",
   "metadata": {},
   "source": [
    "# videos"
   ]
  },
  {
   "cell_type": "code",
   "execution_count": null,
   "metadata": {
    "ExecuteTime": {
     "end_time": "2019-06-07T11:55:26.343831Z",
     "start_time": "2019-06-07T11:55:14.779Z"
    }
   },
   "outputs": [],
   "source": [
    "def reverse_pos_pipeline(x, normalisation_factors):\n",
    "    \"\"\"TODO This is again pretty shitty... ultra hidden global variable\"\"\"\n",
    "    return x + normalisation_factors[:x.shape[-1]]\n",
    "\n",
    "def video_prep_raw_data(data):\n",
    "    if run_config['use_time_series']:\n",
    "        return reverse_pos_pipeline(scaler.inverse_transform(data[:, -1, :]).reshape(-1, 15, 2))\n",
    "    else:\n",
    "        return reverse_pos_pipeline(scaler.inverse_transform(data.reshape(-1, 30)).reshape(-1, 15, 2))\n",
    "    \n",
    "def video_prep_recon_data(input_data):\n",
    "    return reverse_pos_pipeline(scaler.inverse_transform(model(input_data).numpy()).reshape(-1, 15, 2))"
   ]
  },
  {
   "cell_type": "code",
   "execution_count": null,
   "metadata": {
    "ExecuteTime": {
     "end_time": "2019-06-07T11:55:26.344629Z",
     "start_time": "2019-06-07T11:55:14.786Z"
    }
   },
   "outputs": [],
   "source": [
    "if run_config['data_type'] == _DATA_TYPE_2D_POS_:\n",
    "    _positional_data_ = [reverse_pos_pipeline(input_data), reverse_pos_pipeline(reconstructed_data, normalisation_factors=normalisation_factors)]\n",
    "else:\n",
    "    raise NotImplementedError('give me a break')\n",
    "    \n",
    "p = video.comparision_video_of_reconstruction(_positional_data_,\n",
    "                                              images_paths_for_experiments=images_paths_for_experiments, \n",
    "                                              n_train=len(data_train),\n",
    "                                              cluster_assignments=cluster_assignments,\n",
    "                                              as_frames=False,\n",
    "                                              exp_desc=exp_desc_short)\n",
    "\n",
    "display_video(p)"
   ]
  },
  {
   "cell_type": "code",
   "execution_count": null,
   "metadata": {
    "ExecuteTime": {
     "end_time": "2019-06-07T11:55:26.345428Z",
     "start_time": "2019-06-07T11:55:14.794Z"
    }
   },
   "outputs": [],
   "source": [
    "# Super ugly... but necessary...\n",
    "# first there is the time offset due to the slicing\n",
    "# then there is the concatenation of the data...\n",
    "\n",
    "angle_data_pos_to_frame = []\n",
    "\n",
    "for exp_key, data in angle_data_raw: \n",
    "    _exp = SD._experiment_from_key_(exp_key)\n",
    "    \n",
    "    if len(angle_data_pos_to_frame) == 0:\n",
    "        _idx = np.arange(data.shape[0])[run_config['time_series_length'] - 1:]\n",
    "    else:\n",
    "        _idx = np.arange(data.shape[0])# + len(angle_data_pos_to_frame)\n",
    "        \n",
    "    angle_data_pos_to_frame += [(_exp, d) for d in _idx]"
   ]
  },
  {
   "cell_type": "code",
   "execution_count": null,
   "metadata": {
    "ExecuteTime": {
     "end_time": "2019-06-07T11:55:26.346266Z",
     "start_time": "2019-06-07T11:55:14.801Z"
    }
   },
   "outputs": [],
   "source": [
    "        images_paths_for_experiments = settings.data.EXPERIMENTS.map(lambda x: (x, config.positional_data(x)))\\\n",
    "                                               .flat_map(lambda x: [(x[0], config.get_path_for_image(x[0], i)) for i in range(x[1].shape[1])])\\\n",
    "                                               .to_list()"
   ]
  },
  {
   "cell_type": "code",
   "execution_count": null,
   "metadata": {
    "ExecuteTime": {
     "end_time": "2019-06-07T11:55:26.346885Z",
     "start_time": "2019-06-07T11:55:14.808Z"
    }
   },
   "outputs": [],
   "source": [
    "\n",
    "    frames_idx_with_labels = preprocessing.get_frames_with_idx_and_labels(settings.data.LABELLED_DATA)\n",
    "    frames_of_interest = ~frames_idx_with_labels['label'].isin([settings.data._BehaviorLabel_.REST])"
   ]
  },
  {
   "cell_type": "code",
   "execution_count": null,
   "metadata": {
    "ExecuteTime": {
     "end_time": "2019-06-07T11:55:26.347438Z",
     "start_time": "2019-06-07T11:55:14.814Z"
    }
   },
   "outputs": [],
   "source": [
    "images_paths_for_experiments = [(exp, config.get_path_for_image(exp, i)) for exp, i in angle_data_pos_to_frame]"
   ]
  },
  {
   "cell_type": "code",
   "execution_count": null,
   "metadata": {
    "ExecuteTime": {
     "end_time": "2019-06-07T11:55:26.347997Z",
     "start_time": "2019-06-07T11:55:14.819Z"
    }
   },
   "outputs": [],
   "source": [
    "images_paths_for_experiments[-10:]"
   ]
  },
  {
   "cell_type": "code",
   "execution_count": null,
   "metadata": {
    "ExecuteTime": {
     "end_time": "2019-06-07T11:55:26.348537Z",
     "start_time": "2019-06-07T11:55:14.824Z"
    }
   },
   "outputs": [],
   "source": [
    "reload(video)\n",
    "from collections import OrderedDict\n",
    "_N_CLUSTER_TO_VIZ_ = 10\n",
    "_t = [(misc.flatten(sequences), cluster_id) for cluster_id, sequences in video.group_by_cluster(cluster_assignments).items()]\n",
    "_t = sorted(_t, key=lambda x: len(x[0]), reverse=True)\n",
    "\n",
    "cluster_colors = sns.color_palette(n_colors=len(np.unique(cluster_assignments)))\n",
    "\n",
    "cluster_vids = OrderedDict((p[1], video.comparision_video_of_reconstruction(input_data,\n",
    "                                                                            cluster_assignments=cluster_assignments,\n",
    "                                                                            images_paths_for_experiments=images_paths_for_experiments,\n",
    "                                                                            n_train=data_train.shape[0],\n",
    "                                                                            cluster_colors=cluster_colors,\n",
    "                                                                            cluster_id_to_visualize=p[1], \n",
    "                                                                            exp_desc=exp_desc_short,\n",
    "                                                                            is_2d=False))\n",
    "                    for p in _t[:_N_CLUSTER_TO_VIZ_])\n",
    "\n",
    "print('cluster_vids: ', cluster_vids.keys())"
   ]
  },
  {
   "cell_type": "code",
   "execution_count": null,
   "metadata": {
    "ExecuteTime": {
     "end_time": "2019-06-07T11:55:26.349146Z",
     "start_time": "2019-06-07T11:55:14.830Z"
    }
   },
   "outputs": [],
   "source": [
    "! cat ./som_vae/helpers/video.py"
   ]
  },
  {
   "cell_type": "code",
   "execution_count": null,
   "metadata": {},
   "outputs": [],
   "source": []
  },
  {
   "cell_type": "code",
   "execution_count": null,
   "metadata": {
    "ExecuteTime": {
     "end_time": "2019-06-07T11:55:26.349695Z",
     "start_time": "2019-06-07T11:55:14.836Z"
    }
   },
   "outputs": [],
   "source": [
    "from collections import OrderedDict\n",
    "_N_CLUSTER_TO_VIZ_ = 10\n",
    "_t = [(misc.flatten(sequences), cluster_id) for cluster_id, sequences in video.group_by_cluster(cluster_assignments).items()]\n",
    "_t = sorted(_t, key=lambda x: len(x[0]), reverse=True)\n",
    "\n",
    "cluster_colors = sns.color_palette(n_colors=len(np.unique(cluster_assignments)))\n",
    "\n",
    "cluster_vids = OrderedDict((p[1], video.comparision_video_of_reconstruction(_positional_data_,\n",
    "                                                                      cluster_assignments=cluster_assignments,\n",
    "                                                                      images_paths_for_experiments=images_paths_for_experiments,\n",
    "                                                                      n_train=data_train.shape[0],\n",
    "                                                                      cluster_colors=cluster_colors,\n",
    "                                                                      cluster_id_to_visualize=p[1], exp_desc=exp_desc_short))\n",
    "                    for p in _t[:_N_CLUSTER_TO_VIZ_])\n",
    "\n",
    "print('cluster_vids: ', cluster_vids.keys())"
   ]
  },
  {
   "cell_type": "code",
   "execution_count": null,
   "metadata": {
    "ExecuteTime": {
     "end_time": "2019-06-07T11:55:26.350461Z",
     "start_time": "2019-06-07T11:55:14.841Z"
    }
   },
   "outputs": [],
   "source": [
    "c_idx = 0\n",
    "#c_idx += 1\n",
    "display_video(list(cluster_vids.values())[c_idx])"
   ]
  },
  {
   "cell_type": "code",
   "execution_count": null,
   "metadata": {
    "ExecuteTime": {
     "end_time": "2019-06-07T11:55:26.351050Z",
     "start_time": "2019-06-07T11:55:14.851Z"
    }
   },
   "outputs": [],
   "source": [
    "images_paths_for_experiments"
   ]
  },
  {
   "cell_type": "code",
   "execution_count": null,
   "metadata": {
    "ExecuteTime": {
     "end_time": "2019-06-07T11:55:26.351624Z",
     "start_time": "2019-06-07T11:55:14.857Z"
    }
   },
   "outputs": [],
   "source": [
    "len(np.where(cluster_assignments == 11)[0])"
   ]
  },
  {
   "cell_type": "code",
   "execution_count": null,
   "metadata": {
    "ExecuteTime": {
     "end_time": "2019-06-07T11:55:26.352205Z",
     "start_time": "2019-06-07T11:55:14.864Z"
    }
   },
   "outputs": [],
   "source": [
    "np.array(images_paths_for_experiments)"
   ]
  },
  {
   "cell_type": "code",
   "execution_count": null,
   "metadata": {
    "ExecuteTime": {
     "end_time": "2019-06-07T11:55:26.352735Z",
     "start_time": "2019-06-07T11:55:14.868Z"
    }
   },
   "outputs": [],
   "source": [
    "for fs, c in _t:\n",
    "    print(f\"cluster {c} has {len(fs)} elements\")"
   ]
  },
  {
   "cell_type": "code",
   "execution_count": null,
   "metadata": {
    "ExecuteTime": {
     "end_time": "2019-06-07T11:55:26.353305Z",
     "start_time": "2019-06-07T11:55:14.872Z"
    }
   },
   "outputs": [],
   "source": [
    "reload(video)\n",
    "\n",
    "_t = [(misc.flatten(sequences), cluster_id) for cluster_id, sequences in video.group_by_cluster(cluster_assignments).items()]\n",
    "_t = sorted(_t, key=lambda x: len(x[0]), reverse=True)\n",
    "p = video.video_angle(cluster_assignments, images_paths_for_experiments, cluster_id_to_visualize=_t[3][1], exp_desc=exp_desc_short)"
   ]
  },
  {
   "cell_type": "code",
   "execution_count": null,
   "metadata": {
    "ExecuteTime": {
     "end_time": "2019-06-07T11:55:26.353846Z",
     "start_time": "2019-06-07T11:55:14.876Z"
    }
   },
   "outputs": [],
   "source": [
    "display_video(p)"
   ]
  },
  {
   "cell_type": "code",
   "execution_count": null,
   "metadata": {},
   "outputs": [],
   "source": []
  },
  {
   "cell_type": "code",
   "execution_count": null,
   "metadata": {},
   "outputs": [],
   "source": []
  },
  {
   "cell_type": "code",
   "execution_count": null,
   "metadata": {},
   "outputs": [],
   "source": []
  },
  {
   "cell_type": "code",
   "execution_count": null,
   "metadata": {
    "ExecuteTime": {
     "end_time": "2019-06-07T11:55:26.354399Z",
     "start_time": "2019-06-07T11:55:14.887Z"
    }
   },
   "outputs": [],
   "source": [
    "stop"
   ]
  },
  {
   "cell_type": "markdown",
   "metadata": {
    "ExecuteTime": {
     "end_time": "2019-05-29T08:18:01.614372Z",
     "start_time": "2019-05-29T08:18:01.610583Z"
    }
   },
   "source": [
    "# Convolution Clarification"
   ]
  },
  {
   "cell_type": "markdown",
   "metadata": {},
   "source": [
    "Below are the results shown for a Conv1d for all padding options:\n",
    "\n",
    "- valid: only convolutions where the kernel fits inside the input are comptued\n",
    "- causal: input is shifted such that the kernel can only see itself and backwards in time\n",
    "- same: input is padded such that the convolution can also be applied to the border cases\n",
    "\n",
    "kernel sizes of 2 & 3, and dilation rates for 1 to 3.\n",
    "\n",
    "The result is that a valid convolution of kernel size 2 with a dilation factor of 1 compresses the input in a for us good way.\n",
    "The data goes from `[batch_size, n_time_steps, n_channels]` to `[batch_size, n_time_steps - 1, n_filters]` \n",
    "and crops the first time step only. Thus building features by only looking backwards in time,\n",
    "dropping the first-time step. Thus features are build over time and space."
   ]
  },
  {
   "cell_type": "code",
   "execution_count": null,
   "metadata": {
    "ExecuteTime": {
     "end_time": "2019-06-07T11:55:26.354976Z",
     "start_time": "2019-06-07T11:55:14.893Z"
    }
   },
   "outputs": [],
   "source": [
    "example_data = np.zeros((1, 10, 5), dtype=np.float32)\n",
    "\n",
    "for row in range(example_data.shape[1]):\n",
    "    example_data[:, row, :] = row\n",
    "    \n",
    "example_data"
   ]
  },
  {
   "cell_type": "code",
   "execution_count": null,
   "metadata": {
    "ExecuteTime": {
     "end_time": "2019-06-07T11:55:26.355516Z",
     "start_time": "2019-06-07T11:55:14.897Z"
    },
    "scrolled": false
   },
   "outputs": [],
   "source": [
    "def conv_clarification_kernel(kernel_size):\n",
    "    conv1d_kernel_no_time = np.zeros((kernel_size, example_data.shape[-1], 1), dtype=np.float32)\n",
    "    conv1d_kernel_no_time[0, :, :] = .5\n",
    "    conv1d_kernel_no_time[1, :, :] = 1.\n",
    "    \n",
    "    if kernel_size == 3:\n",
    "        conv1d_kernel_no_time[2, :, :] = 0.1\n",
    "    \n",
    "    return conv1d_kernel_no_time\n",
    "\n",
    "\n",
    "for kernel_size in range(2, 4):\n",
    "    print(f\"data\\n{example_data}\")\n",
    "    print(f\"kernel\\n{conv_clarification_kernel(kernel_size)}\")\n",
    "    for padding in ['valid', 'causal', 'same']:\n",
    "        for dilation in range(1, 4):\n",
    "            example_conv1d = tfkl.Conv1D(filters=1, \n",
    "                                         kernel_size=kernel_size,\n",
    "                                         use_bias=False, \n",
    "                                         padding=padding,\n",
    "                                         dilation_rate=dilation,\n",
    "                                         kernel_initializer=tf.constant_initializer(conv_clarification_kernel(kernel_size)))\n",
    "\n",
    "            conv_res = example_conv1d(example_data).numpy()\n",
    "            print(f\"padding: {padding}, dilation_rate: {dilation}, kernel_size: {kernel_size}, output shape: {conv_res.shape}\\n{conv_res}\")"
   ]
  },
  {
   "cell_type": "code",
   "execution_count": null,
   "metadata": {
    "ExecuteTime": {
     "end_time": "2019-06-07T11:55:26.356104Z",
     "start_time": "2019-06-07T11:55:14.902Z"
    }
   },
   "outputs": [],
   "source": [
    "def conv_clarification_kernel(kernel_size):\n",
    "    conv1d_kernel_no_time = np.zeros((kernel_size, example_data.shape[-1], example_conv1d_n_filters), dtype=np.float32)\n",
    "    conv1d_kernel_no_time[0, :, :] = .5\n",
    "    conv1d_kernel_no_time[1, :, :] = 1.\n",
    "    \n",
    "    if kernel_size == 3:\n",
    "        conv1d_kernel_no_time[2, :, :] = 0.1\n",
    "    \n",
    "    return conv1d_kernel_no_time\n",
    "\n",
    "kernel_size = 2\n",
    "padding = 'valid'\n",
    "dilation_rate = 1\n",
    "example_conv1d_n_filters = 2\n",
    "\n",
    "print(f\"data\\n{example_data}\")\n",
    "print(f\"kernel\\n{conv_clarification_kernel(kernel_size)}\")\n",
    "example_conv1d = tfkl.Conv1D(filters=example_conv1d_n_filters, \n",
    "                             kernel_size=kernel_size,\n",
    "                             use_bias=False, \n",
    "                             padding=padding,\n",
    "                             dilation_rate=dilation_rate,\n",
    "                             kernel_initializer=tf.constant_initializer(conv_clarification_kernel(kernel_size)))\n",
    "\n",
    "example_max_pooling_layer = tfkl.MaxPool1D()\n",
    "example_dense = tfkl.Dense(2, use_bias=False, kernel_initializer='ones')\n",
    "\n",
    "conv_res = example_conv1d(example_data[:,:2,:]).numpy()\n",
    "#max_pool_res = example_max_pooling_layer(conv_res)\n",
    "#dense_res = example_dense(max_pool_res)\n",
    "print(f\"padding: {padding}, dilation_rate: {dilation_rate}, kernel_size: {kernel_size}, output shape: {conv_res.shape}\")\n",
    "print('conv\\n', conv_res)\n",
    "#print('max pool\\n', max_pool_res.numpy())\n",
    "#print('dense\\n', dense_res.numpy())"
   ]
  },
  {
   "cell_type": "code",
   "execution_count": null,
   "metadata": {
    "ExecuteTime": {
     "end_time": "2019-06-07T11:55:26.356701Z",
     "start_time": "2019-06-07T11:55:14.908Z"
    }
   },
   "outputs": [],
   "source": [
    "conv_res"
   ]
  },
  {
   "cell_type": "code",
   "execution_count": null,
   "metadata": {
    "ExecuteTime": {
     "end_time": "2019-06-07T11:55:26.357206Z",
     "start_time": "2019-06-07T11:55:14.914Z"
    }
   },
   "outputs": [],
   "source": [
    "class Conv1D_Transpose(tfkl.Layer):\n",
    "    def __init__(self, n_filters, kernel_size, batch_size):\n",
    "        super(Conv1D_Transpose, self).__init__()        \n",
    "        self.n_filters = n_filters\n",
    "        self.batch_size = batch_size\n",
    "        self.conv2d_transpose = tfkl.Conv2DTranspose(filters=n_filters, kernel_size=kernel_size, strides=2, padding='valid', kernel_initializer='ones')\n",
    "        \n",
    "    def call(self, inputs):\n",
    "        x = tf.reshape(inputs, [self.batch_size, 1, *inputs.shape[1:]])\n",
    "        print(x.shape)\n",
    "        x = self.conv2d_transpose(x)\n",
    "        #x = tf.reshape(x, [self.batch_size, -1, self.n_filters])\n",
    "        \n",
    "        return x\n",
    "\n",
    "example_deconv1d = Conv1D_Transpose(n_filters=2, kernel_size=2, batch_size=1)\n",
    "example_deconv1d(conv_res)"
   ]
  },
  {
   "cell_type": "code",
   "execution_count": null,
   "metadata": {
    "ExecuteTime": {
     "end_time": "2019-06-07T11:55:26.357684Z",
     "start_time": "2019-06-07T11:55:14.918Z"
    }
   },
   "outputs": [],
   "source": [
    "_ted = example_deconv1d(conv_res)\n",
    "tf.reshape(_ted, _ted.shape[:-1])"
   ]
  },
  {
   "cell_type": "code",
   "execution_count": null,
   "metadata": {
    "ExecuteTime": {
     "end_time": "2019-06-07T11:55:26.358148Z",
     "start_time": "2019-06-07T11:55:14.922Z"
    }
   },
   "outputs": [],
   "source": [
    "UpsamplingConv(2)(conv_res)"
   ]
  },
  {
   "cell_type": "code",
   "execution_count": null,
   "metadata": {
    "ExecuteTime": {
     "end_time": "2019-06-07T11:55:26.358625Z",
     "start_time": "2019-06-07T11:55:14.926Z"
    }
   },
   "outputs": [],
   "source": [
    "tfkl.UpSampling1D(3)(conv_res)"
   ]
  },
  {
   "cell_type": "code",
   "execution_count": null,
   "metadata": {
    "ExecuteTime": {
     "end_time": "2019-06-07T11:55:26.359087Z",
     "start_time": "2019-06-07T11:55:14.931Z"
    }
   },
   "outputs": [],
   "source": [
    "class UpsamplingConv(tfkl.Layer):\n",
    "    def __init__(self, n_filters, kernel_size=2):\n",
    "        super(UpsamplingConv, self).__init__()\n",
    "        \n",
    "        self.n_filters = n_filters\n",
    "        self.kernel_size = kernel_size\n",
    "    \n",
    "    def call(self, x): \n",
    "        x = tfkl.UpSampling1D(3)(x) # upscale with 3 so that we can again apply `valid` padding and \"reverse\" the encoder\n",
    "        print(x.shape)\n",
    "        # TODO maybe add some fancy flipping of the input\n",
    "        x = tfkl.Conv1D(self.n_filters, self.kernel_size, padding='valid')(x)\n",
    "        \n",
    "        return x"
   ]
  },
  {
   "cell_type": "code",
   "execution_count": null,
   "metadata": {
    "ExecuteTime": {
     "end_time": "2019-06-07T11:55:26.359540Z",
     "start_time": "2019-06-07T11:55:14.935Z"
    }
   },
   "outputs": [],
   "source": [
    "conv_res.shape"
   ]
  },
  {
   "cell_type": "code",
   "execution_count": null,
   "metadata": {
    "ExecuteTime": {
     "end_time": "2019-06-07T11:55:26.359990Z",
     "start_time": "2019-06-07T11:55:14.939Z"
    }
   },
   "outputs": [],
   "source": [
    "conv_res"
   ]
  },
  {
   "cell_type": "code",
   "execution_count": null,
   "metadata": {
    "ExecuteTime": {
     "end_time": "2019-05-29T17:55:51.831670Z",
     "start_time": "2019-05-29T17:55:51.802162Z"
    }
   },
   "outputs": [],
   "source": []
  },
  {
   "cell_type": "code",
   "execution_count": null,
   "metadata": {
    "ExecuteTime": {
     "end_time": "2019-06-07T11:55:26.360454Z",
     "start_time": "2019-06-07T11:55:14.946Z"
    }
   },
   "outputs": [],
   "source": [
    "example_deconv = tfkl.Conv2DTranspose(1, 2, kernel_initializer='ones')\n",
    "example_deconv(conv_res.reshape(-1, 1, *conv_res.shape[1:])).numpy().reshape(-1, *conv_res.shape[1:])"
   ]
  },
  {
   "cell_type": "code",
   "execution_count": null,
   "metadata": {
    "ExecuteTime": {
     "end_time": "2019-06-07T11:55:26.360908Z",
     "start_time": "2019-06-07T11:55:14.950Z"
    }
   },
   "outputs": [],
   "source": [
    "conv_res"
   ]
  },
  {
   "cell_type": "code",
   "execution_count": null,
   "metadata": {
    "ExecuteTime": {
     "end_time": "2019-06-07T11:55:26.361365Z",
     "start_time": "2019-06-07T11:55:14.955Z"
    }
   },
   "outputs": [],
   "source": [
    "conv_res.shape"
   ]
  },
  {
   "cell_type": "code",
   "execution_count": null,
   "metadata": {
    "ExecuteTime": {
     "end_time": "2019-06-07T11:55:26.361823Z",
     "start_time": "2019-06-07T11:55:14.959Z"
    }
   },
   "outputs": [],
   "source": [
    "conv_res"
   ]
  },
  {
   "cell_type": "code",
   "execution_count": null,
   "metadata": {
    "ExecuteTime": {
     "end_time": "2019-06-07T11:55:26.362278Z",
     "start_time": "2019-06-07T11:55:14.963Z"
    }
   },
   "outputs": [],
   "source": [
    "tf.rank(conv_res)"
   ]
  },
  {
   "cell_type": "code",
   "execution_count": null,
   "metadata": {
    "ExecuteTime": {
     "end_time": "2019-06-07T11:55:26.362741Z",
     "start_time": "2019-06-07T11:55:14.968Z"
    }
   },
   "outputs": [],
   "source": [
    "paddings = [[r, 0] for r in range(3)]\n",
    "paddings"
   ]
  },
  {
   "cell_type": "code",
   "execution_count": null,
   "metadata": {
    "ExecuteTime": {
     "end_time": "2019-06-07T11:55:26.363192Z",
     "start_time": "2019-06-07T11:55:14.973Z"
    }
   },
   "outputs": [],
   "source": [
    "tf.pad(conv_res, [[0, 0], [0, 1], [0, 0]])"
   ]
  },
  {
   "cell_type": "code",
   "execution_count": null,
   "metadata": {
    "ExecuteTime": {
     "end_time": "2019-06-07T11:55:26.363647Z",
     "start_time": "2019-06-07T11:55:14.976Z"
    }
   },
   "outputs": [],
   "source": [
    "tfc.nn.conv1d_transpose(input=conv_res, filters=np.ones((2, 2, 2), dtype=np.float32), output_shape=[1, 2, 2], strides=1, padding='VALID')"
   ]
  },
  {
   "cell_type": "code",
   "execution_count": null,
   "metadata": {
    "ExecuteTime": {
     "end_time": "2019-06-07T11:55:26.364163Z",
     "start_time": "2019-06-07T11:55:14.981Z"
    }
   },
   "outputs": [],
   "source": [
    "_pdc1dt = PaddedConv1dTransposed(n_filters=2)\n",
    "print(conv_res.shape)\n",
    "resc1 = _pdc1dt(conv_res)\n",
    "print(resc1.shape)\n",
    "resc1.numpy()"
   ]
  },
  {
   "cell_type": "code",
   "execution_count": null,
   "metadata": {
    "ExecuteTime": {
     "end_time": "2019-06-07T11:55:26.364624Z",
     "start_time": "2019-06-07T11:55:14.985Z"
    }
   },
   "outputs": [],
   "source": [
    "_pdc1dt(_pdc1dt(resc1))"
   ]
  },
  {
   "cell_type": "code",
   "execution_count": null,
   "metadata": {},
   "outputs": [],
   "source": []
  },
  {
   "cell_type": "code",
   "execution_count": null,
   "metadata": {
    "ExecuteTime": {
     "end_time": "2019-06-07T11:55:26.365089Z",
     "start_time": "2019-06-07T11:55:14.992Z"
    }
   },
   "outputs": [],
   "source": [
    "#_t_layer_sizes_generative=[4,6,8,10,12,14,16,18]\n",
    "#_t_layer_sizes_generative=[1] * 6\n",
    "#_t_upsampling_size = [4] * 6 #, 2, 2]\n",
    "#_t_strides = [2] * 6\n",
    "##_t_padding = ['valid', 'valid', 'same']\n",
    "##_t_layer_sizes_generative=[4, 8, 16]\n",
    "#_latent_dim = 2\n",
    "#_t_generative_net = tf.keras.Sequential([tfkl.InputLayer(input_shape=(_latent_dim,)),\n",
    "#                                           tfkl.Lambda(lambda x: tf.reshape(x, [1000, 1, _latent_dim])),\n",
    "#                                           *[TemporalUpsamplingConv(conv_n_filters=fs, \n",
    "#                                                                    upsampling_size=us,\n",
    "#                                                                    conv_strides=s,\n",
    "#                                                                    conv_padding='valid',\n",
    "#                                                                    name=f\"gen_conv_{i}\") for i, (fs, us, s) \n",
    "#                                             in enumerate(zip(_t_layer_sizes_generative,\n",
    "#                                                              _t_upsampling_size,\n",
    "#                                                              _t_strides,\n",
    "#                                                             ))]],\n",
    "#                                          name='generative_net')\n",
    "#\n",
    "#_t_generative_net.summary()"
   ]
  }
 ],
 "metadata": {
  "accelerator": "GPU",
  "colab": {
   "collapsed_sections": [],
   "default_view": {},
   "name": "cvae.ipynb",
   "private_outputs": true,
   "provenance": [
    {
     "file_id": "1eb0NOTQapkYs3X0v-zL1x5_LFKgDISnp",
     "timestamp": 1527173385672
    }
   ],
   "toc_visible": true,
   "version": "0.3.2",
   "views": {}
  },
  "hide_input": false,
  "kernelspec": {
   "display_name": "Python 3",
   "language": "python",
   "name": "python3"
  },
  "language_info": {
   "codemirror_mode": {
    "name": "ipython",
    "version": 3
   },
   "file_extension": ".py",
   "mimetype": "text/x-python",
   "name": "python",
   "nbconvert_exporter": "python",
   "pygments_lexer": "ipython3",
   "version": "3.7.3"
  },
  "toc": {
   "base_numbering": 1,
   "nav_menu": {},
   "number_sections": true,
   "sideBar": true,
   "skip_h1_title": false,
   "title_cell": "Table of Contents",
   "title_sidebar": "Contents",
   "toc_cell": false,
   "toc_position": {},
   "toc_section_display": true,
   "toc_window_display": false
  }
 },
 "nbformat": 4,
 "nbformat_minor": 1
}
