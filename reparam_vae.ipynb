{
 "cells": [
  {
   "cell_type": "markdown",
   "metadata": {
    "colab_type": "text",
    "id": "0TD5ZrvEMbhZ"
   },
   "source": [
    "# VAE using the reparametrization trick"
   ]
  },
  {
   "cell_type": "markdown",
   "metadata": {
    "colab_type": "text",
    "id": "e1_Y75QXJS6h"
   },
   "source": [
    "## Imports and enabling of eager execution"
   ]
  },
  {
   "cell_type": "code",
   "execution_count": 1,
   "metadata": {
    "ExecuteTime": {
     "end_time": "2019-06-12T11:24:32.859639Z",
     "start_time": "2019-06-12T11:24:29.922943Z"
    },
    "colab": {
     "autoexec": {
      "startup": false,
      "wait_interval": 0
     }
    },
    "colab_type": "code",
    "id": "YfIk2es3hJEd"
   },
   "outputs": [
    {
     "name": "stderr",
     "output_type": "stream",
     "text": [
      "WARNING: Logging before flag parsing goes to stderr.\n",
      "W0612 13:24:32.511477 140528307361600 deprecation_wrapper.py:119] From /home/samuel/SOM-VAE/som_vae/helpers/tensorflow.py:5: The name tf.ConfigProto is deprecated. Please use tf.compat.v1.ConfigProto instead.\n",
      "\n"
     ]
    }
   ],
   "source": [
    "import json\n",
    "from collections import namedtuple\n",
    "from functools import partial\n",
    "import itertools\n",
    "import warnings\n",
    "import os\n",
    "import time\n",
    "import numpy as np\n",
    "import pandas as pd\n",
    "import glob\n",
    "import matplotlib.pyplot as plt\n",
    "import seaborn as sns\n",
    "import PIL\n",
    "import imageio\n",
    "from IPython import display\n",
    "from sklearn.preprocessing import StandardScaler, MinMaxScaler\n",
    "from sklearn.manifold import TSNE\n",
    "from functional import seq\n",
    "from pathlib import Path\n",
    "from functools import reduce\n",
    "\n",
    "from importlib import reload # for debugging and developing, optional\n",
    "\n",
    "import tensorflow as tf\n",
    "import tensorflow.contrib as tfc\n",
    "import tensorflow.contrib.eager as tfe\n",
    "import tensorflow.keras as tfk\n",
    "import tensorflow.keras.layers as tfkl\n",
    "import tensorflow_probability as tfp\n",
    "\n",
    "# for the KL-loss explosion problem\n",
    "tf.enable_eager_execution()\n",
    "# we currently handle them ourselves. but with this, it will throw an error before we can apply the fix\n",
    "tfe.seterr(inf_or_nan='raise')\n",
    "\n",
    "# otherwise TF will print soooo many warnings\n",
    "warnings.filterwarnings('ignore', '.*FutureWarning.*np.complexfloating.*')\n",
    "\n",
    "from som_vae.helpers.tensorflow import _TF_DEFAULT_SESSION_CONFIG_\n",
    "import som_vae.helpers.tensorflow as tf_helpers\n",
    "sess = tf.InteractiveSession(config=_TF_DEFAULT_SESSION_CONFIG_)\n",
    "tf.keras.backend.set_session(sess)\n",
    "\n",
    "from som_vae.settings.config import SetupConfig, RunConfig\n",
    "from som_vae import data_loading\n",
    "from som_vae import settings\n",
    "from som_vae import preprocessing\n",
    "from som_vae.helpers.misc import extract_args, chunks, foldl, if_last\n",
    "from som_vae.helpers.jupyter import fix_layout, display_video\n",
    "from som_vae.settings import config, skeleton\n",
    "from som_vae.settings import data as SD\n",
    "from som_vae.helpers import video, plots, misc, jupyter\n",
    "from som_vae import preprocessing\n",
    "from som_vae.helpers.logging import enable_logging"
   ]
  },
  {
   "cell_type": "code",
   "execution_count": 2,
   "metadata": {
    "ExecuteTime": {
     "end_time": "2019-06-12T11:24:32.864666Z",
     "start_time": "2019-06-12T11:24:32.861253Z"
    }
   },
   "outputs": [
    {
     "data": {
      "text/html": [
       "<style>.container { width:95% !important; }</style>"
      ],
      "text/plain": [
       "<IPython.core.display.HTML object>"
      ]
     },
     "metadata": {},
     "output_type": "display_data"
    }
   ],
   "source": [
    "jupyter.fix_layout()"
   ]
  },
  {
   "cell_type": "markdown",
   "metadata": {},
   "source": [
    "## Constants (Settings)"
   ]
  },
  {
   "cell_type": "code",
   "execution_count": 3,
   "metadata": {
    "ExecuteTime": {
     "end_time": "2019-06-12T11:24:32.875650Z",
     "start_time": "2019-06-12T11:24:32.865870Z"
    }
   },
   "outputs": [],
   "source": [
    "# all those experiments and data will be used\n",
    "#from som_vae.settings import config\n",
    "#print(f\"this is the main experiment, study, and fly id: {config.full_experiment_id()}.\\n\\nloadable experiments. there is a blacklist below.\")\n",
    "#!ls $config.__EXPERIMENT_ROOT__"
   ]
  },
  {
   "cell_type": "code",
   "execution_count": 4,
   "metadata": {
    "ExecuteTime": {
     "end_time": "2019-06-12T11:24:32.886959Z",
     "start_time": "2019-06-12T11:24:32.878595Z"
    }
   },
   "outputs": [],
   "source": [
    "# if you want to see the flys as well, or just more information\n",
    "# !tree -L 2 $config.__EXPERIMENT_ROOT__"
   ]
  },
  {
   "cell_type": "markdown",
   "metadata": {
    "colab_type": "text",
    "id": "iYn4MdZnKCey"
   },
   "source": [
    "## Loading of 2d positional data"
   ]
  },
  {
   "cell_type": "code",
   "execution_count": 5,
   "metadata": {
    "ExecuteTime": {
     "end_time": "2019-06-12T11:24:32.903465Z",
     "start_time": "2019-06-12T11:24:32.889264Z"
    }
   },
   "outputs": [],
   "source": [
    "#if not run_config['use_all_experiments']:\n",
    "#    frames_idx_with_labels = preprocessing.get_frames_with_idx_and_labels(settings.data.LABELLED_DATA)\n",
    "#    frames_of_interest = ~frames_idx_with_labels['label'].isin([settings.data._BehaviorLabel_.REST])"
   ]
  },
  {
   "cell_type": "code",
   "execution_count": 6,
   "metadata": {
    "ExecuteTime": {
     "end_time": "2019-06-12T11:24:32.914454Z",
     "start_time": "2019-06-12T11:24:32.905964Z"
    }
   },
   "outputs": [],
   "source": [
    "# TODO form a wrapper around the used data, experiments (the ids), data, normalisation factor, images, ... a namedtuple should do the trick\n",
    "#if run_config['data_type'] == _DATA_TYPE_2D_POS_:\n",
    "#    if run_config['use_all_experiments']:\n",
    "#        all_experiments = [e for e in experiments_from_root() if e.study_id not in _EXPERIMENT_BLACK_LIST_ or config.get_experiment_id(e) in _FLY_BLACK_LIST_]\n",
    "#        joint_positions, normalisation_factors = preprocessing.get_data_and_normalization(all_experiments, normalize_data=True)\n",
    "#    else:\n",
    "#        joint_positions, normalisation_factors = preprocessing.get_data_and_normalization(settings.data.EXPERIMENTS, normalize_data=True)\n",
    "#\n",
    "#        images_paths_for_experiments = settings.data.EXPERIMENTS.map(lambda x: (x, config.positional_data(x)))\\\n",
    "#                                               .flat_map(lambda x: [(x[0], config.get_path_for_image(x[0], i)) for i in range(x[1].shape[1])])\\\n",
    "#                                               .to_list()\n",
    "#\n",
    "#        if len(frames_of_interest) != len(joint_positions):\n",
    "#            warnings.warn('There is a bug here. The number of images and number of data points to NOT align.')\n",
    "#            frames_of_interest = np.where(frames_of_interest[:len(joint_positions)])[0]\n",
    "#        \n",
    "#        joint_positions = joint_positions[frames_of_interest[:len(joint_positions)]]\n",
    "#        frames_idx_with_labels = frames_idx_with_labels.iloc[frames_of_interest]\n",
    "#        images_paths_for_experiments =  np.array(images_paths_for_experiments)[frames_of_interest].tolist()"
   ]
  },
  {
   "cell_type": "markdown",
   "metadata": {},
   "source": [
    "## loading of angle-data"
   ]
  },
  {
   "cell_type": "code",
   "execution_count": 7,
   "metadata": {
    "ExecuteTime": {
     "end_time": "2019-06-12T11:24:38.679837Z",
     "start_time": "2019-06-12T11:24:32.916916Z"
    }
   },
   "outputs": [],
   "source": [
    "setup_cfg = SetupConfig()\n",
    "run_cfg = RunConfig.ANGLE_3D()\n",
    "\n",
    "frame_data, frame_labels = data_loading.load_labelled_data(run_config=run_cfg, setup_config=setup_cfg)"
   ]
  },
  {
   "cell_type": "code",
   "execution_count": 8,
   "metadata": {
    "ExecuteTime": {
     "end_time": "2019-06-12T11:24:41.441513Z",
     "start_time": "2019-06-12T11:24:38.682937Z"
    }
   },
   "outputs": [],
   "source": [
    "frame_data, frame_labels, selected_columns, normalisation_factors = preprocessing.preprocess_3d_angle_data(frame_data, frame_labels, **run_cfg.value('angle_3d_params', 'preprocessing'))"
   ]
  },
  {
   "cell_type": "code",
   "execution_count": 9,
   "metadata": {
    "ExecuteTime": {
     "end_time": "2019-06-12T11:24:41.445414Z",
     "start_time": "2019-06-12T11:24:41.443743Z"
    },
    "code_folding": []
   },
   "outputs": [],
   "source": [
    "#if run_config['data_type'] == _DATA_TYPE_3D_ANGLE_ and run_config['use_all_experiments']:\n",
    "#    all_experiments = [e for e in experiments_from_root() if (e.study_id not in _EXPERIMENT_BLACK_LIST_) and (e.key not in _FLY_BLACK_LIST_)]\n",
    "#    # `per_experiment` is a shitty parameter name, the data is not normalised and return per experiment.\n",
    "#    loading_kwargs = {'dimensions': '3d', 'return_with_experiment_id': True}\n",
    "#    angle_data_raw = [(exp_id, SD.convert_3d_to_angle(d)) for exp_id, d in preprocessing.get_data_and_normalization(all_experiments, **loading_kwargs)]\n",
    "#\n",
    "#    # takes for ever to render, if you want to see this, please run it yourself\n",
    "#    #plots.plot_distribution_of_angle_data(angle_data_raw, run_config=run_config);\n",
    "#\n",
    "#    exp_ids, angle_data  = zip(*angle_data_raw)\n",
    "#    angle_data = np.vstack(angle_data)\n",
    "#    selected_cols = np.where(np.var(angle_data, axis=0) > 0.0)[0]\n",
    "#    joint_positions = angle_data[:, selected_cols]"
   ]
  },
  {
   "cell_type": "code",
   "execution_count": 10,
   "metadata": {
    "ExecuteTime": {
     "end_time": "2019-06-12T11:24:41.459238Z",
     "start_time": "2019-06-12T11:24:41.446340Z"
    },
    "scrolled": false
   },
   "outputs": [],
   "source": [
    "# will generate a huge plot and take about 6min to run...\n",
    "#plots.plot_distribution_of_angle_data(angle_data_raw, run_config=run_config);"
   ]
  },
  {
   "cell_type": "code",
   "execution_count": 11,
   "metadata": {
    "ExecuteTime": {
     "end_time": "2019-06-12T11:24:41.475620Z",
     "start_time": "2019-06-12T11:24:41.460469Z"
    },
    "code_folding": [
     0
    ]
   },
   "outputs": [],
   "source": [
    "#all_experiments = experiments_from_root()\n",
    "#print(len(all_experiments))\n",
    "#\n",
    "#pos_data = preprocessing.get_data_and_normalization(all_experiments, per_experiment=True)\n",
    "#\n",
    "#norm_pos_data, norm_pos_data_params = zip(*[preprocessing.normalize(p) for p in pos_data])\n",
    "#experiment_lengths = [len(p) for p in norm_pos_data] # for applying the right normalization factors\n",
    "#norm_pos_data = np.vstack(norm_pos_data)\n",
    "#\n",
    "#print(f\"in total we have {len(all_experiments)} experiments, but only {len(experiment_lengths)} are usable right now\")\n",
    "#\n",
    "#norm_pos_data_embedded = TSNE(n_components=2, random_state=42).fit_transform(norm_pos_data[:, :, :2].reshape(norm_pos_data.shape[0], -1))\n",
    "#\n",
    "##_cs = sns.color_palette(n_colors=len(seen_labels))\n",
    "##\n",
    "##fig = plt.figure(figsize=(10, 10))\n",
    "##_all_frames_ = pd.concat((training_frames, testing_frames))\n",
    "##\n",
    "##behaviour_colours = dict(zip(seen_labels, _cs))\n",
    "##\n",
    "##for l, c in behaviour_colours.items():\n",
    "##    _d = X_embedded[_all_frames_['label'] == l]\n",
    "##    # c=[c] since matplotlib asks for it\n",
    "##    plt.scatter(_d[:, 0], _d[:,1], c=[c], label=l.name, marker='.')\n",
    "##    \n",
    "##plt.legend()\n",
    "##plt.title('simple t-SNE on latent space')\n",
    "##fig.savefig(f\"../neural_clustering_data/figures/{som_vae_config['ex_name']}_tsne.png\")\n",
    "#\n",
    "#_cs = sns.color_palette(n_colors=len(experiment_lengths))\n",
    "#\n",
    "#\n",
    "#used_until = 0\n",
    "#for i, l in enumerate(experiment_lengths):\n",
    "#    plt.scatter(norm_pos_data_embedded[used_until:used_until+l, 0], norm_pos_data_embedded[used_until:used_until+l, 1], c=[_cs[i]])\n",
    "#    used_until += l"
   ]
  },
  {
   "cell_type": "code",
   "execution_count": 12,
   "metadata": {
    "ExecuteTime": {
     "end_time": "2019-06-12T11:24:41.487807Z",
     "start_time": "2019-06-12T11:24:41.477195Z"
    }
   },
   "outputs": [],
   "source": [
    "def to_int_value(frame_with_label):\n",
    "    return np.array([l.label.value for l in frame_with_label[:,1]])"
   ]
  },
  {
   "cell_type": "markdown",
   "metadata": {},
   "source": [
    "# preprocessing"
   ]
  },
  {
   "cell_type": "code",
   "execution_count": 13,
   "metadata": {
    "ExecuteTime": {
     "end_time": "2019-06-12T11:24:41.545527Z",
     "start_time": "2019-06-12T11:24:41.490192Z"
    }
   },
   "outputs": [],
   "source": [
    "scaler = StandardScaler()\n",
    "\n",
    "n_train_data_points = int(frame_data.shape[0] * run_cfg['train_test_ratio'])\n",
    "\n",
    "X_train = scaler.fit_transform(frame_data[:n_train_data_points])\n",
    "X_test = scaler.transform(frame_data[n_train_data_points:])\n",
    "y_train = to_int_value(frame_labels[:n_train_data_points])\n",
    "y_test = to_int_value(frame_labels[n_train_data_points:])\n",
    "\n",
    "if run_cfg['use_time_series']:\n",
    "    X_train, X_test, y_train, y_test = [misc.to_time_series_np(x, sequence_length=run_cfg['time_series_length']) \n",
    "                                        for x in (X_train, X_test, y_train, y_test)]"
   ]
  },
  {
   "cell_type": "code",
   "execution_count": 14,
   "metadata": {
    "ExecuteTime": {
     "end_time": "2019-06-12T11:24:41.550091Z",
     "start_time": "2019-06-12T11:24:41.547165Z"
    },
    "code_folding": [
     0
    ]
   },
   "outputs": [],
   "source": [
    "## full preprocessing pipeline\n",
    "#\n",
    "## scaling the data to be in [0, 1]\n",
    "## this is due to the sigmoid activation function in the reconstruction (and because ANN train better with normalised data) (which it is not...)\n",
    "##scaler = MinMaxScaler()\n",
    "#scaler = StandardScaler()\n",
    "#\n",
    "##\n",
    "## reshapping the data \n",
    "##\n",
    "#\n",
    "## TODO bring this in order! (or in better order)\n",
    "#\n",
    "#if run_config['use_time_series']:\n",
    "#    # it's the shitty logical combination of these values\n",
    "#    # TODO the scaling should be learned on the training data only, but this is a bit tricky due to how we do the time-sequences\n",
    "#    # TODO right now the training and testing data are just concatenated time-sequences, experiment overlapping. which is bad.\n",
    "#    warnings.warn('this is not proper, fix the bugs here')\n",
    "#    if run_config['data_type'] == _DATA_TYPE_2D_POS_:\n",
    "#        reshaped_joint_position = scaler.fit_transform(misc.prep_2d_pos_data(joint_positions))\n",
    "#    else:\n",
    "#        reshaped_joint_position = scaler.fit_transform(joint_positions)\n",
    "#        \n",
    "#    reshaped_joint_position = misc.to_time_series_np(reshaped_joint_position, sequence_length=run_config['time_series_length'])\n",
    "#else:\n",
    "#    if run_config['data_type'] == _DATA_TYPE_2D_POS_:\n",
    "#        # angle data is already flat\n",
    "#        reshaped_joint_position = misc.prep_2d_pos_data(joint_positions)\n",
    "#    else:\n",
    "#        reshaped_joint_position = joint_positions\n",
    "#\n",
    "##\n",
    "## debugging overwrite\n",
    "##\n",
    "#    \n",
    "#if run_config['debug']:\n",
    "#    if run_config['d_zero_data']:\n",
    "#        # resetting the scaler to make our life easier down below the pipeline\n",
    "#        _dummy_data_ = np.zeros_like(joint_positions)\n",
    "#    elif run_config['d_sinoid_data']:\n",
    "#        if run_config['data_type'] == _DATA_TYPE_2D_POS_:\n",
    "#            _dummy_data_ = np.zeros_like(joint_positions)\n",
    "#            for frame in range(_dummy_data_.shape[0]):\n",
    "#                for joint in range(_dummy_data_.shape[1]):\n",
    "#                    _dummy_data_[frame, joint, :] = np.sin(2 * np.pi * frame/_dummy_data_.shape[0] + joint / _dummy_data_.shape[1])\n",
    "#                \n",
    "#        else:\n",
    "#            _dummy_data_ = np.array([[np.sin(x) + (offset / joint_positions.shape[1]) \n",
    "#                                      for x in range(len(joint_positions))] \n",
    "#                                     for offset in range(joint_positions.shape[1])]).T.astype(joint_positions.dtype)\n",
    "#    elif run_config['d_sinoid_cluster_data']:\n",
    "#        if run_config['data_type'] == _DATA_TYPE_2D_POS_:\n",
    "#            raise NotImplementedError\n",
    "#        else:\n",
    "#            _dummy_data_ = np.zeros_like(joint_positions)\n",
    "#            _dummy_labels_ = np.zeros(joint_positions.shape[0])\n",
    "#            for c in range(_dummy_data_.shape[1]):\n",
    "#                _dummy_data_[:, c], _dummy_labels_ = dummy_data_complex_sine_like(_dummy_data_.shape[0])\n",
    "#            \n",
    "#    if run_config['data_type'] == _DATA_TYPE_2D_POS_:\n",
    "#        _dummy_data_ = misc.prep_2d_pos_data(_dummy_data_)\n",
    "#        \n",
    "#    if run_config['use_time_series']:\n",
    "#        reshaped_joint_position = scaler.fit_transform(_dummy_data_)\n",
    "#        reshaped_joint_position = misc.to_time_series_np(reshaped_joint_position, sequence_length=run_config['time_series_length'])\n",
    "#        labels = _dummy_labels_[run_config['time_series_length'] - 1:]\n",
    "#    else:\n",
    "#        reshaped_joint_position = _dummy_data_\n",
    "#        labels = _dummy_labels_\n",
    "#\n",
    "##\n",
    "## split and apply scaler\n",
    "##\n",
    "#\n",
    "#if reshaped_joint_position.shape[0] > 10**5:\n",
    "#    n_of_data_points = int(reshaped_joint_position.shape[0] * 0.9)\n",
    "#else:\n",
    "#    n_of_data_points = int(reshaped_joint_position.shape[0] * 0.7)\n",
    "#\n",
    "#if run_config['use_time_series']:\n",
    "#    data_train = reshaped_joint_position[:n_of_data_points]\n",
    "#    data_test = reshaped_joint_position[n_of_data_points:]\n",
    "#    labels_train = labels[:n_of_data_points]\n",
    "#    labels_test = labels[n_of_data_points:]\n",
    "#    print('train')\n",
    "#    display.display(pd.DataFrame(data_train[:, -1, :]).describe())\n",
    "#    print('test')\n",
    "#    display.display(pd.DataFrame(data_test[:, -1, :]).describe())\n",
    "#else:\n",
    "#    data_train = scaler.fit_transform(reshaped_joint_position[:n_of_data_points])\n",
    "#    data_test = scaler.transform(reshaped_joint_position[n_of_data_points:])\n",
    "#    labels_train = labels[:n_of_data_points]\n",
    "#    labels_test = labels[n_of_data_points:]\n",
    "#    print('train')\n",
    "#    display.display(pd.DataFrame(data_train).describe())\n",
    "#    print('test')\n",
    "#    display.display(pd.DataFrame(data_test).describe())\n",
    "#    \n",
    "#print(f\"shapes for train/test: {data_train.shape}, {data_test.shape}\")"
   ]
  },
  {
   "cell_type": "code",
   "execution_count": 15,
   "metadata": {
    "ExecuteTime": {
     "end_time": "2019-06-12T11:24:41.563171Z",
     "start_time": "2019-06-12T11:24:41.551211Z"
    }
   },
   "outputs": [
    {
     "data": {
      "text/plain": [
       "'ANGLE_3D-t-16-k-2-ncl-4-ld-4-mf-F-opt-Adam-lwr-1.0-lwkl-0.0-dr-0.0-mi-SKIP_PADD_CONV-bn-T_labelled'"
      ]
     },
     "execution_count": 15,
     "metadata": {},
     "output_type": "execute_result"
    }
   ],
   "source": [
    "run_cfg.description(short=True)"
   ]
  },
  {
   "cell_type": "code",
   "execution_count": 16,
   "metadata": {
    "ExecuteTime": {
     "end_time": "2019-06-12T11:24:45.454148Z",
     "start_time": "2019-06-12T11:24:41.564401Z"
    }
   },
   "outputs": [
    {
     "data": {
      "image/png": "[encoded data removed]",
      "text/plain": [
       "<Figure size 720x432 with 12 Axes>"
      ]
     },
     "metadata": {
      "needs_background": "light"
     },
     "output_type": "display_data"
    }
   ],
   "source": [
    "reload(plots)\n",
    "#\n",
    "# Making sure that the train/test distributions are not too different from each other\n",
    "#\n",
    "if run_cfg['use_time_series']:\n",
    "    _plt_data_idx_ = np.s_[:, -1, :]\n",
    "else:\n",
    "    _plt_data_idx_ = np.s_[:]\n",
    "    \n",
    "if run_cfg['data_type'] == data_loading.DataType.ANGLE_3D:\n",
    "    fig = plots.plot_3d_angle_data_distribution(X_train[_plt_data_idx_],\n",
    "                                                X_test[_plt_data_idx_],\n",
    "                                                selected_columns, \n",
    "                                                exp_desc=run_cfg.description())\n",
    "else:\n",
    "    fig = plots.plot_2d_distribution(data_train[_plt_data_idx_], data_test[_plt_data_idx_], exp_desc=config.config_description(run_config))"
   ]
  },
  {
   "cell_type": "markdown",
   "metadata": {
    "colab_type": "text",
    "id": "THY-sZMiQ4UV"
   },
   "source": [
    "# model def"
   ]
  },
  {
   "cell_type": "markdown",
   "metadata": {
    "heading_collapsed": true
   },
   "source": [
    "## doc"
   ]
  },
  {
   "cell_type": "markdown",
   "metadata": {
    "hidden": true
   },
   "source": [
    "### Sources:\n",
    "\n",
    "- https://blog.keras.io/building-autoencoders-in-keras.html (keras autoencoder implementation)\n",
    "- https://medium.com/the-artificial-impostor/notes-understanding-tensorflow-part-3-7f6633fcc7c7 (temporal block)\n",
    "- https://stackoverflow.com/questions/46503816/keras-conv1d-layer-parameters-filters-and-kernel-size (refresher on conv layers)\n",
    "- https://towardsdatascience.com/types-of-convolutions-in-deep-learning-717013397f4d (refresher on conv layers)\n",
    "- https://jeddy92.github.io/JEddy92.github.io/ts_seq2seq_conv/ (for a good overview over diluted causal convolutions)\n",
    "- https://blog.goodaudience.com/introduction-to-1d-convolutional-neural-networks-in-keras-for-time-sequences-3a7ff801a2cf?gi=c5cb3c007035 (general reference)\n",
    "- https://medium.com/tensorflow/variational-autoencoders-with-tensorflow-probability-layers-d06c658931b7 (VAE with tensorflow probability)"
   ]
  },
  {
   "cell_type": "markdown",
   "metadata": {
    "ExecuteTime": {
     "end_time": "2019-05-10T13:12:53.469656Z",
     "start_time": "2019-05-10T13:12:53.444967Z"
    },
    "hidden": true
   },
   "source": [
    "### Generative Network\n",
    "This defines the generative model which takes a latent encoding as input, and outputs the parameters for a conditional distribution of the observation, i.e. $p(x|z)$. Additionally, we use a unit Gaussian prior $p(z)$ for the latent variable.\n",
    "\n",
    "### Inference Network\n",
    "This defines an approximate posterior distribution $q(z|x)$, which takes as input an observation and outputs a set of parameters for the conditional distribution of the latent representation. In this example, we simply model this distribution as a diagonal Gaussian. In this case, the inference network outputs the mean and log-variance parameters of a factorized Gaussian (log-variance instead of the variance directly is for numerical stability).\n",
    "\n",
    "### Reparameterization Trick\n",
    "During optimization, we can sample from $q(z|x)$ by first sampling from a unit Gaussian, and then multiplying by the standard deviation and adding the mean. This ensures the gradients could pass through the sample to the inference network parameters.\n",
    "\n",
    "### Network architecture\n",
    "For the inference network, we use two convolutional layers followed by a fully-connected layer. In the generative network, we mirror this architecture by using a fully-connected layer followed by three convolution transpose layers (a.k.a. deconvolutional layers in some contexts). Note, it's common practice to avoid using batch normalization when training VAEs, since the additional stochasticity due to using mini-batches may aggravate instability on top of the stochasticity from sampling.\n",
    "\n",
    "The dilated convolution between signal $f$ and kernel $k$ and dilution factor $l$ is defined as:\n",
    "\n",
    "$$\\left(k \\ast_{l} f\\right)_t = \\sum_{\\tau=-\\infty}^{\\infty} k_\\tau \\cdot f_{t - l\\tau}$$\n",
    "\n",
    "![](./figures/diluted_convolution.png)\n",
    "![](./figures/WaveNet_gif.gif)"
   ]
  },
  {
   "cell_type": "markdown",
   "metadata": {
    "hidden": true
   },
   "source": [
    "VAEs train by maximizing the evidence lower bound (ELBO) on the marginal log-likelihood:\n",
    "\n",
    "$$\\log p(x) \\ge \\text{ELBO} = \\mathbb{E}_{q(z|x)}\\left[\\log \\frac{p(x, z)}{q(z|x)}\\right].$$\n",
    "\n",
    "In practice, we optimize the single sample Monte Carlo estimate of this expectation:\n",
    "\n",
    "$$\\log p(x| z) + \\log p(z) - \\log q(z|x),$$\n",
    "where $z$ is sampled from $q(z|x)$.\n",
    "\n",
    "**Note**: we could also analytically compute the KL term, but here we incorporate all three terms in the Monte Carlo estimator for simplicity."
   ]
  },
  {
   "cell_type": "code",
   "execution_count": 17,
   "metadata": {
    "ExecuteTime": {
     "end_time": "2019-06-12T11:24:45.566584Z",
     "start_time": "2019-06-12T11:24:45.455266Z"
    },
    "hidden": true
   },
   "outputs": [
    {
     "data": {
      "text/plain": [
       "<matplotlib.legend.Legend at 0x7fcdd866ed68>"
      ]
     },
     "execution_count": 17,
     "metadata": {},
     "output_type": "execute_result"
    },
    {
     "data": {
      "image/png": "[encoded data removed]",
      "text/plain": [
       "<Figure size 432x288 with 1 Axes>"
      ]
     },
     "metadata": {
      "needs_background": "light"
     },
     "output_type": "display_data"
    }
   ],
   "source": [
    "def _receptive_field_size_temporal_conv_net_(kernel_size, n_layers):\n",
    "    return 1 + 2 * (kernel_size - 1) * (2 ** n_layers - 1)\n",
    "\n",
    "for k in range(2, 5):\n",
    "    plt.plot([_receptive_field_size_temporal_conv_net_(kernel_size=k, n_layers=n) for n in range(10)], label=f\"kernel size: {k}\")\n",
    "plt.xlabel('number of layers')\n",
    "plt.ylabel('receptive field size')\n",
    "plt.legend()"
   ]
  },
  {
   "cell_type": "markdown",
   "metadata": {},
   "source": [
    "## training"
   ]
  },
  {
   "cell_type": "code",
   "execution_count": 18,
   "metadata": {
    "ExecuteTime": {
     "end_time": "2019-06-12T11:24:45.582518Z",
     "start_time": "2019-06-12T11:24:45.567812Z"
    }
   },
   "outputs": [
    {
     "data": {
      "text/plain": [
       "<module 'som_vae.training.supervised' from '/home/samuel/SOM-VAE/som_vae/training/supervised.py'>"
      ]
     },
     "execution_count": 18,
     "metadata": {},
     "output_type": "execute_result"
    }
   ],
   "source": [
    "from som_vae.helpers.tensorflow import to_tf_data\n",
    "\n",
    "from som_vae.training import vae as vae_training\n",
    "from som_vae.training import supervised as supervised_training\n",
    "\n",
    "reload(vae_training)\n",
    "reload(supervised_training)"
   ]
  },
  {
   "cell_type": "code",
   "execution_count": 19,
   "metadata": {
    "ExecuteTime": {
     "end_time": "2019-06-12T11:24:45.590136Z",
     "start_time": "2019-06-12T11:24:45.584576Z"
    },
    "code_folding": [
     0
    ]
   },
   "outputs": [],
   "source": [
    "def _reshape_and_rescale_(X, scaler=scaler, data_type=run_cfg['data_type']):\n",
    "    \"\"\"To be defined in this notebook / function. Basically a larger lambda function\n",
    "    \"\"\"\n",
    "    rescaled = scaler.inverse_transform(X)\n",
    "    if data_type ==  config.DataType.POS_2D:\n",
    "        return rescaled.reshape(-1, 15, 2)\n",
    "    elif data_type ==  config.DataType.ANGLE_3D:\n",
    "        return rescaled\n",
    "    else:\n",
    "        raise ValueError(f\"uh, got something odd: {data_type}\")"
   ]
  },
  {
   "cell_type": "code",
   "execution_count": 20,
   "metadata": {
    "ExecuteTime": {
     "end_time": "2019-06-12T11:24:45.613714Z",
     "start_time": "2019-06-12T11:24:45.592142Z"
    }
   },
   "outputs": [],
   "source": [
    "from hdbscan import HDBSCAN\n",
    "from collections import namedtuple\n",
    "from sklearn.manifold import TSNE\n",
    "\n",
    "LatentSpaceEncoding = namedtuple('LatentSpaceEncoding', 'mean var')"
   ]
  },
  {
   "cell_type": "code",
   "execution_count": 21,
   "metadata": {
    "ExecuteTime": {
     "end_time": "2019-06-12T11:24:45.633676Z",
     "start_time": "2019-06-12T11:24:45.616277Z"
    },
    "code_folding": []
   },
   "outputs": [],
   "source": [
    "def get_latent_space(model, X):\n",
    "    if model._name in ['drosoph_vae_conv', 'drosoph_vae_skip_conv']:\n",
    "        return LatentSpaceEncoding(*map(lambda x: x.numpy(), model.encode(X)))\n",
    "    else:\n",
    "        return LatentSpaceEncoding(*map(lambda x: x.numpy()[back_to_single_time], model.encode(X)))\n",
    "\n",
    "from matplotlib import gridspec\n",
    "\n",
    "def plot_latent_space(X_latent, X_latent_mean_tsne_proj, y, cluster_assignments, run_config, epochs):\n",
    "    cluster_colors = sns.color_palette(n_colors=len(np.unique(cluster_assignments)))\n",
    "    labels = np.array([ls.label.name for frame_id, ls in y[back_to_single_time]])\n",
    "    fig = plt.figure(figsize=(20, 18))\n",
    "    gs = gridspec.GridSpec(3, 2, figure=fig)\n",
    "    ax1 = plt.subplot(gs[:2, :])\n",
    "    ax2 = plt.subplot(gs[-1:, :1])\n",
    "    ax3 = plt.subplot(gs[-1:, 1:])\n",
    "\n",
    "    #plt.figure(figsize=(20, 12))\n",
    "    #fig, axs = plt.subplots(nrows=3, ncols=1, figsize=(20, 30))\n",
    "    for cluster in np.unique(cluster_assignments):\n",
    "        c_idx = cluster_assignments == cluster\n",
    "        sns.scatterplot(X_latent_mean_tsne_proj[c_idx, 0], \n",
    "                        X_latent_mean_tsne_proj[c_idx, 1], \n",
    "                        label=cluster, \n",
    "                        ax=ax1,\n",
    "                        color=cluster_colors[cluster], \n",
    "                        style=labels[c_idx],\n",
    "                        legend=False)\n",
    "        sns.scatterplot(X_latent.mean[c_idx, 0], X_latent.mean[c_idx, 1], label=cluster, ax=ax2, legend=False)\n",
    "        sns.scatterplot(X_latent.var[c_idx, 0], X_latent.var[c_idx, 1], label=cluster, ax=ax3, legend=False)\n",
    "\n",
    "    ax1.set_title('T-SNE projection of latent space (mean & var stacked)')\n",
    "    ax2.set_title('mean')\n",
    "    ax3.set_title('var')\n",
    "    \n",
    "    plt.savefig(f\"{SetupConfig.value('figures_root_path')}/{run_config.description()}_e-{epochs}_latent_space_tsne.png\")"
   ]
  },
  {
   "cell_type": "code",
   "execution_count": 22,
   "metadata": {
    "ExecuteTime": {
     "end_time": "2019-06-12T11:24:45.646373Z",
     "start_time": "2019-06-12T11:24:45.636586Z"
    }
   },
   "outputs": [],
   "source": [
    "import pickle\n",
    "def dump_results(results, config_desc):\n",
    "    misc.create_parents(f\"{SetupConfig.value('grid_search_root_path')}/{config_desc}.pkl\")\n",
    "    with open(f\"{SetupConfig.value('grid_search_root_path')}/{config_desc}.pkl\", 'wb') as f:\n",
    "        pickle.dump(results, f)"
   ]
  },
  {
   "cell_type": "code",
   "execution_count": 23,
   "metadata": {
    "ExecuteTime": {
     "end_time": "2019-06-12T11:24:45.669369Z",
     "start_time": "2019-06-12T11:24:45.651579Z"
    }
   },
   "outputs": [],
   "source": [
    "from som_vae.losses import purity as P"
   ]
  },
  {
   "cell_type": "code",
   "execution_count": 24,
   "metadata": {
    "ExecuteTime": {
     "end_time": "2019-06-12T11:24:45.693826Z",
     "start_time": "2019-06-12T11:24:45.674088Z"
    },
    "code_folding": []
   },
   "outputs": [],
   "source": [
    "from som_vae.losses.normalized_mutual_information import normalized_mutual_information\n",
    "from som_vae.losses.purity import purity\n",
    "\n",
    "def plot_reconstruction_comparision_angle_3d(X_eval, X_hat_eval, epochs, selected_columns=selected_columns, run_config=run_cfg):\n",
    "    xticks = np.arange(0, len(X_eval)) / SetupConfig.value('frames_per_second') / 60.\n",
    "    fig, axs = plt.subplots(nrows=X_eval.shape[1], ncols=1, figsize=(20, 30), sharex=True, sharey=True)\n",
    "    for i, cn in enumerate(data_loading.get_3d_columns_names(selected_columns)):\n",
    "        _idx_ = np.s_[:, i]\n",
    "        axs[i].plot(xticks, X_eval[_idx_], label='input')\n",
    "        axs[i].plot(xticks, X_hat_eval[_idx_], label='reconstructed')\n",
    "\n",
    "        axs[i].set_title(cn)\n",
    "\n",
    "    axs[-1].set_xlabel('time [min]')\n",
    "    axs[0].legend(loc='upper left')\n",
    "    \n",
    "    #plt.legend(bbox_to_anchor=(1.05, 1), loc=2, borderaxespad=0.)\n",
    "    plt.suptitle(f\"Comparision of selection of data\\n({run_config.description()}_e-{epochs})\")\n",
    "    \n",
    "    plt.tight_layout()\n",
    "    plt.subplots_adjust(top=0.94)\n",
    "    plt.savefig(f\"{SetupConfig.value('figures_root_path')}/{run_config.description()}_e-{epochs}_input_gen_recon_comparision.png\")\n",
    "\n",
    "def eval_model(training_results, X, X_eval, y, run_config):\n",
    "    model = training_results['model']\n",
    "    #train_reports = training_results['train_report']\n",
    "    #test_reports= training_results['test_report']\n",
    "\n",
    "    exp_desc = run_config.description(short=False)\n",
    "    exp_desc_short = run_config.description()\n",
    "\n",
    "    X_hat_eval = _reshape_and_rescale_(model(X, apply_sigmoid=False).numpy()[back_to_single_time])\n",
    "    \n",
    "    plot_reconstruction_comparision_angle_3d(X_eval, X_hat_eval, len(training_results['train_reports']))\n",
    "                \n",
    "    X_latent = get_latent_space(training_results['model'], X)\n",
    "    X_latent_mean_tsne_proj = TSNE(n_components=2, random_state=42).fit_transform(np.hstack((X_latent.mean, X_latent.var)))\n",
    "\n",
    "    cluster_assignments = HDBSCAN(min_cluster_size=8).fit_predict(np.hstack((X_latent.mean, X_latent.var)))\n",
    "    plot_latent_space(X_latent, X_latent_mean_tsne_proj, y, cluster_assignments, run_config, epochs=len(training_results['train_reports']))\n",
    "                \n",
    "    nmi = normalised_mutual_information(cluster_assignments, y)\n",
    "    pur = P.purity(cluster_assignments, y)\n",
    "\n",
    "    return (cluster_assignments, nmi, pur)"
   ]
  },
  {
   "cell_type": "code",
   "execution_count": 25,
   "metadata": {
    "ExecuteTime": {
     "end_time": "2019-06-12T11:24:45.750298Z",
     "start_time": "2019-06-12T11:24:45.696220Z"
    }
   },
   "outputs": [],
   "source": [
    "X = np.vstack((X_train, X_test))\n",
    "y = np.vstack((y_train, y_test))\n",
    "\n",
    "train_dataset = to_tf_data(X_train, y_train, batch_size=run_cfg['batch_size'])\n",
    "test_dataset = to_tf_data(X_test, y_test, batch_size=run_cfg['batch_size']) \n",
    "\n",
    "if run_cfg['use_time_series']:\n",
    "    back_to_single_time = np.s_[:, -1, :]\n",
    "else:\n",
    "    back_to_single_time = np.s_[:]\n",
    "    \n",
    "X_eval = _reshape_and_rescale_(X[back_to_single_time])"
   ]
  },
  {
   "cell_type": "code",
   "execution_count": 29,
   "metadata": {
    "ExecuteTime": {
     "end_time": "2019-06-12T11:25:58.840352Z",
     "start_time": "2019-06-12T11:25:58.831336Z"
    }
   },
   "outputs": [
    {
     "data": {
      "text/plain": [
       "<module 'som_vae.training.vae' from '/home/samuel/SOM-VAE/som_vae/training/vae.py'>"
      ]
     },
     "execution_count": 29,
     "metadata": {},
     "output_type": "execute_result"
    }
   ],
   "source": [
    "reload(vae_training)"
   ]
  },
  {
   "cell_type": "code",
   "execution_count": 34,
   "metadata": {
    "ExecuteTime": {
     "end_time": "2019-06-12T11:51:59.958922Z",
     "start_time": "2019-06-12T11:51:59.945015Z"
    }
   },
   "outputs": [],
   "source": [
    "from itertools import product\n",
    "\n",
    "grid_search_params = {\n",
    "    'model_impl': [config.ModelType.SKIP_PADD_CONV, config.ModelType.TEMP_CONV, config.ModelType.PADD_CONV],\n",
    "    'latent_dim': [2, 8, 16]\n",
    "}\n",
    "\n",
    "def grid_search(grid_search_params, eval_steps=2, epochs=8):\n",
    "    parameters = product(*grid_search_params.values())\n",
    "    cfgs = ((p, config.RunConfig(**dict(zip(grid_search_params.keys(), p)))) for p in parameters)\n",
    "\n",
    "    for p, cfg in cfgs:\n",
    "        # this allows continuous training with a fixed number of epochs. uuuh yeah.\n",
    "        # there is however a side-effect problem here. I am running this on a GPU, `init` and `train` need to be called in order.\n",
    "        # it needs to be init->train, init->train, ... init resets the graph, and I guess this will free up memory\n",
    "        vae_training_args = vae_training.init(input_shape=X_train.shape[1:], run_config=cfg)\n",
    "        vae_training_results = {}\n",
    "        cluster_assignments = []\n",
    "        for u in range(np.int(epochs / eval_steps)):\n",
    "            vae_training_results = vae_training.train(**{**vae_training_args, **vae_training_results},\n",
    "                                                      train_dataset=train_dataset, \n",
    "                                                      test_dataset=test_dataset,\n",
    "                                                      early_stopping=False,\n",
    "                                                      n_epochs=eval_steps)\n",
    "\n",
    "            cluster_assignments += [eval_model(vae_training_results, X, X_eval, y, cfg)]\n",
    "        \n",
    "        cluster_assignments += [eval_model(vae_training_results, X, X_eval, cfg)]\n",
    "        yield p, vae_training_results['train_reports'], vae_training_results['test_reports'], cluster_assignments"
   ]
  },
  {
   "cell_type": "code",
   "execution_count": null,
   "metadata": {
    "ExecuteTime": {
     "start_time": "2019-06-12T11:52:01.741Z"
    },
    "scrolled": true
   },
   "outputs": [
    {
     "name": "stdout",
     "output_type": "stream",
     "text": [
      "Using model: ModelType.SKIP_PADD_CONV\n",
      "[18 17 16 15 15 14 13 13 12 11 10 10  9  8  8]\n",
      "[ 4  5  6  7  8  9 10 11 12 13 14 15 16 17 18]\n"
     ]
    },
    {
     "name": "stderr",
     "output_type": "stream",
     "text": [
      "/home/samuel/.conda/envs/tf_nightly/lib/python3.7/site-packages/tensorflow/python/eager/execution_callbacks.py:174: FutureWarning: Conversion of the second argument of issubdtype from `complex` to `np.complexfloating` is deprecated. In future, it will be treated as `np.complex128 == np.dtype(complex).type`.\n",
      "  np.issubdtype(numpy_dtype, np.complex) or\n"
     ]
    },
    {
     "name": "stdout",
     "output_type": "stream",
     "text": [
      "Model: \"model_1\"\n",
      "____________________________________________________________________________________________________\n",
      "Layer (type)                                 Output Shape                            Param #        \n",
      "====================================================================================================\n",
      "input_11 (InputLayer)                        [(128, 16, 18)]                         0              \n",
      "____________________________________________________________________________________________________\n",
      "inference_net (Sequential)                   (128, 8)                                11564          \n",
      "____________________________________________________________________________________________________\n",
      "tf_op_layer_split_7 (TensorFlowOpLayer)      [(128, 4), (128, 4)]                    0              \n",
      "____________________________________________________________________________________________________\n",
      "activation_1 (Activation)                    (128, 4)                                0              \n",
      "====================================================================================================\n",
      "Total params: 11,564\n",
      "Trainable params: 11,186\n",
      "Non-trainable params: 378\n",
      "____________________________________________________________________________________________________\n",
      "Model: \"model_2\"\n",
      "____________________________________________________________________________________________________\n",
      "Layer (type)                     Output Shape          Param #     Connected to                     \n",
      "====================================================================================================\n",
      "input_12 (InputLayer)            [(None, 4)]           0                                            \n",
      "____________________________________________________________________________________________________\n",
      "lambda (Lambda)                  (None, 1, 4)          0           input_12[0][0]                   \n",
      "____________________________________________________________________________________________________\n",
      "skip_connection_layer (SkipConne (None, 2, 4)          124         lambda[0][0]                     \n",
      "                                                                   input_12[0][0]                   \n",
      "____________________________________________________________________________________________________\n",
      "skip_connection_layer_1 (SkipCon (None, 3, 5)          157         skip_connection_layer[0][0]      \n",
      "                                                                   input_12[0][0]                   \n",
      "____________________________________________________________________________________________________\n",
      "skip_connection_layer_2 (SkipCon (None, 4, 6)          210         skip_connection_layer_1[0][0]    \n",
      "                                                                   input_12[0][0]                   \n",
      "____________________________________________________________________________________________________\n",
      "skip_connection_layer_3 (SkipCon (None, 5, 7)          271         skip_connection_layer_2[0][0]    \n",
      "                                                                   input_12[0][0]                   \n",
      "____________________________________________________________________________________________________\n",
      "skip_connection_layer_4 (SkipCon (None, 6, 8)          340         skip_connection_layer_3[0][0]    \n",
      "                                                                   input_12[0][0]                   \n",
      "____________________________________________________________________________________________________\n",
      "skip_connection_layer_5 (SkipCon (None, 7, 9)          417         skip_connection_layer_4[0][0]    \n",
      "                                                                   input_12[0][0]                   \n",
      "____________________________________________________________________________________________________\n",
      "skip_connection_layer_6 (SkipCon (None, 8, 10)         502         skip_connection_layer_5[0][0]    \n",
      "                                                                   input_12[0][0]                   \n",
      "____________________________________________________________________________________________________\n",
      "skip_connection_layer_7 (SkipCon (None, 9, 11)         595         skip_connection_layer_6[0][0]    \n",
      "                                                                   input_12[0][0]                   \n",
      "____________________________________________________________________________________________________\n",
      "skip_connection_layer_8 (SkipCon (None, 10, 12)        696         skip_connection_layer_7[0][0]    \n",
      "                                                                   input_12[0][0]                   \n",
      "____________________________________________________________________________________________________\n",
      "skip_connection_layer_9 (SkipCon (None, 11, 13)        805         skip_connection_layer_8[0][0]    \n",
      "                                                                   input_12[0][0]                   \n",
      "____________________________________________________________________________________________________\n",
      "skip_connection_layer_10 (SkipCo (None, 12, 14)        922         skip_connection_layer_9[0][0]    \n",
      "                                                                   input_12[0][0]                   \n",
      "____________________________________________________________________________________________________\n",
      "skip_connection_layer_11 (SkipCo (None, 13, 15)        1047        skip_connection_layer_10[0][0]   \n",
      "                                                                   input_12[0][0]                   \n",
      "____________________________________________________________________________________________________\n",
      "skip_connection_layer_12 (SkipCo (None, 14, 16)        1180        skip_connection_layer_11[0][0]   \n",
      "                                                                   input_12[0][0]                   \n",
      "____________________________________________________________________________________________________\n",
      "skip_connection_layer_13 (SkipCo (None, 15, 17)        1321        skip_connection_layer_12[0][0]   \n",
      "                                                                   input_12[0][0]                   \n",
      "____________________________________________________________________________________________________\n",
      "skip_connection_layer_14 (SkipCo (None, 16, 18)        1470        skip_connection_layer_13[0][0]   \n",
      "                                                                   input_12[0][0]                   \n",
      "____________________________________________________________________________________________________\n",
      "time_distributed (TimeDistribute (None, 16, 18)        342         skip_connection_layer_14[0][0]   \n",
      "====================================================================================================\n",
      "Total params: 10,399\n",
      "Trainable params: 9,977\n",
      "Non-trainable params: 422\n",
      "____________________________________________________________________________________________________\n",
      "epoch 0\n"
     ]
    }
   ],
   "source": [
    "grid_search_results = list(grid_search(grid_search_params))\n",
    "\n",
    "dump_results(grid_search_results, 'grid_search_only_vae')"
   ]
  },
  {
   "cell_type": "code",
   "execution_count": null,
   "metadata": {
    "ExecuteTime": {
     "start_time": "2019-06-12T11:52:06.831Z"
    }
   },
   "outputs": [],
   "source": [
    "grid_search_results"
   ]
  },
  {
   "cell_type": "code",
   "execution_count": null,
   "metadata": {
    "ExecuteTime": {
     "end_time": "2019-06-12T11:25:15.510142Z",
     "start_time": "2019-06-12T11:24:30.205Z"
    }
   },
   "outputs": [],
   "source": [
    "stop"
   ]
  },
  {
   "cell_type": "code",
   "execution_count": 39,
   "metadata": {
    "ExecuteTime": {
     "end_time": "2019-06-12T12:55:52.985805Z",
     "start_time": "2019-06-12T12:55:12.540421Z"
    }
   },
   "outputs": [
    {
     "name": "stdout",
     "output_type": "stream",
     "text": [
      "Using model: ModelType.SKIP_PADD_CONV\n",
      "[18 17 16 15 15 14 13 13 12 11 10 10  9  8  8]\n",
      "[ 4  5  6  7  8  9 10 11 12 13 14 15 16 17 18]\n"
     ]
    },
    {
     "name": "stderr",
     "output_type": "stream",
     "text": [
      "/home/samuel/.conda/envs/tf_nightly/lib/python3.7/site-packages/tensorflow/python/eager/execution_callbacks.py:174: FutureWarning: Conversion of the second argument of issubdtype from `complex` to `np.complexfloating` is deprecated. In future, it will be treated as `np.complex128 == np.dtype(complex).type`.\n",
      "  np.issubdtype(numpy_dtype, np.complex) or\n"
     ]
    },
    {
     "name": "stdout",
     "output_type": "stream",
     "text": [
      "Model: \"model_1\"\n",
      "____________________________________________________________________________________________________\n",
      "Layer (type)                                 Output Shape                            Param #        \n",
      "====================================================================================================\n",
      "input_23 (InputLayer)                        [(128, 16, 18)]                         0              \n",
      "____________________________________________________________________________________________________\n",
      "inference_net (Sequential)                   (128, 8)                                11564          \n",
      "____________________________________________________________________________________________________\n",
      "tf_op_layer_split_15 (TensorFlowOpLayer)     [(128, 4), (128, 4)]                    0              \n",
      "____________________________________________________________________________________________________\n",
      "activation_1 (Activation)                    (128, 4)                                0              \n",
      "====================================================================================================\n",
      "Total params: 11,564\n",
      "Trainable params: 11,186\n",
      "Non-trainable params: 378\n",
      "____________________________________________________________________________________________________\n",
      "Model: \"model_2\"\n",
      "____________________________________________________________________________________________________\n",
      "Layer (type)                     Output Shape          Param #     Connected to                     \n",
      "====================================================================================================\n",
      "input_24 (InputLayer)            [(None, 4)]           0                                            \n",
      "____________________________________________________________________________________________________\n",
      "lambda (Lambda)                  (None, 1, 4)          0           input_24[0][0]                   \n",
      "____________________________________________________________________________________________________\n",
      "skip_connection_layer (SkipConne (None, 2, 4)          124         lambda[0][0]                     \n",
      "                                                                   input_24[0][0]                   \n",
      "____________________________________________________________________________________________________\n",
      "skip_connection_layer_1 (SkipCon (None, 3, 5)          157         skip_connection_layer[0][0]      \n",
      "                                                                   input_24[0][0]                   \n",
      "____________________________________________________________________________________________________\n",
      "skip_connection_layer_2 (SkipCon (None, 4, 6)          210         skip_connection_layer_1[0][0]    \n",
      "                                                                   input_24[0][0]                   \n",
      "____________________________________________________________________________________________________\n",
      "skip_connection_layer_3 (SkipCon (None, 5, 7)          271         skip_connection_layer_2[0][0]    \n",
      "                                                                   input_24[0][0]                   \n",
      "____________________________________________________________________________________________________\n",
      "skip_connection_layer_4 (SkipCon (None, 6, 8)          340         skip_connection_layer_3[0][0]    \n",
      "                                                                   input_24[0][0]                   \n",
      "____________________________________________________________________________________________________\n",
      "skip_connection_layer_5 (SkipCon (None, 7, 9)          417         skip_connection_layer_4[0][0]    \n",
      "                                                                   input_24[0][0]                   \n",
      "____________________________________________________________________________________________________\n",
      "skip_connection_layer_6 (SkipCon (None, 8, 10)         502         skip_connection_layer_5[0][0]    \n",
      "                                                                   input_24[0][0]                   \n",
      "____________________________________________________________________________________________________\n",
      "skip_connection_layer_7 (SkipCon (None, 9, 11)         595         skip_connection_layer_6[0][0]    \n",
      "                                                                   input_24[0][0]                   \n",
      "____________________________________________________________________________________________________\n",
      "skip_connection_layer_8 (SkipCon (None, 10, 12)        696         skip_connection_layer_7[0][0]    \n",
      "                                                                   input_24[0][0]                   \n",
      "____________________________________________________________________________________________________\n",
      "skip_connection_layer_9 (SkipCon (None, 11, 13)        805         skip_connection_layer_8[0][0]    \n",
      "                                                                   input_24[0][0]                   \n",
      "____________________________________________________________________________________________________\n",
      "skip_connection_layer_10 (SkipCo (None, 12, 14)        922         skip_connection_layer_9[0][0]    \n",
      "                                                                   input_24[0][0]                   \n",
      "____________________________________________________________________________________________________\n",
      "skip_connection_layer_11 (SkipCo (None, 13, 15)        1047        skip_connection_layer_10[0][0]   \n",
      "                                                                   input_24[0][0]                   \n",
      "____________________________________________________________________________________________________\n",
      "skip_connection_layer_12 (SkipCo (None, 14, 16)        1180        skip_connection_layer_11[0][0]   \n",
      "                                                                   input_24[0][0]                   \n",
      "____________________________________________________________________________________________________\n",
      "skip_connection_layer_13 (SkipCo (None, 15, 17)        1321        skip_connection_layer_12[0][0]   \n",
      "                                                                   input_24[0][0]                   \n",
      "____________________________________________________________________________________________________\n",
      "skip_connection_layer_14 (SkipCo (None, 16, 18)        1470        skip_connection_layer_13[0][0]   \n",
      "                                                                   input_24[0][0]                   \n",
      "____________________________________________________________________________________________________\n",
      "time_distributed (TimeDistribute (None, 16, 18)        342         skip_connection_layer_14[0][0]   \n",
      "====================================================================================================\n",
      "Total params: 10,399\n",
      "Trainable params: 9,977\n",
      "Non-trainable params: 422\n",
      "____________________________________________________________________________________________________\n",
      "epoch 0\n"
     ]
    },
    {
     "ename": "NotFoundError",
     "evalue": "Resource localhost/logdir:/home/samuel/neural_clustering_data/tvae_logs/ANGLE_3D-t-16-k-2-ncl-4-ld-4-mf-F-opt-Adam-lwr-1.0-lwkl-0.0-dr-0.0-mi-SKIP_PADD_CONV-bn-T_labelled/train/N10tensorflow22SummaryWriterInterfaceE does not exist. [Op:WriteScalarSummary] name: loss/",
     "output_type": "error",
     "traceback": [
      "\u001b[0;31m---------------------------------------------------------------------------\u001b[0m",
      "\u001b[0;31mNotFoundError\u001b[0m                             Traceback (most recent call last)",
      "\u001b[0;32m<ipython-input-39-697b0d538924>\u001b[0m in \u001b[0;36m<module>\u001b[0;34m\u001b[0m\n\u001b[1;32m     10\u001b[0m                                               \u001b[0mtest_dataset\u001b[0m\u001b[0;34m=\u001b[0m\u001b[0mtest_dataset\u001b[0m\u001b[0;34m,\u001b[0m\u001b[0;34m\u001b[0m\u001b[0;34m\u001b[0m\u001b[0m\n\u001b[1;32m     11\u001b[0m                                               \u001b[0mearly_stopping\u001b[0m\u001b[0;34m=\u001b[0m\u001b[0;32mFalse\u001b[0m\u001b[0;34m,\u001b[0m\u001b[0;34m\u001b[0m\u001b[0;34m\u001b[0m\u001b[0m\n\u001b[0;32m---> 12\u001b[0;31m                                               n_epochs=eval_steps)\n\u001b[0m\u001b[1;32m     13\u001b[0m \u001b[0;34m\u001b[0m\u001b[0m\n\u001b[1;32m     14\u001b[0m     \u001b[0mcluster_assignments\u001b[0m \u001b[0;34m+=\u001b[0m \u001b[0;34m[\u001b[0m\u001b[0meval_model\u001b[0m\u001b[0;34m(\u001b[0m\u001b[0mvae_training_results\u001b[0m\u001b[0;34m,\u001b[0m \u001b[0mX\u001b[0m\u001b[0;34m,\u001b[0m \u001b[0mX_eval\u001b[0m\u001b[0;34m,\u001b[0m \u001b[0mrun_cfg\u001b[0m\u001b[0;34m)\u001b[0m\u001b[0;34m]\u001b[0m\u001b[0;34m\u001b[0m\u001b[0;34m\u001b[0m\u001b[0m\n",
      "\u001b[0;32m~/SOM-VAE/som_vae/training/utils.py\u001b[0m in \u001b[0;36mtrain\u001b[0;34m(model, optimizer, train_summary_writer, test_summary_writer, model_checkpoints_path, gradient_fn, loss_report_fn, train_reports, test_reports, train_dataset, test_dataset, n_epochs, early_stopping)\u001b[0m\n\u001b[1;32m     68\u001b[0m                 \u001b[0;31m# to support multiple training gradients and loss functions\u001b[0m\u001b[0;34m\u001b[0m\u001b[0;34m\u001b[0m\u001b[0;34m\u001b[0m\u001b[0m\n\u001b[1;32m     69\u001b[0m                 \u001b[0m_recorded_scalars_\u001b[0m \u001b[0;34m=\u001b[0m  \u001b[0;34m[\u001b[0m\u001b[0;34m'loss'\u001b[0m\u001b[0;34m,\u001b[0m \u001b[0;34m'recon'\u001b[0m\u001b[0;34m,\u001b[0m \u001b[0;34m'kl'\u001b[0m\u001b[0;34m]\u001b[0m\u001b[0;34m\u001b[0m\u001b[0;34m\u001b[0m\u001b[0m\n\u001b[0;32m---> 70\u001b[0;31m                 \u001b[0mtf_helpers\u001b[0m\u001b[0;34m.\u001b[0m\u001b[0mtf_write_scalars\u001b[0m\u001b[0;34m(\u001b[0m\u001b[0mtrain_summary_writer\u001b[0m\u001b[0;34m,\u001b[0m \u001b[0mzip\u001b[0m\u001b[0;34m(\u001b[0m\u001b[0m_recorded_scalars_\u001b[0m\u001b[0;34m,\u001b[0m \u001b[0mtrain_reports\u001b[0m\u001b[0;34m[\u001b[0m\u001b[0;34m-\u001b[0m\u001b[0;36m1\u001b[0m\u001b[0;34m]\u001b[0m\u001b[0;34m)\u001b[0m\u001b[0;34m,\u001b[0m \u001b[0mstep\u001b[0m\u001b[0;34m=\u001b[0m\u001b[0mepoch\u001b[0m\u001b[0;34m)\u001b[0m\u001b[0;34m\u001b[0m\u001b[0;34m\u001b[0m\u001b[0m\n\u001b[0m\u001b[1;32m     71\u001b[0m                 \u001b[0mtf_helpers\u001b[0m\u001b[0;34m.\u001b[0m\u001b[0mtf_write_scalars\u001b[0m\u001b[0;34m(\u001b[0m\u001b[0mtest_summary_writer\u001b[0m\u001b[0;34m,\u001b[0m  \u001b[0mzip\u001b[0m\u001b[0;34m(\u001b[0m\u001b[0m_recorded_scalars_\u001b[0m\u001b[0;34m,\u001b[0m \u001b[0mtest_reports\u001b[0m\u001b[0;34m[\u001b[0m\u001b[0;34m-\u001b[0m\u001b[0;36m1\u001b[0m\u001b[0;34m]\u001b[0m\u001b[0;34m)\u001b[0m\u001b[0;34m,\u001b[0m  \u001b[0mstep\u001b[0m\u001b[0;34m=\u001b[0m\u001b[0mepoch\u001b[0m\u001b[0;34m)\u001b[0m\u001b[0;34m\u001b[0m\u001b[0;34m\u001b[0m\u001b[0m\n\u001b[1;32m     72\u001b[0m \u001b[0;34m\u001b[0m\u001b[0m\n",
      "\u001b[0;32m~/SOM-VAE/som_vae/helpers/tensorflow.py\u001b[0m in \u001b[0;36mtf_write_scalars\u001b[0;34m(writer, scalars, step)\u001b[0m\n\u001b[1;32m     35\u001b[0m     \u001b[0;32mwith\u001b[0m \u001b[0mwriter\u001b[0m\u001b[0;34m.\u001b[0m\u001b[0mas_default\u001b[0m\u001b[0;34m(\u001b[0m\u001b[0;34m)\u001b[0m\u001b[0;34m,\u001b[0m \u001b[0mtfc\u001b[0m\u001b[0;34m.\u001b[0m\u001b[0msummary\u001b[0m\u001b[0;34m.\u001b[0m\u001b[0malways_record_summaries\u001b[0m\u001b[0;34m(\u001b[0m\u001b[0;34m)\u001b[0m\u001b[0;34m:\u001b[0m\u001b[0;34m\u001b[0m\u001b[0;34m\u001b[0m\u001b[0m\n\u001b[1;32m     36\u001b[0m         \u001b[0;32mfor\u001b[0m \u001b[0mn\u001b[0m\u001b[0;34m,\u001b[0m \u001b[0mv\u001b[0m \u001b[0;32min\u001b[0m \u001b[0mscalars\u001b[0m\u001b[0;34m:\u001b[0m\u001b[0;34m\u001b[0m\u001b[0;34m\u001b[0m\u001b[0m\n\u001b[0;32m---> 37\u001b[0;31m             \u001b[0mtfc\u001b[0m\u001b[0;34m.\u001b[0m\u001b[0msummary\u001b[0m\u001b[0;34m.\u001b[0m\u001b[0mscalar\u001b[0m\u001b[0;34m(\u001b[0m\u001b[0mn\u001b[0m\u001b[0;34m,\u001b[0m \u001b[0mv\u001b[0m\u001b[0;34m,\u001b[0m \u001b[0mstep\u001b[0m\u001b[0;34m=\u001b[0m\u001b[0mstep\u001b[0m\u001b[0;34m)\u001b[0m\u001b[0;34m\u001b[0m\u001b[0;34m\u001b[0m\u001b[0m\n\u001b[0m\u001b[1;32m     38\u001b[0m \u001b[0;34m\u001b[0m\u001b[0m\n\u001b[1;32m     39\u001b[0m \u001b[0;34m\u001b[0m\u001b[0m\n",
      "\u001b[0;32m~/.conda/envs/tf_nightly/lib/python3.7/site-packages/tensorflow/python/ops/summary_ops_v2.py\u001b[0m in \u001b[0;36mscalar\u001b[0;34m(name, tensor, family, step)\u001b[0m\n\u001b[1;32m    784\u001b[0m         name=scope)\n\u001b[1;32m    785\u001b[0m \u001b[0;34m\u001b[0m\u001b[0m\n\u001b[0;32m--> 786\u001b[0;31m   \u001b[0;32mreturn\u001b[0m \u001b[0msummary_writer_function\u001b[0m\u001b[0;34m(\u001b[0m\u001b[0mname\u001b[0m\u001b[0;34m,\u001b[0m \u001b[0mtensor\u001b[0m\u001b[0;34m,\u001b[0m \u001b[0mfunction\u001b[0m\u001b[0;34m,\u001b[0m \u001b[0mfamily\u001b[0m\u001b[0;34m=\u001b[0m\u001b[0mfamily\u001b[0m\u001b[0;34m)\u001b[0m\u001b[0;34m\u001b[0m\u001b[0;34m\u001b[0m\u001b[0m\n\u001b[0m\u001b[1;32m    787\u001b[0m \u001b[0;34m\u001b[0m\u001b[0m\n\u001b[1;32m    788\u001b[0m \u001b[0;34m\u001b[0m\u001b[0m\n",
      "\u001b[0;32m~/.conda/envs/tf_nightly/lib/python3.7/site-packages/tensorflow/python/ops/summary_ops_v2.py\u001b[0m in \u001b[0;36msummary_writer_function\u001b[0;34m(name, tensor, function, family)\u001b[0m\n\u001b[1;32m    728\u001b[0m   \u001b[0;32mwith\u001b[0m \u001b[0mops\u001b[0m\u001b[0;34m.\u001b[0m\u001b[0mdevice\u001b[0m\u001b[0;34m(\u001b[0m\u001b[0;34m\"cpu:0\"\u001b[0m\u001b[0;34m)\u001b[0m\u001b[0;34m:\u001b[0m\u001b[0;34m\u001b[0m\u001b[0;34m\u001b[0m\u001b[0m\n\u001b[1;32m    729\u001b[0m     op = smart_cond.smart_cond(\n\u001b[0;32m--> 730\u001b[0;31m         should_record_summaries(), record, _nothing, name=\"\")\n\u001b[0m\u001b[1;32m    731\u001b[0m     \u001b[0;32mif\u001b[0m \u001b[0;32mnot\u001b[0m \u001b[0mcontext\u001b[0m\u001b[0;34m.\u001b[0m\u001b[0mexecuting_eagerly\u001b[0m\u001b[0;34m(\u001b[0m\u001b[0;34m)\u001b[0m\u001b[0;34m:\u001b[0m\u001b[0;34m\u001b[0m\u001b[0;34m\u001b[0m\u001b[0m\n\u001b[1;32m    732\u001b[0m       \u001b[0mops\u001b[0m\u001b[0;34m.\u001b[0m\u001b[0madd_to_collection\u001b[0m\u001b[0;34m(\u001b[0m\u001b[0mops\u001b[0m\u001b[0;34m.\u001b[0m\u001b[0mGraphKeys\u001b[0m\u001b[0;34m.\u001b[0m\u001b[0m_SUMMARY_COLLECTION\u001b[0m\u001b[0;34m,\u001b[0m \u001b[0mop\u001b[0m\u001b[0;34m)\u001b[0m  \u001b[0;31m# pylint: disable=protected-access\u001b[0m\u001b[0;34m\u001b[0m\u001b[0;34m\u001b[0m\u001b[0m\n",
      "\u001b[0;32m~/.conda/envs/tf_nightly/lib/python3.7/site-packages/tensorflow/python/framework/smart_cond.py\u001b[0m in \u001b[0;36msmart_cond\u001b[0;34m(pred, true_fn, false_fn, name)\u001b[0m\n\u001b[1;32m     52\u001b[0m   \u001b[0;32mif\u001b[0m \u001b[0mpred_value\u001b[0m \u001b[0;32mis\u001b[0m \u001b[0;32mnot\u001b[0m \u001b[0;32mNone\u001b[0m\u001b[0;34m:\u001b[0m\u001b[0;34m\u001b[0m\u001b[0;34m\u001b[0m\u001b[0m\n\u001b[1;32m     53\u001b[0m     \u001b[0;32mif\u001b[0m \u001b[0mpred_value\u001b[0m\u001b[0;34m:\u001b[0m\u001b[0;34m\u001b[0m\u001b[0;34m\u001b[0m\u001b[0m\n\u001b[0;32m---> 54\u001b[0;31m       \u001b[0;32mreturn\u001b[0m \u001b[0mtrue_fn\u001b[0m\u001b[0;34m(\u001b[0m\u001b[0;34m)\u001b[0m\u001b[0;34m\u001b[0m\u001b[0;34m\u001b[0m\u001b[0m\n\u001b[0m\u001b[1;32m     55\u001b[0m     \u001b[0;32melse\u001b[0m\u001b[0;34m:\u001b[0m\u001b[0;34m\u001b[0m\u001b[0;34m\u001b[0m\u001b[0m\n\u001b[1;32m     56\u001b[0m       \u001b[0;32mreturn\u001b[0m \u001b[0mfalse_fn\u001b[0m\u001b[0;34m(\u001b[0m\u001b[0;34m)\u001b[0m\u001b[0;34m\u001b[0m\u001b[0;34m\u001b[0m\u001b[0m\n",
      "\u001b[0;32m~/.conda/envs/tf_nightly/lib/python3.7/site-packages/tensorflow/python/ops/summary_ops_v2.py\u001b[0m in \u001b[0;36mrecord\u001b[0;34m()\u001b[0m\n\u001b[1;32m    721\u001b[0m     with ops.name_scope(name_scope), summary_op_util.summary_scope(\n\u001b[1;32m    722\u001b[0m         name, family, values=[tensor]) as (tag, scope):\n\u001b[0;32m--> 723\u001b[0;31m       \u001b[0;32mwith\u001b[0m \u001b[0mops\u001b[0m\u001b[0;34m.\u001b[0m\u001b[0mcontrol_dependencies\u001b[0m\u001b[0;34m(\u001b[0m\u001b[0;34m[\u001b[0m\u001b[0mfunction\u001b[0m\u001b[0;34m(\u001b[0m\u001b[0mtag\u001b[0m\u001b[0;34m,\u001b[0m \u001b[0mscope\u001b[0m\u001b[0;34m)\u001b[0m\u001b[0;34m]\u001b[0m\u001b[0;34m)\u001b[0m\u001b[0;34m:\u001b[0m\u001b[0;34m\u001b[0m\u001b[0;34m\u001b[0m\u001b[0m\n\u001b[0m\u001b[1;32m    724\u001b[0m         \u001b[0;32mreturn\u001b[0m \u001b[0mconstant_op\u001b[0m\u001b[0;34m.\u001b[0m\u001b[0mconstant\u001b[0m\u001b[0;34m(\u001b[0m\u001b[0;32mTrue\u001b[0m\u001b[0;34m)\u001b[0m\u001b[0;34m\u001b[0m\u001b[0;34m\u001b[0m\u001b[0m\n\u001b[1;32m    725\u001b[0m \u001b[0;34m\u001b[0m\u001b[0m\n",
      "\u001b[0;32m~/.conda/envs/tf_nightly/lib/python3.7/site-packages/tensorflow/python/ops/summary_ops_v2.py\u001b[0m in \u001b[0;36mfunction\u001b[0;34m(tag, scope)\u001b[0m\n\u001b[1;32m    782\u001b[0m         \u001b[0mtag\u001b[0m\u001b[0;34m,\u001b[0m\u001b[0;34m\u001b[0m\u001b[0;34m\u001b[0m\u001b[0m\n\u001b[1;32m    783\u001b[0m         \u001b[0marray_ops\u001b[0m\u001b[0;34m.\u001b[0m\u001b[0midentity\u001b[0m\u001b[0;34m(\u001b[0m\u001b[0mtensor\u001b[0m\u001b[0;34m)\u001b[0m\u001b[0;34m,\u001b[0m\u001b[0;34m\u001b[0m\u001b[0;34m\u001b[0m\u001b[0m\n\u001b[0;32m--> 784\u001b[0;31m         name=scope)\n\u001b[0m\u001b[1;32m    785\u001b[0m \u001b[0;34m\u001b[0m\u001b[0m\n\u001b[1;32m    786\u001b[0m   \u001b[0;32mreturn\u001b[0m \u001b[0msummary_writer_function\u001b[0m\u001b[0;34m(\u001b[0m\u001b[0mname\u001b[0m\u001b[0;34m,\u001b[0m \u001b[0mtensor\u001b[0m\u001b[0;34m,\u001b[0m \u001b[0mfunction\u001b[0m\u001b[0;34m,\u001b[0m \u001b[0mfamily\u001b[0m\u001b[0;34m=\u001b[0m\u001b[0mfamily\u001b[0m\u001b[0;34m)\u001b[0m\u001b[0;34m\u001b[0m\u001b[0;34m\u001b[0m\u001b[0m\n",
      "\u001b[0;32m~/.conda/envs/tf_nightly/lib/python3.7/site-packages/tensorflow/python/ops/gen_summary_ops.py\u001b[0m in \u001b[0;36mwrite_scalar_summary\u001b[0;34m(writer, step, tag, value, name)\u001b[0m\n\u001b[1;32m    788\u001b[0m       \u001b[0;32mtry\u001b[0m\u001b[0;34m:\u001b[0m\u001b[0;34m\u001b[0m\u001b[0;34m\u001b[0m\u001b[0m\n\u001b[1;32m    789\u001b[0m         return write_scalar_summary_eager_fallback(\n\u001b[0;32m--> 790\u001b[0;31m             writer, step, tag, value, name=name, ctx=_ctx)\n\u001b[0m\u001b[1;32m    791\u001b[0m       \u001b[0;32mexcept\u001b[0m \u001b[0m_core\u001b[0m\u001b[0;34m.\u001b[0m\u001b[0m_SymbolicException\u001b[0m\u001b[0;34m:\u001b[0m\u001b[0;34m\u001b[0m\u001b[0;34m\u001b[0m\u001b[0m\n\u001b[1;32m    792\u001b[0m         \u001b[0;32mpass\u001b[0m  \u001b[0;31m# Add nodes to the TensorFlow graph.\u001b[0m\u001b[0;34m\u001b[0m\u001b[0;34m\u001b[0m\u001b[0m\n",
      "\u001b[0;32m~/.conda/envs/tf_nightly/lib/python3.7/site-packages/tensorflow/python/ops/gen_summary_ops.py\u001b[0m in \u001b[0;36mwrite_scalar_summary_eager_fallback\u001b[0;34m(writer, step, tag, value, name, ctx)\u001b[0m\n\u001b[1;32m    824\u001b[0m   \u001b[0m_attrs\u001b[0m \u001b[0;34m=\u001b[0m \u001b[0;34m(\u001b[0m\u001b[0;34m\"T\"\u001b[0m\u001b[0;34m,\u001b[0m \u001b[0m_attr_T\u001b[0m\u001b[0;34m)\u001b[0m\u001b[0;34m\u001b[0m\u001b[0;34m\u001b[0m\u001b[0m\n\u001b[1;32m    825\u001b[0m   _result = _execute.execute(b\"WriteScalarSummary\", 0, inputs=_inputs_flat,\n\u001b[0;32m--> 826\u001b[0;31m                              attrs=_attrs, ctx=_ctx, name=name)\n\u001b[0m\u001b[1;32m    827\u001b[0m   \u001b[0m_result\u001b[0m \u001b[0;34m=\u001b[0m \u001b[0;32mNone\u001b[0m\u001b[0;34m\u001b[0m\u001b[0;34m\u001b[0m\u001b[0m\n\u001b[1;32m    828\u001b[0m   \u001b[0;32mreturn\u001b[0m \u001b[0m_result\u001b[0m\u001b[0;34m\u001b[0m\u001b[0;34m\u001b[0m\u001b[0m\n",
      "\u001b[0;32m~/.conda/envs/tf_nightly/lib/python3.7/site-packages/tensorflow/python/eager/execute.py\u001b[0m in \u001b[0;36mquick_execute\u001b[0;34m(op_name, num_outputs, inputs, attrs, ctx, name)\u001b[0m\n\u001b[1;32m     65\u001b[0m     \u001b[0;32melse\u001b[0m\u001b[0;34m:\u001b[0m\u001b[0;34m\u001b[0m\u001b[0;34m\u001b[0m\u001b[0m\n\u001b[1;32m     66\u001b[0m       \u001b[0mmessage\u001b[0m \u001b[0;34m=\u001b[0m \u001b[0me\u001b[0m\u001b[0;34m.\u001b[0m\u001b[0mmessage\u001b[0m\u001b[0;34m\u001b[0m\u001b[0;34m\u001b[0m\u001b[0m\n\u001b[0;32m---> 67\u001b[0;31m     \u001b[0msix\u001b[0m\u001b[0;34m.\u001b[0m\u001b[0mraise_from\u001b[0m\u001b[0;34m(\u001b[0m\u001b[0mcore\u001b[0m\u001b[0;34m.\u001b[0m\u001b[0m_status_to_exception\u001b[0m\u001b[0;34m(\u001b[0m\u001b[0me\u001b[0m\u001b[0;34m.\u001b[0m\u001b[0mcode\u001b[0m\u001b[0;34m,\u001b[0m \u001b[0mmessage\u001b[0m\u001b[0;34m)\u001b[0m\u001b[0;34m,\u001b[0m \u001b[0;32mNone\u001b[0m\u001b[0;34m)\u001b[0m\u001b[0;34m\u001b[0m\u001b[0;34m\u001b[0m\u001b[0m\n\u001b[0m\u001b[1;32m     68\u001b[0m   \u001b[0;32mexcept\u001b[0m \u001b[0mTypeError\u001b[0m \u001b[0;32mas\u001b[0m \u001b[0me\u001b[0m\u001b[0;34m:\u001b[0m\u001b[0;34m\u001b[0m\u001b[0;34m\u001b[0m\u001b[0m\n\u001b[1;32m     69\u001b[0m     \u001b[0;32mif\u001b[0m \u001b[0many\u001b[0m\u001b[0;34m(\u001b[0m\u001b[0mops\u001b[0m\u001b[0;34m.\u001b[0m\u001b[0m_is_keras_symbolic_tensor\u001b[0m\u001b[0;34m(\u001b[0m\u001b[0mx\u001b[0m\u001b[0;34m)\u001b[0m \u001b[0;32mfor\u001b[0m \u001b[0mx\u001b[0m \u001b[0;32min\u001b[0m \u001b[0minputs\u001b[0m\u001b[0;34m)\u001b[0m\u001b[0;34m:\u001b[0m\u001b[0;34m\u001b[0m\u001b[0;34m\u001b[0m\u001b[0m\n",
      "\u001b[0;32m~/.conda/envs/tf_nightly/lib/python3.7/site-packages/six.py\u001b[0m in \u001b[0;36mraise_from\u001b[0;34m(value, from_value)\u001b[0m\n",
      "\u001b[0;31mNotFoundError\u001b[0m: Resource localhost/logdir:/home/samuel/neural_clustering_data/tvae_logs/ANGLE_3D-t-16-k-2-ncl-4-ld-4-mf-F-opt-Adam-lwr-1.0-lwkl-0.0-dr-0.0-mi-SKIP_PADD_CONV-bn-T_labelled/train/N10tensorflow22SummaryWriterInterfaceE does not exist. [Op:WriteScalarSummary] name: loss/"
     ]
    }
   ],
   "source": [
    "reload(vae_training)\n",
    "epochs = 4\n",
    "eval_steps = 2\n",
    "vae_training_args = vae_training.init(input_shape=X_train.shape[1:], run_config=run_cfg)\n",
    "vae_training_results = {}\n",
    "cluster_assignments = []\n",
    "for u in range(np.int(epochs / eval_steps)):\n",
    "    vae_training_results = vae_training.train(**{**vae_training_args, **vae_training_results},\n",
    "                                              train_dataset=train_dataset, \n",
    "                                              test_dataset=test_dataset,\n",
    "                                              early_stopping=False,\n",
    "                                              n_epochs=eval_steps)\n",
    "\n",
    "    cluster_assignments += [eval_model(vae_training_results, X, X_eval, run_cfg)]\n",
    "\n",
    "cluster_assignments += [eval_model(vae_training_results, X, X_eval, run_cfg)]"
   ]
  },
  {
   "cell_type": "code",
   "execution_count": null,
   "metadata": {
    "ExecuteTime": {
     "end_time": "2019-06-12T11:25:15.511062Z",
     "start_time": "2019-06-12T11:24:30.212Z"
    }
   },
   "outputs": [],
   "source": [
    "_t = (vae_training_results['train_reports'], vae_training_results['test_reports'])"
   ]
  },
  {
   "cell_type": "code",
   "execution_count": null,
   "metadata": {
    "ExecuteTime": {
     "end_time": "2019-06-12T11:25:15.511545Z",
     "start_time": "2019-06-12T11:24:30.216Z"
    },
    "scrolled": true
   },
   "outputs": [],
   "source": [
    "vae_training_results"
   ]
  },
  {
   "cell_type": "code",
   "execution_count": null,
   "metadata": {
    "ExecuteTime": {
     "end_time": "2019-06-12T11:25:15.512009Z",
     "start_time": "2019-06-12T11:24:30.220Z"
    }
   },
   "outputs": [],
   "source": [
    "#X_train_supervised_dataset = to_tf_data(X_train, preprocessing.frame_label_pair_to_int(y_train), batch_size=run_cfg['batch_size'])\n",
    "#X_test_supervised_dataset = to_tf_data(X_train, preprocessing.frame_label_pair_to_int(y_train), batch_size=run_cfg['batch_size'])\n",
    "#\n",
    "#supervised_training_args = supervised_training.init(run_config=run_cfg)\n",
    "#supervised_training_results = supervised_training.train(model.inference_net,\n",
    "#                                                        **supervised_training_args,\n",
    "#                                                        train_dataset=X_train_supervised_dataset, \n",
    "#                                                        test_dataset=X_test_supervised_dataset,\n",
    "#                                                        early_stopping=False,\n",
    "#                                                        n_epochs=4)"
   ]
  },
  {
   "cell_type": "markdown",
   "metadata": {
    "ExecuteTime": {
     "end_time": "2019-05-21T16:37:31.785780Z",
     "start_time": "2019-05-21T16:37:31.782033Z"
    }
   },
   "source": [
    "# evaluation"
   ]
  },
  {
   "cell_type": "code",
   "execution_count": null,
   "metadata": {
    "ExecuteTime": {
     "end_time": "2019-06-12T11:25:15.512468Z",
     "start_time": "2019-06-12T11:24:30.225Z"
    }
   },
   "outputs": [],
   "source": [
    "#_min_nb_batches_for_sample_length_ = int(np.ceil(len(X) / run_cfg['batch_size']))\n",
    "#X_gen_eval = np.vstack([model.sample().numpy()  for _ in range(_min_nb_batches_for_sample_length_)])[back_to_single_time]\n",
    "#X_gen_eval = _reshape_and_rescale_(X_gen_eval[:len(X)])"
   ]
  },
  {
   "cell_type": "code",
   "execution_count": null,
   "metadata": {
    "ExecuteTime": {
     "end_time": "2019-06-12T11:25:15.512927Z",
     "start_time": "2019-06-12T11:24:30.228Z"
    }
   },
   "outputs": [],
   "source": [
    "## losses\n",
    "#for a, n in zip(range(train_reports.shape[1]), ['a', 'b', 'c']):\n",
    "#    plt.subplot(train_reports.shape[1] + 1, 1, a + 1)\n",
    "#    plt.plot(train_reports[:, a], label=f\"train_{n}\")\n",
    "#    plt.plot(test_reports[:, a], label=f\"test_{n}\")\n",
    "#    plt.title(n)\n",
    "#    \n",
    "#plt.tight_layout()\n",
    "#plt.legend()"
   ]
  },
  {
   "cell_type": "code",
   "execution_count": null,
   "metadata": {
    "ExecuteTime": {
     "end_time": "2019-06-12T11:25:15.513381Z",
     "start_time": "2019-06-12T11:24:30.232Z"
    }
   },
   "outputs": [],
   "source": [
    "#plots.plot_losses(train_losses, test_losses, exp_desc=exp_desc);"
   ]
  },
  {
   "cell_type": "code",
   "execution_count": null,
   "metadata": {
    "ExecuteTime": {
     "end_time": "2019-06-12T11:25:15.513906Z",
     "start_time": "2019-06-12T11:24:30.237Z"
    },
    "code_folding": [
     0
    ],
    "scrolled": false
   },
   "outputs": [],
   "source": [
    "#if run_cfg['data_type'] == config.DataType.POS_2D:\n",
    "#    fig = plots.plot_comparing_joint_position_with_reconstructed(X_eval,\n",
    "#                                                                 X_hat_eval,\n",
    "#                                                                 X_gen_eval,\n",
    "#                                                                 validation_cut_off=n_train_data_points,\n",
    "#                                                                 exp_desc=exp_desc_short);\n",
    "#else:\n",
    "#    # ncols is an ugly hack... it works on the basis that we have three working angles for each leg\n",
    "#    if run_cfg['use_single_fly']:\n",
    "#        start = 0\n",
    "#        end = len(X_eval)\n",
    "#    else:\n",
    "#        start = 100\n",
    "#        end = 1000\n",
    "#    xticks = np.arange(start, end) / SetupConfig.value('frames_per_second') / 60.\n",
    "#    if run_cfg['debug']:\n",
    "#        _input_data = X[:, :, 0]\n",
    "#        _recon = model(X, apply_sigmoid=False).numpy()[:, :, 0]\n",
    "#        fig, axs = plt.subplots(nrows=_input_data.shape[-1], ncols=1, figsize=(20, 30), sharex=True, sharey=True)\n",
    "#        for i in range(_input_data.shape[-1]):\n",
    "#            _idx_ = np.s_[start:end, i]\n",
    "#            axs[i].plot(xticks, _input_data[_idx_], label='input')\n",
    "#            axs[i].plot(xticks, _recon[_idx_], label='reconstructed')\n",
    "#    else:\n",
    "#        fig, axs = plt.subplots(nrows=X_eval.shape[1], ncols=1, figsize=(20, 30), sharex=True, sharey=True)\n",
    "#        for i, cn in enumerate(SD.get_3d_columns_names(selected_cols)):\n",
    "#            _idx_ = np.s_[start:end, i]\n",
    "#            axs[i].plot(xticks, X_eval[_idx_], label='input')\n",
    "#            axs[i].plot(xticks, reconstructed_data[_idx_], label='reconstructed')\n",
    "#\n",
    "#            axs[i].set_title(cn)\n",
    "#\n",
    "#    axs[-1].set_xlabel('time [min]')\n",
    "#    axs[0].legend(loc='upper left')\n",
    "#    \n",
    "#    #plt.legend(bbox_to_anchor=(1.05, 1), loc=2, borderaxespad=0.)\n",
    "#    plt.suptitle(f\"Comparision of selection of data\\n({exp_desc})\")\n",
    "#    \n",
    "#    plt.tight_layout()\n",
    "#    plt.subplots_adjust(top=0.94)\n",
    "#    plt.savefig(f\"./figures/{exp_desc_short}_input_gen_recon_comparision.png\")"
   ]
  },
  {
   "cell_type": "markdown",
   "metadata": {},
   "source": [
    "# Latent space"
   ]
  },
  {
   "cell_type": "code",
   "execution_count": null,
   "metadata": {
    "ExecuteTime": {
     "end_time": "2019-06-12T11:25:15.514393Z",
     "start_time": "2019-06-12T11:24:30.244Z"
    },
    "scrolled": true
   },
   "outputs": [],
   "source": [
    "#plot_latent_space(X_latent, X_latent_mean_tsne_proj, y, run_cfg, epochs=len(vae_training_results['train_reports']))"
   ]
  },
  {
   "cell_type": "code",
   "execution_count": null,
   "metadata": {
    "ExecuteTime": {
     "end_time": "2019-06-12T11:25:15.514879Z",
     "start_time": "2019-06-12T11:24:30.247Z"
    }
   },
   "outputs": [],
   "source": [
    "#from matplotlib.collections import LineCollection\n",
    "#\n",
    "#def plot_debug(input_data, cluster_assignments, cluster_colors=None):\n",
    "#    _clusters = np.unique(cluster_assignments)\n",
    "#    _colors = sns.color_palette(n_colors=len(_clusters))\n",
    "#    if cluster_colors is None:\n",
    "#        cluster_colors = dict(zip(_clusters, _colors))\n",
    "#        \n",
    "#    lines, colors = zip(*[([(x, input_data[x, 0]) for x in segment], cluster_colors[cluster_id])\n",
    "#                           for cluster_id, segments in video.group_by_cluster(cluster_assignments).items() \n",
    "#                           for segment in segments])\n",
    "#\n",
    "#\n",
    "#    \n",
    "#    fig, ax = plt.subplots(figsize=(10, 8))\n",
    "#    coll = LineCollection(lines, colors=colors)\n",
    "#    #coll.set_array(np.random.random(xy.shape[0]))\n",
    "#\n",
    "#    ax.add_collection(coll)\n",
    "#    ax.autoscale_view()\n",
    "#\n",
    "#    plt.title('Input data and cluster assigment using debug data');\n",
    "#    \n",
    "#if run_cfg['debug']:\n",
    "#    plot_debug(input_data, cluster_assignments)"
   ]
  },
  {
   "cell_type": "code",
   "execution_count": null,
   "metadata": {
    "ExecuteTime": {
     "end_time": "2019-06-12T11:25:15.515359Z",
     "start_time": "2019-06-12T11:24:30.251Z"
    }
   },
   "outputs": [],
   "source": [
    "# TODO\n",
    "# use this to add a different shape to the scatter plot\n",
    "# frames_idx_with_labels[:len(frames_of_interest)][frames_of_interest][run_config['time_series_length'] - 1:]['label'].apply(lambda x: x.value)"
   ]
  },
  {
   "cell_type": "markdown",
   "metadata": {},
   "source": [
    "# videos"
   ]
  },
  {
   "cell_type": "code",
   "execution_count": null,
   "metadata": {
    "ExecuteTime": {
     "end_time": "2019-06-12T11:25:15.515859Z",
     "start_time": "2019-06-12T11:24:30.256Z"
    }
   },
   "outputs": [],
   "source": [
    "def reverse_pos_pipeline(x, normalisation_factors):\n",
    "    \"\"\"TODO This is again pretty shitty... ultra hidden global variable\"\"\"\n",
    "    return x + normalisation_factors[:x.shape[-1]]\n",
    "\n",
    "def video_prep_raw_data(data):\n",
    "    if run_config['use_time_series']:\n",
    "        return reverse_pos_pipeline(scaler.inverse_transform(data[:, -1, :]).reshape(-1, 15, 2))\n",
    "    else:\n",
    "        return reverse_pos_pipeline(scaler.inverse_transform(data.reshape(-1, 30)).reshape(-1, 15, 2))\n",
    "    \n",
    "def video_prep_recon_data(input_data):\n",
    "    return reverse_pos_pipeline(scaler.inverse_transform(model(input_data).numpy()).reshape(-1, 15, 2))"
   ]
  },
  {
   "cell_type": "code",
   "execution_count": null,
   "metadata": {
    "ExecuteTime": {
     "end_time": "2019-06-12T11:25:15.516321Z",
     "start_time": "2019-06-12T11:24:30.259Z"
    }
   },
   "outputs": [],
   "source": [
    "if run_config['data_type'] == _DATA_TYPE_2D_POS_:\n",
    "    _positional_data_ = [reverse_pos_pipeline(input_data, normalisation_factors=normalisation_factors), \n",
    "                         reverse_pos_pipeline(reconstructed_data, normalisation_factors=normalisation_factors)]\n",
    "else:\n",
    "    raise NotImplementedError('give me a break')\n",
    "    \n",
    "p = video.comparision_video_of_reconstruction(_positional_data_,\n",
    "                                              images_paths_for_experiments=images_paths_for_experiments, \n",
    "                                              n_train=len(data_train),\n",
    "                                              cluster_assignments=cluster_assignments,\n",
    "                                              as_frames=False,\n",
    "                                              exp_desc=exp_desc_short)\n",
    "\n",
    "display_video(p)"
   ]
  },
  {
   "cell_type": "code",
   "execution_count": null,
   "metadata": {
    "ExecuteTime": {
     "end_time": "2019-06-12T11:25:15.516788Z",
     "start_time": "2019-06-12T11:24:30.264Z"
    }
   },
   "outputs": [],
   "source": [
    "# Super ugly... but necessary...\n",
    "# first there is the time offset due to the slicing\n",
    "# then there is the concatenation of the data...\n",
    "\n",
    "angle_data_pos_to_frame = []\n",
    "\n",
    "for exp_key, data in angle_data_raw: \n",
    "    _exp = SD._experiment_from_key_(exp_key)\n",
    "    \n",
    "    if len(angle_data_pos_to_frame) == 0:\n",
    "        _idx = np.arange(data.shape[0])[run_config['time_series_length'] - 1:]\n",
    "    else:\n",
    "        _idx = np.arange(data.shape[0])# + len(angle_data_pos_to_frame)\n",
    "        \n",
    "    angle_data_pos_to_frame += [(_exp, d) for d in _idx]"
   ]
  },
  {
   "cell_type": "code",
   "execution_count": null,
   "metadata": {
    "ExecuteTime": {
     "end_time": "2019-06-12T11:25:15.517237Z",
     "start_time": "2019-06-12T11:24:30.268Z"
    }
   },
   "outputs": [],
   "source": [
    "        images_paths_for_experiments = settings.data.EXPERIMENTS.map(lambda x: (x, config.positional_data(x)))\\\n",
    "                                               .flat_map(lambda x: [(x[0], config.get_path_for_image(x[0], i)) for i in range(x[1].shape[1])])\\\n",
    "                                               .to_list()"
   ]
  },
  {
   "cell_type": "code",
   "execution_count": null,
   "metadata": {
    "ExecuteTime": {
     "end_time": "2019-06-12T11:25:15.517693Z",
     "start_time": "2019-06-12T11:24:30.272Z"
    }
   },
   "outputs": [],
   "source": [
    "\n",
    "    frames_idx_with_labels = preprocessing.get_frames_with_idx_and_labels(settings.data.LABELLED_DATA)\n",
    "    frames_of_interest = ~frames_idx_with_labels['label'].isin([settings.data._BehaviorLabel_.REST])"
   ]
  },
  {
   "cell_type": "code",
   "execution_count": null,
   "metadata": {
    "ExecuteTime": {
     "end_time": "2019-06-12T11:25:15.518138Z",
     "start_time": "2019-06-12T11:24:30.275Z"
    }
   },
   "outputs": [],
   "source": [
    "images_paths_for_experiments = [(exp, config.get_path_for_image(exp, i)) for exp, i in angle_data_pos_to_frame]"
   ]
  },
  {
   "cell_type": "code",
   "execution_count": null,
   "metadata": {
    "ExecuteTime": {
     "end_time": "2019-06-12T11:25:15.518584Z",
     "start_time": "2019-06-12T11:24:30.278Z"
    }
   },
   "outputs": [],
   "source": [
    "images_paths_for_experiments[-10:]"
   ]
  },
  {
   "cell_type": "code",
   "execution_count": null,
   "metadata": {
    "ExecuteTime": {
     "end_time": "2019-06-12T11:25:15.519032Z",
     "start_time": "2019-06-12T11:24:30.283Z"
    }
   },
   "outputs": [],
   "source": [
    "reload(video)\n",
    "from collections import OrderedDict\n",
    "_N_CLUSTER_TO_VIZ_ = 10\n",
    "_t = [(misc.flatten(sequences), cluster_id) for cluster_id, sequences in video.group_by_cluster(cluster_assignments).items()]\n",
    "_t = sorted(_t, key=lambda x: len(x[0]), reverse=True)\n",
    "\n",
    "cluster_colors = sns.color_palette(n_colors=len(np.unique(cluster_assignments)))\n",
    "\n",
    "cluster_vids = OrderedDict((p[1], video.comparision_video_of_reconstruction(input_data,\n",
    "                                                                            cluster_assignments=cluster_assignments,\n",
    "                                                                            images_paths_for_experiments=images_paths_for_experiments,\n",
    "                                                                            n_train=data_train.shape[0],\n",
    "                                                                            cluster_colors=cluster_colors,\n",
    "                                                                            cluster_id_to_visualize=p[1], \n",
    "                                                                            exp_desc=exp_desc_short,\n",
    "                                                                            is_2d=False))\n",
    "                    for p in _t[:_N_CLUSTER_TO_VIZ_])\n",
    "\n",
    "print('cluster_vids: ', cluster_vids.keys())"
   ]
  },
  {
   "cell_type": "code",
   "execution_count": null,
   "metadata": {
    "ExecuteTime": {
     "end_time": "2019-06-12T11:25:15.519474Z",
     "start_time": "2019-06-12T11:24:30.287Z"
    }
   },
   "outputs": [],
   "source": [
    "! cat ./som_vae/helpers/video.py"
   ]
  },
  {
   "cell_type": "code",
   "execution_count": null,
   "metadata": {},
   "outputs": [],
   "source": []
  },
  {
   "cell_type": "code",
   "execution_count": null,
   "metadata": {
    "ExecuteTime": {
     "end_time": "2019-06-12T11:25:15.519939Z",
     "start_time": "2019-06-12T11:24:30.298Z"
    }
   },
   "outputs": [],
   "source": [
    "from collections import OrderedDict\n",
    "_N_CLUSTER_TO_VIZ_ = 10\n",
    "_t = [(misc.flatten(sequences), cluster_id) for cluster_id, sequences in video.group_by_cluster(cluster_assignments).items()]\n",
    "_t = sorted(_t, key=lambda x: len(x[0]), reverse=True)\n",
    "\n",
    "cluster_colors = sns.color_palette(n_colors=len(np.unique(cluster_assignments)))\n",
    "\n",
    "cluster_vids = OrderedDict((p[1], video.comparision_video_of_reconstruction(_positional_data_,\n",
    "                                                                      cluster_assignments=cluster_assignments,\n",
    "                                                                      images_paths_for_experiments=images_paths_for_experiments,\n",
    "                                                                      n_train=data_train.shape[0],\n",
    "                                                                      cluster_colors=cluster_colors,\n",
    "                                                                      cluster_id_to_visualize=p[1], exp_desc=exp_desc_short))\n",
    "                    for p in _t[:_N_CLUSTER_TO_VIZ_])\n",
    "\n",
    "print('cluster_vids: ', cluster_vids.keys())"
   ]
  },
  {
   "cell_type": "code",
   "execution_count": null,
   "metadata": {
    "ExecuteTime": {
     "end_time": "2019-06-12T11:25:15.520384Z",
     "start_time": "2019-06-12T11:24:30.302Z"
    }
   },
   "outputs": [],
   "source": [
    "#c_idx = 0\n",
    "c_idx += 1\n",
    "display_video(list(cluster_vids.values())[c_idx])"
   ]
  },
  {
   "cell_type": "code",
   "execution_count": null,
   "metadata": {
    "ExecuteTime": {
     "end_time": "2019-06-12T11:25:15.520827Z",
     "start_time": "2019-06-12T11:24:30.306Z"
    }
   },
   "outputs": [],
   "source": [
    "c_idx = 0\n",
    "#c_idx += 1\n",
    "display_video(list(cluster_vids.values())[c_idx])"
   ]
  },
  {
   "cell_type": "code",
   "execution_count": null,
   "metadata": {
    "ExecuteTime": {
     "end_time": "2019-06-12T11:25:15.521266Z",
     "start_time": "2019-06-12T11:24:30.311Z"
    }
   },
   "outputs": [],
   "source": [
    "images_paths_for_experiments"
   ]
  },
  {
   "cell_type": "code",
   "execution_count": null,
   "metadata": {
    "ExecuteTime": {
     "end_time": "2019-06-12T11:25:15.521821Z",
     "start_time": "2019-06-12T11:24:30.314Z"
    }
   },
   "outputs": [],
   "source": [
    "len(np.where(cluster_assignments == 11)[0])"
   ]
  },
  {
   "cell_type": "code",
   "execution_count": null,
   "metadata": {
    "ExecuteTime": {
     "end_time": "2019-06-12T11:25:15.522300Z",
     "start_time": "2019-06-12T11:24:30.318Z"
    }
   },
   "outputs": [],
   "source": [
    "np.array(images_paths_for_experiments)"
   ]
  },
  {
   "cell_type": "code",
   "execution_count": null,
   "metadata": {
    "ExecuteTime": {
     "end_time": "2019-06-12T11:25:15.522748Z",
     "start_time": "2019-06-12T11:24:30.322Z"
    }
   },
   "outputs": [],
   "source": [
    "for fs, c in _t:\n",
    "    print(f\"cluster {c} has {len(fs)} elements\")"
   ]
  },
  {
   "cell_type": "code",
   "execution_count": null,
   "metadata": {
    "ExecuteTime": {
     "end_time": "2019-06-12T11:25:15.523196Z",
     "start_time": "2019-06-12T11:24:30.327Z"
    }
   },
   "outputs": [],
   "source": [
    "reload(video)\n",
    "\n",
    "_t = [(misc.flatten(sequences), cluster_id) for cluster_id, sequences in video.group_by_cluster(cluster_assignments).items()]\n",
    "_t = sorted(_t, key=lambda x: len(x[0]), reverse=True)\n",
    "p = video.video_angle(cluster_assignments, images_paths_for_experiments, cluster_id_to_visualize=_t[3][1], exp_desc=exp_desc_short)"
   ]
  },
  {
   "cell_type": "code",
   "execution_count": null,
   "metadata": {
    "ExecuteTime": {
     "end_time": "2019-06-12T11:25:15.523645Z",
     "start_time": "2019-06-12T11:24:30.331Z"
    }
   },
   "outputs": [],
   "source": [
    "display_video(p)"
   ]
  },
  {
   "cell_type": "code",
   "execution_count": null,
   "metadata": {},
   "outputs": [],
   "source": []
  },
  {
   "cell_type": "code",
   "execution_count": null,
   "metadata": {},
   "outputs": [],
   "source": []
  },
  {
   "cell_type": "code",
   "execution_count": null,
   "metadata": {},
   "outputs": [],
   "source": []
  },
  {
   "cell_type": "code",
   "execution_count": null,
   "metadata": {
    "ExecuteTime": {
     "end_time": "2019-06-12T11:25:15.524092Z",
     "start_time": "2019-06-12T11:24:30.340Z"
    }
   },
   "outputs": [],
   "source": [
    "stop"
   ]
  },
  {
   "cell_type": "markdown",
   "metadata": {
    "ExecuteTime": {
     "end_time": "2019-05-29T08:18:01.614372Z",
     "start_time": "2019-05-29T08:18:01.610583Z"
    }
   },
   "source": [
    "# Convolution Clarification"
   ]
  },
  {
   "cell_type": "markdown",
   "metadata": {},
   "source": [
    "Below are the results shown for a Conv1d for all padding options:\n",
    "\n",
    "- valid: only convolutions where the kernel fits inside the input are comptued\n",
    "- causal: input is shifted such that the kernel can only see itself and backwards in time\n",
    "- same: input is padded such that the convolution can also be applied to the border cases\n",
    "\n",
    "kernel sizes of 2 & 3, and dilation rates for 1 to 3.\n",
    "\n",
    "The result is that a valid convolution of kernel size 2 with a dilation factor of 1 compresses the input in a for us good way.\n",
    "The data goes from `[batch_size, n_time_steps, n_channels]` to `[batch_size, n_time_steps - 1, n_filters]` \n",
    "and crops the first time step only. Thus building features by only looking backwards in time,\n",
    "dropping the first-time step. Thus features are build over time and space."
   ]
  },
  {
   "cell_type": "code",
   "execution_count": null,
   "metadata": {
    "ExecuteTime": {
     "end_time": "2019-06-12T11:25:15.524535Z",
     "start_time": "2019-06-12T11:24:30.346Z"
    }
   },
   "outputs": [],
   "source": [
    "example_data = np.zeros((1, 10, 5), dtype=np.float32)\n",
    "\n",
    "for row in range(example_data.shape[1]):\n",
    "    example_data[:, row, :] = row\n",
    "    \n",
    "example_data"
   ]
  },
  {
   "cell_type": "code",
   "execution_count": null,
   "metadata": {
    "ExecuteTime": {
     "end_time": "2019-06-12T11:25:15.525015Z",
     "start_time": "2019-06-12T11:24:30.350Z"
    },
    "scrolled": false
   },
   "outputs": [],
   "source": [
    "def conv_clarification_kernel(kernel_size):\n",
    "    conv1d_kernel_no_time = np.zeros((kernel_size, example_data.shape[-1], 1), dtype=np.float32)\n",
    "    conv1d_kernel_no_time[0, :, :] = .5\n",
    "    conv1d_kernel_no_time[1, :, :] = 1.\n",
    "    \n",
    "    if kernel_size == 3:\n",
    "        conv1d_kernel_no_time[2, :, :] = 0.1\n",
    "    \n",
    "    return conv1d_kernel_no_time\n",
    "\n",
    "\n",
    "for kernel_size in range(2, 4):\n",
    "    print(f\"data\\n{example_data}\")\n",
    "    print(f\"kernel\\n{conv_clarification_kernel(kernel_size)}\")\n",
    "    for padding in ['valid', 'causal', 'same']:\n",
    "        for dilation in range(1, 4):\n",
    "            example_conv1d = tfkl.Conv1D(filters=1, \n",
    "                                         kernel_size=kernel_size,\n",
    "                                         use_bias=False, \n",
    "                                         padding=padding,\n",
    "                                         dilation_rate=dilation,\n",
    "                                         kernel_initializer=tf.constant_initializer(conv_clarification_kernel(kernel_size)))\n",
    "\n",
    "            conv_res = example_conv1d(example_data).numpy()\n",
    "            print(f\"padding: {padding}, dilation_rate: {dilation}, kernel_size: {kernel_size}, output shape: {conv_res.shape}\\n{conv_res}\")"
   ]
  },
  {
   "cell_type": "code",
   "execution_count": null,
   "metadata": {
    "ExecuteTime": {
     "end_time": "2019-06-12T11:25:15.525476Z",
     "start_time": "2019-06-12T11:24:30.353Z"
    }
   },
   "outputs": [],
   "source": [
    "def conv_clarification_kernel(kernel_size):\n",
    "    conv1d_kernel_no_time = np.zeros((kernel_size, example_data.shape[-1], example_conv1d_n_filters), dtype=np.float32)\n",
    "    conv1d_kernel_no_time[0, :, :] = .5\n",
    "    conv1d_kernel_no_time[1, :, :] = 1.\n",
    "    \n",
    "    if kernel_size == 3:\n",
    "        conv1d_kernel_no_time[2, :, :] = 0.1\n",
    "    \n",
    "    return conv1d_kernel_no_time\n",
    "\n",
    "kernel_size = 2\n",
    "padding = 'valid'\n",
    "dilation_rate = 1\n",
    "example_conv1d_n_filters = 2\n",
    "\n",
    "print(f\"data\\n{example_data}\")\n",
    "print(f\"kernel\\n{conv_clarification_kernel(kernel_size)}\")\n",
    "example_conv1d = tfkl.Conv1D(filters=example_conv1d_n_filters, \n",
    "                             kernel_size=kernel_size,\n",
    "                             use_bias=False, \n",
    "                             padding=padding,\n",
    "                             dilation_rate=dilation_rate,\n",
    "                             kernel_initializer=tf.constant_initializer(conv_clarification_kernel(kernel_size)))\n",
    "\n",
    "example_max_pooling_layer = tfkl.MaxPool1D()\n",
    "example_dense = tfkl.Dense(2, use_bias=False, kernel_initializer='ones')\n",
    "\n",
    "conv_res = example_conv1d(example_data[:,:2,:]).numpy()\n",
    "#max_pool_res = example_max_pooling_layer(conv_res)\n",
    "#dense_res = example_dense(max_pool_res)\n",
    "print(f\"padding: {padding}, dilation_rate: {dilation_rate}, kernel_size: {kernel_size}, output shape: {conv_res.shape}\")\n",
    "print('conv\\n', conv_res)\n",
    "#print('max pool\\n', max_pool_res.numpy())\n",
    "#print('dense\\n', dense_res.numpy())"
   ]
  },
  {
   "cell_type": "code",
   "execution_count": null,
   "metadata": {
    "ExecuteTime": {
     "end_time": "2019-06-12T11:25:15.525929Z",
     "start_time": "2019-06-12T11:24:30.358Z"
    }
   },
   "outputs": [],
   "source": [
    "conv_res"
   ]
  },
  {
   "cell_type": "code",
   "execution_count": null,
   "metadata": {
    "ExecuteTime": {
     "end_time": "2019-06-12T11:25:15.526378Z",
     "start_time": "2019-06-12T11:24:30.367Z"
    }
   },
   "outputs": [],
   "source": [
    "class Conv1D_Transpose(tfkl.Layer):\n",
    "    def __init__(self, n_filters, kernel_size, batch_size):\n",
    "        super(Conv1D_Transpose, self).__init__()        \n",
    "        self.n_filters = n_filters\n",
    "        self.batch_size = batch_size\n",
    "        self.conv2d_transpose = tfkl.Conv2DTranspose(filters=n_filters, kernel_size=kernel_size, strides=2, padding='valid', kernel_initializer='ones')\n",
    "        \n",
    "    def call(self, inputs):\n",
    "        x = tf.reshape(inputs, [self.batch_size, 1, *inputs.shape[1:]])\n",
    "        print(x.shape)\n",
    "        x = self.conv2d_transpose(x)\n",
    "        #x = tf.reshape(x, [self.batch_size, -1, self.n_filters])\n",
    "        \n",
    "        return x\n",
    "\n",
    "example_deconv1d = Conv1D_Transpose(n_filters=2, kernel_size=2, batch_size=1)\n",
    "example_deconv1d(conv_res)"
   ]
  },
  {
   "cell_type": "code",
   "execution_count": null,
   "metadata": {
    "ExecuteTime": {
     "end_time": "2019-06-12T11:25:15.526822Z",
     "start_time": "2019-06-12T11:24:30.375Z"
    }
   },
   "outputs": [],
   "source": [
    "_ted = example_deconv1d(conv_res)\n",
    "tf.reshape(_ted, _ted.shape[:-1])"
   ]
  },
  {
   "cell_type": "code",
   "execution_count": null,
   "metadata": {
    "ExecuteTime": {
     "end_time": "2019-06-12T11:25:15.527264Z",
     "start_time": "2019-06-12T11:24:30.380Z"
    }
   },
   "outputs": [],
   "source": [
    "UpsamplingConv(2)(conv_res)"
   ]
  },
  {
   "cell_type": "code",
   "execution_count": null,
   "metadata": {
    "ExecuteTime": {
     "end_time": "2019-06-12T11:25:15.527705Z",
     "start_time": "2019-06-12T11:24:30.383Z"
    }
   },
   "outputs": [],
   "source": [
    "tfkl.UpSampling1D(3)(conv_res)"
   ]
  },
  {
   "cell_type": "code",
   "execution_count": null,
   "metadata": {
    "ExecuteTime": {
     "end_time": "2019-06-12T11:25:15.528152Z",
     "start_time": "2019-06-12T11:24:30.387Z"
    }
   },
   "outputs": [],
   "source": [
    "class UpsamplingConv(tfkl.Layer):\n",
    "    def __init__(self, n_filters, kernel_size=2):\n",
    "        super(UpsamplingConv, self).__init__()\n",
    "        \n",
    "        self.n_filters = n_filters\n",
    "        self.kernel_size = kernel_size\n",
    "    \n",
    "    def call(self, x): \n",
    "        x = tfkl.UpSampling1D(3)(x) # upscale with 3 so that we can again apply `valid` padding and \"reverse\" the encoder\n",
    "        print(x.shape)\n",
    "        # TODO maybe add some fancy flipping of the input\n",
    "        x = tfkl.Conv1D(self.n_filters, self.kernel_size, padding='valid')(x)\n",
    "        \n",
    "        return x"
   ]
  },
  {
   "cell_type": "code",
   "execution_count": null,
   "metadata": {
    "ExecuteTime": {
     "end_time": "2019-06-12T11:25:15.528591Z",
     "start_time": "2019-06-12T11:24:30.391Z"
    }
   },
   "outputs": [],
   "source": [
    "conv_res.shape"
   ]
  },
  {
   "cell_type": "code",
   "execution_count": null,
   "metadata": {
    "ExecuteTime": {
     "end_time": "2019-06-12T11:25:15.529034Z",
     "start_time": "2019-06-12T11:24:30.396Z"
    }
   },
   "outputs": [],
   "source": [
    "conv_res"
   ]
  },
  {
   "cell_type": "code",
   "execution_count": null,
   "metadata": {
    "ExecuteTime": {
     "end_time": "2019-05-29T17:55:51.831670Z",
     "start_time": "2019-05-29T17:55:51.802162Z"
    }
   },
   "outputs": [],
   "source": []
  },
  {
   "cell_type": "code",
   "execution_count": null,
   "metadata": {
    "ExecuteTime": {
     "end_time": "2019-06-12T11:25:15.529475Z",
     "start_time": "2019-06-12T11:24:30.415Z"
    }
   },
   "outputs": [],
   "source": [
    "example_deconv = tfkl.Conv2DTranspose(1, 2, kernel_initializer='ones')\n",
    "example_deconv(conv_res.reshape(-1, 1, *conv_res.shape[1:])).numpy().reshape(-1, *conv_res.shape[1:])"
   ]
  },
  {
   "cell_type": "code",
   "execution_count": null,
   "metadata": {
    "ExecuteTime": {
     "end_time": "2019-06-12T11:25:15.530099Z",
     "start_time": "2019-06-12T11:24:30.420Z"
    }
   },
   "outputs": [],
   "source": [
    "conv_res"
   ]
  },
  {
   "cell_type": "code",
   "execution_count": null,
   "metadata": {
    "ExecuteTime": {
     "end_time": "2019-06-12T11:25:15.530563Z",
     "start_time": "2019-06-12T11:24:30.425Z"
    }
   },
   "outputs": [],
   "source": [
    "conv_res.shape"
   ]
  },
  {
   "cell_type": "code",
   "execution_count": null,
   "metadata": {
    "ExecuteTime": {
     "end_time": "2019-06-12T11:25:15.531027Z",
     "start_time": "2019-06-12T11:24:30.430Z"
    }
   },
   "outputs": [],
   "source": [
    "conv_res"
   ]
  },
  {
   "cell_type": "code",
   "execution_count": null,
   "metadata": {
    "ExecuteTime": {
     "end_time": "2019-06-12T11:25:15.531471Z",
     "start_time": "2019-06-12T11:24:30.441Z"
    }
   },
   "outputs": [],
   "source": [
    "tf.rank(conv_res)"
   ]
  },
  {
   "cell_type": "code",
   "execution_count": null,
   "metadata": {
    "ExecuteTime": {
     "end_time": "2019-06-12T11:25:15.531933Z",
     "start_time": "2019-06-12T11:24:30.448Z"
    }
   },
   "outputs": [],
   "source": [
    "paddings = [[r, 0] for r in range(3)]\n",
    "paddings"
   ]
  },
  {
   "cell_type": "code",
   "execution_count": null,
   "metadata": {
    "ExecuteTime": {
     "end_time": "2019-06-12T11:25:15.532388Z",
     "start_time": "2019-06-12T11:24:30.452Z"
    }
   },
   "outputs": [],
   "source": [
    "tf.pad(conv_res, [[0, 0], [0, 1], [0, 0]])"
   ]
  },
  {
   "cell_type": "code",
   "execution_count": null,
   "metadata": {
    "ExecuteTime": {
     "end_time": "2019-06-12T11:25:15.532837Z",
     "start_time": "2019-06-12T11:24:30.457Z"
    }
   },
   "outputs": [],
   "source": [
    "tfc.nn.conv1d_transpose(input=conv_res, filters=np.ones((2, 2, 2), dtype=np.float32), output_shape=[1, 2, 2], strides=1, padding='VALID')"
   ]
  },
  {
   "cell_type": "code",
   "execution_count": null,
   "metadata": {
    "ExecuteTime": {
     "end_time": "2019-06-12T11:25:15.533290Z",
     "start_time": "2019-06-12T11:24:30.461Z"
    }
   },
   "outputs": [],
   "source": [
    "_pdc1dt = PaddedConv1dTransposed(n_filters=2)\n",
    "print(conv_res.shape)\n",
    "resc1 = _pdc1dt(conv_res)\n",
    "print(resc1.shape)\n",
    "resc1.numpy()"
   ]
  },
  {
   "cell_type": "code",
   "execution_count": null,
   "metadata": {
    "ExecuteTime": {
     "end_time": "2019-06-12T11:25:15.533746Z",
     "start_time": "2019-06-12T11:24:30.465Z"
    }
   },
   "outputs": [],
   "source": [
    "_pdc1dt(_pdc1dt(resc1))"
   ]
  },
  {
   "cell_type": "code",
   "execution_count": null,
   "metadata": {},
   "outputs": [],
   "source": []
  },
  {
   "cell_type": "code",
   "execution_count": null,
   "metadata": {
    "ExecuteTime": {
     "end_time": "2019-06-12T11:25:15.534202Z",
     "start_time": "2019-06-12T11:24:30.471Z"
    }
   },
   "outputs": [],
   "source": [
    "#_t_layer_sizes_generative=[4,6,8,10,12,14,16,18]\n",
    "#_t_layer_sizes_generative=[1] * 6\n",
    "#_t_upsampling_size = [4] * 6 #, 2, 2]\n",
    "#_t_strides = [2] * 6\n",
    "##_t_padding = ['valid', 'valid', 'same']\n",
    "##_t_layer_sizes_generative=[4, 8, 16]\n",
    "#_latent_dim = 2\n",
    "#_t_generative_net = tf.keras.Sequential([tfkl.InputLayer(input_shape=(_latent_dim,)),\n",
    "#                                           tfkl.Lambda(lambda x: tf.reshape(x, [1000, 1, _latent_dim])),\n",
    "#                                           *[TemporalUpsamplingConv(conv_n_filters=fs, \n",
    "#                                                                    upsampling_size=us,\n",
    "#                                                                    conv_strides=s,\n",
    "#                                                                    conv_padding='valid',\n",
    "#                                                                    name=f\"gen_conv_{i}\") for i, (fs, us, s) \n",
    "#                                             in enumerate(zip(_t_layer_sizes_generative,\n",
    "#                                                              _t_upsampling_size,\n",
    "#                                                              _t_strides,\n",
    "#                                                             ))]],\n",
    "#                                          name='generative_net')\n",
    "#\n",
    "#_t_generative_net.summary()"
   ]
  }
 ],
 "metadata": {
  "accelerator": "GPU",
  "colab": {
   "collapsed_sections": [],
   "default_view": {},
   "name": "cvae.ipynb",
   "private_outputs": true,
   "provenance": [
    {
     "file_id": "1eb0NOTQapkYs3X0v-zL1x5_LFKgDISnp",
     "timestamp": 1527173385672
    }
   ],
   "toc_visible": true,
   "version": "0.3.2",
   "views": {}
  },
  "hide_input": false,
  "kernelspec": {
   "display_name": "Python 3",
   "language": "python",
   "name": "python3"
  },
  "language_info": {
   "codemirror_mode": {
    "name": "ipython",
    "version": 3
   },
   "file_extension": ".py",
   "mimetype": "text/x-python",
   "name": "python",
   "nbconvert_exporter": "python",
   "pygments_lexer": "ipython3",
   "version": "3.7.3"
  },
  "toc": {
   "base_numbering": 1,
   "nav_menu": {},
   "number_sections": true,
   "sideBar": true,
   "skip_h1_title": false,
   "title_cell": "Table of Contents",
   "title_sidebar": "Contents",
   "toc_cell": false,
   "toc_position": {},
   "toc_section_display": true,
   "toc_window_display": false
  }
 },
 "nbformat": 4,
 "nbformat_minor": 1
}
