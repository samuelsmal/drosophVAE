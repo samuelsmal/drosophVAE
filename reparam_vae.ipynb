{
 "cells": [
  {
   "cell_type": "markdown",
   "metadata": {
    "colab_type": "text",
    "id": "0TD5ZrvEMbhZ"
   },
   "source": [
    "# VAE using the reparametrization trick"
   ]
  },
  {
   "cell_type": "markdown",
   "metadata": {
    "colab_type": "text",
    "id": "e1_Y75QXJS6h"
   },
   "source": [
    "## Imports and enabling of eager execution"
   ]
  },
  {
   "cell_type": "code",
   "execution_count": 1,
   "metadata": {
    "ExecuteTime": {
     "end_time": "2019-06-11T17:40:20.959840Z",
     "start_time": "2019-06-11T17:40:19.238480Z"
    },
    "colab": {
     "autoexec": {
      "startup": false,
      "wait_interval": 0
     }
    },
    "colab_type": "code",
    "id": "YfIk2es3hJEd"
   },
   "outputs": [
    {
     "name": "stderr",
     "output_type": "stream",
     "text": [
      "WARNING: Logging before flag parsing goes to stderr.\n",
      "W0611 19:40:20.829231 139654823352128 deprecation_wrapper.py:119] From /home/sam/proj/epfl/neural_clustering_vae/som_vae/helpers/tensorflow.py:5: The name tf.ConfigProto is deprecated. Please use tf.compat.v1.ConfigProto instead.\n",
      "\n"
     ]
    }
   ],
   "source": [
    "import json\n",
    "from collections import namedtuple\n",
    "from functools import partial\n",
    "import itertools\n",
    "import warnings\n",
    "import os\n",
    "import time\n",
    "import numpy as np\n",
    "import pandas as pd\n",
    "import glob\n",
    "import matplotlib.pyplot as plt\n",
    "import seaborn as sns\n",
    "import PIL\n",
    "import imageio\n",
    "from IPython import display\n",
    "from sklearn.preprocessing import StandardScaler, MinMaxScaler\n",
    "from sklearn.manifold import TSNE\n",
    "from functional import seq\n",
    "from pathlib import Path\n",
    "from functools import reduce\n",
    "\n",
    "from importlib import reload # for debugging and developing, optional\n",
    "\n",
    "import tensorflow as tf\n",
    "import tensorflow.contrib as tfc\n",
    "import tensorflow.contrib.eager as tfe\n",
    "import tensorflow.keras as tfk\n",
    "import tensorflow.keras.layers as tfkl\n",
    "import tensorflow_probability as tfp\n",
    "\n",
    "# for the KL-loss explosion problem\n",
    "from tensorflow.python.eager.execution_callbacks import InfOrNanError\n",
    "from tensorflow.python.eager.core import _NotOkStatusException\n",
    "\n",
    "tf.enable_eager_execution()\n",
    "# we currently handle them ourselves. but with this, it will throw an error before we can apply the fix\n",
    "tfe.seterr(inf_or_nan='raise')\n",
    "\n",
    "# otherwise TF will print soooo many warnings\n",
    "warnings.filterwarnings('ignore', '.*FutureWarning.*np.complexfloating.*')\n",
    "\n",
    "from som_vae.helpers.tensorflow import _TF_DEFAULT_SESSION_CONFIG_\n",
    "import som_vae.helpers.tensorflow as tf_helpers\n",
    "sess = tf.InteractiveSession(config=_TF_DEFAULT_SESSION_CONFIG_)\n",
    "tf.keras.backend.set_session(sess)\n",
    "\n",
    "from som_vae.settings.config import SetupConfig, RunConfig\n",
    "from som_vae import data_loading\n",
    "from som_vae import settings\n",
    "from som_vae import preprocessing\n",
    "from som_vae.helpers.misc import extract_args, chunks, foldl, if_last\n",
    "from som_vae.helpers.jupyter import fix_layout, display_video\n",
    "from som_vae.settings import config, skeleton\n",
    "from som_vae.settings import data as SD\n",
    "from som_vae.helpers import video, plots, misc, jupyter\n",
    "from som_vae import preprocessing\n",
    "from som_vae.helpers.logging import enable_logging"
   ]
  },
  {
   "cell_type": "code",
   "execution_count": 2,
   "metadata": {
    "ExecuteTime": {
     "end_time": "2019-06-11T17:40:20.965315Z",
     "start_time": "2019-06-11T17:40:20.961066Z"
    }
   },
   "outputs": [
    {
     "data": {
      "text/html": [
       "<style>.container { width:95% !important; }</style>"
      ],
      "text/plain": [
       "<IPython.core.display.HTML object>"
      ]
     },
     "metadata": {},
     "output_type": "display_data"
    }
   ],
   "source": [
    "jupyter.fix_layout()"
   ]
  },
  {
   "cell_type": "markdown",
   "metadata": {},
   "source": [
    "## Constants (Settings)"
   ]
  },
  {
   "cell_type": "code",
   "execution_count": 3,
   "metadata": {
    "ExecuteTime": {
     "end_time": "2019-06-11T17:40:20.976384Z",
     "start_time": "2019-06-11T17:40:20.966656Z"
    }
   },
   "outputs": [],
   "source": [
    "# all those experiments and data will be used\n",
    "#from som_vae.settings import config\n",
    "#print(f\"this is the main experiment, study, and fly id: {config.full_experiment_id()}.\\n\\nloadable experiments. there is a blacklist below.\")\n",
    "#!ls $config.__EXPERIMENT_ROOT__"
   ]
  },
  {
   "cell_type": "code",
   "execution_count": 4,
   "metadata": {
    "ExecuteTime": {
     "end_time": "2019-06-11T17:40:21.000914Z",
     "start_time": "2019-06-11T17:40:20.977615Z"
    }
   },
   "outputs": [],
   "source": [
    "# if you want to see the flys as well, or just more information\n",
    "# !tree -L 2 $config.__EXPERIMENT_ROOT__"
   ]
  },
  {
   "cell_type": "markdown",
   "metadata": {
    "colab_type": "text",
    "id": "iYn4MdZnKCey"
   },
   "source": [
    "## Loading of 2d positional data"
   ]
  },
  {
   "cell_type": "code",
   "execution_count": 5,
   "metadata": {
    "ExecuteTime": {
     "end_time": "2019-06-11T17:40:21.012702Z",
     "start_time": "2019-06-11T17:40:21.002005Z"
    }
   },
   "outputs": [],
   "source": [
    "#if not run_config['use_all_experiments']:\n",
    "#    frames_idx_with_labels = preprocessing.get_frames_with_idx_and_labels(settings.data.LABELLED_DATA)\n",
    "#    frames_of_interest = ~frames_idx_with_labels['label'].isin([settings.data._BehaviorLabel_.REST])"
   ]
  },
  {
   "cell_type": "code",
   "execution_count": 6,
   "metadata": {
    "ExecuteTime": {
     "end_time": "2019-06-11T17:40:21.029035Z",
     "start_time": "2019-06-11T17:40:21.013741Z"
    }
   },
   "outputs": [],
   "source": [
    "# TODO form a wrapper around the used data, experiments (the ids), data, normalisation factor, images, ... a namedtuple should do the trick\n",
    "#if run_config['data_type'] == _DATA_TYPE_2D_POS_:\n",
    "#    if run_config['use_all_experiments']:\n",
    "#        all_experiments = [e for e in experiments_from_root() if e.study_id not in _EXPERIMENT_BLACK_LIST_ or config.get_experiment_id(e) in _FLY_BLACK_LIST_]\n",
    "#        joint_positions, normalisation_factors = preprocessing.get_data_and_normalization(all_experiments, normalize_data=True)\n",
    "#    else:\n",
    "#        joint_positions, normalisation_factors = preprocessing.get_data_and_normalization(settings.data.EXPERIMENTS, normalize_data=True)\n",
    "#\n",
    "#        images_paths_for_experiments = settings.data.EXPERIMENTS.map(lambda x: (x, config.positional_data(x)))\\\n",
    "#                                               .flat_map(lambda x: [(x[0], config.get_path_for_image(x[0], i)) for i in range(x[1].shape[1])])\\\n",
    "#                                               .to_list()\n",
    "#\n",
    "#        if len(frames_of_interest) != len(joint_positions):\n",
    "#            warnings.warn('There is a bug here. The number of images and number of data points to NOT align.')\n",
    "#            frames_of_interest = np.where(frames_of_interest[:len(joint_positions)])[0]\n",
    "#        \n",
    "#        joint_positions = joint_positions[frames_of_interest[:len(joint_positions)]]\n",
    "#        frames_idx_with_labels = frames_idx_with_labels.iloc[frames_of_interest]\n",
    "#        images_paths_for_experiments =  np.array(images_paths_for_experiments)[frames_of_interest].tolist()"
   ]
  },
  {
   "cell_type": "markdown",
   "metadata": {},
   "source": [
    "## loading of angle-data"
   ]
  },
  {
   "cell_type": "code",
   "execution_count": 7,
   "metadata": {
    "ExecuteTime": {
     "end_time": "2019-06-11T17:40:21.097417Z",
     "start_time": "2019-06-11T17:40:21.030000Z"
    }
   },
   "outputs": [
    {
     "name": "stdout",
     "output_type": "stream",
     "text": [
      "huh?? something odd with Experiment(study_id='180921_aDN_CsCh', fly_id='Fly4', experiment_id='003_SG1'): /home/sam/proj/epfl/neural_clustering_data/experiments/180921_aDN_CsCh/Fly4/003_SG1/behData/images: [Errno 2] No such file or directory: '/home/sam/proj/epfl/neural_clustering_data/experiments/180921_aDN_CsCh/Fly4/003_SG1/behData/images'\n",
      "huh?? something odd with Experiment(study_id='180921_aDN_CsCh', fly_id='Fly3', experiment_id='001_SG1'): /home/sam/proj/epfl/neural_clustering_data/experiments/180921_aDN_CsCh/Fly3/001_SG1/behData/images: [Errno 2] No such file or directory: '/home/sam/proj/epfl/neural_clustering_data/experiments/180921_aDN_CsCh/Fly3/001_SG1/behData/images'\n",
      "huh?? something odd with Experiment(study_id='180921_aDN_CsCh', fly_id='Fly6', experiment_id='003_SG1'): /home/sam/proj/epfl/neural_clustering_data/experiments/180921_aDN_CsCh/Fly6/003_SG1/behData/images: [Errno 2] No such file or directory: '/home/sam/proj/epfl/neural_clustering_data/experiments/180921_aDN_CsCh/Fly6/003_SG1/behData/images'\n",
      "huh?? something odd with Experiment(study_id='180921_aDN_CsCh', fly_id='Fly6', experiment_id='001_SG1'): /home/sam/proj/epfl/neural_clustering_data/experiments/180921_aDN_CsCh/Fly6/001_SG1/behData/images: [Errno 2] No such file or directory: '/home/sam/proj/epfl/neural_clustering_data/experiments/180921_aDN_CsCh/Fly6/001_SG1/behData/images'\n"
     ]
    }
   ],
   "source": [
    "setup_cfg = SetupConfig()\n",
    "run_cfg = RunConfig.ANGLE_3D()\n",
    "\n",
    "frame_data, frame_labels = data_loading.load_labelled_data(run_config=run_cfg, setup_config=setup_cfg)"
   ]
  },
  {
   "cell_type": "code",
   "execution_count": 8,
   "metadata": {
    "ExecuteTime": {
     "end_time": "2019-06-11T17:40:23.569012Z",
     "start_time": "2019-06-11T17:40:21.098823Z"
    }
   },
   "outputs": [],
   "source": [
    "frame_data, frame_labels, selected_columns, normalisation_factors = preprocessing.preprocess_3d_angle_data(frame_data, frame_labels, **run_cfg.value('angle_3d_params', 'preprocessing'))"
   ]
  },
  {
   "cell_type": "code",
   "execution_count": 9,
   "metadata": {
    "ExecuteTime": {
     "end_time": "2019-06-11T17:40:23.572196Z",
     "start_time": "2019-06-11T17:40:23.570492Z"
    },
    "code_folding": []
   },
   "outputs": [],
   "source": [
    "#if run_config['data_type'] == _DATA_TYPE_3D_ANGLE_ and run_config['use_all_experiments']:\n",
    "#    all_experiments = [e for e in experiments_from_root() if (e.study_id not in _EXPERIMENT_BLACK_LIST_) and (e.key not in _FLY_BLACK_LIST_)]\n",
    "#    # `per_experiment` is a shitty parameter name, the data is not normalised and return per experiment.\n",
    "#    loading_kwargs = {'dimensions': '3d', 'return_with_experiment_id': True}\n",
    "#    angle_data_raw = [(exp_id, SD.convert_3d_to_angle(d)) for exp_id, d in preprocessing.get_data_and_normalization(all_experiments, **loading_kwargs)]\n",
    "#\n",
    "#    # takes for ever to render, if you want to see this, please run it yourself\n",
    "#    #plots.plot_distribution_of_angle_data(angle_data_raw, run_config=run_config);\n",
    "#\n",
    "#    exp_ids, angle_data  = zip(*angle_data_raw)\n",
    "#    angle_data = np.vstack(angle_data)\n",
    "#    selected_cols = np.where(np.var(angle_data, axis=0) > 0.0)[0]\n",
    "#    joint_positions = angle_data[:, selected_cols]"
   ]
  },
  {
   "cell_type": "code",
   "execution_count": 10,
   "metadata": {
    "ExecuteTime": {
     "end_time": "2019-06-11T17:40:23.591880Z",
     "start_time": "2019-06-11T17:40:23.573681Z"
    },
    "scrolled": false
   },
   "outputs": [],
   "source": [
    "# will generate a huge plot and take about 6min to run...\n",
    "#plots.plot_distribution_of_angle_data(angle_data_raw, run_config=run_config);"
   ]
  },
  {
   "cell_type": "code",
   "execution_count": 11,
   "metadata": {
    "ExecuteTime": {
     "end_time": "2019-06-11T17:40:23.602666Z",
     "start_time": "2019-06-11T17:40:23.593359Z"
    },
    "code_folding": [
     0
    ]
   },
   "outputs": [],
   "source": [
    "#all_experiments = experiments_from_root()\n",
    "#print(len(all_experiments))\n",
    "#\n",
    "#pos_data = preprocessing.get_data_and_normalization(all_experiments, per_experiment=True)\n",
    "#\n",
    "#norm_pos_data, norm_pos_data_params = zip(*[preprocessing.normalize(p) for p in pos_data])\n",
    "#experiment_lengths = [len(p) for p in norm_pos_data] # for applying the right normalization factors\n",
    "#norm_pos_data = np.vstack(norm_pos_data)\n",
    "#\n",
    "#print(f\"in total we have {len(all_experiments)} experiments, but only {len(experiment_lengths)} are usable right now\")\n",
    "#\n",
    "#norm_pos_data_embedded = TSNE(n_components=2, random_state=42).fit_transform(norm_pos_data[:, :, :2].reshape(norm_pos_data.shape[0], -1))\n",
    "#\n",
    "##_cs = sns.color_palette(n_colors=len(seen_labels))\n",
    "##\n",
    "##fig = plt.figure(figsize=(10, 10))\n",
    "##_all_frames_ = pd.concat((training_frames, testing_frames))\n",
    "##\n",
    "##behaviour_colours = dict(zip(seen_labels, _cs))\n",
    "##\n",
    "##for l, c in behaviour_colours.items():\n",
    "##    _d = X_embedded[_all_frames_['label'] == l]\n",
    "##    # c=[c] since matplotlib asks for it\n",
    "##    plt.scatter(_d[:, 0], _d[:,1], c=[c], label=l.name, marker='.')\n",
    "##    \n",
    "##plt.legend()\n",
    "##plt.title('simple t-SNE on latent space')\n",
    "##fig.savefig(f\"../neural_clustering_data/figures/{som_vae_config['ex_name']}_tsne.png\")\n",
    "#\n",
    "#_cs = sns.color_palette(n_colors=len(experiment_lengths))\n",
    "#\n",
    "#\n",
    "#used_until = 0\n",
    "#for i, l in enumerate(experiment_lengths):\n",
    "#    plt.scatter(norm_pos_data_embedded[used_until:used_until+l, 0], norm_pos_data_embedded[used_until:used_until+l, 1], c=[_cs[i]])\n",
    "#    used_until += l"
   ]
  },
  {
   "cell_type": "markdown",
   "metadata": {},
   "source": [
    "# preprocessing"
   ]
  },
  {
   "cell_type": "code",
   "execution_count": 12,
   "metadata": {
    "ExecuteTime": {
     "end_time": "2019-06-11T17:40:23.650540Z",
     "start_time": "2019-06-11T17:40:23.603604Z"
    }
   },
   "outputs": [],
   "source": [
    "scaler = StandardScaler()\n",
    "\n",
    "n_data_points = int(frame_data.shape[0] * run_cfg['train_test_ratio'])\n",
    "\n",
    "X_train = scaler.fit_transform(frame_data[:n_data_points])\n",
    "X_test = frame_data[n_data_points:] \n",
    "y_train = frame_labels[:n_data_points]\n",
    "y_test = frame_labels[n_data_points:]\n",
    "\n",
    "if run_cfg['use_time_series']:\n",
    "    X_train, X_test, y_train, y_test = [misc.to_time_series_np(x, sequence_length=run_cfg['time_series_length']) \n",
    "                                        for x in (X_train, X_test, y_train, y_test)]"
   ]
  },
  {
   "cell_type": "code",
   "execution_count": 13,
   "metadata": {
    "ExecuteTime": {
     "end_time": "2019-06-11T17:40:23.655803Z",
     "start_time": "2019-06-11T17:40:23.651734Z"
    },
    "code_folding": [
     0
    ]
   },
   "outputs": [],
   "source": [
    "## full preprocessing pipeline\n",
    "#\n",
    "## scaling the data to be in [0, 1]\n",
    "## this is due to the sigmoid activation function in the reconstruction (and because ANN train better with normalised data) (which it is not...)\n",
    "##scaler = MinMaxScaler()\n",
    "#scaler = StandardScaler()\n",
    "#\n",
    "##\n",
    "## reshapping the data \n",
    "##\n",
    "#\n",
    "## TODO bring this in order! (or in better order)\n",
    "#\n",
    "#if run_config['use_time_series']:\n",
    "#    # it's the shitty logical combination of these values\n",
    "#    # TODO the scaling should be learned on the training data only, but this is a bit tricky due to how we do the time-sequences\n",
    "#    # TODO right now the training and testing data are just concatenated time-sequences, experiment overlapping. which is bad.\n",
    "#    warnings.warn('this is not proper, fix the bugs here')\n",
    "#    if run_config['data_type'] == _DATA_TYPE_2D_POS_:\n",
    "#        reshaped_joint_position = scaler.fit_transform(misc.prep_2d_pos_data(joint_positions))\n",
    "#    else:\n",
    "#        reshaped_joint_position = scaler.fit_transform(joint_positions)\n",
    "#        \n",
    "#    reshaped_joint_position = misc.to_time_series_np(reshaped_joint_position, sequence_length=run_config['time_series_length'])\n",
    "#else:\n",
    "#    if run_config['data_type'] == _DATA_TYPE_2D_POS_:\n",
    "#        # angle data is already flat\n",
    "#        reshaped_joint_position = misc.prep_2d_pos_data(joint_positions)\n",
    "#    else:\n",
    "#        reshaped_joint_position = joint_positions\n",
    "#\n",
    "##\n",
    "## debugging overwrite\n",
    "##\n",
    "#    \n",
    "#if run_config['debug']:\n",
    "#    if run_config['d_zero_data']:\n",
    "#        # resetting the scaler to make our life easier down below the pipeline\n",
    "#        _dummy_data_ = np.zeros_like(joint_positions)\n",
    "#    elif run_config['d_sinoid_data']:\n",
    "#        if run_config['data_type'] == _DATA_TYPE_2D_POS_:\n",
    "#            _dummy_data_ = np.zeros_like(joint_positions)\n",
    "#            for frame in range(_dummy_data_.shape[0]):\n",
    "#                for joint in range(_dummy_data_.shape[1]):\n",
    "#                    _dummy_data_[frame, joint, :] = np.sin(2 * np.pi * frame/_dummy_data_.shape[0] + joint / _dummy_data_.shape[1])\n",
    "#                \n",
    "#        else:\n",
    "#            _dummy_data_ = np.array([[np.sin(x) + (offset / joint_positions.shape[1]) \n",
    "#                                      for x in range(len(joint_positions))] \n",
    "#                                     for offset in range(joint_positions.shape[1])]).T.astype(joint_positions.dtype)\n",
    "#    elif run_config['d_sinoid_cluster_data']:\n",
    "#        if run_config['data_type'] == _DATA_TYPE_2D_POS_:\n",
    "#            raise NotImplementedError\n",
    "#        else:\n",
    "#            _dummy_data_ = np.zeros_like(joint_positions)\n",
    "#            _dummy_labels_ = np.zeros(joint_positions.shape[0])\n",
    "#            for c in range(_dummy_data_.shape[1]):\n",
    "#                _dummy_data_[:, c], _dummy_labels_ = dummy_data_complex_sine_like(_dummy_data_.shape[0])\n",
    "#            \n",
    "#    if run_config['data_type'] == _DATA_TYPE_2D_POS_:\n",
    "#        _dummy_data_ = misc.prep_2d_pos_data(_dummy_data_)\n",
    "#        \n",
    "#    if run_config['use_time_series']:\n",
    "#        reshaped_joint_position = scaler.fit_transform(_dummy_data_)\n",
    "#        reshaped_joint_position = misc.to_time_series_np(reshaped_joint_position, sequence_length=run_config['time_series_length'])\n",
    "#        labels = _dummy_labels_[run_config['time_series_length'] - 1:]\n",
    "#    else:\n",
    "#        reshaped_joint_position = _dummy_data_\n",
    "#        labels = _dummy_labels_\n",
    "#\n",
    "##\n",
    "## split and apply scaler\n",
    "##\n",
    "#\n",
    "#if reshaped_joint_position.shape[0] > 10**5:\n",
    "#    n_of_data_points = int(reshaped_joint_position.shape[0] * 0.9)\n",
    "#else:\n",
    "#    n_of_data_points = int(reshaped_joint_position.shape[0] * 0.7)\n",
    "#\n",
    "#if run_config['use_time_series']:\n",
    "#    data_train = reshaped_joint_position[:n_of_data_points]\n",
    "#    data_test = reshaped_joint_position[n_of_data_points:]\n",
    "#    labels_train = labels[:n_of_data_points]\n",
    "#    labels_test = labels[n_of_data_points:]\n",
    "#    print('train')\n",
    "#    display.display(pd.DataFrame(data_train[:, -1, :]).describe())\n",
    "#    print('test')\n",
    "#    display.display(pd.DataFrame(data_test[:, -1, :]).describe())\n",
    "#else:\n",
    "#    data_train = scaler.fit_transform(reshaped_joint_position[:n_of_data_points])\n",
    "#    data_test = scaler.transform(reshaped_joint_position[n_of_data_points:])\n",
    "#    labels_train = labels[:n_of_data_points]\n",
    "#    labels_test = labels[n_of_data_points:]\n",
    "#    print('train')\n",
    "#    display.display(pd.DataFrame(data_train).describe())\n",
    "#    print('test')\n",
    "#    display.display(pd.DataFrame(data_test).describe())\n",
    "#    \n",
    "#print(f\"shapes for train/test: {data_train.shape}, {data_test.shape}\")"
   ]
  },
  {
   "cell_type": "code",
   "execution_count": 14,
   "metadata": {
    "ExecuteTime": {
     "end_time": "2019-06-11T17:40:23.673588Z",
     "start_time": "2019-06-11T17:40:23.657011Z"
    }
   },
   "outputs": [
    {
     "data": {
      "text/plain": [
       "'ANGLE_3D-t-16-k-2-ncl-4-ld-4-mf-T-opt-Adam-lwr-1.0-lwkl-0.0-dr-0.0-mi-SKIP_PADD_CONV-bn-T_d_sinoid_cluster_data'"
      ]
     },
     "execution_count": 14,
     "metadata": {},
     "output_type": "execute_result"
    }
   ],
   "source": [
    "run_cfg.description(short=True)"
   ]
  },
  {
   "cell_type": "code",
   "execution_count": 15,
   "metadata": {
    "ExecuteTime": {
     "end_time": "2019-06-11T17:40:27.282836Z",
     "start_time": "2019-06-11T17:40:23.674649Z"
    }
   },
   "outputs": [
    {
     "data": {
      "image/png": "[encoded data removed]",
      "text/plain": [
       "<Figure size 720x432 with 12 Axes>"
      ]
     },
     "metadata": {
      "needs_background": "light"
     },
     "output_type": "display_data"
    }
   ],
   "source": [
    "reload(plots)\n",
    "#\n",
    "# Making sure that the train/test distributions are not too different from each other\n",
    "#\n",
    "if run_cfg['use_time_series']:\n",
    "    _plt_data_idx_ = np.s_[:, -1, :]\n",
    "else:\n",
    "    _plt_data_idx_ = np.s_[:]\n",
    "    \n",
    "if run_cfg['data_type'] == data_loading.DataType.ANGLE_3D:\n",
    "    fig = plots.plot_3d_angle_data_distribution(X_train[_plt_data_idx_],\n",
    "                                                X_test[_plt_data_idx_],\n",
    "                                                selected_columns, \n",
    "                                                exp_desc=run_cfg.description())\n",
    "else:\n",
    "    fig = plots.plot_2d_distribution(data_train[_plt_data_idx_], data_test[_plt_data_idx_], exp_desc=config.config_description(run_config))"
   ]
  },
  {
   "cell_type": "markdown",
   "metadata": {
    "colab_type": "text",
    "id": "PIGN6ouoQxt3"
   },
   "source": [
    "## Use *tf.data* to create batches and shuffle the dataset"
   ]
  },
  {
   "cell_type": "code",
   "execution_count": 16,
   "metadata": {
    "ExecuteTime": {
     "end_time": "2019-06-11T17:40:27.294270Z",
     "start_time": "2019-06-11T17:40:27.283788Z"
    },
    "colab": {
     "autoexec": {
      "startup": false,
      "wait_interval": 0
     }
    },
    "colab_type": "code",
    "id": "S4PIDhoDLbsZ"
   },
   "outputs": [],
   "source": [
    "def to_tf_data(X, y=None):\n",
    "    if y is None:\n",
    "        return tf.data.Dataset.from_tensor_slices(X).shuffle(len(X)).batch(run_cfg['batch_size'])\n",
    "    else:\n",
    "        return tf.data.Dataset.from_tensor_slices((X, y)).shuffle(len(X)).batch(run_cfg['batch_size'])\n",
    "\n",
    "X_train_dataset= to_tf_data(X_train)\n",
    "X_test_dataset = to_tf_data(X_test) "
   ]
  },
  {
   "cell_type": "markdown",
   "metadata": {
    "colab_type": "text",
    "id": "THY-sZMiQ4UV"
   },
   "source": [
    "# model def"
   ]
  },
  {
   "cell_type": "markdown",
   "metadata": {
    "heading_collapsed": true
   },
   "source": [
    "## doc"
   ]
  },
  {
   "cell_type": "markdown",
   "metadata": {
    "hidden": true
   },
   "source": [
    "### Sources:\n",
    "\n",
    "- https://blog.keras.io/building-autoencoders-in-keras.html (keras autoencoder implementation)\n",
    "- https://medium.com/the-artificial-impostor/notes-understanding-tensorflow-part-3-7f6633fcc7c7 (temporal block)\n",
    "- https://stackoverflow.com/questions/46503816/keras-conv1d-layer-parameters-filters-and-kernel-size (refresher on conv layers)\n",
    "- https://towardsdatascience.com/types-of-convolutions-in-deep-learning-717013397f4d (refresher on conv layers)\n",
    "- https://jeddy92.github.io/JEddy92.github.io/ts_seq2seq_conv/ (for a good overview over diluted causal convolutions)\n",
    "- https://blog.goodaudience.com/introduction-to-1d-convolutional-neural-networks-in-keras-for-time-sequences-3a7ff801a2cf?gi=c5cb3c007035 (general reference)\n",
    "- https://medium.com/tensorflow/variational-autoencoders-with-tensorflow-probability-layers-d06c658931b7 (VAE with tensorflow probability)"
   ]
  },
  {
   "cell_type": "markdown",
   "metadata": {
    "ExecuteTime": {
     "end_time": "2019-05-10T13:12:53.469656Z",
     "start_time": "2019-05-10T13:12:53.444967Z"
    },
    "hidden": true
   },
   "source": [
    "### Generative Network\n",
    "This defines the generative model which takes a latent encoding as input, and outputs the parameters for a conditional distribution of the observation, i.e. $p(x|z)$. Additionally, we use a unit Gaussian prior $p(z)$ for the latent variable.\n",
    "\n",
    "### Inference Network\n",
    "This defines an approximate posterior distribution $q(z|x)$, which takes as input an observation and outputs a set of parameters for the conditional distribution of the latent representation. In this example, we simply model this distribution as a diagonal Gaussian. In this case, the inference network outputs the mean and log-variance parameters of a factorized Gaussian (log-variance instead of the variance directly is for numerical stability).\n",
    "\n",
    "### Reparameterization Trick\n",
    "During optimization, we can sample from $q(z|x)$ by first sampling from a unit Gaussian, and then multiplying by the standard deviation and adding the mean. This ensures the gradients could pass through the sample to the inference network parameters.\n",
    "\n",
    "### Network architecture\n",
    "For the inference network, we use two convolutional layers followed by a fully-connected layer. In the generative network, we mirror this architecture by using a fully-connected layer followed by three convolution transpose layers (a.k.a. deconvolutional layers in some contexts). Note, it's common practice to avoid using batch normalization when training VAEs, since the additional stochasticity due to using mini-batches may aggravate instability on top of the stochasticity from sampling.\n",
    "\n",
    "The dilated convolution between signal $f$ and kernel $k$ and dilution factor $l$ is defined as:\n",
    "\n",
    "$$\\left(k \\ast_{l} f\\right)_t = \\sum_{\\tau=-\\infty}^{\\infty} k_\\tau \\cdot f_{t - l\\tau}$$\n",
    "\n",
    "![](./figures/diluted_convolution.png)\n",
    "![](./figures/WaveNet_gif.gif)"
   ]
  },
  {
   "cell_type": "markdown",
   "metadata": {
    "hidden": true
   },
   "source": [
    "VAEs train by maximizing the evidence lower bound (ELBO) on the marginal log-likelihood:\n",
    "\n",
    "$$\\log p(x) \\ge \\text{ELBO} = \\mathbb{E}_{q(z|x)}\\left[\\log \\frac{p(x, z)}{q(z|x)}\\right].$$\n",
    "\n",
    "In practice, we optimize the single sample Monte Carlo estimate of this expectation:\n",
    "\n",
    "$$\\log p(x| z) + \\log p(z) - \\log q(z|x),$$\n",
    "where $z$ is sampled from $q(z|x)$.\n",
    "\n",
    "**Note**: we could also analytically compute the KL term, but here we incorporate all three terms in the Monte Carlo estimator for simplicity."
   ]
  },
  {
   "cell_type": "code",
   "execution_count": 17,
   "metadata": {
    "ExecuteTime": {
     "end_time": "2019-06-11T17:40:27.419173Z",
     "start_time": "2019-06-11T17:40:27.295296Z"
    },
    "hidden": true
   },
   "outputs": [
    {
     "data": {
      "text/plain": [
       "<matplotlib.legend.Legend at 0x7f02a33cbf28>"
      ]
     },
     "execution_count": 17,
     "metadata": {},
     "output_type": "execute_result"
    },
    {
     "data": {
      "image/png": "[encoded data removed]",
      "text/plain": [
       "<Figure size 432x288 with 1 Axes>"
      ]
     },
     "metadata": {
      "needs_background": "light"
     },
     "output_type": "display_data"
    }
   ],
   "source": [
    "def _receptive_field_size_temporal_conv_net_(kernel_size, n_layers):\n",
    "    return 1 + 2 * (kernel_size - 1) * (2 ** n_layers - 1)\n",
    "\n",
    "for k in range(2, 5):\n",
    "    plt.plot([_receptive_field_size_temporal_conv_net_(kernel_size=k, n_layers=n) for n in range(10)], label=f\"kernel size: {k}\")\n",
    "plt.xlabel('number of layers')\n",
    "plt.ylabel('receptive field size')\n",
    "plt.legend()"
   ]
  },
  {
   "cell_type": "markdown",
   "metadata": {},
   "source": [
    "## training"
   ]
  },
  {
   "cell_type": "code",
   "execution_count": 19,
   "metadata": {
    "ExecuteTime": {
     "end_time": "2019-06-11T17:40:27.445780Z",
     "start_time": "2019-06-11T17:40:27.422858Z"
    }
   },
   "outputs": [],
   "source": [
    "from som_vae.training import vae as vae_training"
   ]
  },
  {
   "cell_type": "code",
   "execution_count": 20,
   "metadata": {
    "ExecuteTime": {
     "end_time": "2019-06-11T17:40:30.901977Z",
     "start_time": "2019-06-11T17:40:27.446771Z"
    }
   },
   "outputs": [
    {
     "name": "stderr",
     "output_type": "stream",
     "text": [
      "W0611 19:40:27.460318 139654823352128 deprecation_wrapper.py:119] From /home/sam/proj/epfl/neural_clustering_vae/som_vae/training/vae.py:19: The name tf.reset_default_graph is deprecated. Please use tf.compat.v1.reset_default_graph instead.\n",
      "\n"
     ]
    },
    {
     "name": "stdout",
     "output_type": "stream",
     "text": [
      "Using model: ModelType.SKIP_PADD_CONV\n"
     ]
    },
    {
     "name": "stderr",
     "output_type": "stream",
     "text": [
      "/home/sam/.local/opt/miniconda3/envs/tf_nightly/lib/python3.7/site-packages/tensorflow/python/eager/execution_callbacks.py:174: FutureWarning: Conversion of the second argument of issubdtype from `complex` to `np.complexfloating` is deprecated. In future, it will be treated as `np.complex128 == np.dtype(complex).type`.\n",
      "  np.issubdtype(numpy_dtype, np.complex) or\n"
     ]
    },
    {
     "name": "stdout",
     "output_type": "stream",
     "text": [
      "[18 17 16 15 15 14 13 13 12 11 10 10  9  8  8]\n",
      "[ 4  5  6  7  8  9 10 11 12 13 14 15 16 17 18]\n"
     ]
    },
    {
     "name": "stderr",
     "output_type": "stream",
     "text": [
      "W0611 19:40:30.899549 139654823352128 deprecation_wrapper.py:119] From /home/sam/proj/epfl/neural_clustering_vae/som_vae/training/vae.py:54: The name tf.train.AdamOptimizer is deprecated. Please use tf.compat.v1.train.AdamOptimizer instead.\n",
      "\n"
     ]
    },
    {
     "name": "stdout",
     "output_type": "stream",
     "text": [
      "Model: \"model_1\"\n",
      "____________________________________________________________________________________________________\n",
      "Layer (type)                                 Output Shape                            Param #        \n",
      "====================================================================================================\n",
      "input_2 (InputLayer)                         [(1024, 16, 18)]                        0              \n",
      "____________________________________________________________________________________________________\n",
      "inference_net (Sequential)                   (1024, 8)                               11564          \n",
      "____________________________________________________________________________________________________\n",
      "tf_op_layer_split_1 (TensorFlowOpLayer)      [(1024, 4), (1024, 4)]                  0              \n",
      "____________________________________________________________________________________________________\n",
      "activation_1 (Activation)                    (1024, 4)                               0              \n",
      "====================================================================================================\n",
      "Total params: 11,564\n",
      "Trainable params: 11,186\n",
      "Non-trainable params: 378\n",
      "____________________________________________________________________________________________________\n",
      "Model: \"model_2\"\n",
      "____________________________________________________________________________________________________\n",
      "Layer (type)                     Output Shape          Param #     Connected to                     \n",
      "====================================================================================================\n",
      "input_3 (InputLayer)             [(None, 4)]           0                                            \n",
      "____________________________________________________________________________________________________\n",
      "lambda (Lambda)                  (None, 1, 4)          0           input_3[0][0]                    \n",
      "____________________________________________________________________________________________________\n",
      "skip_connection_layer (SkipConne (None, 2, 4)          124         lambda[0][0]                     \n",
      "                                                                   input_3[0][0]                    \n",
      "____________________________________________________________________________________________________\n",
      "skip_connection_layer_1 (SkipCon (None, 3, 5)          157         skip_connection_layer[0][0]      \n",
      "                                                                   input_3[0][0]                    \n",
      "____________________________________________________________________________________________________\n",
      "skip_connection_layer_2 (SkipCon (None, 4, 6)          210         skip_connection_layer_1[0][0]    \n",
      "                                                                   input_3[0][0]                    \n",
      "____________________________________________________________________________________________________\n",
      "skip_connection_layer_3 (SkipCon (None, 5, 7)          271         skip_connection_layer_2[0][0]    \n",
      "                                                                   input_3[0][0]                    \n",
      "____________________________________________________________________________________________________\n",
      "skip_connection_layer_4 (SkipCon (None, 6, 8)          340         skip_connection_layer_3[0][0]    \n",
      "                                                                   input_3[0][0]                    \n",
      "____________________________________________________________________________________________________\n",
      "skip_connection_layer_5 (SkipCon (None, 7, 9)          417         skip_connection_layer_4[0][0]    \n",
      "                                                                   input_3[0][0]                    \n",
      "____________________________________________________________________________________________________\n",
      "skip_connection_layer_6 (SkipCon (None, 8, 10)         502         skip_connection_layer_5[0][0]    \n",
      "                                                                   input_3[0][0]                    \n",
      "____________________________________________________________________________________________________\n",
      "skip_connection_layer_7 (SkipCon (None, 9, 11)         595         skip_connection_layer_6[0][0]    \n",
      "                                                                   input_3[0][0]                    \n",
      "____________________________________________________________________________________________________\n",
      "skip_connection_layer_8 (SkipCon (None, 10, 12)        696         skip_connection_layer_7[0][0]    \n",
      "                                                                   input_3[0][0]                    \n",
      "____________________________________________________________________________________________________\n",
      "skip_connection_layer_9 (SkipCon (None, 11, 13)        805         skip_connection_layer_8[0][0]    \n",
      "                                                                   input_3[0][0]                    \n",
      "____________________________________________________________________________________________________\n",
      "skip_connection_layer_10 (SkipCo (None, 12, 14)        922         skip_connection_layer_9[0][0]    \n",
      "                                                                   input_3[0][0]                    \n",
      "____________________________________________________________________________________________________\n",
      "skip_connection_layer_11 (SkipCo (None, 13, 15)        1047        skip_connection_layer_10[0][0]   \n",
      "                                                                   input_3[0][0]                    \n",
      "____________________________________________________________________________________________________\n",
      "skip_connection_layer_12 (SkipCo (None, 14, 16)        1180        skip_connection_layer_11[0][0]   \n",
      "                                                                   input_3[0][0]                    \n",
      "____________________________________________________________________________________________________\n",
      "skip_connection_layer_13 (SkipCo (None, 15, 17)        1321        skip_connection_layer_12[0][0]   \n",
      "                                                                   input_3[0][0]                    \n",
      "____________________________________________________________________________________________________\n",
      "skip_connection_layer_14 (SkipCo (None, 16, 18)        1470        skip_connection_layer_13[0][0]   \n",
      "                                                                   input_3[0][0]                    \n",
      "____________________________________________________________________________________________________\n",
      "time_distributed (TimeDistribute (None, 16, 18)        342         skip_connection_layer_14[0][0]   \n",
      "====================================================================================================\n",
      "Total params: 10,399\n",
      "Trainable params: 9,977\n",
      "Non-trainable params: 422\n",
      "____________________________________________________________________________________________________\n"
     ]
    }
   ],
   "source": [
    "reload(vae_training)\n",
    "model, checkpoint_path, train_writer, test_writer, optimizer = vae_training.init(input_shape=X_train.shape[1:], run_config=run_cfg)"
   ]
  },
  {
   "cell_type": "code",
   "execution_count": 21,
   "metadata": {
    "ExecuteTime": {
     "end_time": "2019-06-11T17:41:32.809451Z",
     "start_time": "2019-06-11T17:40:30.903167Z"
    }
   },
   "outputs": [
    {
     "name": "stderr",
     "output_type": "stream",
     "text": [
      "W0611 19:40:31.838931 139654823352128 deprecation_wrapper.py:119] From /home/sam/proj/epfl/neural_clustering_vae/som_vae/models/drosoph_vae.py:112: The name tf.random_normal is deprecated. Please use tf.random.normal instead.\n",
      "\n",
      "W0611 19:40:31.965655 139654823352128 deprecation_wrapper.py:119] From /home/sam/proj/epfl/neural_clustering_vae/som_vae/losses/vae_loss.py:37: The name tf.losses.mean_squared_error is deprecated. Please use tf.compat.v1.losses.mean_squared_error instead.\n",
      "\n"
     ]
    },
    {
     "name": "stdout",
     "output_type": "stream",
     "text": [
      "Epoch: 0000, train/test loss: 1.928\t 0.417 took 5.973 sec\n",
      "=========.\r"
     ]
    }
   ],
   "source": [
    "reload(vae_training)\n",
    "model, optimizer, train_reports, test_reports = vae_training.train(model, optimizer, \n",
    "                                                                   train_summary_writer=train_writer,\n",
    "                                                                   test_summary_writer=test_writer,\n",
    "                                                                   train_dataset=X_train_dataset, \n",
    "                                                                   test_dataset=X_test_dataset)"
   ]
  },
  {
   "cell_type": "code",
   "execution_count": 22,
   "metadata": {
    "ExecuteTime": {
     "end_time": "2019-06-11T17:41:33.081793Z",
     "start_time": "2019-06-11T17:41:32.810576Z"
    },
    "code_folding": []
   },
   "outputs": [
    {
     "ename": "NameError",
     "evalue": "name 'run_config' is not defined",
     "output_type": "error",
     "traceback": [
      "\u001b[0;31m---------------------------------------------------------------------------\u001b[0m",
      "\u001b[0;31mNameError\u001b[0m                                 Traceback (most recent call last)",
      "\u001b[0;32m<ipython-input-22-99b1a30258f2>\u001b[0m in \u001b[0;36m<module>\u001b[0;34m\u001b[0m\n\u001b[1;32m      7\u001b[0m \u001b[0mtriplet_cur_test_reports\u001b[0m  \u001b[0;34m=\u001b[0m \u001b[0;34m[\u001b[0m\u001b[0;34m]\u001b[0m\u001b[0;34m\u001b[0m\u001b[0;34m\u001b[0m\u001b[0m\n\u001b[1;32m      8\u001b[0m \u001b[0mtriplet_cur_min_val_idx\u001b[0m \u001b[0;34m=\u001b[0m \u001b[0;36m0\u001b[0m\u001b[0;34m\u001b[0m\u001b[0;34m\u001b[0m\u001b[0m\n\u001b[0;32m----> 9\u001b[0;31m \u001b[0mrun_config\u001b[0m\u001b[0;34m[\u001b[0m\u001b[0;34m'loss_weight_reconstruction'\u001b[0m\u001b[0;34m]\u001b[0m \u001b[0;34m=\u001b[0m \u001b[0;36m1.0\u001b[0m\u001b[0;34m\u001b[0m\u001b[0;34m\u001b[0m\u001b[0m\n\u001b[0m\u001b[1;32m     10\u001b[0m \u001b[0mrun_config\u001b[0m\u001b[0;34m[\u001b[0m\u001b[0;34m'loss_weight_kl'\u001b[0m\u001b[0;34m]\u001b[0m \u001b[0;34m=\u001b[0m \u001b[0;36m0.0\u001b[0m \u001b[0;31m# 1e-3\u001b[0m\u001b[0;34m\u001b[0m\u001b[0;34m\u001b[0m\u001b[0m\n\u001b[1;32m     11\u001b[0m \u001b[0;34m\u001b[0m\u001b[0m\n",
      "\u001b[0;31mNameError\u001b[0m: name 'run_config' is not defined"
     ]
    }
   ],
   "source": [
    "# triplet, semi-supervised learning block init cell\n",
    "triplet_epoch = 0\n",
    "\n",
    "triplet_test_losses = np.array([]) \n",
    "triplet_train_losses = np.array([]) \n",
    "triplet_cur_train_reports = []\n",
    "triplet_cur_test_reports  = []\n",
    "triplet_cur_min_val_idx = 0\n",
    "run_config['loss_weight_reconstruction'] = 1.0\n",
    "run_config['loss_weight_kl'] = 0.0 # 1e-3\n",
    "\n",
    "triplet_optimizer = tf.train.AdamOptimizer(1e-4)\n",
    "#optimizer = tf.train.AdadeltaOptimizer(1e-4)\n",
    "run_config['optimizer_triplet'] = optimizer._name\n",
    "_model_checkpoints_encoder_path_ = f\"{settings.config.__DATA_ROOT__}/models/{config.config_description(run_config, short=True)}_{_config_hash_}_encoder/checkpoint\" \n",
    "\n",
    "labels_as_int = frames_idx_with_labels['label'].apply(lambda x: x.value).values\n",
    "triplet_train_dataset = to_tf_data(data_train, labels_as_int[run_config['time_series_length'] - 1:len(data_train)+run_config['time_series_length'] - 1])\n",
    "triplet_test_dataset = to_tf_data(data_test, labels_as_int[len(data_train) + run_config['time_series_length'] - 1:]) "
   ]
  },
  {
   "cell_type": "code",
   "execution_count": null,
   "metadata": {
    "ExecuteTime": {
     "end_time": "2019-06-11T17:41:33.084876Z",
     "start_time": "2019-06-11T17:40:19.304Z"
    },
    "code_folding": []
   },
   "outputs": [],
   "source": [
    "# LOSS LABEL FUNCTION\n",
    "\n",
    "def compute_loss_labels(x, labels):\n",
    "    \"\"\"About triplet loss: https://omoindrot.github.io/triplet-loss\n",
    "    \n",
    "    \"\"\"\n",
    "    #triplet_loss = tfc.losses.metric_learning.triplet_semihard_loss(labels, np.hstack((mean, var)))\n",
    "    #loss = triplet_loss.batch_all_triplet_loss(labels, np.hstack((mean, var)), 0.1)\n",
    "    loss, loss_fraction_pos = batch_all_triplet_loss(labels, x, 1., squared=True)\n",
    "    #triplet_loss = tfc.losses.metric_learning.cluster_loss(labels, np.hstack((mean, var)), 0.1)\n",
    "    \n",
    "    return loss\n",
    "\n",
    "\n",
    "def triplet_compute_gradients(model, x, y): \n",
    "    with tf.GradientTape() as tape: \n",
    "        #mean, var = model(x)\n",
    "        #encoded = tf.nn.l2_normalize(((mean, var)))\n",
    "        loss = compute_loss_labels(tf.concat(model(x), axis=1), y) \n",
    "        return tape.gradient(loss, model.trainable_variables), loss\n",
    "    \n",
    "    \n",
    "def _compute_loss_for_data_triplet_(model, data):\n",
    "    loss = tfe.metrics.Mean()\n",
    "    for x, y in data:\n",
    "        #mean, var = model(batch_x)\n",
    "        #encoded = tf.nn.l2_normalize(((mean, var)))\n",
    "        #loss_b = compute_loss_labels(mean, batch_y) \n",
    "        loss_b = compute_loss_labels(tf.concat(model(x), axis=1), y) \n",
    "        #loss_b = compute_loss_labels(model, batch_x, batch_y)\n",
    "        loss(loss_b)\n",
    "        \n",
    "    return loss.result()"
   ]
  },
  {
   "cell_type": "code",
   "execution_count": null,
   "metadata": {
    "ExecuteTime": {
     "end_time": "2019-06-11T17:41:33.085861Z",
     "start_time": "2019-06-11T17:40:19.308Z"
    },
    "code_folding": []
   },
   "outputs": [],
   "source": [
    "#grad, loss = triplet_compute_gradients(model.inference_net, train_x, train_y)"
   ]
  },
  {
   "cell_type": "code",
   "execution_count": null,
   "metadata": {
    "ExecuteTime": {
     "end_time": "2019-06-11T17:41:33.086847Z",
     "start_time": "2019-06-11T17:40:19.310Z"
    },
    "code_folding": [
     0
    ]
   },
   "outputs": [],
   "source": [
    "# debug\n",
    "#from functools import partial\n",
    "#\n",
    "#def wrapped_cll(x, y):\n",
    "#    return\n",
    "#\n",
    "#grad_fn = tfe.gradients_function()\n",
    "#\n",
    "#tf.expand_dims(tf.concat(_m(train_x), axis=1), axis=1).numpy().shape\n",
    "#\n",
    "#grad_y, grad_x = grad_fn(train_y, tf.concat(_m(train_x), axis=1))\n",
    "#\n",
    "#grad_x\n",
    "#\n",
    "#with tf.GradientTape() as tape: \n",
    "#    tape.watch(train_x)\n",
    "#    loss = compute_loss_labels(_m, train_x, train_y) \n",
    "#    #print(model.inference_net.trainable_variables)\n",
    "#    grad = tape.gradient(loss, _m.trainable_variables)\n",
    "#\n",
    "#loss, len(grad), len(_m.trainable_variables), grad[:3]\n",
    "#\n",
    "#with tf.GradientTape() as tape: \n",
    "#    loss = compute_loss(model, train_x) \n",
    "#    grad = tape.gradient(loss, model.trainable_variables)"
   ]
  },
  {
   "cell_type": "code",
   "execution_count": null,
   "metadata": {
    "ExecuteTime": {
     "end_time": "2019-06-11T17:41:33.087758Z",
     "start_time": "2019-06-11T17:40:19.313Z"
    },
    "code_folding": [
     0
    ]
   },
   "outputs": [],
   "source": [
    "def _progress_str_triplet_(epoch, _cur_train_reports, _cur_test_reports, time=None, stopped=False):\n",
    "    progress_str = f\"Epoch: {epoch:0>4}, train/test loss: {_cur_train_reports[-1]:0.3f}\\t {_cur_test_reports[-1]:0.3f}\"\n",
    "    if time:\n",
    "        progress_str += f\" took {time:0.3f} sec\"\n",
    "        \n",
    "    if stopped:\n",
    "        progress_str = \"Stopped training during \" + progress_str\n",
    "        \n",
    "    return progress_str"
   ]
  },
  {
   "cell_type": "code",
   "execution_count": null,
   "metadata": {
    "ExecuteTime": {
     "end_time": "2019-06-11T17:41:33.088373Z",
     "start_time": "2019-06-11T17:40:19.317Z"
    },
    "code_folding": [
     0
    ]
   },
   "outputs": [],
   "source": [
    "# This is the run cell. Designed to be able to train the model.inference_net for an arbitrary amount of epochs.\n",
    "\n",
    "from functools import partial\n",
    "\n",
    "print(f\"will train for ever...\")\n",
    "triplet_epoch = len(triplet_train_losses)\n",
    "\n",
    "# todo wrap below code using this\n",
    "#@tf.function\n",
    "#def train(model, dataset, optimizer):\n",
    "#    for x, y in dataset:\n",
    "#        with tf.GradientTape() as tape:\n",
    "#            prediction = model(x)\n",
    "#            loss = loss_fn(prediction, y)\n",
    "#        gradients = tape.gradient(loss, model.trainable_variables)\n",
    "#        optimizer.apply_gradients(zip(gradients, model.trainable_variables))\n",
    "\n",
    "#loss_fn = partial(batch_hard_triplet_loss, margin=1.)\n",
    "#grad_fn = tfe.gradients_function(partial(compute_loss_labels, model=model.inference_net))\n",
    "\n",
    "with warnings.catch_warnings():\n",
    "    # pesky tensorflow again\n",
    "    warnings.simplefilter(action='ignore', category=FutureWarning)\n",
    "    while True:\n",
    "        try:\n",
    "            start_time = time.time()\n",
    "            for train_x, train_y in triplet_train_dataset:\n",
    "                gradients, loss = triplet_compute_gradients(model.inference_net, train_x, train_y)\n",
    "                #loss = compute_loss_labels(model.inference_net, train_x, train_y) \n",
    "                #grad_y, gradients = grad_fn(train_y, train_x)\n",
    "                apply_gradients(triplet_optimizer, gradients, model.inference_net.trainable_variables)\n",
    "            end_time = time.time()\n",
    "\n",
    "            triplet_cur_train_reports += [_compute_loss_for_data_triplet_(model.inference_net, triplet_train_dataset)]\n",
    "            triplet_cur_test_reports += [_compute_loss_for_data_triplet_(model.inference_net, triplet_test_dataset)]\n",
    "            \n",
    "            _triplet_recorded_scalars_ =  ['triplet_loss']\n",
    "            tf_helpers.tf_write_scalars(train_summary_writer, zip(_triplet_recorded_scalars_, [triplet_cur_train_reports[-1]]), step=triplet_epoch)\n",
    "            tf_helpers.tf_write_scalars(test_summary_writer,  zip(_triplet_recorded_scalars_, [triplet_cur_test_reports[-1]]),  step=triplet_epoch)\n",
    "\n",
    "            with train_summary_writer.as_default(), tfc.summary.always_record_summaries():\n",
    "                for g, var_name in zip(gradients, [tf_helpers.tf_clean_variable_name(v.name) for v in model.inference_net.trainable_variables]):\n",
    "                    tfc.summary.histogram(f'gradient_{var_name}', g, step=triplet_epoch)\n",
    "\n",
    "            if triplet_epoch % 10 == 0:\n",
    "                print(_progress_str_triplet_(triplet_epoch, triplet_cur_train_reports, triplet_cur_test_reports, time=end_time - start_time))\n",
    "                tfc.summary.flush()\n",
    "            else:\n",
    "                # simple \"loading bar\"\n",
    "                print('=' * (triplet_epoch % 10) + '.' * (10 - (triplet_epoch % 10)), end='\\r')\n",
    "                \n",
    "            #if triplet_epoch > 10 and triplet_cur_test_reports[-1][0] < triplet_cur_test_reports[cur_min_val_idx][0]:\n",
    "            #    cur_min_val_idx = triplet_epoch\n",
    "            #    model.inference_net.save_weights(_model_checkpoints_path_)\n",
    "                \n",
    "            triplet_epoch += 1\n",
    "\n",
    "            #if np.argmin(np.array(triplet_cur_test_reports)[:, 1]) < (len(triplet_cur_test_reports) - 10):\n",
    "            #    # if there was no improvement in the last 10 epochs, stop it\n",
    "            #    print('early stopping')\n",
    "            #    break\n",
    "        except KeyboardInterrupt:\n",
    "            tfc.summary.flush()\n",
    "            print(_progress_str_triplet_(triplet_epoch, triplet_cur_train_reports, triplet_cur_test_reports, stopped=True))\n",
    "            break\n",
    "        \n",
    "        \n",
    "tfc.summary.flush()\n",
    "triplet_train_losses = np.array(triplet_cur_train_reports)\n",
    "triplet_test_losses =  np.array(triplet_cur_test_reports)"
   ]
  },
  {
   "cell_type": "markdown",
   "metadata": {
    "ExecuteTime": {
     "end_time": "2019-05-21T16:37:31.785780Z",
     "start_time": "2019-05-21T16:37:31.782033Z"
    }
   },
   "source": [
    "# evaluation"
   ]
  },
  {
   "cell_type": "code",
   "execution_count": null,
   "metadata": {
    "ExecuteTime": {
     "end_time": "2019-06-11T17:41:33.089158Z",
     "start_time": "2019-06-11T17:40:19.320Z"
    },
    "code_folding": [
     0
    ]
   },
   "outputs": [],
   "source": [
    "def _reverse_to_original_shape_(X):\n",
    "    rescaled = scaler.inverse_transform(X)\n",
    "    if run_config['data_type'] == _DATA_TYPE_2D_POS_:\n",
    "        return rescaled.reshape(-1, 15, 2)\n",
    "    else:\n",
    "        return rescaled"
   ]
  },
  {
   "cell_type": "code",
   "execution_count": null,
   "metadata": {
    "ExecuteTime": {
     "end_time": "2019-06-11T17:41:33.089852Z",
     "start_time": "2019-06-11T17:40:19.324Z"
    },
    "code_folding": [
     0
    ]
   },
   "outputs": [],
   "source": [
    "# data pipeline for evaluation\n",
    "\n",
    "exp_desc = config.exp_desc(run_config, {**model._config_(), 'epochs': len(train_losses)})\n",
    "exp_desc_short = config.exp_desc(run_config, {**model._config_(), 'epochs': len(train_losses)}, short=True)\n",
    "input_data_raw = np.vstack((data_train, data_test))\n",
    "\n",
    "if run_config['use_time_series']:\n",
    "    back_to_single_time = np.s_[:, -1, :]\n",
    "else:\n",
    "    back_to_single_time = np.s_[:]\n",
    "    \n",
    "\n",
    "input_data = _reverse_to_original_shape_(input_data_raw[back_to_single_time])\n",
    "reconstructed_data = _reverse_to_original_shape_(model(input_data_raw, apply_sigmoid=False).numpy()[back_to_single_time])\n",
    "    \n",
    "_min_nb_batches_for_sample_length_ = int(np.ceil(len(input_data_raw) / run_config['batch_size']))\n",
    "generated_data = _reverse_to_original_shape_(np.vstack([model.sample().numpy() for _ in range(_min_nb_batches_for_sample_length_)])[back_to_single_time])[:len(reconstructed_data)]"
   ]
  },
  {
   "cell_type": "code",
   "execution_count": 25,
   "metadata": {
    "ExecuteTime": {
     "end_time": "2019-06-11T17:43:24.671766Z",
     "start_time": "2019-06-11T17:43:24.647165Z"
    }
   },
   "outputs": [],
   "source": [
    "train_reports = np.array(train_reports)\n",
    "test_reports= np.array(test_reports)"
   ]
  },
  {
   "cell_type": "code",
   "execution_count": 27,
   "metadata": {
    "ExecuteTime": {
     "end_time": "2019-06-11T17:43:38.591131Z",
     "start_time": "2019-06-11T17:43:38.188500Z"
    }
   },
   "outputs": [
    {
     "data": {
      "text/plain": [
       "<matplotlib.legend.Legend at 0x7f0260751be0>"
      ]
     },
     "execution_count": 27,
     "metadata": {},
     "output_type": "execute_result"
    },
    {
     "data": {
      "image/png": "[encoded data removed]",
      "text/plain": [
       "<Figure size 432x288 with 3 Axes>"
      ]
     },
     "metadata": {
      "needs_background": "light"
     },
     "output_type": "display_data"
    }
   ],
   "source": [
    "# losses\n",
    "for a, n in zip(range(train_reports.shape[1]), ['a', 'b', 'c']):\n",
    "    plt.subplot(train_reports.shape[1] + 1, 1, a + 1)\n",
    "    plt.plot(train_reports[:, a], label=f\"train_{n}\")\n",
    "    plt.plot(test_reports[:, a], label=f\"test_{n}\")\n",
    "    plt.title(n)\n",
    "    \n",
    "plt.tight_layout()\n",
    "plt.legend()"
   ]
  },
  {
   "cell_type": "code",
   "execution_count": null,
   "metadata": {
    "ExecuteTime": {
     "end_time": "2019-06-11T17:41:33.091204Z",
     "start_time": "2019-06-11T17:40:19.331Z"
    },
    "scrolled": true
   },
   "outputs": [],
   "source": [
    "plt.plot(triplet_train_losses)\n",
    "plt.plot(triplet_test_losses)"
   ]
  },
  {
   "cell_type": "code",
   "execution_count": null,
   "metadata": {
    "ExecuteTime": {
     "end_time": "2019-06-11T17:41:33.091847Z",
     "start_time": "2019-06-11T17:40:19.335Z"
    }
   },
   "outputs": [],
   "source": [
    "#plots.plot_losses(train_losses, test_losses, exp_desc=exp_desc);"
   ]
  },
  {
   "cell_type": "code",
   "execution_count": null,
   "metadata": {
    "ExecuteTime": {
     "end_time": "2019-06-11T17:41:33.092554Z",
     "start_time": "2019-06-11T17:40:19.337Z"
    },
    "scrolled": false
   },
   "outputs": [],
   "source": [
    "if run_config['data_type'] == _DATA_TYPE_2D_POS_:\n",
    "    fig = plots.plot_comparing_joint_position_with_reconstructed(input_data,\n",
    "                                                                 reconstructed_data,\n",
    "                                                                 generated_data,\n",
    "                                                                 validation_cut_off=len(data_train),\n",
    "                                                                 exp_desc=exp_desc_short);\n",
    "else:\n",
    "    # ncols is an ugly hack... it works on the basis that we have three working angles for each leg\n",
    "    if run_config['use_all_experiments']:\n",
    "        start = 100\n",
    "        end = 1000\n",
    "    else:\n",
    "        start = 0\n",
    "        end = len(input_data)\n",
    "    xticks = np.arange(start, end)\n",
    "    if run_config['debug']:\n",
    "        _input_data = input_data_raw[:, :, 0]\n",
    "        _recon = model(input_data_raw, apply_sigmoid=False).numpy()[:, :, 0]\n",
    "        fig, axs = plt.subplots(nrows=_input_data.shape[-1], ncols=1, figsize=(20, 30), sharex=True, sharey=True)\n",
    "        for i in range(_input_data.shape[-1]):\n",
    "            _idx_ = np.s_[start:end, i]\n",
    "            axs[i].plot(xticks, _input_data[_idx_], label='input')\n",
    "            axs[i].plot(xticks, _recon[_idx_], label='reconstructed')\n",
    "            #axs[i].plot(xticks, generated_data[_idx_], label='generated')\n",
    "\n",
    "            #axs[i].set_title(cn)\n",
    "\n",
    "            #for a in axs[i]:\n",
    "            #    a.axvline(len(data_train), label='validation cut off', linestyle='--')\n",
    "    else:\n",
    "        fig, axs = plt.subplots(nrows=input_data.shape[1], ncols=1, figsize=(20, 30), sharex=True, sharey=True)\n",
    "        for i, cn in enumerate(SD.get_3d_columns_names(selected_cols)):\n",
    "            _idx_ = np.s_[start:end, i]\n",
    "            axs[i].plot(xticks, input_data[_idx_], label='input')\n",
    "            axs[i].plot(xticks, reconstructed_data[_idx_], label='reconstructed')\n",
    "            #axs[i].plot(xticks, generated_data[_idx_], label='generated')\n",
    "\n",
    "            axs[i].set_title(cn)\n",
    "\n",
    "            #for a in axs[i]:\n",
    "            #    a.axvline(len(data_train), label='validation cut off', linestyle='--')\n",
    "\n",
    "    axs[-1].set_xlabel('time step')\n",
    "    axs[0].legend(loc='upper left')\n",
    "    \n",
    "    #plt.legend(bbox_to_anchor=(1.05, 1), loc=2, borderaxespad=0.)\n",
    "    plt.suptitle(f\"Comparision of selection of data\\n({exp_desc})\")\n",
    "    \n",
    "    plt.tight_layout()\n",
    "    plt.subplots_adjust(top=0.94)\n",
    "    plt.savefig(f\"./figures/{exp_desc_short}_input_gen_recon_comparision.png\")"
   ]
  },
  {
   "cell_type": "markdown",
   "metadata": {},
   "source": [
    "# Latent space"
   ]
  },
  {
   "cell_type": "code",
   "execution_count": null,
   "metadata": {
    "ExecuteTime": {
     "end_time": "2019-06-11T17:41:33.093343Z",
     "start_time": "2019-06-11T17:40:19.342Z"
    }
   },
   "outputs": [],
   "source": [
    "from hdbscan import HDBSCAN"
   ]
  },
  {
   "cell_type": "code",
   "execution_count": null,
   "metadata": {
    "ExecuteTime": {
     "end_time": "2019-06-11T17:41:33.093980Z",
     "start_time": "2019-06-11T17:40:19.346Z"
    }
   },
   "outputs": [],
   "source": [
    "from collections import namedtuple\n",
    "from sklearn.manifold import TSNE\n",
    "\n",
    "LatentSpaceEncoding = namedtuple('LatentSpaceEncoding', 'mean var')\n",
    "\n",
    "if run_config['use_all_experiments']:\n",
    "    warnings.warn('should use all data `input_data`')\n",
    "    if model._name in ['drosoph_vae_conv', 'drosoph_vae_skip_conv']:\n",
    "        X_latent = LatentSpaceEncoding(*map(lambda x: x.numpy(), model.encode(input_data_raw[np.random.choice(len(input_data), 10000)])))\n",
    "    else:\n",
    "        X_latent = LatentSpaceEncoding(*map(lambda x: x.numpy()[back_to_single_time], model.encode(input_data_raw[np.random.choice(len(input_data), 10000)])))\n",
    "else:\n",
    "    if model._name in ['drosoph_vae_conv', 'drosoph_vae_skip_conv']:\n",
    "        X_latent = LatentSpaceEncoding(*map(lambda x: x.numpy(), model.encode(input_data_raw)))\n",
    "    else:\n",
    "        X_latent = LatentSpaceEncoding(*map(lambda x: x.numpy()[back_to_single_time], model.encode(input_data_raw)))\n",
    "    \n",
    "X_latent_mean_tsne_proj = TSNE(n_components=2, random_state=42).fit_transform(np.hstack((X_latent.mean, X_latent.var)))"
   ]
  },
  {
   "cell_type": "code",
   "execution_count": null,
   "metadata": {
    "ExecuteTime": {
     "end_time": "2019-06-11T17:41:33.094584Z",
     "start_time": "2019-06-11T17:40:19.348Z"
    }
   },
   "outputs": [],
   "source": [
    "cluster_assignments = HDBSCAN(min_cluster_size=8).fit_predict(np.hstack((X_latent.mean, X_latent.var)))\n",
    "cluster_colors = sns.color_palette(n_colors=len(np.unique(cluster_assignments)))"
   ]
  },
  {
   "cell_type": "code",
   "execution_count": null,
   "metadata": {
    "ExecuteTime": {
     "end_time": "2019-06-11T17:41:33.095225Z",
     "start_time": "2019-06-11T17:40:19.353Z"
    }
   },
   "outputs": [],
   "source": [
    "from matplotlib.collections import LineCollection\n",
    "\n",
    "def plot_debug(input_data, cluster_assignments, cluster_colors=None):\n",
    "    _clusters = np.unique(cluster_assignments)\n",
    "    _colors = sns.color_palette(n_colors=len(_clusters))\n",
    "    if cluster_colors is None:\n",
    "        cluster_colors = dict(zip(_clusters, _colors))\n",
    "        \n",
    "    lines, colors = zip(*[([(x, input_data[x, 0]) for x in segment], cluster_colors[cluster_id])\n",
    "                           for cluster_id, segments in video.group_by_cluster(cluster_assignments).items() \n",
    "                           for segment in segments])\n",
    "\n",
    "\n",
    "    \n",
    "    fig, ax = plt.subplots(figsize=(10, 8))\n",
    "    coll = LineCollection(lines, colors=colors)\n",
    "    #coll.set_array(np.random.random(xy.shape[0]))\n",
    "\n",
    "    ax.add_collection(coll)\n",
    "    ax.autoscale_view()\n",
    "\n",
    "    plt.title('Input data and cluster assigment using debug data');\n",
    "    \n",
    "if run_config['debug']:\n",
    "    plot_debug(input_data, cluster_assignments)"
   ]
  },
  {
   "cell_type": "code",
   "execution_count": null,
   "metadata": {
    "ExecuteTime": {
     "end_time": "2019-06-11T17:41:33.095890Z",
     "start_time": "2019-06-11T17:40:19.356Z"
    }
   },
   "outputs": [],
   "source": [
    "exp_desc_short"
   ]
  },
  {
   "cell_type": "code",
   "execution_count": null,
   "metadata": {
    "ExecuteTime": {
     "end_time": "2019-06-11T17:41:33.096659Z",
     "start_time": "2019-06-11T17:40:19.360Z"
    }
   },
   "outputs": [],
   "source": [
    "# TODO\n",
    "# use this to add a different shape to the scatter plot\n",
    "# frames_idx_with_labels[:len(frames_of_interest)][frames_of_interest][run_config['time_series_length'] - 1:]['label'].apply(lambda x: x.value)"
   ]
  },
  {
   "cell_type": "code",
   "execution_count": null,
   "metadata": {
    "ExecuteTime": {
     "end_time": "2019-06-11T17:41:33.097429Z",
     "start_time": "2019-06-11T17:40:19.363Z"
    }
   },
   "outputs": [],
   "source": [
    "from matplotlib import gridspec\n",
    "\n",
    "labels = frames_idx_with_labels['label'].apply(lambda x: x.name)\n",
    "\n",
    "fig = plt.figure(figsize=(20, 18))\n",
    "gs = gridspec.GridSpec(3, 2, figure=fig)\n",
    "ax1 = plt.subplot(gs[:2, :])\n",
    "ax2 = plt.subplot(gs[-1:, :1])\n",
    "ax3 = plt.subplot(gs[-1:, 1:])\n",
    "\n",
    "#plt.figure(figsize=(20, 12))\n",
    "#fig, axs = plt.subplots(nrows=3, ncols=1, figsize=(20, 30))\n",
    "for cluster in np.unique(cluster_assignments):\n",
    "    c_idx = cluster_assignments == cluster\n",
    "    if run_config['use_all_experiments']:\n",
    "        c_idx = c_idx & (np.random.random(len(c_idx)) > 0.7) # don't show all of them, takes for ever otherwise\n",
    "    sns.scatterplot(X_latent_mean_tsne_proj[c_idx, 0], \n",
    "                    X_latent_mean_tsne_proj[c_idx, 1], \n",
    "                    label=cluster, \n",
    "                    ax=ax1,\n",
    "                    color=cluster_colors[cluster], \n",
    "                    style=labels[run_config['time_series_length'] - 1:][c_idx],\n",
    "                    legend='brief')\n",
    "    sns.scatterplot(X_latent.mean[c_idx, 0], X_latent.mean[c_idx, 1], label=cluster, ax=ax2)\n",
    "    sns.scatterplot(X_latent.var[c_idx, 0], X_latent.var[c_idx, 1], label=cluster, ax=ax3)\n",
    "    \n",
    "ax1.set_title('T-SNE proejection of latent space (mean & var stacked)')\n",
    "ax2.set_title('mean')\n",
    "ax3.set_title('var');"
   ]
  },
  {
   "cell_type": "markdown",
   "metadata": {},
   "source": [
    "# videos"
   ]
  },
  {
   "cell_type": "code",
   "execution_count": null,
   "metadata": {
    "ExecuteTime": {
     "end_time": "2019-06-11T17:41:33.098259Z",
     "start_time": "2019-06-11T17:40:19.369Z"
    }
   },
   "outputs": [],
   "source": [
    "def reverse_pos_pipeline(x, normalisation_factors):\n",
    "    \"\"\"TODO This is again pretty shitty... ultra hidden global variable\"\"\"\n",
    "    return x + normalisation_factors[:x.shape[-1]]\n",
    "\n",
    "def video_prep_raw_data(data):\n",
    "    if run_config['use_time_series']:\n",
    "        return reverse_pos_pipeline(scaler.inverse_transform(data[:, -1, :]).reshape(-1, 15, 2))\n",
    "    else:\n",
    "        return reverse_pos_pipeline(scaler.inverse_transform(data.reshape(-1, 30)).reshape(-1, 15, 2))\n",
    "    \n",
    "def video_prep_recon_data(input_data):\n",
    "    return reverse_pos_pipeline(scaler.inverse_transform(model(input_data).numpy()).reshape(-1, 15, 2))"
   ]
  },
  {
   "cell_type": "code",
   "execution_count": null,
   "metadata": {
    "ExecuteTime": {
     "end_time": "2019-06-11T17:41:33.099142Z",
     "start_time": "2019-06-11T17:40:19.373Z"
    }
   },
   "outputs": [],
   "source": [
    "if run_config['data_type'] == _DATA_TYPE_2D_POS_:\n",
    "    _positional_data_ = [reverse_pos_pipeline(input_data, normalisation_factors=normalisation_factors), \n",
    "                         reverse_pos_pipeline(reconstructed_data, normalisation_factors=normalisation_factors)]\n",
    "else:\n",
    "    raise NotImplementedError('give me a break')\n",
    "    \n",
    "p = video.comparision_video_of_reconstruction(_positional_data_,\n",
    "                                              images_paths_for_experiments=images_paths_for_experiments, \n",
    "                                              n_train=len(data_train),\n",
    "                                              cluster_assignments=cluster_assignments,\n",
    "                                              as_frames=False,\n",
    "                                              exp_desc=exp_desc_short)\n",
    "\n",
    "display_video(p)"
   ]
  },
  {
   "cell_type": "code",
   "execution_count": null,
   "metadata": {
    "ExecuteTime": {
     "end_time": "2019-06-11T17:41:33.099934Z",
     "start_time": "2019-06-11T17:40:19.377Z"
    }
   },
   "outputs": [],
   "source": [
    "if run_config['data_type'] == _DATA_TYPE_2D_POS_:\n",
    "    _positional_data_ = [reverse_pos_pipeline(input_data, normalisation_factors=normalisation_factors), \n",
    "                         reverse_pos_pipeline(reconstructed_data, normalisation_factors=normalisation_factors)]\n",
    "else:\n",
    "    raise NotImplementedError('give me a break')\n",
    "    \n",
    "p = video.comparision_video_of_reconstruction(_positional_data_,\n",
    "                                              images_paths_for_experiments=images_paths_for_experiments, \n",
    "                                              n_train=len(data_train),\n",
    "                                              cluster_assignments=cluster_assignments,\n",
    "                                              as_frames=False,\n",
    "                                              exp_desc=exp_desc_short)\n",
    "\n",
    "display_video(p)"
   ]
  },
  {
   "cell_type": "code",
   "execution_count": null,
   "metadata": {
    "ExecuteTime": {
     "end_time": "2019-06-11T17:41:33.100754Z",
     "start_time": "2019-06-11T17:40:19.381Z"
    }
   },
   "outputs": [],
   "source": [
    "# Super ugly... but necessary...\n",
    "# first there is the time offset due to the slicing\n",
    "# then there is the concatenation of the data...\n",
    "\n",
    "angle_data_pos_to_frame = []\n",
    "\n",
    "for exp_key, data in angle_data_raw: \n",
    "    _exp = SD._experiment_from_key_(exp_key)\n",
    "    \n",
    "    if len(angle_data_pos_to_frame) == 0:\n",
    "        _idx = np.arange(data.shape[0])[run_config['time_series_length'] - 1:]\n",
    "    else:\n",
    "        _idx = np.arange(data.shape[0])# + len(angle_data_pos_to_frame)\n",
    "        \n",
    "    angle_data_pos_to_frame += [(_exp, d) for d in _idx]"
   ]
  },
  {
   "cell_type": "code",
   "execution_count": null,
   "metadata": {
    "ExecuteTime": {
     "end_time": "2019-06-11T17:41:33.101494Z",
     "start_time": "2019-06-11T17:40:19.385Z"
    }
   },
   "outputs": [],
   "source": [
    "        images_paths_for_experiments = settings.data.EXPERIMENTS.map(lambda x: (x, config.positional_data(x)))\\\n",
    "                                               .flat_map(lambda x: [(x[0], config.get_path_for_image(x[0], i)) for i in range(x[1].shape[1])])\\\n",
    "                                               .to_list()"
   ]
  },
  {
   "cell_type": "code",
   "execution_count": null,
   "metadata": {
    "ExecuteTime": {
     "end_time": "2019-06-11T17:41:33.102464Z",
     "start_time": "2019-06-11T17:40:19.388Z"
    }
   },
   "outputs": [],
   "source": [
    "\n",
    "    frames_idx_with_labels = preprocessing.get_frames_with_idx_and_labels(settings.data.LABELLED_DATA)\n",
    "    frames_of_interest = ~frames_idx_with_labels['label'].isin([settings.data._BehaviorLabel_.REST])"
   ]
  },
  {
   "cell_type": "code",
   "execution_count": null,
   "metadata": {
    "ExecuteTime": {
     "end_time": "2019-06-11T17:41:33.103166Z",
     "start_time": "2019-06-11T17:40:19.393Z"
    }
   },
   "outputs": [],
   "source": [
    "images_paths_for_experiments = [(exp, config.get_path_for_image(exp, i)) for exp, i in angle_data_pos_to_frame]"
   ]
  },
  {
   "cell_type": "code",
   "execution_count": null,
   "metadata": {
    "ExecuteTime": {
     "end_time": "2019-06-11T17:41:33.103833Z",
     "start_time": "2019-06-11T17:40:19.397Z"
    }
   },
   "outputs": [],
   "source": [
    "images_paths_for_experiments[-10:]"
   ]
  },
  {
   "cell_type": "code",
   "execution_count": null,
   "metadata": {
    "ExecuteTime": {
     "end_time": "2019-06-11T17:41:33.104483Z",
     "start_time": "2019-06-11T17:40:19.401Z"
    }
   },
   "outputs": [],
   "source": [
    "reload(video)\n",
    "from collections import OrderedDict\n",
    "_N_CLUSTER_TO_VIZ_ = 10\n",
    "_t = [(misc.flatten(sequences), cluster_id) for cluster_id, sequences in video.group_by_cluster(cluster_assignments).items()]\n",
    "_t = sorted(_t, key=lambda x: len(x[0]), reverse=True)\n",
    "\n",
    "cluster_colors = sns.color_palette(n_colors=len(np.unique(cluster_assignments)))\n",
    "\n",
    "cluster_vids = OrderedDict((p[1], video.comparision_video_of_reconstruction(input_data,\n",
    "                                                                            cluster_assignments=cluster_assignments,\n",
    "                                                                            images_paths_for_experiments=images_paths_for_experiments,\n",
    "                                                                            n_train=data_train.shape[0],\n",
    "                                                                            cluster_colors=cluster_colors,\n",
    "                                                                            cluster_id_to_visualize=p[1], \n",
    "                                                                            exp_desc=exp_desc_short,\n",
    "                                                                            is_2d=False))\n",
    "                    for p in _t[:_N_CLUSTER_TO_VIZ_])\n",
    "\n",
    "print('cluster_vids: ', cluster_vids.keys())"
   ]
  },
  {
   "cell_type": "code",
   "execution_count": null,
   "metadata": {
    "ExecuteTime": {
     "end_time": "2019-06-11T17:41:33.105120Z",
     "start_time": "2019-06-11T17:40:19.405Z"
    }
   },
   "outputs": [],
   "source": [
    "! cat ./som_vae/helpers/video.py"
   ]
  },
  {
   "cell_type": "code",
   "execution_count": null,
   "metadata": {},
   "outputs": [],
   "source": []
  },
  {
   "cell_type": "code",
   "execution_count": null,
   "metadata": {
    "ExecuteTime": {
     "end_time": "2019-06-11T17:41:33.105747Z",
     "start_time": "2019-06-11T17:40:19.410Z"
    }
   },
   "outputs": [],
   "source": [
    "from collections import OrderedDict\n",
    "_N_CLUSTER_TO_VIZ_ = 10\n",
    "_t = [(misc.flatten(sequences), cluster_id) for cluster_id, sequences in video.group_by_cluster(cluster_assignments).items()]\n",
    "_t = sorted(_t, key=lambda x: len(x[0]), reverse=True)\n",
    "\n",
    "cluster_colors = sns.color_palette(n_colors=len(np.unique(cluster_assignments)))\n",
    "\n",
    "cluster_vids = OrderedDict((p[1], video.comparision_video_of_reconstruction(_positional_data_,\n",
    "                                                                      cluster_assignments=cluster_assignments,\n",
    "                                                                      images_paths_for_experiments=images_paths_for_experiments,\n",
    "                                                                      n_train=data_train.shape[0],\n",
    "                                                                      cluster_colors=cluster_colors,\n",
    "                                                                      cluster_id_to_visualize=p[1], exp_desc=exp_desc_short))\n",
    "                    for p in _t[:_N_CLUSTER_TO_VIZ_])\n",
    "\n",
    "print('cluster_vids: ', cluster_vids.keys())"
   ]
  },
  {
   "cell_type": "code",
   "execution_count": null,
   "metadata": {
    "ExecuteTime": {
     "end_time": "2019-06-11T17:41:33.106425Z",
     "start_time": "2019-06-11T17:40:19.414Z"
    }
   },
   "outputs": [],
   "source": [
    "#c_idx = 0\n",
    "c_idx += 1\n",
    "display_video(list(cluster_vids.values())[c_idx])"
   ]
  },
  {
   "cell_type": "code",
   "execution_count": null,
   "metadata": {
    "ExecuteTime": {
     "end_time": "2019-06-11T17:41:33.107082Z",
     "start_time": "2019-06-11T17:40:19.419Z"
    }
   },
   "outputs": [],
   "source": [
    "c_idx = 0\n",
    "#c_idx += 1\n",
    "display_video(list(cluster_vids.values())[c_idx])"
   ]
  },
  {
   "cell_type": "code",
   "execution_count": null,
   "metadata": {
    "ExecuteTime": {
     "end_time": "2019-06-11T17:41:33.107754Z",
     "start_time": "2019-06-11T17:40:19.423Z"
    }
   },
   "outputs": [],
   "source": [
    "images_paths_for_experiments"
   ]
  },
  {
   "cell_type": "code",
   "execution_count": null,
   "metadata": {
    "ExecuteTime": {
     "end_time": "2019-06-11T17:41:33.108375Z",
     "start_time": "2019-06-11T17:40:19.427Z"
    }
   },
   "outputs": [],
   "source": [
    "len(np.where(cluster_assignments == 11)[0])"
   ]
  },
  {
   "cell_type": "code",
   "execution_count": null,
   "metadata": {
    "ExecuteTime": {
     "end_time": "2019-06-11T17:41:33.109151Z",
     "start_time": "2019-06-11T17:40:19.432Z"
    }
   },
   "outputs": [],
   "source": [
    "np.array(images_paths_for_experiments)"
   ]
  },
  {
   "cell_type": "code",
   "execution_count": null,
   "metadata": {
    "ExecuteTime": {
     "end_time": "2019-06-11T17:41:33.110097Z",
     "start_time": "2019-06-11T17:40:19.437Z"
    }
   },
   "outputs": [],
   "source": [
    "for fs, c in _t:\n",
    "    print(f\"cluster {c} has {len(fs)} elements\")"
   ]
  },
  {
   "cell_type": "code",
   "execution_count": null,
   "metadata": {
    "ExecuteTime": {
     "end_time": "2019-06-11T17:41:33.110894Z",
     "start_time": "2019-06-11T17:40:19.442Z"
    }
   },
   "outputs": [],
   "source": [
    "reload(video)\n",
    "\n",
    "_t = [(misc.flatten(sequences), cluster_id) for cluster_id, sequences in video.group_by_cluster(cluster_assignments).items()]\n",
    "_t = sorted(_t, key=lambda x: len(x[0]), reverse=True)\n",
    "p = video.video_angle(cluster_assignments, images_paths_for_experiments, cluster_id_to_visualize=_t[3][1], exp_desc=exp_desc_short)"
   ]
  },
  {
   "cell_type": "code",
   "execution_count": null,
   "metadata": {
    "ExecuteTime": {
     "end_time": "2019-06-11T17:41:33.111616Z",
     "start_time": "2019-06-11T17:40:19.446Z"
    }
   },
   "outputs": [],
   "source": [
    "display_video(p)"
   ]
  },
  {
   "cell_type": "code",
   "execution_count": null,
   "metadata": {},
   "outputs": [],
   "source": []
  },
  {
   "cell_type": "code",
   "execution_count": null,
   "metadata": {},
   "outputs": [],
   "source": []
  },
  {
   "cell_type": "code",
   "execution_count": null,
   "metadata": {},
   "outputs": [],
   "source": []
  },
  {
   "cell_type": "code",
   "execution_count": null,
   "metadata": {
    "ExecuteTime": {
     "end_time": "2019-06-11T17:41:33.112225Z",
     "start_time": "2019-06-11T17:40:19.453Z"
    }
   },
   "outputs": [],
   "source": [
    "stop"
   ]
  },
  {
   "cell_type": "markdown",
   "metadata": {
    "ExecuteTime": {
     "end_time": "2019-05-29T08:18:01.614372Z",
     "start_time": "2019-05-29T08:18:01.610583Z"
    }
   },
   "source": [
    "# Convolution Clarification"
   ]
  },
  {
   "cell_type": "markdown",
   "metadata": {},
   "source": [
    "Below are the results shown for a Conv1d for all padding options:\n",
    "\n",
    "- valid: only convolutions where the kernel fits inside the input are comptued\n",
    "- causal: input is shifted such that the kernel can only see itself and backwards in time\n",
    "- same: input is padded such that the convolution can also be applied to the border cases\n",
    "\n",
    "kernel sizes of 2 & 3, and dilation rates for 1 to 3.\n",
    "\n",
    "The result is that a valid convolution of kernel size 2 with a dilation factor of 1 compresses the input in a for us good way.\n",
    "The data goes from `[batch_size, n_time_steps, n_channels]` to `[batch_size, n_time_steps - 1, n_filters]` \n",
    "and crops the first time step only. Thus building features by only looking backwards in time,\n",
    "dropping the first-time step. Thus features are build over time and space."
   ]
  },
  {
   "cell_type": "code",
   "execution_count": null,
   "metadata": {
    "ExecuteTime": {
     "end_time": "2019-06-11T17:41:33.112804Z",
     "start_time": "2019-06-11T17:40:19.460Z"
    }
   },
   "outputs": [],
   "source": [
    "example_data = np.zeros((1, 10, 5), dtype=np.float32)\n",
    "\n",
    "for row in range(example_data.shape[1]):\n",
    "    example_data[:, row, :] = row\n",
    "    \n",
    "example_data"
   ]
  },
  {
   "cell_type": "code",
   "execution_count": null,
   "metadata": {
    "ExecuteTime": {
     "end_time": "2019-06-11T17:41:33.113531Z",
     "start_time": "2019-06-11T17:40:19.464Z"
    },
    "scrolled": false
   },
   "outputs": [],
   "source": [
    "def conv_clarification_kernel(kernel_size):\n",
    "    conv1d_kernel_no_time = np.zeros((kernel_size, example_data.shape[-1], 1), dtype=np.float32)\n",
    "    conv1d_kernel_no_time[0, :, :] = .5\n",
    "    conv1d_kernel_no_time[1, :, :] = 1.\n",
    "    \n",
    "    if kernel_size == 3:\n",
    "        conv1d_kernel_no_time[2, :, :] = 0.1\n",
    "    \n",
    "    return conv1d_kernel_no_time\n",
    "\n",
    "\n",
    "for kernel_size in range(2, 4):\n",
    "    print(f\"data\\n{example_data}\")\n",
    "    print(f\"kernel\\n{conv_clarification_kernel(kernel_size)}\")\n",
    "    for padding in ['valid', 'causal', 'same']:\n",
    "        for dilation in range(1, 4):\n",
    "            example_conv1d = tfkl.Conv1D(filters=1, \n",
    "                                         kernel_size=kernel_size,\n",
    "                                         use_bias=False, \n",
    "                                         padding=padding,\n",
    "                                         dilation_rate=dilation,\n",
    "                                         kernel_initializer=tf.constant_initializer(conv_clarification_kernel(kernel_size)))\n",
    "\n",
    "            conv_res = example_conv1d(example_data).numpy()\n",
    "            print(f\"padding: {padding}, dilation_rate: {dilation}, kernel_size: {kernel_size}, output shape: {conv_res.shape}\\n{conv_res}\")"
   ]
  },
  {
   "cell_type": "code",
   "execution_count": null,
   "metadata": {
    "ExecuteTime": {
     "end_time": "2019-06-11T17:41:33.114326Z",
     "start_time": "2019-06-11T17:40:19.469Z"
    }
   },
   "outputs": [],
   "source": [
    "def conv_clarification_kernel(kernel_size):\n",
    "    conv1d_kernel_no_time = np.zeros((kernel_size, example_data.shape[-1], example_conv1d_n_filters), dtype=np.float32)\n",
    "    conv1d_kernel_no_time[0, :, :] = .5\n",
    "    conv1d_kernel_no_time[1, :, :] = 1.\n",
    "    \n",
    "    if kernel_size == 3:\n",
    "        conv1d_kernel_no_time[2, :, :] = 0.1\n",
    "    \n",
    "    return conv1d_kernel_no_time\n",
    "\n",
    "kernel_size = 2\n",
    "padding = 'valid'\n",
    "dilation_rate = 1\n",
    "example_conv1d_n_filters = 2\n",
    "\n",
    "print(f\"data\\n{example_data}\")\n",
    "print(f\"kernel\\n{conv_clarification_kernel(kernel_size)}\")\n",
    "example_conv1d = tfkl.Conv1D(filters=example_conv1d_n_filters, \n",
    "                             kernel_size=kernel_size,\n",
    "                             use_bias=False, \n",
    "                             padding=padding,\n",
    "                             dilation_rate=dilation_rate,\n",
    "                             kernel_initializer=tf.constant_initializer(conv_clarification_kernel(kernel_size)))\n",
    "\n",
    "example_max_pooling_layer = tfkl.MaxPool1D()\n",
    "example_dense = tfkl.Dense(2, use_bias=False, kernel_initializer='ones')\n",
    "\n",
    "conv_res = example_conv1d(example_data[:,:2,:]).numpy()\n",
    "#max_pool_res = example_max_pooling_layer(conv_res)\n",
    "#dense_res = example_dense(max_pool_res)\n",
    "print(f\"padding: {padding}, dilation_rate: {dilation_rate}, kernel_size: {kernel_size}, output shape: {conv_res.shape}\")\n",
    "print('conv\\n', conv_res)\n",
    "#print('max pool\\n', max_pool_res.numpy())\n",
    "#print('dense\\n', dense_res.numpy())"
   ]
  },
  {
   "cell_type": "code",
   "execution_count": null,
   "metadata": {
    "ExecuteTime": {
     "end_time": "2019-06-11T17:41:33.115055Z",
     "start_time": "2019-06-11T17:40:19.473Z"
    }
   },
   "outputs": [],
   "source": [
    "conv_res"
   ]
  },
  {
   "cell_type": "code",
   "execution_count": null,
   "metadata": {
    "ExecuteTime": {
     "end_time": "2019-06-11T17:41:33.116154Z",
     "start_time": "2019-06-11T17:40:19.478Z"
    }
   },
   "outputs": [],
   "source": [
    "class Conv1D_Transpose(tfkl.Layer):\n",
    "    def __init__(self, n_filters, kernel_size, batch_size):\n",
    "        super(Conv1D_Transpose, self).__init__()        \n",
    "        self.n_filters = n_filters\n",
    "        self.batch_size = batch_size\n",
    "        self.conv2d_transpose = tfkl.Conv2DTranspose(filters=n_filters, kernel_size=kernel_size, strides=2, padding='valid', kernel_initializer='ones')\n",
    "        \n",
    "    def call(self, inputs):\n",
    "        x = tf.reshape(inputs, [self.batch_size, 1, *inputs.shape[1:]])\n",
    "        print(x.shape)\n",
    "        x = self.conv2d_transpose(x)\n",
    "        #x = tf.reshape(x, [self.batch_size, -1, self.n_filters])\n",
    "        \n",
    "        return x\n",
    "\n",
    "example_deconv1d = Conv1D_Transpose(n_filters=2, kernel_size=2, batch_size=1)\n",
    "example_deconv1d(conv_res)"
   ]
  },
  {
   "cell_type": "code",
   "execution_count": null,
   "metadata": {
    "ExecuteTime": {
     "end_time": "2019-06-11T17:41:33.117121Z",
     "start_time": "2019-06-11T17:40:19.483Z"
    }
   },
   "outputs": [],
   "source": [
    "_ted = example_deconv1d(conv_res)\n",
    "tf.reshape(_ted, _ted.shape[:-1])"
   ]
  },
  {
   "cell_type": "code",
   "execution_count": null,
   "metadata": {
    "ExecuteTime": {
     "end_time": "2019-06-11T17:41:33.118000Z",
     "start_time": "2019-06-11T17:40:19.494Z"
    }
   },
   "outputs": [],
   "source": [
    "UpsamplingConv(2)(conv_res)"
   ]
  },
  {
   "cell_type": "code",
   "execution_count": null,
   "metadata": {
    "ExecuteTime": {
     "end_time": "2019-06-11T17:41:33.118874Z",
     "start_time": "2019-06-11T17:40:19.499Z"
    }
   },
   "outputs": [],
   "source": [
    "tfkl.UpSampling1D(3)(conv_res)"
   ]
  },
  {
   "cell_type": "code",
   "execution_count": null,
   "metadata": {
    "ExecuteTime": {
     "end_time": "2019-06-11T17:41:33.119859Z",
     "start_time": "2019-06-11T17:40:19.504Z"
    }
   },
   "outputs": [],
   "source": [
    "class UpsamplingConv(tfkl.Layer):\n",
    "    def __init__(self, n_filters, kernel_size=2):\n",
    "        super(UpsamplingConv, self).__init__()\n",
    "        \n",
    "        self.n_filters = n_filters\n",
    "        self.kernel_size = kernel_size\n",
    "    \n",
    "    def call(self, x): \n",
    "        x = tfkl.UpSampling1D(3)(x) # upscale with 3 so that we can again apply `valid` padding and \"reverse\" the encoder\n",
    "        print(x.shape)\n",
    "        # TODO maybe add some fancy flipping of the input\n",
    "        x = tfkl.Conv1D(self.n_filters, self.kernel_size, padding='valid')(x)\n",
    "        \n",
    "        return x"
   ]
  },
  {
   "cell_type": "code",
   "execution_count": null,
   "metadata": {
    "ExecuteTime": {
     "end_time": "2019-06-11T17:41:33.120882Z",
     "start_time": "2019-06-11T17:40:19.509Z"
    }
   },
   "outputs": [],
   "source": [
    "conv_res.shape"
   ]
  },
  {
   "cell_type": "code",
   "execution_count": null,
   "metadata": {
    "ExecuteTime": {
     "end_time": "2019-06-11T17:41:33.121995Z",
     "start_time": "2019-06-11T17:40:19.519Z"
    }
   },
   "outputs": [],
   "source": [
    "conv_res"
   ]
  },
  {
   "cell_type": "code",
   "execution_count": null,
   "metadata": {
    "ExecuteTime": {
     "end_time": "2019-05-29T17:55:51.831670Z",
     "start_time": "2019-05-29T17:55:51.802162Z"
    }
   },
   "outputs": [],
   "source": []
  },
  {
   "cell_type": "code",
   "execution_count": null,
   "metadata": {
    "ExecuteTime": {
     "end_time": "2019-06-11T17:41:33.122885Z",
     "start_time": "2019-06-11T17:40:19.526Z"
    }
   },
   "outputs": [],
   "source": [
    "example_deconv = tfkl.Conv2DTranspose(1, 2, kernel_initializer='ones')\n",
    "example_deconv(conv_res.reshape(-1, 1, *conv_res.shape[1:])).numpy().reshape(-1, *conv_res.shape[1:])"
   ]
  },
  {
   "cell_type": "code",
   "execution_count": null,
   "metadata": {
    "ExecuteTime": {
     "end_time": "2019-06-11T17:41:33.123509Z",
     "start_time": "2019-06-11T17:40:19.531Z"
    }
   },
   "outputs": [],
   "source": [
    "conv_res"
   ]
  },
  {
   "cell_type": "code",
   "execution_count": null,
   "metadata": {
    "ExecuteTime": {
     "end_time": "2019-06-11T17:41:33.124078Z",
     "start_time": "2019-06-11T17:40:19.536Z"
    }
   },
   "outputs": [],
   "source": [
    "conv_res.shape"
   ]
  },
  {
   "cell_type": "code",
   "execution_count": null,
   "metadata": {
    "ExecuteTime": {
     "end_time": "2019-06-11T17:41:33.126450Z",
     "start_time": "2019-06-11T17:40:19.547Z"
    }
   },
   "outputs": [],
   "source": [
    "conv_res"
   ]
  },
  {
   "cell_type": "code",
   "execution_count": null,
   "metadata": {
    "ExecuteTime": {
     "end_time": "2019-06-11T17:41:33.127153Z",
     "start_time": "2019-06-11T17:40:19.551Z"
    }
   },
   "outputs": [],
   "source": [
    "tf.rank(conv_res)"
   ]
  },
  {
   "cell_type": "code",
   "execution_count": null,
   "metadata": {
    "ExecuteTime": {
     "end_time": "2019-06-11T17:41:33.127775Z",
     "start_time": "2019-06-11T17:40:19.556Z"
    }
   },
   "outputs": [],
   "source": [
    "paddings = [[r, 0] for r in range(3)]\n",
    "paddings"
   ]
  },
  {
   "cell_type": "code",
   "execution_count": null,
   "metadata": {
    "ExecuteTime": {
     "end_time": "2019-06-11T17:41:33.128516Z",
     "start_time": "2019-06-11T17:40:19.567Z"
    }
   },
   "outputs": [],
   "source": [
    "tf.pad(conv_res, [[0, 0], [0, 1], [0, 0]])"
   ]
  },
  {
   "cell_type": "code",
   "execution_count": null,
   "metadata": {
    "ExecuteTime": {
     "end_time": "2019-06-11T17:41:33.129235Z",
     "start_time": "2019-06-11T17:40:19.572Z"
    }
   },
   "outputs": [],
   "source": [
    "tfc.nn.conv1d_transpose(input=conv_res, filters=np.ones((2, 2, 2), dtype=np.float32), output_shape=[1, 2, 2], strides=1, padding='VALID')"
   ]
  },
  {
   "cell_type": "code",
   "execution_count": null,
   "metadata": {
    "ExecuteTime": {
     "end_time": "2019-06-11T17:41:33.130026Z",
     "start_time": "2019-06-11T17:40:19.612Z"
    }
   },
   "outputs": [],
   "source": [
    "_pdc1dt = PaddedConv1dTransposed(n_filters=2)\n",
    "print(conv_res.shape)\n",
    "resc1 = _pdc1dt(conv_res)\n",
    "print(resc1.shape)\n",
    "resc1.numpy()"
   ]
  },
  {
   "cell_type": "code",
   "execution_count": null,
   "metadata": {
    "ExecuteTime": {
     "end_time": "2019-06-11T17:41:33.131054Z",
     "start_time": "2019-06-11T17:40:19.617Z"
    }
   },
   "outputs": [],
   "source": [
    "_pdc1dt(_pdc1dt(resc1))"
   ]
  },
  {
   "cell_type": "code",
   "execution_count": null,
   "metadata": {},
   "outputs": [],
   "source": []
  },
  {
   "cell_type": "code",
   "execution_count": null,
   "metadata": {
    "ExecuteTime": {
     "end_time": "2019-06-11T17:41:33.131858Z",
     "start_time": "2019-06-11T17:40:19.623Z"
    }
   },
   "outputs": [],
   "source": [
    "#_t_layer_sizes_generative=[4,6,8,10,12,14,16,18]\n",
    "#_t_layer_sizes_generative=[1] * 6\n",
    "#_t_upsampling_size = [4] * 6 #, 2, 2]\n",
    "#_t_strides = [2] * 6\n",
    "##_t_padding = ['valid', 'valid', 'same']\n",
    "##_t_layer_sizes_generative=[4, 8, 16]\n",
    "#_latent_dim = 2\n",
    "#_t_generative_net = tf.keras.Sequential([tfkl.InputLayer(input_shape=(_latent_dim,)),\n",
    "#                                           tfkl.Lambda(lambda x: tf.reshape(x, [1000, 1, _latent_dim])),\n",
    "#                                           *[TemporalUpsamplingConv(conv_n_filters=fs, \n",
    "#                                                                    upsampling_size=us,\n",
    "#                                                                    conv_strides=s,\n",
    "#                                                                    conv_padding='valid',\n",
    "#                                                                    name=f\"gen_conv_{i}\") for i, (fs, us, s) \n",
    "#                                             in enumerate(zip(_t_layer_sizes_generative,\n",
    "#                                                              _t_upsampling_size,\n",
    "#                                                              _t_strides,\n",
    "#                                                             ))]],\n",
    "#                                          name='generative_net')\n",
    "#\n",
    "#_t_generative_net.summary()"
   ]
  }
 ],
 "metadata": {
  "accelerator": "GPU",
  "colab": {
   "collapsed_sections": [],
   "default_view": {},
   "name": "cvae.ipynb",
   "private_outputs": true,
   "provenance": [
    {
     "file_id": "1eb0NOTQapkYs3X0v-zL1x5_LFKgDISnp",
     "timestamp": 1527173385672
    }
   ],
   "toc_visible": true,
   "version": "0.3.2",
   "views": {}
  },
  "hide_input": false,
  "kernelspec": {
   "display_name": "Python 3",
   "language": "python",
   "name": "python3"
  },
  "language_info": {
   "codemirror_mode": {
    "name": "ipython",
    "version": 3
   },
   "file_extension": ".py",
   "mimetype": "text/x-python",
   "name": "python",
   "nbconvert_exporter": "python",
   "pygments_lexer": "ipython3",
   "version": "3.7.3"
  },
  "toc": {
   "base_numbering": 1,
   "colors": {
    "hover_highlight": "#DAA520",
    "running_highlight": "#FF0000",
    "selected_highlight": "#FFD700"
   },
   "moveMenuLeft": true,
   "nav_menu": {},
   "navigate_menu": true,
   "number_sections": true,
   "sideBar": true,
   "skip_h1_title": false,
   "threshold": 4,
   "title_cell": "Table of Contents",
   "title_sidebar": "Contents",
   "toc_cell": false,
   "toc_position": {},
   "toc_section_display": true,
   "toc_window_display": false
  }
 },
 "nbformat": 4,
 "nbformat_minor": 1
}
